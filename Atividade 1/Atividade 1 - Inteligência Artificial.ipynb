{
 "nbformat": 4,
 "nbformat_minor": 0,
 "metadata": {
  "colab": {
   "provenance": [],
   "collapsed_sections": [],
   "mount_file_id": "1GeY6e__7BI3AraLF_yuutsrpTjhBiONT",
   "authorship_tag": "ABX9TyO2vjZ483VdJjY3oSSRL1j7"
  },
  "kernelspec": {
   "name": "python3",
   "language": "python",
   "display_name": "Python 3 (ipykernel)"
  },
  "language_info": {
   "name": "python"
  }
 },
 "cells": [
  {
   "cell_type": "markdown",
   "source": [
    "## Frames, Imports, Leituras e Tamanho dos Datasets"
   ],
   "metadata": {
    "id": "JJGVuGLLNPfw"
   }
  },
  {
   "cell_type": "code",
   "source": [
    "#Importar a biblioteca PANDA\n",
    "import pandas as pd"
   ],
   "metadata": {
    "id": "NSDYMK1aUCEX",
    "ExecuteTime": {
     "end_time": "2023-05-21T18:13:54.548873200Z",
     "start_time": "2023-05-21T18:13:50.659098700Z"
    }
   },
   "execution_count": 1,
   "outputs": []
  },
  {
   "cell_type": "code",
   "source": [
    "#Leitura do arquivo e do dataset\n",
    "\n",
    "df2012 = pd.read_csv(\"C:/Treinamento-Data-Science/Atividade 1/reclamacoes-fundamentadas-sindec-2012.csv\")\n",
    "df2013 = pd.read_csv(\"C:/Treinamento-Data-Science/Atividade 1/reclamacoes-fundamentadas-sindec-2013.csv\")\n",
    "df2014 = pd.read_csv(\"C:/Treinamento-Data-Science/Atividade 1/reclamacoes-fundamentadas-sindec-2014.csv\")\n",
    "df2015 = pd.read_csv(\"C:/Treinamento-Data-Science/Atividade 1/reclamacoes-fundamentadas-sindec-2015.csv\")\n",
    "df2016 = pd.read_csv(\"C:/Treinamento-Data-Science/Atividade 1/reclamacoes-fundamentadas-sindec-2016.csv\")"
   ],
   "metadata": {
    "id": "IhklTdn_Rw9n",
    "ExecuteTime": {
     "end_time": "2023-05-21T18:14:05.036907500Z",
     "start_time": "2023-05-21T18:13:58.550081400Z"
    }
   },
   "execution_count": 2,
   "outputs": [
    {
     "name": "stderr",
     "output_type": "stream",
     "text": [
      "C:\\Users\\mathe\\AppData\\Local\\Temp\\ipykernel_5232\\3571816673.py:4: DtypeWarning: Columns (22) have mixed types. Specify dtype option on import or set low_memory=False.\n",
      "  df2013 = pd.read_csv(\"C:/Treinamento-Data-Science/Atividade 1/reclamacoes-fundamentadas-sindec-2013.csv\")\n",
      "C:\\Users\\mathe\\AppData\\Local\\Temp\\ipykernel_5232\\3571816673.py:6: DtypeWarning: Columns (22) have mixed types. Specify dtype option on import or set low_memory=False.\n",
      "  df2015 = pd.read_csv(\"C:/Treinamento-Data-Science/Atividade 1/reclamacoes-fundamentadas-sindec-2015.csv\")\n"
     ]
    }
   ]
  },
  {
   "cell_type": "code",
   "source": [
    "# Mostra a quantidade de colunas e registros do Dataset\n",
    "#Saber o tamanho do dataset\n",
    "df2012.shape, df2013.shape, df2014.shape, df2015.shape, df2016.shape"
   ],
   "metadata": {
    "colab": {
     "base_uri": "https://localhost:8080/"
    },
    "id": "US2bT7RXSImw",
    "executionInfo": {
     "status": "ok",
     "timestamp": 1664408042519,
     "user_tz": 180,
     "elapsed": 308,
     "user": {
      "displayName": "MATHEUS DOS SANTOS OLIVEIRA",
      "userId": "09253095021711422754"
     }
    },
    "outputId": "89ea0703-351d-4b13-a13c-71719d9d8d1e",
    "ExecuteTime": {
     "end_time": "2023-05-21T18:14:09.244268700Z",
     "start_time": "2023-05-21T18:14:09.222249600Z"
    }
   },
   "execution_count": 3,
   "outputs": [
    {
     "data": {
      "text/plain": "((211076, 23), (268096, 23), (267764, 23), (255650, 23), (203486, 23))"
     },
     "execution_count": 3,
     "metadata": {},
     "output_type": "execute_result"
    }
   ]
  },
  {
   "cell_type": "code",
   "source": [
    "# Cria a Lista chamada 'frames' e o shape obtém as dimensões do DataFrame\n",
    "# Ela retorna uma tupla no formato (número de linhas, número de colunas).\n",
    "# Portanto, cada elemento da lista \"frames\" será uma tupla contendo as dimensões de um DataFrame específico.\n",
    "frames = [df2012.shape, df2013.shape, df2014.shape, df2015.shape, df2016.shape]"
   ],
   "metadata": {
    "id": "H-ghG9CJOXyD",
    "ExecuteTime": {
     "end_time": "2023-05-21T18:16:02.373597500Z",
     "start_time": "2023-05-21T18:16:02.360586Z"
    }
   },
   "execution_count": 5,
   "outputs": []
  },
  {
   "cell_type": "markdown",
   "source": [
    "## As duas primeiras linhas dos Datasets"
   ],
   "metadata": {
    "id": "xNCPZILroHTG"
   }
  },
  {
   "cell_type": "code",
   "source": [
    "# As primeiras 2 linhas do dataset DF2012\n",
    "df2012.head(2)"
   ],
   "metadata": {
    "colab": {
     "base_uri": "https://localhost:8080/",
     "height": 310
    },
    "id": "E7ti8AgXOlQr",
    "executionInfo": {
     "status": "ok",
     "timestamp": 1664408045892,
     "user_tz": 180,
     "elapsed": 557,
     "user": {
      "displayName": "MATHEUS DOS SANTOS OLIVEIRA",
      "userId": "09253095021711422754"
     }
    },
    "outputId": "80dc0389-36eb-46e6-9ce7-0562371a1b87",
    "ExecuteTime": {
     "end_time": "2023-05-21T18:16:32.441277200Z",
     "start_time": "2023-05-21T18:16:32.412250100Z"
    }
   },
   "execution_count": 6,
   "outputs": [
    {
     "data": {
      "text/plain": "   AnoCalendario         DataArquivamento             DataAbertura   \n0           2012  2012-07-13 17:44:45.000  2009-09-17 10:48:42.000  \\\n1           2012  2012-07-13 17:37:19.000  2009-09-17 10:02:24.000   \n\n   CodigoRegiao   Regiao  UF                       strRazaoSocial   \n0             3  Sudeste  ES        IBI PROMOTORA DE VENDAS LTDA.  \\\n1             3  Sudeste  ES  SAMSUNG ELETRONICA DA AMAZONIA LTDA   \n\n  strNomeFantasia  Tipo    NumeroCNPJ  ...  CNAEPrincipal   \n0        IBI CARD     1  7.448120e+13  ...      7490104.0  \\\n1         SAMSUNG     1  2.802730e+11  ...      2640000.0   \n\n                                   DescCNAEPrincipal Atendida  CodigoAssunto   \n0  ATIVIDADES DE INTERMEDIAÇÃO E AGENCIAMENTO DE ...        N             54  \\\n1  FABRICAÇÃO DE APARELHOS DE RECEPÇÃO, REPRODUÇÃ...        N            101   \n\n                                    DescricaoAssunto CodigoProblema   \n0                                  Cartão de Crédito             32  \\\n1  Telefone ( Convencional, Celular, Interfone, E...            102   \n\n                         DescricaoProblema SexoConsumidor   \n0           Calculo de prestação em atraso              F  \\\n1  Garantia (Abrangência, cobertura, etc.)              M   \n\n   FaixaEtariaConsumidor CEPConsumidor  \n0        mais de 70 anos      29072040  \n1     entre 31 a 40 anos      29115360  \n\n[2 rows x 23 columns]",
      "text/html": "<div>\n<style scoped>\n    .dataframe tbody tr th:only-of-type {\n        vertical-align: middle;\n    }\n\n    .dataframe tbody tr th {\n        vertical-align: top;\n    }\n\n    .dataframe thead th {\n        text-align: right;\n    }\n</style>\n<table border=\"1\" class=\"dataframe\">\n  <thead>\n    <tr style=\"text-align: right;\">\n      <th></th>\n      <th>AnoCalendario</th>\n      <th>DataArquivamento</th>\n      <th>DataAbertura</th>\n      <th>CodigoRegiao</th>\n      <th>Regiao</th>\n      <th>UF</th>\n      <th>strRazaoSocial</th>\n      <th>strNomeFantasia</th>\n      <th>Tipo</th>\n      <th>NumeroCNPJ</th>\n      <th>...</th>\n      <th>CNAEPrincipal</th>\n      <th>DescCNAEPrincipal</th>\n      <th>Atendida</th>\n      <th>CodigoAssunto</th>\n      <th>DescricaoAssunto</th>\n      <th>CodigoProblema</th>\n      <th>DescricaoProblema</th>\n      <th>SexoConsumidor</th>\n      <th>FaixaEtariaConsumidor</th>\n      <th>CEPConsumidor</th>\n    </tr>\n  </thead>\n  <tbody>\n    <tr>\n      <th>0</th>\n      <td>2012</td>\n      <td>2012-07-13 17:44:45.000</td>\n      <td>2009-09-17 10:48:42.000</td>\n      <td>3</td>\n      <td>Sudeste</td>\n      <td>ES</td>\n      <td>IBI PROMOTORA DE VENDAS LTDA.</td>\n      <td>IBI CARD</td>\n      <td>1</td>\n      <td>7.448120e+13</td>\n      <td>...</td>\n      <td>7490104.0</td>\n      <td>ATIVIDADES DE INTERMEDIAÇÃO E AGENCIAMENTO DE ...</td>\n      <td>N</td>\n      <td>54</td>\n      <td>Cartão de Crédito</td>\n      <td>32</td>\n      <td>Calculo de prestação em atraso</td>\n      <td>F</td>\n      <td>mais de 70 anos</td>\n      <td>29072040</td>\n    </tr>\n    <tr>\n      <th>1</th>\n      <td>2012</td>\n      <td>2012-07-13 17:37:19.000</td>\n      <td>2009-09-17 10:02:24.000</td>\n      <td>3</td>\n      <td>Sudeste</td>\n      <td>ES</td>\n      <td>SAMSUNG ELETRONICA DA AMAZONIA LTDA</td>\n      <td>SAMSUNG</td>\n      <td>1</td>\n      <td>2.802730e+11</td>\n      <td>...</td>\n      <td>2640000.0</td>\n      <td>FABRICAÇÃO DE APARELHOS DE RECEPÇÃO, REPRODUÇÃ...</td>\n      <td>N</td>\n      <td>101</td>\n      <td>Telefone ( Convencional, Celular, Interfone, E...</td>\n      <td>102</td>\n      <td>Garantia (Abrangência, cobertura, etc.)</td>\n      <td>M</td>\n      <td>entre 31 a 40 anos</td>\n      <td>29115360</td>\n    </tr>\n  </tbody>\n</table>\n<p>2 rows × 23 columns</p>\n</div>"
     },
     "execution_count": 6,
     "metadata": {},
     "output_type": "execute_result"
    }
   ]
  },
  {
   "cell_type": "code",
   "source": [
    "# As primeiras 2 linhas do dataset DF2013\n",
    "df2013.head(2)"
   ],
   "metadata": {
    "colab": {
     "base_uri": "https://localhost:8080/",
     "height": 275
    },
    "id": "Bp0K83NwOqaR",
    "executionInfo": {
     "status": "ok",
     "timestamp": 1664408047278,
     "user_tz": 180,
     "elapsed": 4,
     "user": {
      "displayName": "MATHEUS DOS SANTOS OLIVEIRA",
      "userId": "09253095021711422754"
     }
    },
    "outputId": "0c396e71-0c95-43bd-e057-ff6efc8b5f19",
    "ExecuteTime": {
     "end_time": "2023-05-21T18:16:38.950259100Z",
     "start_time": "2023-05-21T18:16:38.925236100Z"
    }
   },
   "execution_count": 7,
   "outputs": [
    {
     "data": {
      "text/plain": "   AnoCalendario         DataArquivamento             DataAbertura   \n0           2013  2013-07-17 13:42:50.000  2013-06-27 10:41:31.000  \\\n1           2013  2013-01-16 09:31:19.000  2012-12-06 09:33:00.000   \n\n   CodigoRegiao    Regiao  UF    strRazaoSocial strNomeFantasia  Tipo   \n0             3   Sudeste  MG        BOMSUCESSO             NaN     1  \\\n1             2  Nordeste  RN  LOJAS INSINUANTE             NaN     1   \n\n   NumeroCNPJ  ...  CNAEPrincipal DescCNAEPrincipal Atendida  CodigoAssunto   \n0         NaN  ...            NaN               NaN        S             63  \\\n1         NaN  ...            NaN               NaN        S            101   \n\n                                    DescricaoAssunto CodigoProblema   \n0                                         Financeira            217  \\\n1  Telefone ( Convencional, Celular, Interfone, E...            102   \n\n                         DescricaoProblema SexoConsumidor   \n0             Antecipação de Financiamento              F  \\\n1  Garantia (Abrangência, cobertura, etc.)              F   \n\n   FaixaEtariaConsumidor CEPConsumidor  \n0     entre 51 a 60 anos      35300038  \n1     entre 41 a 50 anos      59617335  \n\n[2 rows x 23 columns]",
      "text/html": "<div>\n<style scoped>\n    .dataframe tbody tr th:only-of-type {\n        vertical-align: middle;\n    }\n\n    .dataframe tbody tr th {\n        vertical-align: top;\n    }\n\n    .dataframe thead th {\n        text-align: right;\n    }\n</style>\n<table border=\"1\" class=\"dataframe\">\n  <thead>\n    <tr style=\"text-align: right;\">\n      <th></th>\n      <th>AnoCalendario</th>\n      <th>DataArquivamento</th>\n      <th>DataAbertura</th>\n      <th>CodigoRegiao</th>\n      <th>Regiao</th>\n      <th>UF</th>\n      <th>strRazaoSocial</th>\n      <th>strNomeFantasia</th>\n      <th>Tipo</th>\n      <th>NumeroCNPJ</th>\n      <th>...</th>\n      <th>CNAEPrincipal</th>\n      <th>DescCNAEPrincipal</th>\n      <th>Atendida</th>\n      <th>CodigoAssunto</th>\n      <th>DescricaoAssunto</th>\n      <th>CodigoProblema</th>\n      <th>DescricaoProblema</th>\n      <th>SexoConsumidor</th>\n      <th>FaixaEtariaConsumidor</th>\n      <th>CEPConsumidor</th>\n    </tr>\n  </thead>\n  <tbody>\n    <tr>\n      <th>0</th>\n      <td>2013</td>\n      <td>2013-07-17 13:42:50.000</td>\n      <td>2013-06-27 10:41:31.000</td>\n      <td>3</td>\n      <td>Sudeste</td>\n      <td>MG</td>\n      <td>BOMSUCESSO</td>\n      <td>NaN</td>\n      <td>1</td>\n      <td>NaN</td>\n      <td>...</td>\n      <td>NaN</td>\n      <td>NaN</td>\n      <td>S</td>\n      <td>63</td>\n      <td>Financeira</td>\n      <td>217</td>\n      <td>Antecipação de Financiamento</td>\n      <td>F</td>\n      <td>entre 51 a 60 anos</td>\n      <td>35300038</td>\n    </tr>\n    <tr>\n      <th>1</th>\n      <td>2013</td>\n      <td>2013-01-16 09:31:19.000</td>\n      <td>2012-12-06 09:33:00.000</td>\n      <td>2</td>\n      <td>Nordeste</td>\n      <td>RN</td>\n      <td>LOJAS INSINUANTE</td>\n      <td>NaN</td>\n      <td>1</td>\n      <td>NaN</td>\n      <td>...</td>\n      <td>NaN</td>\n      <td>NaN</td>\n      <td>S</td>\n      <td>101</td>\n      <td>Telefone ( Convencional, Celular, Interfone, E...</td>\n      <td>102</td>\n      <td>Garantia (Abrangência, cobertura, etc.)</td>\n      <td>F</td>\n      <td>entre 41 a 50 anos</td>\n      <td>59617335</td>\n    </tr>\n  </tbody>\n</table>\n<p>2 rows × 23 columns</p>\n</div>"
     },
     "execution_count": 7,
     "metadata": {},
     "output_type": "execute_result"
    }
   ]
  },
  {
   "cell_type": "code",
   "source": [
    "# As primeiras 2 linhas do dataset DF2014\n",
    "df2014.head(2)"
   ],
   "metadata": {
    "colab": {
     "base_uri": "https://localhost:8080/",
     "height": 310
    },
    "id": "KkKEKHygnue3",
    "executionInfo": {
     "status": "ok",
     "timestamp": 1664408049189,
     "user_tz": 180,
     "elapsed": 489,
     "user": {
      "displayName": "MATHEUS DOS SANTOS OLIVEIRA",
      "userId": "09253095021711422754"
     }
    },
    "outputId": "71020496-46ef-46cd-ca6f-0365fc89f7c4",
    "ExecuteTime": {
     "end_time": "2023-05-21T18:16:47.389486400Z",
     "start_time": "2023-05-21T18:16:47.362460700Z"
    }
   },
   "execution_count": 8,
   "outputs": [
    {
     "data": {
      "text/plain": "   AnoCalendario         DataArquivamento             DataAbertura   \n0           2014  2014-02-14 09:15:38.000  2013-01-30 10:51:54.000  \\\n1           2014  2014-02-26 15:24:58.000  2013-03-26 14:40:43.000   \n\n   CodigoRegiao Regiao  UF             strRazaoSocial  strNomeFantasia  Tipo   \n0             1  Norte  AC               ESMALTEC S/A         ESMALTEC     1  \\\n1             1  Norte  AC  TERRA NETWORKS BRASIL S/A  TERRA SAO PAULO     1   \n\n     NumeroCNPJ  ...  CNAEPrincipal   \n0  2.948030e+12  ...      2751100.0  \\\n1  9.108833e+13  ...      6190601.0   \n\n                                   DescCNAEPrincipal Atendida  CodigoAssunto   \n0  FABRICAÇÃO DE FOGÕES, REFRIGERADORES E MÁQUINA...        S             94  \\\n1      PROVEDORES DE ACESSO ÀS REDES DE COMUNICAÇÕES        S            279   \n\n                                  DescricaoAssunto CodigoProblema   \n0                              Geladeira e Freezer            102  \\\n1  Informática (Ex.:Provedor de Acesso a Internet)            194   \n\n                         DescricaoProblema SexoConsumidor   \n0  Garantia (Abrangência, cobertura, etc.)              F  \\\n1                Cobrança indevida/abusiva              M   \n\n   FaixaEtariaConsumidor CEPConsumidor  \n0     entre 41 a 50 anos    69905800.0  \n1     entre 41 a 50 anos    69914381.0  \n\n[2 rows x 23 columns]",
      "text/html": "<div>\n<style scoped>\n    .dataframe tbody tr th:only-of-type {\n        vertical-align: middle;\n    }\n\n    .dataframe tbody tr th {\n        vertical-align: top;\n    }\n\n    .dataframe thead th {\n        text-align: right;\n    }\n</style>\n<table border=\"1\" class=\"dataframe\">\n  <thead>\n    <tr style=\"text-align: right;\">\n      <th></th>\n      <th>AnoCalendario</th>\n      <th>DataArquivamento</th>\n      <th>DataAbertura</th>\n      <th>CodigoRegiao</th>\n      <th>Regiao</th>\n      <th>UF</th>\n      <th>strRazaoSocial</th>\n      <th>strNomeFantasia</th>\n      <th>Tipo</th>\n      <th>NumeroCNPJ</th>\n      <th>...</th>\n      <th>CNAEPrincipal</th>\n      <th>DescCNAEPrincipal</th>\n      <th>Atendida</th>\n      <th>CodigoAssunto</th>\n      <th>DescricaoAssunto</th>\n      <th>CodigoProblema</th>\n      <th>DescricaoProblema</th>\n      <th>SexoConsumidor</th>\n      <th>FaixaEtariaConsumidor</th>\n      <th>CEPConsumidor</th>\n    </tr>\n  </thead>\n  <tbody>\n    <tr>\n      <th>0</th>\n      <td>2014</td>\n      <td>2014-02-14 09:15:38.000</td>\n      <td>2013-01-30 10:51:54.000</td>\n      <td>1</td>\n      <td>Norte</td>\n      <td>AC</td>\n      <td>ESMALTEC S/A</td>\n      <td>ESMALTEC</td>\n      <td>1</td>\n      <td>2.948030e+12</td>\n      <td>...</td>\n      <td>2751100.0</td>\n      <td>FABRICAÇÃO DE FOGÕES, REFRIGERADORES E MÁQUINA...</td>\n      <td>S</td>\n      <td>94</td>\n      <td>Geladeira e Freezer</td>\n      <td>102</td>\n      <td>Garantia (Abrangência, cobertura, etc.)</td>\n      <td>F</td>\n      <td>entre 41 a 50 anos</td>\n      <td>69905800.0</td>\n    </tr>\n    <tr>\n      <th>1</th>\n      <td>2014</td>\n      <td>2014-02-26 15:24:58.000</td>\n      <td>2013-03-26 14:40:43.000</td>\n      <td>1</td>\n      <td>Norte</td>\n      <td>AC</td>\n      <td>TERRA NETWORKS BRASIL S/A</td>\n      <td>TERRA SAO PAULO</td>\n      <td>1</td>\n      <td>9.108833e+13</td>\n      <td>...</td>\n      <td>6190601.0</td>\n      <td>PROVEDORES DE ACESSO ÀS REDES DE COMUNICAÇÕES</td>\n      <td>S</td>\n      <td>279</td>\n      <td>Informática (Ex.:Provedor de Acesso a Internet)</td>\n      <td>194</td>\n      <td>Cobrança indevida/abusiva</td>\n      <td>M</td>\n      <td>entre 41 a 50 anos</td>\n      <td>69914381.0</td>\n    </tr>\n  </tbody>\n</table>\n<p>2 rows × 23 columns</p>\n</div>"
     },
     "execution_count": 8,
     "metadata": {},
     "output_type": "execute_result"
    }
   ]
  },
  {
   "cell_type": "code",
   "source": [
    "# As primeiras 2 linhas do dataset DF2015\n",
    "df2015.head(2)"
   ],
   "metadata": {
    "colab": {
     "base_uri": "https://localhost:8080/",
     "height": 292
    },
    "id": "YbTPHU82n5dz",
    "executionInfo": {
     "status": "ok",
     "timestamp": 1664408051284,
     "user_tz": 180,
     "elapsed": 356,
     "user": {
      "displayName": "MATHEUS DOS SANTOS OLIVEIRA",
      "userId": "09253095021711422754"
     }
    },
    "outputId": "856d56fd-96a0-4c97-8acb-cd2ab693f9df",
    "ExecuteTime": {
     "end_time": "2023-05-21T18:16:52.018577700Z",
     "start_time": "2023-05-21T18:16:51.966530Z"
    }
   },
   "execution_count": 9,
   "outputs": [
    {
     "data": {
      "text/plain": "   AnoCalendario         DataArquivamento             DataAbertura   \n0           2015  2015-09-04 10:44:36.000  2015-02-25 11:46:05.000  \\\n1           2015  2015-03-10 14:54:45.000  2015-02-12 09:36:03.000   \n\n   CodigoRegiao   Regiao  UF          strRazaoSocial strNomeFantasia  Tipo   \n0             3  Sudeste  SP          JÓIAS SANDIEGO             NaN     1  \\\n1             1    Norte  RO  AUTOVEMA VEICULOS LTDA             NaN     1   \n\n   NumeroCNPJ  ...  CNAEPrincipal DescCNAEPrincipal Atendida  CodigoAssunto   \n0         NaN  ...            NaN               NaN        S            134  \\\n1         NaN  ...            NaN               NaN        N            129   \n\n                                    DescricaoAssunto CodigoProblema   \n0  Produto de Uso Pessoal ( Barbeador, Depilador,...          105.0  \\\n1                  Carro Nacional Zero ( Montadora )          105.0   \n\n   DescricaoProblema SexoConsumidor  FaixaEtariaConsumidor CEPConsumidor  \n0  Produto com vício              F     entre 21 a 30 anos    14403500.0  \n1  Produto com vício              M     entre 41 a 50 anos    76821592.0  \n\n[2 rows x 23 columns]",
      "text/html": "<div>\n<style scoped>\n    .dataframe tbody tr th:only-of-type {\n        vertical-align: middle;\n    }\n\n    .dataframe tbody tr th {\n        vertical-align: top;\n    }\n\n    .dataframe thead th {\n        text-align: right;\n    }\n</style>\n<table border=\"1\" class=\"dataframe\">\n  <thead>\n    <tr style=\"text-align: right;\">\n      <th></th>\n      <th>AnoCalendario</th>\n      <th>DataArquivamento</th>\n      <th>DataAbertura</th>\n      <th>CodigoRegiao</th>\n      <th>Regiao</th>\n      <th>UF</th>\n      <th>strRazaoSocial</th>\n      <th>strNomeFantasia</th>\n      <th>Tipo</th>\n      <th>NumeroCNPJ</th>\n      <th>...</th>\n      <th>CNAEPrincipal</th>\n      <th>DescCNAEPrincipal</th>\n      <th>Atendida</th>\n      <th>CodigoAssunto</th>\n      <th>DescricaoAssunto</th>\n      <th>CodigoProblema</th>\n      <th>DescricaoProblema</th>\n      <th>SexoConsumidor</th>\n      <th>FaixaEtariaConsumidor</th>\n      <th>CEPConsumidor</th>\n    </tr>\n  </thead>\n  <tbody>\n    <tr>\n      <th>0</th>\n      <td>2015</td>\n      <td>2015-09-04 10:44:36.000</td>\n      <td>2015-02-25 11:46:05.000</td>\n      <td>3</td>\n      <td>Sudeste</td>\n      <td>SP</td>\n      <td>JÓIAS SANDIEGO</td>\n      <td>NaN</td>\n      <td>1</td>\n      <td>NaN</td>\n      <td>...</td>\n      <td>NaN</td>\n      <td>NaN</td>\n      <td>S</td>\n      <td>134</td>\n      <td>Produto de Uso Pessoal ( Barbeador, Depilador,...</td>\n      <td>105.0</td>\n      <td>Produto com vício</td>\n      <td>F</td>\n      <td>entre 21 a 30 anos</td>\n      <td>14403500.0</td>\n    </tr>\n    <tr>\n      <th>1</th>\n      <td>2015</td>\n      <td>2015-03-10 14:54:45.000</td>\n      <td>2015-02-12 09:36:03.000</td>\n      <td>1</td>\n      <td>Norte</td>\n      <td>RO</td>\n      <td>AUTOVEMA VEICULOS LTDA</td>\n      <td>NaN</td>\n      <td>1</td>\n      <td>NaN</td>\n      <td>...</td>\n      <td>NaN</td>\n      <td>NaN</td>\n      <td>N</td>\n      <td>129</td>\n      <td>Carro Nacional Zero ( Montadora )</td>\n      <td>105.0</td>\n      <td>Produto com vício</td>\n      <td>M</td>\n      <td>entre 41 a 50 anos</td>\n      <td>76821592.0</td>\n    </tr>\n  </tbody>\n</table>\n<p>2 rows × 23 columns</p>\n</div>"
     },
     "execution_count": 9,
     "metadata": {},
     "output_type": "execute_result"
    }
   ]
  },
  {
   "cell_type": "code",
   "source": [
    "# As primeiras 2 linhas do dataset DF2016\n",
    "df2016.head(2)"
   ],
   "metadata": {
    "colab": {
     "base_uri": "https://localhost:8080/",
     "height": 310
    },
    "id": "DZlr0k5MoBl_",
    "executionInfo": {
     "status": "ok",
     "timestamp": 1664408053131,
     "user_tz": 180,
     "elapsed": 330,
     "user": {
      "displayName": "MATHEUS DOS SANTOS OLIVEIRA",
      "userId": "09253095021711422754"
     }
    },
    "outputId": "906b7e8d-6b13-469e-cf9e-f566b93a7f33",
    "ExecuteTime": {
     "end_time": "2023-05-21T18:16:59.187009200Z",
     "start_time": "2023-05-21T18:16:59.150976300Z"
    }
   },
   "execution_count": 10,
   "outputs": [
    {
     "data": {
      "text/plain": "   AnoCalendario         DataArquivamento             DataAbertura   \n0           2016  2016-02-17 13:43:08.000  2015-10-29 10:59:59.000  \\\n1           2016  2016-12-15 18:11:35.000  2016-11-18 14:52:22.000   \n\n   CodigoRegiao    Regiao  UF                                  strRazaoSocial   \n0             2  Nordeste  PE  CVC BRASIL OPERADORA E AGENCIA DE VIAGENS S.A.  \\\n1             2  Nordeste  PE                  GIORGIO ARMANI BRASIL COMERCIO   \n\n  strNomeFantasia  Tipo    NumeroCNPJ  ...  CNAEPrincipal   \n0             CVC     1  1.076026e+13  ...      7911200.0  \\\n1  EMPORIO ARMANI     1  1.318050e+13  ...            NaN   \n\n     DescCNAEPrincipal Atendida  CodigoAssunto   \n0  AGÊNCIAS DE VIAGENS        S            276  \\\n1                  NaN        N            132   \n\n                                    DescricaoAssunto CodigoProblema   \n0  Agências e Operadoras de viagens (pacotes turí...          205.0  \\\n1                      Vestuário ( Calçado / Roupa )          105.0   \n\n                                   DescricaoProblema SexoConsumidor   \n0  Consulta Sobre Serviços (Pesquisa, cartilha, e...              M  \\\n1                                  Produto com vício              F   \n\n   FaixaEtariaConsumidor CEPConsumidor  \n0     entre 61 a 70 anos    52061540.0  \n1     entre 31 a 40 anos    51010140.0  \n\n[2 rows x 23 columns]",
      "text/html": "<div>\n<style scoped>\n    .dataframe tbody tr th:only-of-type {\n        vertical-align: middle;\n    }\n\n    .dataframe tbody tr th {\n        vertical-align: top;\n    }\n\n    .dataframe thead th {\n        text-align: right;\n    }\n</style>\n<table border=\"1\" class=\"dataframe\">\n  <thead>\n    <tr style=\"text-align: right;\">\n      <th></th>\n      <th>AnoCalendario</th>\n      <th>DataArquivamento</th>\n      <th>DataAbertura</th>\n      <th>CodigoRegiao</th>\n      <th>Regiao</th>\n      <th>UF</th>\n      <th>strRazaoSocial</th>\n      <th>strNomeFantasia</th>\n      <th>Tipo</th>\n      <th>NumeroCNPJ</th>\n      <th>...</th>\n      <th>CNAEPrincipal</th>\n      <th>DescCNAEPrincipal</th>\n      <th>Atendida</th>\n      <th>CodigoAssunto</th>\n      <th>DescricaoAssunto</th>\n      <th>CodigoProblema</th>\n      <th>DescricaoProblema</th>\n      <th>SexoConsumidor</th>\n      <th>FaixaEtariaConsumidor</th>\n      <th>CEPConsumidor</th>\n    </tr>\n  </thead>\n  <tbody>\n    <tr>\n      <th>0</th>\n      <td>2016</td>\n      <td>2016-02-17 13:43:08.000</td>\n      <td>2015-10-29 10:59:59.000</td>\n      <td>2</td>\n      <td>Nordeste</td>\n      <td>PE</td>\n      <td>CVC BRASIL OPERADORA E AGENCIA DE VIAGENS S.A.</td>\n      <td>CVC</td>\n      <td>1</td>\n      <td>1.076026e+13</td>\n      <td>...</td>\n      <td>7911200.0</td>\n      <td>AGÊNCIAS DE VIAGENS</td>\n      <td>S</td>\n      <td>276</td>\n      <td>Agências e Operadoras de viagens (pacotes turí...</td>\n      <td>205.0</td>\n      <td>Consulta Sobre Serviços (Pesquisa, cartilha, e...</td>\n      <td>M</td>\n      <td>entre 61 a 70 anos</td>\n      <td>52061540.0</td>\n    </tr>\n    <tr>\n      <th>1</th>\n      <td>2016</td>\n      <td>2016-12-15 18:11:35.000</td>\n      <td>2016-11-18 14:52:22.000</td>\n      <td>2</td>\n      <td>Nordeste</td>\n      <td>PE</td>\n      <td>GIORGIO ARMANI BRASIL COMERCIO</td>\n      <td>EMPORIO ARMANI</td>\n      <td>1</td>\n      <td>1.318050e+13</td>\n      <td>...</td>\n      <td>NaN</td>\n      <td>NaN</td>\n      <td>N</td>\n      <td>132</td>\n      <td>Vestuário ( Calçado / Roupa )</td>\n      <td>105.0</td>\n      <td>Produto com vício</td>\n      <td>F</td>\n      <td>entre 31 a 40 anos</td>\n      <td>51010140.0</td>\n    </tr>\n  </tbody>\n</table>\n<p>2 rows × 23 columns</p>\n</div>"
     },
     "execution_count": 10,
     "metadata": {},
     "output_type": "execute_result"
    }
   ]
  },
  {
   "cell_type": "markdown",
   "source": [
    "## Lista dos Datasets"
   ],
   "metadata": {
    "id": "tpWvn3iKoQYH"
   }
  },
  {
   "cell_type": "code",
   "source": [
    "#Lista com os nomes dos datasets que serão concatenados\n",
    "frames = [df2012, df2013, df2014, df2015, df2016]"
   ],
   "metadata": {
    "id": "NthUMk2HO0No",
    "ExecuteTime": {
     "end_time": "2023-05-21T18:17:04.710046800Z",
     "start_time": "2023-05-21T18:17:04.683023100Z"
    }
   },
   "execution_count": 11,
   "outputs": []
  },
  {
   "cell_type": "markdown",
   "source": [
    "## Concat dos Dataset, para combinar as informações que foram extraídas separadas"
   ],
   "metadata": {
    "id": "85aoUmKPolN2"
   }
  },
  {
   "cell_type": "code",
   "source": [
    "# pd.concat (Usar esse comando para concatenar)\n",
    "df_full = pd.concat(frames)\n",
    "df_full.shape"
   ],
   "metadata": {
    "colab": {
     "base_uri": "https://localhost:8080/"
    },
    "id": "TsZ9OuhZPBOU",
    "executionInfo": {
     "status": "ok",
     "timestamp": 1664408056756,
     "user_tz": 180,
     "elapsed": 2,
     "user": {
      "displayName": "MATHEUS DOS SANTOS OLIVEIRA",
      "userId": "09253095021711422754"
     }
    },
    "outputId": "96d22ea0-ea78-43eb-b4bb-a9d01924aa7b",
    "ExecuteTime": {
     "end_time": "2023-05-21T18:17:10.412337600Z",
     "start_time": "2023-05-21T18:17:10.134949700Z"
    }
   },
   "execution_count": 12,
   "outputs": [
    {
     "data": {
      "text/plain": "(1206072, 23)"
     },
     "execution_count": 12,
     "metadata": {},
     "output_type": "execute_result"
    }
   ]
  },
  {
   "cell_type": "markdown",
   "source": [
    "## Verificar os dados concatenados com Sample e Info"
   ],
   "metadata": {
    "id": "GY5Hiz8vt4v9"
   }
  },
  {
   "cell_type": "code",
   "source": [
    "# Exemplos coletados aleatoriamente no DF_Full\n",
    "df_full.sample(10)"
   ],
   "metadata": {
    "colab": {
     "base_uri": "https://localhost:8080/",
     "height": 960
    },
    "id": "cf9S76gPt3eP",
    "executionInfo": {
     "status": "ok",
     "timestamp": 1664408058459,
     "user_tz": 180,
     "elapsed": 385,
     "user": {
      "displayName": "MATHEUS DOS SANTOS OLIVEIRA",
      "userId": "09253095021711422754"
     }
    },
    "outputId": "6f9188f6-43c9-4467-b13a-23b693200c8e",
    "ExecuteTime": {
     "end_time": "2023-05-21T18:17:14.947721300Z",
     "start_time": "2023-05-21T18:17:14.898675400Z"
    }
   },
   "execution_count": 13,
   "outputs": [
    {
     "data": {
      "text/plain": "        AnoCalendario         DataArquivamento             DataAbertura   \n76457            2014  2014-07-04 10:24:51.000  2014-05-21 16:47:27.000  \\\n26286            2012  2012-08-15 16:44:39.000  2012-05-08 17:05:38.000   \n30125            2014  2014-09-01 10:11:08.000  2014-06-07 08:11:17.000   \n182135           2016  2016-09-29 09:54:04.000  2016-08-26 09:21:38.000   \n78392            2013  2013-09-26 11:26:26.000  2013-08-05 10:32:33.000   \n20605            2012  2012-08-14 15:57:08.000  2012-02-16 12:44:02.000   \n14368            2014  2014-10-17 11:46:35.000  2013-05-22 09:34:34.000   \n221609           2015  2015-05-08 14:38:50.000  2015-01-16 15:21:34.000   \n82675            2016  2016-12-30 11:40:58.000  2016-02-25 08:51:54.000   \n130693           2015  2015-11-26 15:29:56.000  2015-10-20 11:45:41.000   \n\n        CodigoRegiao        Regiao  UF   \n76457              4           Sul  SC  \\\n26286              5  Centro-oeste  GO   \n30125              3       Sudeste  ES   \n182135             2      Nordeste  PB   \n78392              2      Nordeste  PE   \n20605              5  Centro-oeste  GO   \n14368              5  Centro-oeste  DF   \n221609             3       Sudeste  SP   \n82675              2      Nordeste  PB   \n130693             2      Nordeste  RN   \n\n                                    strRazaoSocial   \n76457                                LOJAS COLOMBO  \\\n26286      SELLNET TECNOLOGIA EM COMUNICACOES LTDA   \n30125                                   CLARO S.A.   \n182135  BLU  DO BRASIL PRODUTOS DE TELECAÇÕES LTDA   \n78392         LEADRE S/A ADM DE CARTÕES DE CREDITO   \n20605                         BANCO INTERMEDIUM SA   \n14368                        BANCO BRADESCARD S.A.   \n221609                               BANCO BMG S/A   \n82675        NOVA PONTOCOM COMERCIO ELETRÔNICO S/A   \n130693                       TAM LINHAS AÉREAS S.A   \n\n                                   strNomeFantasia  Tipo    NumeroCNPJ  ...   \n76457                       LOJAS COLOMBO SÃO JOSÉ     1           NaN  ...  \\\n26286                  SELLNET TECNOLOGIA ( CLARO)     1  8.394754e+12  ...   \n30125                                        CLARO     1  4.043254e+13  ...   \n182135                                         NaN     1  1.351691e+13  ...   \n78392                                       LEADER     1  4.201672e+12  ...   \n20605                                          NaN     1  4.169680e+11  ...   \n14368                             BANCO BRADESCARD     1  4.184779e+12  ...   \n221609                                         NaN     1  6.118668e+13  ...   \n82675   EXTRA.COM - PONTOFRIO.COM - CASASBAHIA.COM     1  9.358108e+12  ...   \n130693                                         TAM     1  2.012862e+12  ...   \n\n        CNAEPrincipal                                  DescCNAEPrincipal   \n76457             NaN                                                NaN  \\\n26286       4752100.0  COMÉRCIO VAREJISTA ESPECIALIZADO DE EQUIPAMENT...   \n30125       6120501.0                            TELEFONIA MÓVEL CELULAR   \n182135      4752100.0  COMÉRCIO VAREJISTA ESPECIALIZADO DE EQUIPAMENT...   \n78392       6613400.0                ADMINISTRAÇÃO DE CARTÕES DE CRÉDITO   \n20605       6422100.0           BANCOS MÚLTIPLOS, COM CARTEIRA COMERCIAL   \n14368       6422100.0           BANCOS MÚLTIPLOS, COM CARTEIRA COMERCIAL   \n221609      6422100.0           BANCOS MÚLTIPLOS, COM CARTEIRA COMERCIAL   \n82675       4713001.0                LOJAS DE DEPARTAMENTOS OU MAGAZINES   \n130693      5111100.0            TRANSPORTE AÉREO DE PASSAGEIROS REGULAR   \n\n       Atendida  CodigoAssunto   \n76457         S            122  \\\n26286         S            101   \n30125         N            187   \n182135        S            187   \n78392         S             54   \n20605         S             63   \n14368         S             54   \n221609        N             53   \n82675         S             92   \n130693        S            276   \n\n                                         DescricaoAssunto CodigoProblema   \n76457                                  Móveis Para Quarto          106.0  \\\n26286   Telefone ( Convencional, Celular, Interfone, E...          102.0   \n30125                                   Telefonia Celular          137.0   \n182135                                  Telefonia Celular          123.0   \n78392                                   Cartão de Crédito          216.0   \n20605                                          Financeira          250.0   \n14368                                   Cartão de Crédito           28.0   \n221609                                    Banco comercial           50.0   \n82675           Máquina de Lavar Roupa / Louça e Secadora          260.0   \n130693  Agências e Operadoras de viagens (pacotes turí...          190.0   \n\n                                        DescricaoProblema SexoConsumidor   \n76457                Produto entregue diferente do pedido              F  \\\n26286             Garantia (Abrangência, cobertura, etc.)              M   \n30125                  Venda/Oferta/publicidade enganosa.              F   \n182135  Vicio de qualidade (mal executado, inadequado,...              F   \n78392                Lançamento Não Reconhecido na Fatura              F   \n20605                                  Crédito Consignado              M   \n14368                                  Cobrança indevida.              M   \n221609  Consumidor negativado indevidamente nos serviç...              F   \n82675                   Defeito/Risco à saúde e segurança              F   \n130693  Reajuste abusivo (preço, taxa, mensalidade, etc.)              M   \n\n        FaixaEtariaConsumidor CEPConsumidor  \n76457             até 20 anos    88110401.0  \n26286      entre 21 a 30 anos      74565100  \n30125      entre 51 a 60 anos           NaN  \n182135     entre 21 a 30 anos    58305080.0  \n78392             até 20 anos    53421321.0  \n20605      entre 51 a 60 anos      74303350  \n14368      entre 41 a 50 anos    71258140.0  \n221609     entre 61 a 70 anos     8410500.0  \n82675      entre 21 a 30 anos    58070540.0  \n130693          Nao Informada      59600000  \n\n[10 rows x 23 columns]",
      "text/html": "<div>\n<style scoped>\n    .dataframe tbody tr th:only-of-type {\n        vertical-align: middle;\n    }\n\n    .dataframe tbody tr th {\n        vertical-align: top;\n    }\n\n    .dataframe thead th {\n        text-align: right;\n    }\n</style>\n<table border=\"1\" class=\"dataframe\">\n  <thead>\n    <tr style=\"text-align: right;\">\n      <th></th>\n      <th>AnoCalendario</th>\n      <th>DataArquivamento</th>\n      <th>DataAbertura</th>\n      <th>CodigoRegiao</th>\n      <th>Regiao</th>\n      <th>UF</th>\n      <th>strRazaoSocial</th>\n      <th>strNomeFantasia</th>\n      <th>Tipo</th>\n      <th>NumeroCNPJ</th>\n      <th>...</th>\n      <th>CNAEPrincipal</th>\n      <th>DescCNAEPrincipal</th>\n      <th>Atendida</th>\n      <th>CodigoAssunto</th>\n      <th>DescricaoAssunto</th>\n      <th>CodigoProblema</th>\n      <th>DescricaoProblema</th>\n      <th>SexoConsumidor</th>\n      <th>FaixaEtariaConsumidor</th>\n      <th>CEPConsumidor</th>\n    </tr>\n  </thead>\n  <tbody>\n    <tr>\n      <th>76457</th>\n      <td>2014</td>\n      <td>2014-07-04 10:24:51.000</td>\n      <td>2014-05-21 16:47:27.000</td>\n      <td>4</td>\n      <td>Sul</td>\n      <td>SC</td>\n      <td>LOJAS COLOMBO</td>\n      <td>LOJAS COLOMBO SÃO JOSÉ</td>\n      <td>1</td>\n      <td>NaN</td>\n      <td>...</td>\n      <td>NaN</td>\n      <td>NaN</td>\n      <td>S</td>\n      <td>122</td>\n      <td>Móveis Para Quarto</td>\n      <td>106.0</td>\n      <td>Produto entregue diferente do pedido</td>\n      <td>F</td>\n      <td>até 20 anos</td>\n      <td>88110401.0</td>\n    </tr>\n    <tr>\n      <th>26286</th>\n      <td>2012</td>\n      <td>2012-08-15 16:44:39.000</td>\n      <td>2012-05-08 17:05:38.000</td>\n      <td>5</td>\n      <td>Centro-oeste</td>\n      <td>GO</td>\n      <td>SELLNET TECNOLOGIA EM COMUNICACOES LTDA</td>\n      <td>SELLNET TECNOLOGIA ( CLARO)</td>\n      <td>1</td>\n      <td>8.394754e+12</td>\n      <td>...</td>\n      <td>4752100.0</td>\n      <td>COMÉRCIO VAREJISTA ESPECIALIZADO DE EQUIPAMENT...</td>\n      <td>S</td>\n      <td>101</td>\n      <td>Telefone ( Convencional, Celular, Interfone, E...</td>\n      <td>102.0</td>\n      <td>Garantia (Abrangência, cobertura, etc.)</td>\n      <td>M</td>\n      <td>entre 21 a 30 anos</td>\n      <td>74565100</td>\n    </tr>\n    <tr>\n      <th>30125</th>\n      <td>2014</td>\n      <td>2014-09-01 10:11:08.000</td>\n      <td>2014-06-07 08:11:17.000</td>\n      <td>3</td>\n      <td>Sudeste</td>\n      <td>ES</td>\n      <td>CLARO S.A.</td>\n      <td>CLARO</td>\n      <td>1</td>\n      <td>4.043254e+13</td>\n      <td>...</td>\n      <td>6120501.0</td>\n      <td>TELEFONIA MÓVEL CELULAR</td>\n      <td>N</td>\n      <td>187</td>\n      <td>Telefonia Celular</td>\n      <td>137.0</td>\n      <td>Venda/Oferta/publicidade enganosa.</td>\n      <td>F</td>\n      <td>entre 51 a 60 anos</td>\n      <td>NaN</td>\n    </tr>\n    <tr>\n      <th>182135</th>\n      <td>2016</td>\n      <td>2016-09-29 09:54:04.000</td>\n      <td>2016-08-26 09:21:38.000</td>\n      <td>2</td>\n      <td>Nordeste</td>\n      <td>PB</td>\n      <td>BLU  DO BRASIL PRODUTOS DE TELECAÇÕES LTDA</td>\n      <td>NaN</td>\n      <td>1</td>\n      <td>1.351691e+13</td>\n      <td>...</td>\n      <td>4752100.0</td>\n      <td>COMÉRCIO VAREJISTA ESPECIALIZADO DE EQUIPAMENT...</td>\n      <td>S</td>\n      <td>187</td>\n      <td>Telefonia Celular</td>\n      <td>123.0</td>\n      <td>Vicio de qualidade (mal executado, inadequado,...</td>\n      <td>F</td>\n      <td>entre 21 a 30 anos</td>\n      <td>58305080.0</td>\n    </tr>\n    <tr>\n      <th>78392</th>\n      <td>2013</td>\n      <td>2013-09-26 11:26:26.000</td>\n      <td>2013-08-05 10:32:33.000</td>\n      <td>2</td>\n      <td>Nordeste</td>\n      <td>PE</td>\n      <td>LEADRE S/A ADM DE CARTÕES DE CREDITO</td>\n      <td>LEADER</td>\n      <td>1</td>\n      <td>4.201672e+12</td>\n      <td>...</td>\n      <td>6613400.0</td>\n      <td>ADMINISTRAÇÃO DE CARTÕES DE CRÉDITO</td>\n      <td>S</td>\n      <td>54</td>\n      <td>Cartão de Crédito</td>\n      <td>216.0</td>\n      <td>Lançamento Não Reconhecido na Fatura</td>\n      <td>F</td>\n      <td>até 20 anos</td>\n      <td>53421321.0</td>\n    </tr>\n    <tr>\n      <th>20605</th>\n      <td>2012</td>\n      <td>2012-08-14 15:57:08.000</td>\n      <td>2012-02-16 12:44:02.000</td>\n      <td>5</td>\n      <td>Centro-oeste</td>\n      <td>GO</td>\n      <td>BANCO INTERMEDIUM SA</td>\n      <td>NaN</td>\n      <td>1</td>\n      <td>4.169680e+11</td>\n      <td>...</td>\n      <td>6422100.0</td>\n      <td>BANCOS MÚLTIPLOS, COM CARTEIRA COMERCIAL</td>\n      <td>S</td>\n      <td>63</td>\n      <td>Financeira</td>\n      <td>250.0</td>\n      <td>Crédito Consignado</td>\n      <td>M</td>\n      <td>entre 51 a 60 anos</td>\n      <td>74303350</td>\n    </tr>\n    <tr>\n      <th>14368</th>\n      <td>2014</td>\n      <td>2014-10-17 11:46:35.000</td>\n      <td>2013-05-22 09:34:34.000</td>\n      <td>5</td>\n      <td>Centro-oeste</td>\n      <td>DF</td>\n      <td>BANCO BRADESCARD S.A.</td>\n      <td>BANCO BRADESCARD</td>\n      <td>1</td>\n      <td>4.184779e+12</td>\n      <td>...</td>\n      <td>6422100.0</td>\n      <td>BANCOS MÚLTIPLOS, COM CARTEIRA COMERCIAL</td>\n      <td>S</td>\n      <td>54</td>\n      <td>Cartão de Crédito</td>\n      <td>28.0</td>\n      <td>Cobrança indevida.</td>\n      <td>M</td>\n      <td>entre 41 a 50 anos</td>\n      <td>71258140.0</td>\n    </tr>\n    <tr>\n      <th>221609</th>\n      <td>2015</td>\n      <td>2015-05-08 14:38:50.000</td>\n      <td>2015-01-16 15:21:34.000</td>\n      <td>3</td>\n      <td>Sudeste</td>\n      <td>SP</td>\n      <td>BANCO BMG S/A</td>\n      <td>NaN</td>\n      <td>1</td>\n      <td>6.118668e+13</td>\n      <td>...</td>\n      <td>6422100.0</td>\n      <td>BANCOS MÚLTIPLOS, COM CARTEIRA COMERCIAL</td>\n      <td>N</td>\n      <td>53</td>\n      <td>Banco comercial</td>\n      <td>50.0</td>\n      <td>Consumidor negativado indevidamente nos serviç...</td>\n      <td>F</td>\n      <td>entre 61 a 70 anos</td>\n      <td>8410500.0</td>\n    </tr>\n    <tr>\n      <th>82675</th>\n      <td>2016</td>\n      <td>2016-12-30 11:40:58.000</td>\n      <td>2016-02-25 08:51:54.000</td>\n      <td>2</td>\n      <td>Nordeste</td>\n      <td>PB</td>\n      <td>NOVA PONTOCOM COMERCIO ELETRÔNICO S/A</td>\n      <td>EXTRA.COM - PONTOFRIO.COM - CASASBAHIA.COM</td>\n      <td>1</td>\n      <td>9.358108e+12</td>\n      <td>...</td>\n      <td>4713001.0</td>\n      <td>LOJAS DE DEPARTAMENTOS OU MAGAZINES</td>\n      <td>S</td>\n      <td>92</td>\n      <td>Máquina de Lavar Roupa / Louça e Secadora</td>\n      <td>260.0</td>\n      <td>Defeito/Risco à saúde e segurança</td>\n      <td>F</td>\n      <td>entre 21 a 30 anos</td>\n      <td>58070540.0</td>\n    </tr>\n    <tr>\n      <th>130693</th>\n      <td>2015</td>\n      <td>2015-11-26 15:29:56.000</td>\n      <td>2015-10-20 11:45:41.000</td>\n      <td>2</td>\n      <td>Nordeste</td>\n      <td>RN</td>\n      <td>TAM LINHAS AÉREAS S.A</td>\n      <td>TAM</td>\n      <td>1</td>\n      <td>2.012862e+12</td>\n      <td>...</td>\n      <td>5111100.0</td>\n      <td>TRANSPORTE AÉREO DE PASSAGEIROS REGULAR</td>\n      <td>S</td>\n      <td>276</td>\n      <td>Agências e Operadoras de viagens (pacotes turí...</td>\n      <td>190.0</td>\n      <td>Reajuste abusivo (preço, taxa, mensalidade, etc.)</td>\n      <td>M</td>\n      <td>Nao Informada</td>\n      <td>59600000</td>\n    </tr>\n  </tbody>\n</table>\n<p>10 rows × 23 columns</p>\n</div>"
     },
     "execution_count": 13,
     "metadata": {},
     "output_type": "execute_result"
    }
   ]
  },
  {
   "cell_type": "code",
   "source": [
    "df_full.info()"
   ],
   "metadata": {
    "colab": {
     "base_uri": "https://localhost:8080/"
    },
    "id": "WWQAHGJNuFcm",
    "executionInfo": {
     "status": "ok",
     "timestamp": 1664408061530,
     "user_tz": 180,
     "elapsed": 444,
     "user": {
      "displayName": "MATHEUS DOS SANTOS OLIVEIRA",
      "userId": "09253095021711422754"
     }
    },
    "outputId": "42331d39-1c61-4667-ff97-deb06e0a51f3",
    "ExecuteTime": {
     "end_time": "2023-05-21T18:40:23.112402400Z",
     "start_time": "2023-05-21T18:40:22.641844900Z"
    }
   },
   "execution_count": 24,
   "outputs": [
    {
     "name": "stdout",
     "output_type": "stream",
     "text": [
      "<class 'pandas.core.frame.DataFrame'>\n",
      "Index: 1206072 entries, 0 to 203485\n",
      "Data columns (total 23 columns):\n",
      " #   Column                 Non-Null Count    Dtype  \n",
      "---  ------                 --------------    -----  \n",
      " 0   AnoCalendario          1206072 non-null  int64  \n",
      " 1   DataArquivamento       1206072 non-null  object \n",
      " 2   DataAbertura           1206072 non-null  object \n",
      " 3   CodigoRegiao           1206072 non-null  int64  \n",
      " 4   Regiao                 1206072 non-null  object \n",
      " 5   UF                     1206072 non-null  object \n",
      " 6   strRazaoSocial         1206064 non-null  object \n",
      " 7   strNomeFantasia        1006636 non-null  object \n",
      " 8   Tipo                   1206072 non-null  int64  \n",
      " 9   NumeroCNPJ             1153518 non-null  float64\n",
      " 10  RadicalCNPJ            1152390 non-null  float64\n",
      " 11  RazaoSocialRFB         1137442 non-null  object \n",
      " 12  NomeFantasiaRFB        547639 non-null   object \n",
      " 13  CNAEPrincipal          1133380 non-null  float64\n",
      " 14  DescCNAEPrincipal      1122261 non-null  object \n",
      " 15  Atendida               1206072 non-null  object \n",
      " 16  CodigoAssunto          1206072 non-null  int64  \n",
      " 17  DescricaoAssunto       1206072 non-null  object \n",
      " 18  CodigoProblema         1206052 non-null  float64\n",
      " 19  DescricaoProblema      1206052 non-null  object \n",
      " 20  SexoConsumidor         1205101 non-null  object \n",
      " 21  FaixaEtariaConsumidor  1206072 non-null  object \n",
      " 22  CEPConsumidor          1123266 non-null  object \n",
      "dtypes: float64(4), int64(4), object(15)\n",
      "memory usage: 220.8+ MB\n"
     ]
    }
   ]
  },
  {
   "cell_type": "code",
   "execution_count": 27,
   "outputs": [],
   "source": [
    "# Escreve o dataset df_full num arquivo csv -→ Comando para unificar os arquivos\n",
    "# O parâmetro 'index=false' é utilizado para evitar inclusão do índice do dataframe no arquivo Excel\n",
    "df_full.to_csv('C:/Treinamento-Data-Science/Atividade 1/df_full.csv', index=False)"
   ],
   "metadata": {
    "collapsed": false,
    "ExecuteTime": {
     "end_time": "2023-05-21T18:43:20.232434200Z",
     "start_time": "2023-05-21T18:43:07.176436900Z"
    }
   }
  }
 ]
}
