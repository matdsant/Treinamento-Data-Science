{
 "nbformat": 4,
 "nbformat_minor": 0,
 "metadata": {
  "colab": {
   "name": "Aula Python - Explicação 1° Exercício.ipynb",
   "provenance": [
    {
     "file_id": "1-4OXwCrhlYTr-qxb43ICURR8iu1kOLU3",
     "timestamp": 1661382571347
    }
   ],
   "collapsed_sections": [
    "o2RESx5YIc-0",
    "JJGVuGLLNPfw"
   ]
  },
  "kernelspec": {
   "name": "python3",
   "language": "python",
   "display_name": "Python 3 (ipykernel)"
  },
  "language_info": {
   "name": "python"
  }
 },
 "cells": [
  {
   "cell_type": "markdown",
   "source": [
    "## Aula de Python\n",
    "### Variaveis"
   ],
   "metadata": {
    "id": "2RhVHAMsGKzf"
   }
  },
  {
   "cell_type": "code",
   "source": [
    "idade = 30"
   ],
   "metadata": {
    "id": "crSHdvU8FdxP",
    "ExecuteTime": {
     "end_time": "2023-05-13T17:17:08.937147900Z",
     "start_time": "2023-05-13T17:17:08.925136700Z"
    }
   },
   "execution_count": 1,
   "outputs": []
  },
  {
   "cell_type": "code",
   "source": [
    "idade "
   ],
   "metadata": {
    "colab": {
     "base_uri": "https://localhost:8080/"
    },
    "id": "HJUw-FXAwWld",
    "executionInfo": {
     "status": "ok",
     "timestamp": 1661208727250,
     "user_tz": 180,
     "elapsed": 14,
     "user": {
      "displayName": "LEANDRO ROMUALDO DA SILVA",
      "userId": "16939956719304469598"
     }
    },
    "outputId": "739d1d57-9d11-49d7-c554-0796ecdaf936",
    "ExecuteTime": {
     "end_time": "2023-05-13T17:17:08.952161500Z",
     "start_time": "2023-05-13T17:17:08.944153900Z"
    }
   },
   "execution_count": 2,
   "outputs": [
    {
     "data": {
      "text/plain": "30"
     },
     "execution_count": 2,
     "metadata": {},
     "output_type": "execute_result"
    }
   ]
  },
  {
   "cell_type": "code",
   "source": [
    "type(idade)"
   ],
   "metadata": {
    "colab": {
     "base_uri": "https://localhost:8080/"
    },
    "id": "25pPhY97wYtV",
    "executionInfo": {
     "status": "ok",
     "timestamp": 1661208827329,
     "user_tz": 180,
     "elapsed": 7,
     "user": {
      "displayName": "LEANDRO ROMUALDO DA SILVA",
      "userId": "16939956719304469598"
     }
    },
    "outputId": "680ee022-a320-4d3c-a00c-1408f2770b84"
   },
   "execution_count": null,
   "outputs": [
    {
     "output_type": "execute_result",
     "data": {
      "text/plain": [
       "int"
      ]
     },
     "metadata": {},
     "execution_count": 4
    }
   ]
  },
  {
   "cell_type": "code",
   "source": [
    "idade = '30'"
   ],
   "metadata": {
    "id": "DWXBZ38NwxIm"
   },
   "execution_count": null,
   "outputs": []
  },
  {
   "cell_type": "code",
   "source": [
    "type(idade)"
   ],
   "metadata": {
    "colab": {
     "base_uri": "https://localhost:8080/"
    },
    "id": "9l_0ewsow1Hm",
    "executionInfo": {
     "status": "ok",
     "timestamp": 1661208850327,
     "user_tz": 180,
     "elapsed": 9,
     "user": {
      "displayName": "LEANDRO ROMUALDO DA SILVA",
      "userId": "16939956719304469598"
     }
    },
    "outputId": "f18b8984-4a3a-433a-94b2-f33a5559571e"
   },
   "execution_count": null,
   "outputs": [
    {
     "output_type": "execute_result",
     "data": {
      "text/plain": [
       "str"
      ]
     },
     "metadata": {},
     "execution_count": 6
    }
   ]
  },
  {
   "cell_type": "code",
   "source": [
    "print(float(idade))"
   ],
   "metadata": {
    "colab": {
     "base_uri": "https://localhost:8080/"
    },
    "id": "YyjgXIJNw2q7",
    "executionInfo": {
     "status": "ok",
     "timestamp": 1661208909334,
     "user_tz": 180,
     "elapsed": 6,
     "user": {
      "displayName": "LEANDRO ROMUALDO DA SILVA",
      "userId": "16939956719304469598"
     }
    },
    "outputId": "91352e99-e9c9-465d-d533-e99d54fca6c4"
   },
   "execution_count": null,
   "outputs": [
    {
     "output_type": "stream",
     "name": "stdout",
     "text": [
      "30.0\n"
     ]
    }
   ]
  },
  {
   "cell_type": "code",
   "source": [
    "idade2 = 40\n",
    "idade3 = '20'"
   ],
   "metadata": {
    "id": "4aZ_AYTnw96I"
   },
   "execution_count": null,
   "outputs": []
  },
  {
   "cell_type": "code",
   "source": [
    "print(idade, idade2, idade3)"
   ],
   "metadata": {
    "colab": {
     "base_uri": "https://localhost:8080/"
    },
    "id": "6cN9xctcxudn",
    "executionInfo": {
     "status": "ok",
     "timestamp": 1661209095404,
     "user_tz": 180,
     "elapsed": 6,
     "user": {
      "displayName": "LEANDRO ROMUALDO DA SILVA",
      "userId": "16939956719304469598"
     }
    },
    "outputId": "8e2f6d3b-5159-43cb-f04d-5820e6eea88a"
   },
   "execution_count": null,
   "outputs": [
    {
     "output_type": "stream",
     "name": "stdout",
     "text": [
      "30 40 20\n"
     ]
    }
   ]
  },
  {
   "cell_type": "code",
   "source": [
    "print(idade+idade2, idade3)"
   ],
   "metadata": {
    "colab": {
     "base_uri": "https://localhost:8080/"
    },
    "id": "V_WTTO5Vxyl3",
    "executionInfo": {
     "status": "ok",
     "timestamp": 1661209112590,
     "user_tz": 180,
     "elapsed": 13,
     "user": {
      "displayName": "LEANDRO ROMUALDO DA SILVA",
      "userId": "16939956719304469598"
     }
    },
    "outputId": "b2cad077-3f7c-4d9c-d2cd-be24d08d1f0e"
   },
   "execution_count": null,
   "outputs": [
    {
     "output_type": "stream",
     "name": "stdout",
     "text": [
      "70 20\n"
     ]
    }
   ]
  },
  {
   "cell_type": "code",
   "source": [
    "print(idade+idade2+idade3) # Erro. Int com str não é possivel fazer a soma"
   ],
   "metadata": {
    "colab": {
     "base_uri": "https://localhost:8080/"
    },
    "id": "k3z_AZJyx2y2",
    "executionInfo": {
     "status": "ok",
     "timestamp": 1661209176113,
     "user_tz": 180,
     "elapsed": 12,
     "user": {
      "displayName": "LEANDRO ROMUALDO DA SILVA",
      "userId": "16939956719304469598"
     }
    },
    "outputId": "e82adbee-72c2-4b9f-b6b4-1cae2d28faa0"
   },
   "execution_count": null,
   "outputs": [
    {
     "output_type": "stream",
     "name": "stdout",
     "text": [
      "90\n"
     ]
    }
   ]
  },
  {
   "cell_type": "code",
   "source": [
    "print(idade+idade2+int(idade3))"
   ],
   "metadata": {
    "colab": {
     "base_uri": "https://localhost:8080/"
    },
    "id": "tt3dMMKTx_os",
    "executionInfo": {
     "status": "ok",
     "timestamp": 1661209211383,
     "user_tz": 180,
     "elapsed": 6,
     "user": {
      "displayName": "LEANDRO ROMUALDO DA SILVA",
      "userId": "16939956719304469598"
     }
    },
    "outputId": "73fcd439-0738-4879-a731-c006bdd1bcfa"
   },
   "execution_count": null,
   "outputs": [
    {
     "output_type": "stream",
     "name": "stdout",
     "text": [
      "90\n"
     ]
    }
   ]
  },
  {
   "cell_type": "code",
   "source": [
    "var1, var2, var3 = 1, 2, 3"
   ],
   "metadata": {
    "id": "Q4PRTgIfyO-6"
   },
   "execution_count": null,
   "outputs": []
  },
  {
   "cell_type": "code",
   "source": [
    "text = \"Uninove é sempre '10'!\""
   ],
   "metadata": {
    "id": "hLlkOi_dynWj"
   },
   "execution_count": null,
   "outputs": []
  },
  {
   "cell_type": "code",
   "source": [
    "text1 = 'Uninove é sempre \"10\"!'"
   ],
   "metadata": {
    "id": "MOFq1pqZ19K3"
   },
   "execution_count": null,
   "outputs": []
  },
  {
   "cell_type": "code",
   "source": [
    "text1"
   ],
   "metadata": {
    "colab": {
     "base_uri": "https://localhost:8080/",
     "height": 35
    },
    "id": "sqE40hfX2AS5",
    "executionInfo": {
     "status": "ok",
     "timestamp": 1661210208476,
     "user_tz": 180,
     "elapsed": 22,
     "user": {
      "displayName": "LEANDRO ROMUALDO DA SILVA",
      "userId": "16939956719304469598"
     }
    },
    "outputId": "9dbf59a7-1e23-4154-bcce-91f3e1090eb0"
   },
   "execution_count": null,
   "outputs": [
    {
     "output_type": "execute_result",
     "data": {
      "text/plain": [
       "'Uninove é sempre \"10\"!'"
      ],
      "application/vnd.google.colaboratory.intrinsic+json": {
       "type": "string"
      }
     },
     "metadata": {},
     "execution_count": 22
    }
   ]
  },
  {
   "cell_type": "code",
   "source": [
    "text"
   ],
   "metadata": {
    "colab": {
     "base_uri": "https://localhost:8080/",
     "height": 35
    },
    "id": "5joaF0Iu2CQu",
    "executionInfo": {
     "status": "ok",
     "timestamp": 1661210217596,
     "user_tz": 180,
     "elapsed": 9,
     "user": {
      "displayName": "LEANDRO ROMUALDO DA SILVA",
      "userId": "16939956719304469598"
     }
    },
    "outputId": "5787ed99-8606-4089-cbf5-15a9de60e22d"
   },
   "execution_count": null,
   "outputs": [
    {
     "output_type": "execute_result",
     "data": {
      "text/plain": [
       "\"Uninove é sempre '10'!\""
      ],
      "application/vnd.google.colaboratory.intrinsic+json": {
       "type": "string"
      }
     },
     "metadata": {},
     "execution_count": 24
    }
   ]
  },
  {
   "cell_type": "code",
   "source": [
    "# df = dataframe \n",
    "# df_filtrado \n",
    "# df_regionalizado\n",
    "# df_segmento_x"
   ],
   "metadata": {
    "id": "pq7C8YSe2ElN"
   },
   "execution_count": null,
   "outputs": []
  },
  {
   "cell_type": "code",
   "source": [
    "t = '' # variável que recebe texto da reclamação do cliente"
   ],
   "metadata": {
    "id": "40bCsUnI2u_B"
   },
   "execution_count": null,
   "outputs": []
  },
  {
   "cell_type": "code",
   "source": [
    "10 + 20"
   ],
   "metadata": {
    "colab": {
     "base_uri": "https://localhost:8080/"
    },
    "id": "fslMkhPi3CvX",
    "executionInfo": {
     "status": "ok",
     "timestamp": 1661210817031,
     "user_tz": 180,
     "elapsed": 8,
     "user": {
      "displayName": "LEANDRO ROMUALDO DA SILVA",
      "userId": "16939956719304469598"
     }
    },
    "outputId": "8a3d198a-7bad-40a9-ac5e-32977f857649"
   },
   "execution_count": null,
   "outputs": [
    {
     "output_type": "execute_result",
     "data": {
      "text/plain": [
       "30"
      ]
     },
     "metadata": {},
     "execution_count": 26
    }
   ]
  },
  {
   "cell_type": "code",
   "source": [
    "10 - 20"
   ],
   "metadata": {
    "colab": {
     "base_uri": "https://localhost:8080/"
    },
    "id": "ZYj1hB-r4W7n",
    "executionInfo": {
     "status": "ok",
     "timestamp": 1661210823977,
     "user_tz": 180,
     "elapsed": 4,
     "user": {
      "displayName": "LEANDRO ROMUALDO DA SILVA",
      "userId": "16939956719304469598"
     }
    },
    "outputId": "75751ca6-47b0-4c76-9324-1bbf577ff5f4"
   },
   "execution_count": null,
   "outputs": [
    {
     "output_type": "execute_result",
     "data": {
      "text/plain": [
       "-10"
      ]
     },
     "metadata": {},
     "execution_count": 27
    }
   ]
  },
  {
   "cell_type": "code",
   "source": [
    "10 * 20"
   ],
   "metadata": {
    "colab": {
     "base_uri": "https://localhost:8080/"
    },
    "id": "poTV5tGg4Yqs",
    "executionInfo": {
     "status": "ok",
     "timestamp": 1661210834306,
     "user_tz": 180,
     "elapsed": 6,
     "user": {
      "displayName": "LEANDRO ROMUALDO DA SILVA",
      "userId": "16939956719304469598"
     }
    },
    "outputId": "917f5abd-b4e7-49b7-f068-5a1e00f69cd6"
   },
   "execution_count": null,
   "outputs": [
    {
     "output_type": "execute_result",
     "data": {
      "text/plain": [
       "200"
      ]
     },
     "metadata": {},
     "execution_count": 28
    }
   ]
  },
  {
   "cell_type": "code",
   "source": [
    "20 / 10"
   ],
   "metadata": {
    "colab": {
     "base_uri": "https://localhost:8080/"
    },
    "id": "dI96NQfM4bMk",
    "executionInfo": {
     "status": "ok",
     "timestamp": 1661210841571,
     "user_tz": 180,
     "elapsed": 7,
     "user": {
      "displayName": "LEANDRO ROMUALDO DA SILVA",
      "userId": "16939956719304469598"
     }
    },
    "outputId": "b20054ae-4f4c-48f1-f9dc-22f2ce522242"
   },
   "execution_count": null,
   "outputs": [
    {
     "output_type": "execute_result",
     "data": {
      "text/plain": [
       "2.0"
      ]
     },
     "metadata": {},
     "execution_count": 29
    }
   ]
  },
  {
   "cell_type": "code",
   "source": [
    "10%2 # retorna resto da divisão do primeiro numero pelo segundo"
   ],
   "metadata": {
    "colab": {
     "base_uri": "https://localhost:8080/"
    },
    "id": "PpQv2RUA4c7d",
    "executionInfo": {
     "status": "ok",
     "timestamp": 1661210900302,
     "user_tz": 180,
     "elapsed": 275,
     "user": {
      "displayName": "LEANDRO ROMUALDO DA SILVA",
      "userId": "16939956719304469598"
     }
    },
    "outputId": "c4c236c4-3251-490f-96a8-37d1cae29aab"
   },
   "execution_count": null,
   "outputs": [
    {
     "output_type": "execute_result",
     "data": {
      "text/plain": [
       "0"
      ]
     },
     "metadata": {},
     "execution_count": 32
    }
   ]
  },
  {
   "cell_type": "code",
   "source": [
    "# Operadores logicos\n",
    "dois = 2 # Um símbolo de igual, é atribuição"
   ],
   "metadata": {
    "id": "9bwXBsGN4jlJ"
   },
   "execution_count": null,
   "outputs": []
  },
  {
   "cell_type": "code",
   "source": [
    "dois == 2 # Dois simbolos de igual é uma comparação"
   ],
   "metadata": {
    "colab": {
     "base_uri": "https://localhost:8080/"
    },
    "id": "OxdEddV345dd",
    "executionInfo": {
     "status": "ok",
     "timestamp": 1661210977431,
     "user_tz": 180,
     "elapsed": 7,
     "user": {
      "displayName": "LEANDRO ROMUALDO DA SILVA",
      "userId": "16939956719304469598"
     }
    },
    "outputId": "9f5a3b56-0ae2-4219-ce1a-1082e94c5312"
   },
   "execution_count": null,
   "outputs": [
    {
     "output_type": "execute_result",
     "data": {
      "text/plain": [
       "True"
      ]
     },
     "metadata": {},
     "execution_count": 34
    }
   ]
  },
  {
   "cell_type": "code",
   "source": [
    "dois != 3 # Exclamação igual testa se os valores são diferentes"
   ],
   "metadata": {
    "colab": {
     "base_uri": "https://localhost:8080/"
    },
    "id": "gItI_0MU4-C7",
    "executionInfo": {
     "status": "ok",
     "timestamp": 1661211017207,
     "user_tz": 180,
     "elapsed": 7,
     "user": {
      "displayName": "LEANDRO ROMUALDO DA SILVA",
      "userId": "16939956719304469598"
     }
    },
    "outputId": "31d2777e-eb62-4fc9-e3c7-2a89ae37fccf"
   },
   "execution_count": null,
   "outputs": [
    {
     "output_type": "execute_result",
     "data": {
      "text/plain": [
       "True"
      ]
     },
     "metadata": {},
     "execution_count": 35
    }
   ]
  },
  {
   "cell_type": "code",
   "source": [
    "dois >= 3, dois <= 3"
   ],
   "metadata": {
    "colab": {
     "base_uri": "https://localhost:8080/"
    },
    "id": "R3fonjlG5H0K",
    "executionInfo": {
     "status": "ok",
     "timestamp": 1661211167791,
     "user_tz": 180,
     "elapsed": 4,
     "user": {
      "displayName": "LEANDRO ROMUALDO DA SILVA",
      "userId": "16939956719304469598"
     }
    },
    "outputId": "082f46ee-3279-48be-f9a5-f5bc5b70775a"
   },
   "execution_count": null,
   "outputs": [
    {
     "output_type": "execute_result",
     "data": {
      "text/plain": [
       "(False, True)"
      ]
     },
     "metadata": {},
     "execution_count": 39
    }
   ]
  },
  {
   "cell_type": "markdown",
   "source": [
    "#### Funções"
   ],
   "metadata": {
    "id": "bVYJHoit5uCL"
   }
  },
  {
   "cell_type": "code",
   "source": [
    "# Anatomia de uma função\n",
    "### definição: nome, abre e fecha parenteses (entre parenteses pode conter variáveis de entrada) e dois pontos no final\n",
    "\n",
    "def funcaoprint(param1, param2):\n",
    "  print(param1 + param2) # Lógica da função"
   ],
   "metadata": {
    "id": "1LijDoDm5QGT"
   },
   "execution_count": null,
   "outputs": []
  },
  {
   "cell_type": "code",
   "source": [
    "funcaoprint('inteligencia', 'artificial')"
   ],
   "metadata": {
    "colab": {
     "base_uri": "https://localhost:8080/"
    },
    "id": "fluqr3MoAR_F",
    "executionInfo": {
     "status": "ok",
     "timestamp": 1661212927506,
     "user_tz": 180,
     "elapsed": 286,
     "user": {
      "displayName": "LEANDRO ROMUALDO DA SILVA",
      "userId": "16939956719304469598"
     }
    },
    "outputId": "462a2d69-03b7-43cd-9703-2ecb7cab21b2"
   },
   "execution_count": null,
   "outputs": [
    {
     "output_type": "stream",
     "name": "stdout",
     "text": [
      "inteligenciaartificial\n"
     ]
    }
   ]
  },
  {
   "cell_type": "code",
   "source": [
    "funcaoprint(40,50)"
   ],
   "metadata": {
    "colab": {
     "base_uri": "https://localhost:8080/"
    },
    "id": "xEEZdlK4AU0O",
    "executionInfo": {
     "status": "ok",
     "timestamp": 1661212945014,
     "user_tz": 180,
     "elapsed": 6,
     "user": {
      "displayName": "LEANDRO ROMUALDO DA SILVA",
      "userId": "16939956719304469598"
     }
    },
    "outputId": "ca1722a5-8bbe-40df-bcd9-9563423ed2e3"
   },
   "execution_count": null,
   "outputs": [
    {
     "output_type": "stream",
     "name": "stdout",
     "text": [
      "90\n"
     ]
    }
   ]
  },
  {
   "cell_type": "code",
   "source": [
    "listas = [1,2,3,4,5,6,7,8,9,0]\n",
    "tupla = (1,2,3,4,5)\n",
    "dicionário = {'nome': 'Leandro', 'Idade': 37}"
   ],
   "metadata": {
    "id": "hZGXfYxxAebV"
   },
   "execution_count": null,
   "outputs": []
  },
  {
   "cell_type": "code",
   "source": [
    "#mnemonico\n",
    "\n",
    "var 1 = 2 # espaços entre os caracateres, Não funciona \n",
    "1var =  2 # Numeros antes do nome, Não funciona \n",
    "Var1 =  2 # Não recomendado, melhor seguir tudo minusculo\n",
    "var1 = 2  # funciona, mas é simples demais, não diz o que é a variável"
   ],
   "metadata": {
    "id": "QM9edN8nB0Me"
   },
   "execution_count": null,
   "outputs": []
  },
  {
   "cell_type": "code",
   "source": [
    "sum(listas)"
   ],
   "metadata": {
    "colab": {
     "base_uri": "https://localhost:8080/"
    },
    "id": "PUulnkb8D11f",
    "executionInfo": {
     "status": "ok",
     "timestamp": 1661213955504,
     "user_tz": 180,
     "elapsed": 10,
     "user": {
      "displayName": "LEANDRO ROMUALDO DA SILVA",
      "userId": "16939956719304469598"
     }
    },
    "outputId": "bdedf3ce-488e-44fa-a4fc-38b501d91be6"
   },
   "execution_count": null,
   "outputs": [
    {
     "output_type": "execute_result",
     "data": {
      "text/plain": [
       "45"
      ]
     },
     "metadata": {},
     "execution_count": 45
    }
   ]
  },
  {
   "cell_type": "code",
   "source": [
    "len(listas)"
   ],
   "metadata": {
    "colab": {
     "base_uri": "https://localhost:8080/"
    },
    "id": "WHcw5ez_D198",
    "executionInfo": {
     "status": "ok",
     "timestamp": 1661213965807,
     "user_tz": 180,
     "elapsed": 280,
     "user": {
      "displayName": "LEANDRO ROMUALDO DA SILVA",
      "userId": "16939956719304469598"
     }
    },
    "outputId": "2cb59548-e55e-4e63-c418-da77eed7e988"
   },
   "execution_count": null,
   "outputs": [
    {
     "output_type": "execute_result",
     "data": {
      "text/plain": [
       "10"
      ]
     },
     "metadata": {},
     "execution_count": 46
    }
   ]
  },
  {
   "cell_type": "code",
   "source": [
    "min(listas)"
   ],
   "metadata": {
    "colab": {
     "base_uri": "https://localhost:8080/"
    },
    "id": "tMcVkjgrEXoB",
    "executionInfo": {
     "status": "ok",
     "timestamp": 1661213976715,
     "user_tz": 180,
     "elapsed": 7,
     "user": {
      "displayName": "LEANDRO ROMUALDO DA SILVA",
      "userId": "16939956719304469598"
     }
    },
    "outputId": "f9fa399b-3214-479e-b2e0-35061858a4c6"
   },
   "execution_count": null,
   "outputs": [
    {
     "output_type": "execute_result",
     "data": {
      "text/plain": [
       "0"
      ]
     },
     "metadata": {},
     "execution_count": 47
    }
   ]
  },
  {
   "cell_type": "code",
   "source": [
    "max(listas)"
   ],
   "metadata": {
    "colab": {
     "base_uri": "https://localhost:8080/"
    },
    "id": "Ss0wCE-LEaWk",
    "executionInfo": {
     "status": "ok",
     "timestamp": 1661213981584,
     "user_tz": 180,
     "elapsed": 6,
     "user": {
      "displayName": "LEANDRO ROMUALDO DA SILVA",
      "userId": "16939956719304469598"
     }
    },
    "outputId": "4df8e8d0-b603-4ed7-8415-8444a484c389"
   },
   "execution_count": null,
   "outputs": [
    {
     "output_type": "execute_result",
     "data": {
      "text/plain": [
       "9"
      ]
     },
     "metadata": {},
     "execution_count": 48
    }
   ]
  },
  {
   "cell_type": "code",
   "source": [
    "listas.append(10) # adicionar um valor na lista"
   ],
   "metadata": {
    "id": "1K2bPZkiEbg5"
   },
   "execution_count": null,
   "outputs": []
  },
  {
   "cell_type": "code",
   "source": [
    "cadastro = [{'Nome': 'Leandro', 'Idade': 28, 'Notas': [10, 9, 8, 7, 3, 5]},\n",
    "            {'Nome': 'Maria', 'Idade': 21, 'Notas': [10, 9, 8, 7, 3, 5]},\n",
    "            {'Nome': 'Jose', 'Idade': 22, 'Notas': [10, 9, 8, 7, 3, 5]},\n",
    "            {'Nome': 'Leonardo', 'Idade': 35, 'Notas': [10, 9, 8, 7, 3, 5]},\n",
    "            {'Nome': 'Rafael', 'Idade': 18, 'Notas': [10, 9, 8, 7, 3, 5]},\n",
    "            {'Nome': 'Lucas', 'Idade': 25, 'Notas': [10, 9, 8, 7, 3, 5]},\n",
    "            {'Nome': 'Jennifer', 'Idade': 18, 'Notas': [10, 9, 8, 7, 3, 5]},\n",
    "            {'Nome': 'Marcos', 'Idade': 20, 'Notas': [10, 9, 8, 7, 3, 5]}]"
   ],
   "metadata": {
    "id": "qKMGJFDeEkQc"
   },
   "execution_count": null,
   "outputs": []
  },
  {
   "cell_type": "code",
   "source": [
    "cadastro[0]['Nome']"
   ],
   "metadata": {
    "colab": {
     "base_uri": "https://localhost:8080/",
     "height": 35
    },
    "id": "bs8YHEakFmUJ",
    "executionInfo": {
     "status": "ok",
     "timestamp": 1661214342024,
     "user_tz": 180,
     "elapsed": 304,
     "user": {
      "displayName": "LEANDRO ROMUALDO DA SILVA",
      "userId": "16939956719304469598"
     }
    },
    "outputId": "4d53f257-f718-4770-f827-e0121d374e9d"
   },
   "execution_count": null,
   "outputs": [
    {
     "output_type": "execute_result",
     "data": {
      "text/plain": [
       "'Leandro'"
      ],
      "application/vnd.google.colaboratory.intrinsic+json": {
       "type": "string"
      }
     },
     "metadata": {},
     "execution_count": 52
    }
   ]
  },
  {
   "cell_type": "markdown",
   "source": [
    "#### Estruturas Condicionais"
   ],
   "metadata": {
    "id": "cTvyVQ0SF3Zk"
   }
  },
  {
   "cell_type": "code",
   "source": [
    "pessoas_conhecidas = ['Caio', 'Vianê', 'Murilo', 'João']\n",
    "\n",
    "pessoa = input('Entre com o nome de alguém:')\n",
    "\n",
    "if pessoa in pessoas_conhecidas:\n",
    "  print('Voce conhece essa pessoa')\n",
    "else:\n",
    "  print('Voce não conhece essa pessoa')"
   ],
   "metadata": {
    "colab": {
     "base_uri": "https://localhost:8080/"
    },
    "id": "rpgTQ-qBFsab",
    "executionInfo": {
     "status": "ok",
     "timestamp": 1661214509124,
     "user_tz": 180,
     "elapsed": 3111,
     "user": {
      "displayName": "LEANDRO ROMUALDO DA SILVA",
      "userId": "16939956719304469598"
     }
    },
    "outputId": "70e4f7cc-bded-4bdf-a62c-3f3112d73996"
   },
   "execution_count": null,
   "outputs": [
    {
     "output_type": "stream",
     "name": "stdout",
     "text": [
      "Entre com o nome de alguém:Leandro\n",
      "Voce não conhece essa pessoa\n"
     ]
    }
   ]
  },
  {
   "cell_type": "markdown",
   "source": [
    "#### Looping"
   ],
   "metadata": {
    "id": "_4iUBSREHO-W"
   }
  },
  {
   "cell_type": "code",
   "source": [
    "listas = [1,2,3,4,5,6,7,8,9,0]"
   ],
   "metadata": {
    "id": "DahcyXsIGK-b"
   },
   "execution_count": null,
   "outputs": []
  },
  {
   "cell_type": "code",
   "source": [
    "for i in listas:\n",
    "  print(i)"
   ],
   "metadata": {
    "colab": {
     "base_uri": "https://localhost:8080/"
    },
    "id": "uo0S6h3RHglh",
    "executionInfo": {
     "status": "ok",
     "timestamp": 1661214959402,
     "user_tz": 180,
     "elapsed": 314,
     "user": {
      "displayName": "LEANDRO ROMUALDO DA SILVA",
      "userId": "16939956719304469598"
     }
    },
    "outputId": "e7ca922d-8779-4ae9-d0ec-d78f9bdd6163"
   },
   "execution_count": null,
   "outputs": [
    {
     "output_type": "stream",
     "name": "stdout",
     "text": [
      "1\n",
      "2\n",
      "3\n",
      "4\n",
      "5\n",
      "6\n",
      "7\n",
      "8\n",
      "9\n",
      "0\n"
     ]
    }
   ]
  },
  {
   "cell_type": "markdown",
   "source": [
    "#### Pandas"
   ],
   "metadata": {
    "id": "o2RESx5YIc-0"
   }
  },
  {
   "cell_type": "code",
   "source": [
    "import pandas as pd"
   ],
   "metadata": {
    "id": "SsEZqtD7ICtb",
    "ExecuteTime": {
     "end_time": "2023-05-15T00:09:10.269882900Z",
     "start_time": "2023-05-15T00:09:08.413199300Z"
    }
   },
   "execution_count": 1,
   "outputs": []
  },
  {
   "cell_type": "code",
   "source": [
    "df = pd.read_csv('C:/Treinamento-Data-Science/Atividade 1/train.csv')"
   ],
   "metadata": {
    "id": "aJ3PoJ3LKMQ7",
    "ExecuteTime": {
     "end_time": "2023-05-15T00:09:22.229207Z",
     "start_time": "2023-05-15T00:09:22.190171300Z"
    }
   },
   "execution_count": 2,
   "outputs": []
  },
  {
   "cell_type": "code",
   "source": [
    "# As primeiras 4 linhas do dataset\n",
    "df.head(4) "
   ],
   "metadata": {
    "colab": {
     "base_uri": "https://localhost:8080/",
     "height": 239
    },
    "id": "CG22xtxCLqHK",
    "executionInfo": {
     "status": "ok",
     "timestamp": 1661383535036,
     "user_tz": 180,
     "elapsed": 290,
     "user": {
      "displayName": "MATHEUS DOS SANTOS OLIVEIRA",
      "userId": "09253095021711422754"
     }
    },
    "outputId": "d24b3aee-dc52-4152-e3b6-f68272f3b581",
    "ExecuteTime": {
     "end_time": "2023-05-15T00:09:24.559114600Z",
     "start_time": "2023-05-15T00:09:24.522402Z"
    }
   },
   "execution_count": 3,
   "outputs": [
    {
     "data": {
      "text/plain": "  state  account_length      area_code international_plan voice_mail_plan   \n0    OH             107  area_code_415                 no             yes  \\\n1    NJ             137  area_code_415                 no              no   \n2    OH              84  area_code_408                yes              no   \n3    OK              75  area_code_415                yes              no   \n\n   number_vmail_messages  total_day_minutes  total_day_calls   \n0                     26              161.6              123  \\\n1                      0              243.4              114   \n2                      0              299.4               71   \n3                      0              166.7              113   \n\n   total_day_charge  total_eve_minutes  total_eve_calls  total_eve_charge   \n0             27.47              195.5              103             16.62  \\\n1             41.38              121.2              110             10.30   \n2             50.90               61.9               88              5.26   \n3             28.34              148.3              122             12.61   \n\n   total_night_minutes  total_night_calls  total_night_charge   \n0                254.4                103               11.45  \\\n1                162.6                104                7.32   \n2                196.9                 89                8.86   \n3                186.9                121                8.41   \n\n   total_intl_minutes  total_intl_calls  total_intl_charge   \n0                13.7                 3               3.70  \\\n1                12.2                 5               3.29   \n2                 6.6                 7               1.78   \n3                10.1                 3               2.73   \n\n   number_customer_service_calls churn  \n0                              1    no  \n1                              0    no  \n2                              2    no  \n3                              3    no  ",
      "text/html": "<div>\n<style scoped>\n    .dataframe tbody tr th:only-of-type {\n        vertical-align: middle;\n    }\n\n    .dataframe tbody tr th {\n        vertical-align: top;\n    }\n\n    .dataframe thead th {\n        text-align: right;\n    }\n</style>\n<table border=\"1\" class=\"dataframe\">\n  <thead>\n    <tr style=\"text-align: right;\">\n      <th></th>\n      <th>state</th>\n      <th>account_length</th>\n      <th>area_code</th>\n      <th>international_plan</th>\n      <th>voice_mail_plan</th>\n      <th>number_vmail_messages</th>\n      <th>total_day_minutes</th>\n      <th>total_day_calls</th>\n      <th>total_day_charge</th>\n      <th>total_eve_minutes</th>\n      <th>total_eve_calls</th>\n      <th>total_eve_charge</th>\n      <th>total_night_minutes</th>\n      <th>total_night_calls</th>\n      <th>total_night_charge</th>\n      <th>total_intl_minutes</th>\n      <th>total_intl_calls</th>\n      <th>total_intl_charge</th>\n      <th>number_customer_service_calls</th>\n      <th>churn</th>\n    </tr>\n  </thead>\n  <tbody>\n    <tr>\n      <th>0</th>\n      <td>OH</td>\n      <td>107</td>\n      <td>area_code_415</td>\n      <td>no</td>\n      <td>yes</td>\n      <td>26</td>\n      <td>161.6</td>\n      <td>123</td>\n      <td>27.47</td>\n      <td>195.5</td>\n      <td>103</td>\n      <td>16.62</td>\n      <td>254.4</td>\n      <td>103</td>\n      <td>11.45</td>\n      <td>13.7</td>\n      <td>3</td>\n      <td>3.70</td>\n      <td>1</td>\n      <td>no</td>\n    </tr>\n    <tr>\n      <th>1</th>\n      <td>NJ</td>\n      <td>137</td>\n      <td>area_code_415</td>\n      <td>no</td>\n      <td>no</td>\n      <td>0</td>\n      <td>243.4</td>\n      <td>114</td>\n      <td>41.38</td>\n      <td>121.2</td>\n      <td>110</td>\n      <td>10.30</td>\n      <td>162.6</td>\n      <td>104</td>\n      <td>7.32</td>\n      <td>12.2</td>\n      <td>5</td>\n      <td>3.29</td>\n      <td>0</td>\n      <td>no</td>\n    </tr>\n    <tr>\n      <th>2</th>\n      <td>OH</td>\n      <td>84</td>\n      <td>area_code_408</td>\n      <td>yes</td>\n      <td>no</td>\n      <td>0</td>\n      <td>299.4</td>\n      <td>71</td>\n      <td>50.90</td>\n      <td>61.9</td>\n      <td>88</td>\n      <td>5.26</td>\n      <td>196.9</td>\n      <td>89</td>\n      <td>8.86</td>\n      <td>6.6</td>\n      <td>7</td>\n      <td>1.78</td>\n      <td>2</td>\n      <td>no</td>\n    </tr>\n    <tr>\n      <th>3</th>\n      <td>OK</td>\n      <td>75</td>\n      <td>area_code_415</td>\n      <td>yes</td>\n      <td>no</td>\n      <td>0</td>\n      <td>166.7</td>\n      <td>113</td>\n      <td>28.34</td>\n      <td>148.3</td>\n      <td>122</td>\n      <td>12.61</td>\n      <td>186.9</td>\n      <td>121</td>\n      <td>8.41</td>\n      <td>10.1</td>\n      <td>3</td>\n      <td>2.73</td>\n      <td>3</td>\n      <td>no</td>\n    </tr>\n  </tbody>\n</table>\n</div>"
     },
     "execution_count": 3,
     "metadata": {},
     "output_type": "execute_result"
    }
   ]
  },
  {
   "cell_type": "code",
   "source": [
    "# As últimas 5 linhas\n",
    "df.tail(5) "
   ],
   "metadata": {
    "colab": {
     "base_uri": "https://localhost:8080/",
     "height": 270
    },
    "id": "mWAd-0nwMLsW",
    "executionInfo": {
     "status": "ok",
     "timestamp": 1661383537486,
     "user_tz": 180,
     "elapsed": 329,
     "user": {
      "displayName": "MATHEUS DOS SANTOS OLIVEIRA",
      "userId": "09253095021711422754"
     }
    },
    "outputId": "b9c50386-d74c-4582-ae40-694e88bd1c08",
    "ExecuteTime": {
     "end_time": "2023-05-15T00:09:37.568533500Z",
     "start_time": "2023-05-15T00:09:37.522491900Z"
    }
   },
   "execution_count": 4,
   "outputs": [
    {
     "data": {
      "text/plain": "     state  account_length      area_code international_plan voice_mail_plan   \n4245    MT              83  area_code_415                 no              no  \\\n4246    WV              73  area_code_408                 no              no   \n4247    NC              75  area_code_408                 no              no   \n4248    HI              50  area_code_408                 no             yes   \n4249    VT              86  area_code_415                 no             yes   \n\n      number_vmail_messages  total_day_minutes  total_day_calls   \n4245                      0              188.3               70  \\\n4246                      0              177.9               89   \n4247                      0              170.7              101   \n4248                     40              235.7              127   \n4249                     34              129.4              102   \n\n      total_day_charge  total_eve_minutes  total_eve_calls  total_eve_charge   \n4245             32.01              243.8               88             20.72  \\\n4246             30.24              131.2               82             11.15   \n4247             29.02              193.1              126             16.41   \n4248             40.07              223.0              126             18.96   \n4249             22.00              267.1              104             22.70   \n\n      total_night_minutes  total_night_calls  total_night_charge   \n4245                213.7                 79                9.62  \\\n4246                186.2                 89                8.38   \n4247                129.1                104                5.81   \n4248                297.5                116               13.39   \n4249                154.8                100                6.97   \n\n      total_intl_minutes  total_intl_calls  total_intl_charge   \n4245                10.3                 6               2.78  \\\n4246                11.5                 6               3.11   \n4247                 6.9                 7               1.86   \n4248                 9.9                 5               2.67   \n4249                 9.3                16               2.51   \n\n      number_customer_service_calls churn  \n4245                              0    no  \n4246                              3    no  \n4247                              1    no  \n4248                              2    no  \n4249                              0    no  ",
      "text/html": "<div>\n<style scoped>\n    .dataframe tbody tr th:only-of-type {\n        vertical-align: middle;\n    }\n\n    .dataframe tbody tr th {\n        vertical-align: top;\n    }\n\n    .dataframe thead th {\n        text-align: right;\n    }\n</style>\n<table border=\"1\" class=\"dataframe\">\n  <thead>\n    <tr style=\"text-align: right;\">\n      <th></th>\n      <th>state</th>\n      <th>account_length</th>\n      <th>area_code</th>\n      <th>international_plan</th>\n      <th>voice_mail_plan</th>\n      <th>number_vmail_messages</th>\n      <th>total_day_minutes</th>\n      <th>total_day_calls</th>\n      <th>total_day_charge</th>\n      <th>total_eve_minutes</th>\n      <th>total_eve_calls</th>\n      <th>total_eve_charge</th>\n      <th>total_night_minutes</th>\n      <th>total_night_calls</th>\n      <th>total_night_charge</th>\n      <th>total_intl_minutes</th>\n      <th>total_intl_calls</th>\n      <th>total_intl_charge</th>\n      <th>number_customer_service_calls</th>\n      <th>churn</th>\n    </tr>\n  </thead>\n  <tbody>\n    <tr>\n      <th>4245</th>\n      <td>MT</td>\n      <td>83</td>\n      <td>area_code_415</td>\n      <td>no</td>\n      <td>no</td>\n      <td>0</td>\n      <td>188.3</td>\n      <td>70</td>\n      <td>32.01</td>\n      <td>243.8</td>\n      <td>88</td>\n      <td>20.72</td>\n      <td>213.7</td>\n      <td>79</td>\n      <td>9.62</td>\n      <td>10.3</td>\n      <td>6</td>\n      <td>2.78</td>\n      <td>0</td>\n      <td>no</td>\n    </tr>\n    <tr>\n      <th>4246</th>\n      <td>WV</td>\n      <td>73</td>\n      <td>area_code_408</td>\n      <td>no</td>\n      <td>no</td>\n      <td>0</td>\n      <td>177.9</td>\n      <td>89</td>\n      <td>30.24</td>\n      <td>131.2</td>\n      <td>82</td>\n      <td>11.15</td>\n      <td>186.2</td>\n      <td>89</td>\n      <td>8.38</td>\n      <td>11.5</td>\n      <td>6</td>\n      <td>3.11</td>\n      <td>3</td>\n      <td>no</td>\n    </tr>\n    <tr>\n      <th>4247</th>\n      <td>NC</td>\n      <td>75</td>\n      <td>area_code_408</td>\n      <td>no</td>\n      <td>no</td>\n      <td>0</td>\n      <td>170.7</td>\n      <td>101</td>\n      <td>29.02</td>\n      <td>193.1</td>\n      <td>126</td>\n      <td>16.41</td>\n      <td>129.1</td>\n      <td>104</td>\n      <td>5.81</td>\n      <td>6.9</td>\n      <td>7</td>\n      <td>1.86</td>\n      <td>1</td>\n      <td>no</td>\n    </tr>\n    <tr>\n      <th>4248</th>\n      <td>HI</td>\n      <td>50</td>\n      <td>area_code_408</td>\n      <td>no</td>\n      <td>yes</td>\n      <td>40</td>\n      <td>235.7</td>\n      <td>127</td>\n      <td>40.07</td>\n      <td>223.0</td>\n      <td>126</td>\n      <td>18.96</td>\n      <td>297.5</td>\n      <td>116</td>\n      <td>13.39</td>\n      <td>9.9</td>\n      <td>5</td>\n      <td>2.67</td>\n      <td>2</td>\n      <td>no</td>\n    </tr>\n    <tr>\n      <th>4249</th>\n      <td>VT</td>\n      <td>86</td>\n      <td>area_code_415</td>\n      <td>no</td>\n      <td>yes</td>\n      <td>34</td>\n      <td>129.4</td>\n      <td>102</td>\n      <td>22.00</td>\n      <td>267.1</td>\n      <td>104</td>\n      <td>22.70</td>\n      <td>154.8</td>\n      <td>100</td>\n      <td>6.97</td>\n      <td>9.3</td>\n      <td>16</td>\n      <td>2.51</td>\n      <td>0</td>\n      <td>no</td>\n    </tr>\n  </tbody>\n</table>\n</div>"
     },
     "execution_count": 4,
     "metadata": {},
     "output_type": "execute_result"
    }
   ]
  },
  {
   "cell_type": "code",
   "source": [
    "# Exemplos coletados aleatoriamente no Train\n",
    "df.sample(5)"
   ],
   "metadata": {
    "colab": {
     "base_uri": "https://localhost:8080/",
     "height": 270
    },
    "id": "ACkY816tMXrM",
    "executionInfo": {
     "status": "ok",
     "timestamp": 1661383540665,
     "user_tz": 180,
     "elapsed": 287,
     "user": {
      "displayName": "MATHEUS DOS SANTOS OLIVEIRA",
      "userId": "09253095021711422754"
     }
    },
    "outputId": "70a987ad-0b3a-4b75-fe07-53c7d45716d4",
    "ExecuteTime": {
     "end_time": "2023-05-15T00:09:46.405353300Z",
     "start_time": "2023-05-15T00:09:46.338294400Z"
    }
   },
   "execution_count": 5,
   "outputs": [
    {
     "data": {
      "text/plain": "     state  account_length      area_code international_plan voice_mail_plan   \n3271    ND              57  area_code_415                yes              no  \\\n945     NY             167  area_code_415                 no              no   \n1200    AK             141  area_code_408                 no              no   \n1803    MS              69  area_code_510                 no             yes   \n1603    KY             131  area_code_415                 no              no   \n\n      number_vmail_messages  total_day_minutes  total_day_calls   \n3271                      0              227.4               94  \\\n945                       0              166.4               85   \n1200                      0               83.2               74   \n1803                     27              268.8               78   \n1603                      0              166.5              129   \n\n      total_day_charge  total_eve_minutes  total_eve_calls  total_eve_charge   \n3271             38.66              146.4              115             12.44  \\\n945              28.29              243.2              135             20.67   \n1200             14.14              190.6              104             16.20   \n1803             45.70              246.6               89             20.96   \n1603             28.31              210.2              107             17.87   \n\n      total_night_minutes  total_night_calls  total_night_charge   \n3271                211.4                 92                9.51  \\\n945                 229.2                 95               10.31   \n1200                150.5                 79                6.77   \n1803                271.9                102               12.24   \n1603                257.2                 93               11.57   \n\n      total_intl_minutes  total_intl_calls  total_intl_charge   \n3271                 8.3                 5               2.24  \\\n945                  9.9                 5               2.67   \n1200                10.7                 7               2.89   \n1803                16.4                 3               4.43   \n1603                 9.9                 5               2.67   \n\n      number_customer_service_calls churn  \n3271                              1    no  \n945                               1    no  \n1200                              1    no  \n1803                              0    no  \n1603                              1    no  ",
      "text/html": "<div>\n<style scoped>\n    .dataframe tbody tr th:only-of-type {\n        vertical-align: middle;\n    }\n\n    .dataframe tbody tr th {\n        vertical-align: top;\n    }\n\n    .dataframe thead th {\n        text-align: right;\n    }\n</style>\n<table border=\"1\" class=\"dataframe\">\n  <thead>\n    <tr style=\"text-align: right;\">\n      <th></th>\n      <th>state</th>\n      <th>account_length</th>\n      <th>area_code</th>\n      <th>international_plan</th>\n      <th>voice_mail_plan</th>\n      <th>number_vmail_messages</th>\n      <th>total_day_minutes</th>\n      <th>total_day_calls</th>\n      <th>total_day_charge</th>\n      <th>total_eve_minutes</th>\n      <th>total_eve_calls</th>\n      <th>total_eve_charge</th>\n      <th>total_night_minutes</th>\n      <th>total_night_calls</th>\n      <th>total_night_charge</th>\n      <th>total_intl_minutes</th>\n      <th>total_intl_calls</th>\n      <th>total_intl_charge</th>\n      <th>number_customer_service_calls</th>\n      <th>churn</th>\n    </tr>\n  </thead>\n  <tbody>\n    <tr>\n      <th>3271</th>\n      <td>ND</td>\n      <td>57</td>\n      <td>area_code_415</td>\n      <td>yes</td>\n      <td>no</td>\n      <td>0</td>\n      <td>227.4</td>\n      <td>94</td>\n      <td>38.66</td>\n      <td>146.4</td>\n      <td>115</td>\n      <td>12.44</td>\n      <td>211.4</td>\n      <td>92</td>\n      <td>9.51</td>\n      <td>8.3</td>\n      <td>5</td>\n      <td>2.24</td>\n      <td>1</td>\n      <td>no</td>\n    </tr>\n    <tr>\n      <th>945</th>\n      <td>NY</td>\n      <td>167</td>\n      <td>area_code_415</td>\n      <td>no</td>\n      <td>no</td>\n      <td>0</td>\n      <td>166.4</td>\n      <td>85</td>\n      <td>28.29</td>\n      <td>243.2</td>\n      <td>135</td>\n      <td>20.67</td>\n      <td>229.2</td>\n      <td>95</td>\n      <td>10.31</td>\n      <td>9.9</td>\n      <td>5</td>\n      <td>2.67</td>\n      <td>1</td>\n      <td>no</td>\n    </tr>\n    <tr>\n      <th>1200</th>\n      <td>AK</td>\n      <td>141</td>\n      <td>area_code_408</td>\n      <td>no</td>\n      <td>no</td>\n      <td>0</td>\n      <td>83.2</td>\n      <td>74</td>\n      <td>14.14</td>\n      <td>190.6</td>\n      <td>104</td>\n      <td>16.20</td>\n      <td>150.5</td>\n      <td>79</td>\n      <td>6.77</td>\n      <td>10.7</td>\n      <td>7</td>\n      <td>2.89</td>\n      <td>1</td>\n      <td>no</td>\n    </tr>\n    <tr>\n      <th>1803</th>\n      <td>MS</td>\n      <td>69</td>\n      <td>area_code_510</td>\n      <td>no</td>\n      <td>yes</td>\n      <td>27</td>\n      <td>268.8</td>\n      <td>78</td>\n      <td>45.70</td>\n      <td>246.6</td>\n      <td>89</td>\n      <td>20.96</td>\n      <td>271.9</td>\n      <td>102</td>\n      <td>12.24</td>\n      <td>16.4</td>\n      <td>3</td>\n      <td>4.43</td>\n      <td>0</td>\n      <td>no</td>\n    </tr>\n    <tr>\n      <th>1603</th>\n      <td>KY</td>\n      <td>131</td>\n      <td>area_code_415</td>\n      <td>no</td>\n      <td>no</td>\n      <td>0</td>\n      <td>166.5</td>\n      <td>129</td>\n      <td>28.31</td>\n      <td>210.2</td>\n      <td>107</td>\n      <td>17.87</td>\n      <td>257.2</td>\n      <td>93</td>\n      <td>11.57</td>\n      <td>9.9</td>\n      <td>5</td>\n      <td>2.67</td>\n      <td>1</td>\n      <td>no</td>\n    </tr>\n  </tbody>\n</table>\n</div>"
     },
     "execution_count": 5,
     "metadata": {},
     "output_type": "execute_result"
    }
   ]
  },
  {
   "cell_type": "code",
   "source": [
    "df.info()"
   ],
   "metadata": {
    "colab": {
     "base_uri": "https://localhost:8080/"
    },
    "id": "o2ZlhdYWMhJA",
    "executionInfo": {
     "status": "ok",
     "timestamp": 1661216194016,
     "user_tz": 180,
     "elapsed": 340,
     "user": {
      "displayName": "LEANDRO ROMUALDO DA SILVA",
      "userId": "16939956719304469598"
     }
    },
    "outputId": "755c5f81-8a14-4691-f24b-3397eababc6c",
    "ExecuteTime": {
     "end_time": "2023-05-15T00:09:53.512001Z",
     "start_time": "2023-05-15T00:09:53.459954800Z"
    }
   },
   "execution_count": 6,
   "outputs": [
    {
     "name": "stdout",
     "output_type": "stream",
     "text": [
      "<class 'pandas.core.frame.DataFrame'>\n",
      "RangeIndex: 4250 entries, 0 to 4249\n",
      "Data columns (total 20 columns):\n",
      " #   Column                         Non-Null Count  Dtype  \n",
      "---  ------                         --------------  -----  \n",
      " 0   state                          4250 non-null   object \n",
      " 1   account_length                 4250 non-null   int64  \n",
      " 2   area_code                      4250 non-null   object \n",
      " 3   international_plan             4250 non-null   object \n",
      " 4   voice_mail_plan                4250 non-null   object \n",
      " 5   number_vmail_messages          4250 non-null   int64  \n",
      " 6   total_day_minutes              4250 non-null   float64\n",
      " 7   total_day_calls                4250 non-null   int64  \n",
      " 8   total_day_charge               4250 non-null   float64\n",
      " 9   total_eve_minutes              4250 non-null   float64\n",
      " 10  total_eve_calls                4250 non-null   int64  \n",
      " 11  total_eve_charge               4250 non-null   float64\n",
      " 12  total_night_minutes            4250 non-null   float64\n",
      " 13  total_night_calls              4250 non-null   int64  \n",
      " 14  total_night_charge             4250 non-null   float64\n",
      " 15  total_intl_minutes             4250 non-null   float64\n",
      " 16  total_intl_calls               4250 non-null   int64  \n",
      " 17  total_intl_charge              4250 non-null   float64\n",
      " 18  number_customer_service_calls  4250 non-null   int64  \n",
      " 19  churn                          4250 non-null   object \n",
      "dtypes: float64(8), int64(7), object(5)\n",
      "memory usage: 664.2+ KB\n"
     ]
    }
   ]
  },
  {
   "cell_type": "code",
   "source": [
    "# Estatisticas do dataset\n",
    "df.describe(include='O') "
   ],
   "metadata": {
    "colab": {
     "base_uri": "https://localhost:8080/",
     "height": 175
    },
    "id": "zeNXORULM3py",
    "executionInfo": {
     "status": "ok",
     "timestamp": 1661383583632,
     "user_tz": 180,
     "elapsed": 307,
     "user": {
      "displayName": "MATHEUS DOS SANTOS OLIVEIRA",
      "userId": "09253095021711422754"
     }
    },
    "outputId": "aa2f7427-57e6-432f-8f8a-84761de88738",
    "ExecuteTime": {
     "end_time": "2023-05-15T00:10:08.987257300Z",
     "start_time": "2023-05-15T00:10:08.909185500Z"
    }
   },
   "execution_count": 7,
   "outputs": [
    {
     "data": {
      "text/plain": "       state      area_code international_plan voice_mail_plan churn\ncount   4250           4250               4250            4250  4250\nunique    51              3                  2               2     2\ntop       WV  area_code_415                 no              no    no\nfreq     139           2108               3854            3138  3652",
      "text/html": "<div>\n<style scoped>\n    .dataframe tbody tr th:only-of-type {\n        vertical-align: middle;\n    }\n\n    .dataframe tbody tr th {\n        vertical-align: top;\n    }\n\n    .dataframe thead th {\n        text-align: right;\n    }\n</style>\n<table border=\"1\" class=\"dataframe\">\n  <thead>\n    <tr style=\"text-align: right;\">\n      <th></th>\n      <th>state</th>\n      <th>area_code</th>\n      <th>international_plan</th>\n      <th>voice_mail_plan</th>\n      <th>churn</th>\n    </tr>\n  </thead>\n  <tbody>\n    <tr>\n      <th>count</th>\n      <td>4250</td>\n      <td>4250</td>\n      <td>4250</td>\n      <td>4250</td>\n      <td>4250</td>\n    </tr>\n    <tr>\n      <th>unique</th>\n      <td>51</td>\n      <td>3</td>\n      <td>2</td>\n      <td>2</td>\n      <td>2</td>\n    </tr>\n    <tr>\n      <th>top</th>\n      <td>WV</td>\n      <td>area_code_415</td>\n      <td>no</td>\n      <td>no</td>\n      <td>no</td>\n    </tr>\n    <tr>\n      <th>freq</th>\n      <td>139</td>\n      <td>2108</td>\n      <td>3854</td>\n      <td>3138</td>\n      <td>3652</td>\n    </tr>\n  </tbody>\n</table>\n</div>"
     },
     "execution_count": 7,
     "metadata": {},
     "output_type": "execute_result"
    }
   ]
  },
  {
   "cell_type": "code",
   "source": [
    "# Filtrando dataset \n",
    "cols = ['churn', 'state', 'account_length', 'area_code', 'international_plan']\n",
    "df[cols]"
   ],
   "metadata": {
    "id": "ahIbKe4dGB24",
    "colab": {
     "base_uri": "https://localhost:8080/",
     "height": 424
    },
    "executionInfo": {
     "status": "ok",
     "timestamp": 1661383719477,
     "user_tz": 180,
     "elapsed": 277,
     "user": {
      "displayName": "MATHEUS DOS SANTOS OLIVEIRA",
      "userId": "09253095021711422754"
     }
    },
    "outputId": "d3fc1f74-12a7-4329-c967-e513675430ad",
    "ExecuteTime": {
     "end_time": "2023-05-15T00:10:33.377531800Z",
     "start_time": "2023-05-15T00:10:33.323484Z"
    }
   },
   "execution_count": 8,
   "outputs": [
    {
     "data": {
      "text/plain": "     churn state  account_length      area_code international_plan\n0       no    OH             107  area_code_415                 no\n1       no    NJ             137  area_code_415                 no\n2       no    OH              84  area_code_408                yes\n3       no    OK              75  area_code_415                yes\n4       no    MA             121  area_code_510                 no\n...    ...   ...             ...            ...                ...\n4245    no    MT              83  area_code_415                 no\n4246    no    WV              73  area_code_408                 no\n4247    no    NC              75  area_code_408                 no\n4248    no    HI              50  area_code_408                 no\n4249    no    VT              86  area_code_415                 no\n\n[4250 rows x 5 columns]",
      "text/html": "<div>\n<style scoped>\n    .dataframe tbody tr th:only-of-type {\n        vertical-align: middle;\n    }\n\n    .dataframe tbody tr th {\n        vertical-align: top;\n    }\n\n    .dataframe thead th {\n        text-align: right;\n    }\n</style>\n<table border=\"1\" class=\"dataframe\">\n  <thead>\n    <tr style=\"text-align: right;\">\n      <th></th>\n      <th>churn</th>\n      <th>state</th>\n      <th>account_length</th>\n      <th>area_code</th>\n      <th>international_plan</th>\n    </tr>\n  </thead>\n  <tbody>\n    <tr>\n      <th>0</th>\n      <td>no</td>\n      <td>OH</td>\n      <td>107</td>\n      <td>area_code_415</td>\n      <td>no</td>\n    </tr>\n    <tr>\n      <th>1</th>\n      <td>no</td>\n      <td>NJ</td>\n      <td>137</td>\n      <td>area_code_415</td>\n      <td>no</td>\n    </tr>\n    <tr>\n      <th>2</th>\n      <td>no</td>\n      <td>OH</td>\n      <td>84</td>\n      <td>area_code_408</td>\n      <td>yes</td>\n    </tr>\n    <tr>\n      <th>3</th>\n      <td>no</td>\n      <td>OK</td>\n      <td>75</td>\n      <td>area_code_415</td>\n      <td>yes</td>\n    </tr>\n    <tr>\n      <th>4</th>\n      <td>no</td>\n      <td>MA</td>\n      <td>121</td>\n      <td>area_code_510</td>\n      <td>no</td>\n    </tr>\n    <tr>\n      <th>...</th>\n      <td>...</td>\n      <td>...</td>\n      <td>...</td>\n      <td>...</td>\n      <td>...</td>\n    </tr>\n    <tr>\n      <th>4245</th>\n      <td>no</td>\n      <td>MT</td>\n      <td>83</td>\n      <td>area_code_415</td>\n      <td>no</td>\n    </tr>\n    <tr>\n      <th>4246</th>\n      <td>no</td>\n      <td>WV</td>\n      <td>73</td>\n      <td>area_code_408</td>\n      <td>no</td>\n    </tr>\n    <tr>\n      <th>4247</th>\n      <td>no</td>\n      <td>NC</td>\n      <td>75</td>\n      <td>area_code_408</td>\n      <td>no</td>\n    </tr>\n    <tr>\n      <th>4248</th>\n      <td>no</td>\n      <td>HI</td>\n      <td>50</td>\n      <td>area_code_408</td>\n      <td>no</td>\n    </tr>\n    <tr>\n      <th>4249</th>\n      <td>no</td>\n      <td>VT</td>\n      <td>86</td>\n      <td>area_code_415</td>\n      <td>no</td>\n    </tr>\n  </tbody>\n</table>\n<p>4250 rows × 5 columns</p>\n</div>"
     },
     "execution_count": 8,
     "metadata": {},
     "output_type": "execute_result"
    }
   ]
  },
  {
   "cell_type": "code",
   "source": [
    "df[cols].loc[df['account_length'] >= 50]"
   ],
   "metadata": {
    "colab": {
     "base_uri": "https://localhost:8080/",
     "height": 424
    },
    "id": "me-9NAVYMVKE",
    "executionInfo": {
     "status": "ok",
     "timestamp": 1661383840958,
     "user_tz": 180,
     "elapsed": 281,
     "user": {
      "displayName": "MATHEUS DOS SANTOS OLIVEIRA",
      "userId": "09253095021711422754"
     }
    },
    "outputId": "02b13dee-9b6f-4373-ed80-cc0d14ccb551",
    "ExecuteTime": {
     "end_time": "2023-05-15T00:10:56.193087Z",
     "start_time": "2023-05-15T00:10:56.129029200Z"
    }
   },
   "execution_count": 9,
   "outputs": [
    {
     "data": {
      "text/plain": "     churn state  account_length      area_code international_plan\n0       no    OH             107  area_code_415                 no\n1       no    NJ             137  area_code_415                 no\n2       no    OH              84  area_code_408                yes\n3       no    OK              75  area_code_415                yes\n4       no    MA             121  area_code_510                 no\n...    ...   ...             ...            ...                ...\n4245    no    MT              83  area_code_415                 no\n4246    no    WV              73  area_code_408                 no\n4247    no    NC              75  area_code_408                 no\n4248    no    HI              50  area_code_408                 no\n4249    no    VT              86  area_code_415                 no\n\n[3821 rows x 5 columns]",
      "text/html": "<div>\n<style scoped>\n    .dataframe tbody tr th:only-of-type {\n        vertical-align: middle;\n    }\n\n    .dataframe tbody tr th {\n        vertical-align: top;\n    }\n\n    .dataframe thead th {\n        text-align: right;\n    }\n</style>\n<table border=\"1\" class=\"dataframe\">\n  <thead>\n    <tr style=\"text-align: right;\">\n      <th></th>\n      <th>churn</th>\n      <th>state</th>\n      <th>account_length</th>\n      <th>area_code</th>\n      <th>international_plan</th>\n    </tr>\n  </thead>\n  <tbody>\n    <tr>\n      <th>0</th>\n      <td>no</td>\n      <td>OH</td>\n      <td>107</td>\n      <td>area_code_415</td>\n      <td>no</td>\n    </tr>\n    <tr>\n      <th>1</th>\n      <td>no</td>\n      <td>NJ</td>\n      <td>137</td>\n      <td>area_code_415</td>\n      <td>no</td>\n    </tr>\n    <tr>\n      <th>2</th>\n      <td>no</td>\n      <td>OH</td>\n      <td>84</td>\n      <td>area_code_408</td>\n      <td>yes</td>\n    </tr>\n    <tr>\n      <th>3</th>\n      <td>no</td>\n      <td>OK</td>\n      <td>75</td>\n      <td>area_code_415</td>\n      <td>yes</td>\n    </tr>\n    <tr>\n      <th>4</th>\n      <td>no</td>\n      <td>MA</td>\n      <td>121</td>\n      <td>area_code_510</td>\n      <td>no</td>\n    </tr>\n    <tr>\n      <th>...</th>\n      <td>...</td>\n      <td>...</td>\n      <td>...</td>\n      <td>...</td>\n      <td>...</td>\n    </tr>\n    <tr>\n      <th>4245</th>\n      <td>no</td>\n      <td>MT</td>\n      <td>83</td>\n      <td>area_code_415</td>\n      <td>no</td>\n    </tr>\n    <tr>\n      <th>4246</th>\n      <td>no</td>\n      <td>WV</td>\n      <td>73</td>\n      <td>area_code_408</td>\n      <td>no</td>\n    </tr>\n    <tr>\n      <th>4247</th>\n      <td>no</td>\n      <td>NC</td>\n      <td>75</td>\n      <td>area_code_408</td>\n      <td>no</td>\n    </tr>\n    <tr>\n      <th>4248</th>\n      <td>no</td>\n      <td>HI</td>\n      <td>50</td>\n      <td>area_code_408</td>\n      <td>no</td>\n    </tr>\n    <tr>\n      <th>4249</th>\n      <td>no</td>\n      <td>VT</td>\n      <td>86</td>\n      <td>area_code_415</td>\n      <td>no</td>\n    </tr>\n  </tbody>\n</table>\n<p>3821 rows × 5 columns</p>\n</div>"
     },
     "execution_count": 9,
     "metadata": {},
     "output_type": "execute_result"
    }
   ]
  },
  {
   "cell_type": "code",
   "source": [
    "df.loc[(df['account_length'] >= 50) & (df['total_day_minutes'] == 0)]"
   ],
   "metadata": {
    "colab": {
     "base_uri": "https://localhost:8080/",
     "height": 176
    },
    "id": "S7gXaWiVM3-4",
    "executionInfo": {
     "status": "ok",
     "timestamp": 1661384040913,
     "user_tz": 180,
     "elapsed": 301,
     "user": {
      "displayName": "MATHEUS DOS SANTOS OLIVEIRA",
      "userId": "09253095021711422754"
     }
    },
    "outputId": "48e52815-2072-443f-f3b9-4b045eaacd16",
    "ExecuteTime": {
     "end_time": "2023-05-15T00:11:02.820378200Z",
     "start_time": "2023-05-15T00:11:02.775335300Z"
    }
   },
   "execution_count": 10,
   "outputs": [
    {
     "data": {
      "text/plain": "     state  account_length      area_code international_plan voice_mail_plan   \n1138    SD              98  area_code_415                 no              no  \\\n1183    VT             101  area_code_510                 no              no   \n\n      number_vmail_messages  total_day_minutes  total_day_calls   \n1138                      0                0.0                0  \\\n1183                      0                0.0                0   \n\n      total_day_charge  total_eve_minutes  total_eve_calls  total_eve_charge   \n1138               0.0              159.6              130             13.57  \\\n1183               0.0              192.1              119             16.33   \n\n      total_night_minutes  total_night_calls  total_night_charge   \n1138                167.1                 88                7.52  \\\n1183                168.8                 95                7.60   \n\n      total_intl_minutes  total_intl_calls  total_intl_charge   \n1138                 6.8                 1               1.84  \\\n1183                 7.2                 4               1.94   \n\n      number_customer_service_calls churn  \n1138                              4   yes  \n1183                              1    no  ",
      "text/html": "<div>\n<style scoped>\n    .dataframe tbody tr th:only-of-type {\n        vertical-align: middle;\n    }\n\n    .dataframe tbody tr th {\n        vertical-align: top;\n    }\n\n    .dataframe thead th {\n        text-align: right;\n    }\n</style>\n<table border=\"1\" class=\"dataframe\">\n  <thead>\n    <tr style=\"text-align: right;\">\n      <th></th>\n      <th>state</th>\n      <th>account_length</th>\n      <th>area_code</th>\n      <th>international_plan</th>\n      <th>voice_mail_plan</th>\n      <th>number_vmail_messages</th>\n      <th>total_day_minutes</th>\n      <th>total_day_calls</th>\n      <th>total_day_charge</th>\n      <th>total_eve_minutes</th>\n      <th>total_eve_calls</th>\n      <th>total_eve_charge</th>\n      <th>total_night_minutes</th>\n      <th>total_night_calls</th>\n      <th>total_night_charge</th>\n      <th>total_intl_minutes</th>\n      <th>total_intl_calls</th>\n      <th>total_intl_charge</th>\n      <th>number_customer_service_calls</th>\n      <th>churn</th>\n    </tr>\n  </thead>\n  <tbody>\n    <tr>\n      <th>1138</th>\n      <td>SD</td>\n      <td>98</td>\n      <td>area_code_415</td>\n      <td>no</td>\n      <td>no</td>\n      <td>0</td>\n      <td>0.0</td>\n      <td>0</td>\n      <td>0.0</td>\n      <td>159.6</td>\n      <td>130</td>\n      <td>13.57</td>\n      <td>167.1</td>\n      <td>88</td>\n      <td>7.52</td>\n      <td>6.8</td>\n      <td>1</td>\n      <td>1.84</td>\n      <td>4</td>\n      <td>yes</td>\n    </tr>\n    <tr>\n      <th>1183</th>\n      <td>VT</td>\n      <td>101</td>\n      <td>area_code_510</td>\n      <td>no</td>\n      <td>no</td>\n      <td>0</td>\n      <td>0.0</td>\n      <td>0</td>\n      <td>0.0</td>\n      <td>192.1</td>\n      <td>119</td>\n      <td>16.33</td>\n      <td>168.8</td>\n      <td>95</td>\n      <td>7.60</td>\n      <td>7.2</td>\n      <td>4</td>\n      <td>1.94</td>\n      <td>1</td>\n      <td>no</td>\n    </tr>\n  </tbody>\n</table>\n</div>"
     },
     "execution_count": 10,
     "metadata": {},
     "output_type": "execute_result"
    }
   ]
  },
  {
   "cell_type": "markdown",
   "source": [
    "## Merge and Concat Datasets (Usar para fazer o 1° exercício)"
   ],
   "metadata": {
    "id": "JJGVuGLLNPfw"
   }
  },
  {
   "cell_type": "code",
   "source": [
    "#Importar a biblioteca PANDA\n",
    "import pandas as pd"
   ],
   "metadata": {
    "id": "NSDYMK1aUCEX"
   },
   "execution_count": null,
   "outputs": []
  },
  {
   "cell_type": "code",
   "source": [
    "#Não usar este\n",
    "df1 = df.sample(1000)\n",
    "df2 = df.sample(200)"
   ],
   "metadata": {
    "id": "lMGik7_oNXgK",
    "ExecuteTime": {
     "end_time": "2023-05-15T00:12:36.546642900Z",
     "start_time": "2023-05-15T00:12:36.528625800Z"
    }
   },
   "execution_count": 12,
   "outputs": []
  },
  {
   "cell_type": "code",
   "source": [
    "#Exemplo mais simples do professor\n",
    "#Leitura do arquivo e do dataset\n",
    "df1 = pd.read_csv('C:/Treinamento-Data-Science/Atividade 1/train.csv')\n",
    "df2 = pd.read_csv('C:/Treinamento-Data-Science/Atividade 1/train.csv')"
   ],
   "metadata": {
    "id": "IhklTdn_Rw9n",
    "ExecuteTime": {
     "end_time": "2023-05-15T00:13:25.482360700Z",
     "start_time": "2023-05-15T00:13:25.414299800Z"
    }
   },
   "execution_count": 14,
   "outputs": []
  },
  {
   "cell_type": "code",
   "source": [
    "#Exemplo mais simples do professor\n",
    "#Saber o tamanho do dataset\n",
    "df1.shape, df2.shape"
   ],
   "metadata": {
    "colab": {
     "base_uri": "https://localhost:8080/"
    },
    "id": "US2bT7RXSImw",
    "executionInfo": {
     "status": "ok",
     "timestamp": 1661385411463,
     "user_tz": 180,
     "elapsed": 267,
     "user": {
      "displayName": "MATHEUS DOS SANTOS OLIVEIRA",
      "userId": "09253095021711422754"
     }
    },
    "outputId": "dc772975-d3e0-4d65-cba0-a601127cbfee",
    "ExecuteTime": {
     "end_time": "2023-05-15T00:13:32.222058100Z",
     "start_time": "2023-05-15T00:13:32.212049200Z"
    }
   },
   "execution_count": 15,
   "outputs": [
    {
     "data": {
      "text/plain": "((4250, 20), (4250, 20))"
     },
     "execution_count": 15,
     "metadata": {},
     "output_type": "execute_result"
    }
   ]
  },
  {
   "cell_type": "code",
   "source": [
    "# Cria uma lista chamada \"frames\" que contém dois dataframes, \"df1\" e \"df2\".\n",
    "frames = [df1, df2]"
   ],
   "metadata": {
    "id": "H-ghG9CJOXyD",
    "ExecuteTime": {
     "end_time": "2023-05-15T00:14:31.846742300Z",
     "start_time": "2023-05-15T00:14:31.827724600Z"
    }
   },
   "execution_count": 17,
   "outputs": []
  },
  {
   "cell_type": "code",
   "source": [
    "# Mostra a quantidade de colunas e registros do Dataset\n",
    "df1.shape, df2.shape"
   ],
   "metadata": {
    "colab": {
     "base_uri": "https://localhost:8080/"
    },
    "id": "BaSJwXdxOgP6",
    "executionInfo": {
     "status": "ok",
     "timestamp": 1661385439427,
     "user_tz": 180,
     "elapsed": 293,
     "user": {
      "displayName": "MATHEUS DOS SANTOS OLIVEIRA",
      "userId": "09253095021711422754"
     }
    },
    "outputId": "3cc6d283-4652-4979-99db-91ed7276cfd8",
    "ExecuteTime": {
     "end_time": "2023-05-15T00:14:57.782591800Z",
     "start_time": "2023-05-15T00:14:57.773583200Z"
    }
   },
   "execution_count": 18,
   "outputs": [
    {
     "data": {
      "text/plain": "((4250, 20), (4250, 20))"
     },
     "execution_count": 18,
     "metadata": {},
     "output_type": "execute_result"
    }
   ]
  },
  {
   "cell_type": "code",
   "source": [
    "# Exibe duas primeiras linhas do dataset DF1\n",
    "df1.head(2)"
   ],
   "metadata": {
    "colab": {
     "base_uri": "https://localhost:8080/",
     "height": 176
    },
    "id": "E7ti8AgXOlQr",
    "executionInfo": {
     "status": "ok",
     "timestamp": 1661385442234,
     "user_tz": 180,
     "elapsed": 289,
     "user": {
      "displayName": "MATHEUS DOS SANTOS OLIVEIRA",
      "userId": "09253095021711422754"
     }
    },
    "outputId": "d5944b46-a7a2-43e8-a2ec-db76fbf4151a",
    "ExecuteTime": {
     "end_time": "2023-05-15T00:15:00.074177200Z",
     "start_time": "2023-05-15T00:15:00.019127300Z"
    }
   },
   "execution_count": 19,
   "outputs": [
    {
     "data": {
      "text/plain": "  state  account_length      area_code international_plan voice_mail_plan   \n0    OH             107  area_code_415                 no             yes  \\\n1    NJ             137  area_code_415                 no              no   \n\n   number_vmail_messages  total_day_minutes  total_day_calls   \n0                     26              161.6              123  \\\n1                      0              243.4              114   \n\n   total_day_charge  total_eve_minutes  total_eve_calls  total_eve_charge   \n0             27.47              195.5              103             16.62  \\\n1             41.38              121.2              110             10.30   \n\n   total_night_minutes  total_night_calls  total_night_charge   \n0                254.4                103               11.45  \\\n1                162.6                104                7.32   \n\n   total_intl_minutes  total_intl_calls  total_intl_charge   \n0                13.7                 3               3.70  \\\n1                12.2                 5               3.29   \n\n   number_customer_service_calls churn  \n0                              1    no  \n1                              0    no  ",
      "text/html": "<div>\n<style scoped>\n    .dataframe tbody tr th:only-of-type {\n        vertical-align: middle;\n    }\n\n    .dataframe tbody tr th {\n        vertical-align: top;\n    }\n\n    .dataframe thead th {\n        text-align: right;\n    }\n</style>\n<table border=\"1\" class=\"dataframe\">\n  <thead>\n    <tr style=\"text-align: right;\">\n      <th></th>\n      <th>state</th>\n      <th>account_length</th>\n      <th>area_code</th>\n      <th>international_plan</th>\n      <th>voice_mail_plan</th>\n      <th>number_vmail_messages</th>\n      <th>total_day_minutes</th>\n      <th>total_day_calls</th>\n      <th>total_day_charge</th>\n      <th>total_eve_minutes</th>\n      <th>total_eve_calls</th>\n      <th>total_eve_charge</th>\n      <th>total_night_minutes</th>\n      <th>total_night_calls</th>\n      <th>total_night_charge</th>\n      <th>total_intl_minutes</th>\n      <th>total_intl_calls</th>\n      <th>total_intl_charge</th>\n      <th>number_customer_service_calls</th>\n      <th>churn</th>\n    </tr>\n  </thead>\n  <tbody>\n    <tr>\n      <th>0</th>\n      <td>OH</td>\n      <td>107</td>\n      <td>area_code_415</td>\n      <td>no</td>\n      <td>yes</td>\n      <td>26</td>\n      <td>161.6</td>\n      <td>123</td>\n      <td>27.47</td>\n      <td>195.5</td>\n      <td>103</td>\n      <td>16.62</td>\n      <td>254.4</td>\n      <td>103</td>\n      <td>11.45</td>\n      <td>13.7</td>\n      <td>3</td>\n      <td>3.70</td>\n      <td>1</td>\n      <td>no</td>\n    </tr>\n    <tr>\n      <th>1</th>\n      <td>NJ</td>\n      <td>137</td>\n      <td>area_code_415</td>\n      <td>no</td>\n      <td>no</td>\n      <td>0</td>\n      <td>243.4</td>\n      <td>114</td>\n      <td>41.38</td>\n      <td>121.2</td>\n      <td>110</td>\n      <td>10.30</td>\n      <td>162.6</td>\n      <td>104</td>\n      <td>7.32</td>\n      <td>12.2</td>\n      <td>5</td>\n      <td>3.29</td>\n      <td>0</td>\n      <td>no</td>\n    </tr>\n  </tbody>\n</table>\n</div>"
     },
     "execution_count": 19,
     "metadata": {},
     "output_type": "execute_result"
    }
   ]
  },
  {
   "cell_type": "code",
   "source": [
    "# Exibe duas primeiras linhas do dataset DF2\n",
    "df2.head(2)"
   ],
   "metadata": {
    "colab": {
     "base_uri": "https://localhost:8080/",
     "height": 176
    },
    "id": "Bp0K83NwOqaR",
    "executionInfo": {
     "status": "ok",
     "timestamp": 1661385444195,
     "user_tz": 180,
     "elapsed": 3,
     "user": {
      "displayName": "MATHEUS DOS SANTOS OLIVEIRA",
      "userId": "09253095021711422754"
     }
    },
    "outputId": "6b215c0a-0140-4ab4-9ae6-86f3d1b078d7",
    "ExecuteTime": {
     "end_time": "2023-05-15T00:15:52.756502500Z",
     "start_time": "2023-05-15T00:15:52.713463700Z"
    }
   },
   "execution_count": 20,
   "outputs": [
    {
     "data": {
      "text/plain": "  state  account_length      area_code international_plan voice_mail_plan   \n0    OH             107  area_code_415                 no             yes  \\\n1    NJ             137  area_code_415                 no              no   \n\n   number_vmail_messages  total_day_minutes  total_day_calls   \n0                     26              161.6              123  \\\n1                      0              243.4              114   \n\n   total_day_charge  total_eve_minutes  total_eve_calls  total_eve_charge   \n0             27.47              195.5              103             16.62  \\\n1             41.38              121.2              110             10.30   \n\n   total_night_minutes  total_night_calls  total_night_charge   \n0                254.4                103               11.45  \\\n1                162.6                104                7.32   \n\n   total_intl_minutes  total_intl_calls  total_intl_charge   \n0                13.7                 3               3.70  \\\n1                12.2                 5               3.29   \n\n   number_customer_service_calls churn  \n0                              1    no  \n1                              0    no  ",
      "text/html": "<div>\n<style scoped>\n    .dataframe tbody tr th:only-of-type {\n        vertical-align: middle;\n    }\n\n    .dataframe tbody tr th {\n        vertical-align: top;\n    }\n\n    .dataframe thead th {\n        text-align: right;\n    }\n</style>\n<table border=\"1\" class=\"dataframe\">\n  <thead>\n    <tr style=\"text-align: right;\">\n      <th></th>\n      <th>state</th>\n      <th>account_length</th>\n      <th>area_code</th>\n      <th>international_plan</th>\n      <th>voice_mail_plan</th>\n      <th>number_vmail_messages</th>\n      <th>total_day_minutes</th>\n      <th>total_day_calls</th>\n      <th>total_day_charge</th>\n      <th>total_eve_minutes</th>\n      <th>total_eve_calls</th>\n      <th>total_eve_charge</th>\n      <th>total_night_minutes</th>\n      <th>total_night_calls</th>\n      <th>total_night_charge</th>\n      <th>total_intl_minutes</th>\n      <th>total_intl_calls</th>\n      <th>total_intl_charge</th>\n      <th>number_customer_service_calls</th>\n      <th>churn</th>\n    </tr>\n  </thead>\n  <tbody>\n    <tr>\n      <th>0</th>\n      <td>OH</td>\n      <td>107</td>\n      <td>area_code_415</td>\n      <td>no</td>\n      <td>yes</td>\n      <td>26</td>\n      <td>161.6</td>\n      <td>123</td>\n      <td>27.47</td>\n      <td>195.5</td>\n      <td>103</td>\n      <td>16.62</td>\n      <td>254.4</td>\n      <td>103</td>\n      <td>11.45</td>\n      <td>13.7</td>\n      <td>3</td>\n      <td>3.70</td>\n      <td>1</td>\n      <td>no</td>\n    </tr>\n    <tr>\n      <th>1</th>\n      <td>NJ</td>\n      <td>137</td>\n      <td>area_code_415</td>\n      <td>no</td>\n      <td>no</td>\n      <td>0</td>\n      <td>243.4</td>\n      <td>114</td>\n      <td>41.38</td>\n      <td>121.2</td>\n      <td>110</td>\n      <td>10.30</td>\n      <td>162.6</td>\n      <td>104</td>\n      <td>7.32</td>\n      <td>12.2</td>\n      <td>5</td>\n      <td>3.29</td>\n      <td>0</td>\n      <td>no</td>\n    </tr>\n  </tbody>\n</table>\n</div>"
     },
     "execution_count": 20,
     "metadata": {},
     "output_type": "execute_result"
    }
   ]
  },
  {
   "cell_type": "code",
   "source": [
    "# Lista com os nomes dos datasets que serão concatenados\n",
    "frames = [df1, df2]"
   ],
   "metadata": {
    "id": "NthUMk2HO0No",
    "ExecuteTime": {
     "end_time": "2023-05-15T00:17:47.594021600Z",
     "start_time": "2023-05-15T00:17:47.572003Z"
    }
   },
   "execution_count": 21,
   "outputs": []
  },
  {
   "cell_type": "code",
   "source": [
    "# pd.concat (Usar esse comando para concatenar)\n",
    "df_full = pd.concat(frames)\n",
    "df_full.shape"
   ],
   "metadata": {
    "colab": {
     "base_uri": "https://localhost:8080/"
    },
    "id": "TsZ9OuhZPBOU",
    "executionInfo": {
     "status": "ok",
     "timestamp": 1661385494240,
     "user_tz": 180,
     "elapsed": 3,
     "user": {
      "displayName": "MATHEUS DOS SANTOS OLIVEIRA",
      "userId": "09253095021711422754"
     }
    },
    "outputId": "e81753c8-e09a-4196-8628-a7da447f671f",
    "ExecuteTime": {
     "end_time": "2023-05-15T00:17:51.420292400Z",
     "start_time": "2023-05-15T00:17:51.376252400Z"
    }
   },
   "execution_count": 22,
   "outputs": [
    {
     "data": {
      "text/plain": "(8500, 20)"
     },
     "execution_count": 22,
     "metadata": {},
     "output_type": "execute_result"
    }
   ]
  },
  {
   "cell_type": "markdown",
   "source": [
    "#### Não entra na atividade"
   ],
   "metadata": {
    "id": "q_ljsHlGXP66"
   }
  },
  {
   "cell_type": "code",
   "source": [
    "# Escreve o dataset df_full num arquivo CSV\n",
    "df_full.to_csv('C:/Treinamento-Data-Science/Atividade 1/train.csv')"
   ],
   "metadata": {
    "id": "_xTB6MXPStiw",
    "ExecuteTime": {
     "end_time": "2023-05-15T00:18:31.016077300Z",
     "start_time": "2023-05-15T00:18:30.894967800Z"
    }
   },
   "execution_count": 23,
   "outputs": []
  },
  {
   "cell_type": "code",
   "source": [
    "df_full = pd.concat(frames, axis=1, join='inner') #Righ, Left "
   ],
   "metadata": {
    "id": "wEim-pAuTjSu",
    "ExecuteTime": {
     "end_time": "2023-05-15T00:18:33.199478300Z",
     "start_time": "2023-05-15T00:18:33.167449500Z"
    }
   },
   "execution_count": 24,
   "outputs": []
  },
  {
   "cell_type": "code",
   "source": [
    "# Merge dos datasets\n",
    "compras = pd.DataFrame(\n",
    "    {\n",
    "        \"cliente_id\": ['001', '002', '003', '004', '005', ],\n",
    "        \"produto\": ['Macbook Air', 'iPhone X', 'Macbook Pro', 'AirPods', 'Apple Watch', ],\n",
    "        \"preço\": [11500, 4500, 15000, 950, 3700]\n",
    "    }\n",
    ")"
   ],
   "metadata": {
    "id": "Ll0OngIhXMrV",
    "ExecuteTime": {
     "end_time": "2023-05-15T00:18:44.901478100Z",
     "start_time": "2023-05-15T00:18:44.883462600Z"
    }
   },
   "execution_count": 25,
   "outputs": []
  },
  {
   "cell_type": "code",
   "source": [
    "# Ver a tabela de Compras\n",
    "compras"
   ],
   "metadata": {
    "colab": {
     "base_uri": "https://localhost:8080/",
     "height": 206
    },
    "id": "OMlbKzWVYp1l",
    "executionInfo": {
     "status": "ok",
     "timestamp": 1661388429186,
     "user_tz": 180,
     "elapsed": 295,
     "user": {
      "displayName": "MATHEUS DOS SANTOS OLIVEIRA",
      "userId": "09253095021711422754"
     }
    },
    "outputId": "d7dac1e9-98b8-4059-a0ad-e325582a0f49",
    "ExecuteTime": {
     "end_time": "2023-05-15T00:18:47.169965400Z",
     "start_time": "2023-05-15T00:18:47.158955500Z"
    }
   },
   "execution_count": 26,
   "outputs": [
    {
     "data": {
      "text/plain": "  cliente_id      produto  preço\n0        001  Macbook Air  11500\n1        002     iPhone X   4500\n2        003  Macbook Pro  15000\n3        004      AirPods    950\n4        005  Apple Watch   3700",
      "text/html": "<div>\n<style scoped>\n    .dataframe tbody tr th:only-of-type {\n        vertical-align: middle;\n    }\n\n    .dataframe tbody tr th {\n        vertical-align: top;\n    }\n\n    .dataframe thead th {\n        text-align: right;\n    }\n</style>\n<table border=\"1\" class=\"dataframe\">\n  <thead>\n    <tr style=\"text-align: right;\">\n      <th></th>\n      <th>cliente_id</th>\n      <th>produto</th>\n      <th>preço</th>\n    </tr>\n  </thead>\n  <tbody>\n    <tr>\n      <th>0</th>\n      <td>001</td>\n      <td>Macbook Air</td>\n      <td>11500</td>\n    </tr>\n    <tr>\n      <th>1</th>\n      <td>002</td>\n      <td>iPhone X</td>\n      <td>4500</td>\n    </tr>\n    <tr>\n      <th>2</th>\n      <td>003</td>\n      <td>Macbook Pro</td>\n      <td>15000</td>\n    </tr>\n    <tr>\n      <th>3</th>\n      <td>004</td>\n      <td>AirPods</td>\n      <td>950</td>\n    </tr>\n    <tr>\n      <th>4</th>\n      <td>005</td>\n      <td>Apple Watch</td>\n      <td>3700</td>\n    </tr>\n  </tbody>\n</table>\n</div>"
     },
     "execution_count": 26,
     "metadata": {},
     "output_type": "execute_result"
    }
   ]
  },
  {
   "cell_type": "code",
   "source": [
    "cadastro = pd.DataFrame(\n",
    "    {\n",
    "        \"cliente\": ['001','002','003','004','005'],\n",
    "        \"regiao\": ['zona norte', 'zona sul', 'zona leste', \"centro\", \"zona oeste\"],\n",
    "        \"telefone\": ['11 99999-9999', '11 88888-8888', '11 77777-7777', '66666-6666', '11 66666-6666'],\n",
    "    }\n",
    ")"
   ],
   "metadata": {
    "id": "68jw7E6IY-6R",
    "ExecuteTime": {
     "end_time": "2023-05-15T00:18:52.913870400Z",
     "start_time": "2023-05-15T00:18:52.884842700Z"
    }
   },
   "execution_count": 27,
   "outputs": []
  },
  {
   "cell_type": "code",
   "source": [
    "cadastro"
   ],
   "metadata": {
    "colab": {
     "base_uri": "https://localhost:8080/",
     "height": 206
    },
    "id": "4six10C4ZDMY",
    "executionInfo": {
     "status": "ok",
     "timestamp": 1661388363873,
     "user_tz": 180,
     "elapsed": 292,
     "user": {
      "displayName": "MATHEUS DOS SANTOS OLIVEIRA",
      "userId": "09253095021711422754"
     }
    },
    "outputId": "9781ff57-1379-49fa-9218-133ccba413b6",
    "ExecuteTime": {
     "end_time": "2023-05-15T00:18:54.805631800Z",
     "start_time": "2023-05-15T00:18:54.795622900Z"
    }
   },
   "execution_count": 28,
   "outputs": [
    {
     "data": {
      "text/plain": "  cliente      regiao       telefone\n0     001  zona norte  11 99999-9999\n1     002    zona sul  11 88888-8888\n2     003  zona leste  11 77777-7777\n3     004      centro     66666-6666\n4     005  zona oeste  11 66666-6666",
      "text/html": "<div>\n<style scoped>\n    .dataframe tbody tr th:only-of-type {\n        vertical-align: middle;\n    }\n\n    .dataframe tbody tr th {\n        vertical-align: top;\n    }\n\n    .dataframe thead th {\n        text-align: right;\n    }\n</style>\n<table border=\"1\" class=\"dataframe\">\n  <thead>\n    <tr style=\"text-align: right;\">\n      <th></th>\n      <th>cliente</th>\n      <th>regiao</th>\n      <th>telefone</th>\n    </tr>\n  </thead>\n  <tbody>\n    <tr>\n      <th>0</th>\n      <td>001</td>\n      <td>zona norte</td>\n      <td>11 99999-9999</td>\n    </tr>\n    <tr>\n      <th>1</th>\n      <td>002</td>\n      <td>zona sul</td>\n      <td>11 88888-8888</td>\n    </tr>\n    <tr>\n      <th>2</th>\n      <td>003</td>\n      <td>zona leste</td>\n      <td>11 77777-7777</td>\n    </tr>\n    <tr>\n      <th>3</th>\n      <td>004</td>\n      <td>centro</td>\n      <td>66666-6666</td>\n    </tr>\n    <tr>\n      <th>4</th>\n      <td>005</td>\n      <td>zona oeste</td>\n      <td>11 66666-6666</td>\n    </tr>\n  </tbody>\n</table>\n</div>"
     },
     "execution_count": 28,
     "metadata": {},
     "output_type": "execute_result"
    }
   ]
  },
  {
   "cell_type": "code",
   "source": [
    "# MERGE\n",
    "df_cliente = pd.merge(compras, cadastro, left_on='cliente_id', right_on='cliente')"
   ],
   "metadata": {
    "id": "fc4AUbAobYuu",
    "ExecuteTime": {
     "end_time": "2023-05-15T00:18:58.769959900Z",
     "start_time": "2023-05-15T00:18:58.745939Z"
    }
   },
   "execution_count": 29,
   "outputs": []
  },
  {
   "cell_type": "code",
   "source": [
    "df_cliente"
   ],
   "metadata": {
    "colab": {
     "base_uri": "https://localhost:8080/",
     "height": 206
    },
    "id": "tdjAWN-Gezsa",
    "executionInfo": {
     "status": "ok",
     "timestamp": 1661388670725,
     "user_tz": 180,
     "elapsed": 335,
     "user": {
      "displayName": "MATHEUS DOS SANTOS OLIVEIRA",
      "userId": "09253095021711422754"
     }
    },
    "outputId": "e705843a-d8bc-4fdc-a3dd-afc4a3f21f7b",
    "ExecuteTime": {
     "end_time": "2023-05-15T00:19:00.484248900Z",
     "start_time": "2023-05-15T00:19:00.434204Z"
    }
   },
   "execution_count": 30,
   "outputs": [
    {
     "data": {
      "text/plain": "  cliente_id      produto  preço cliente      regiao       telefone\n0        001  Macbook Air  11500     001  zona norte  11 99999-9999\n1        002     iPhone X   4500     002    zona sul  11 88888-8888\n2        003  Macbook Pro  15000     003  zona leste  11 77777-7777\n3        004      AirPods    950     004      centro     66666-6666\n4        005  Apple Watch   3700     005  zona oeste  11 66666-6666",
      "text/html": "<div>\n<style scoped>\n    .dataframe tbody tr th:only-of-type {\n        vertical-align: middle;\n    }\n\n    .dataframe tbody tr th {\n        vertical-align: top;\n    }\n\n    .dataframe thead th {\n        text-align: right;\n    }\n</style>\n<table border=\"1\" class=\"dataframe\">\n  <thead>\n    <tr style=\"text-align: right;\">\n      <th></th>\n      <th>cliente_id</th>\n      <th>produto</th>\n      <th>preço</th>\n      <th>cliente</th>\n      <th>regiao</th>\n      <th>telefone</th>\n    </tr>\n  </thead>\n  <tbody>\n    <tr>\n      <th>0</th>\n      <td>001</td>\n      <td>Macbook Air</td>\n      <td>11500</td>\n      <td>001</td>\n      <td>zona norte</td>\n      <td>11 99999-9999</td>\n    </tr>\n    <tr>\n      <th>1</th>\n      <td>002</td>\n      <td>iPhone X</td>\n      <td>4500</td>\n      <td>002</td>\n      <td>zona sul</td>\n      <td>11 88888-8888</td>\n    </tr>\n    <tr>\n      <th>2</th>\n      <td>003</td>\n      <td>Macbook Pro</td>\n      <td>15000</td>\n      <td>003</td>\n      <td>zona leste</td>\n      <td>11 77777-7777</td>\n    </tr>\n    <tr>\n      <th>3</th>\n      <td>004</td>\n      <td>AirPods</td>\n      <td>950</td>\n      <td>004</td>\n      <td>centro</td>\n      <td>66666-6666</td>\n    </tr>\n    <tr>\n      <th>4</th>\n      <td>005</td>\n      <td>Apple Watch</td>\n      <td>3700</td>\n      <td>005</td>\n      <td>zona oeste</td>\n      <td>11 66666-6666</td>\n    </tr>\n  </tbody>\n</table>\n</div>"
     },
     "execution_count": 30,
     "metadata": {},
     "output_type": "execute_result"
    }
   ]
  },
  {
   "cell_type": "code",
   "execution_count": null,
   "outputs": [],
   "source": [],
   "metadata": {
    "collapsed": false
   }
  }
 ]
}
