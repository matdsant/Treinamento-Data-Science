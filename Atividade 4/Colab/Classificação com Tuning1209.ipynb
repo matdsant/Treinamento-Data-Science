{
 "nbformat": 4,
 "nbformat_minor": 0,
 "metadata": {
  "colab": {
   "provenance": [
    {
     "file_id": "1zX21MKUfBcPCaGtKsv1H_qK-jOwky7nw",
     "timestamp": 1663029659625
    }
   ],
   "collapsed_sections": []
  },
  "kernelspec": {
   "name": "python3",
   "language": "python",
   "display_name": "Python 3 (ipykernel)"
  },
  "language_info": {
   "name": "python"
  }
 },
 "cells": [
  {
   "cell_type": "code",
   "execution_count": null,
   "metadata": {
    "id": "9A385sbiv94D"
   },
   "outputs": [],
   "source": [
    "# Carregar os datasets\n",
    "#Se usarmos o Google Colab\n",
    "from pydrive.auth import GoogleAuth\n",
    "from pydrive.drive import GoogleDrive\n",
    "from google.colab import auth\n",
    "from oauth2client.client import GoogleCredentials\n",
    "\n",
    "auth.authenticate_user()\n",
    "gauth = GoogleAuth()\n",
    "gauth.credentials = GoogleCredentials.get_application_default()\n",
    "drive = GoogleDrive(gauth)\n",
    "\n",
    "import matplotlib.pyplot as plt\n",
    "import seaborn as sns\n",
    "import pandas as pd"
   ]
  },
  {
   "cell_type": "code",
   "source": [
    "# Baixa os dados de treinamento\n",
    "#Link do arquivo no Drive: https://drive.google.com/file/d/1QtndkGEtJM5jwlR_HYtu3ob7uKSZ0FBP/view\n",
    "\n",
    "link = 'https://drive.google.com/file/d/1QtndkGEtJM5jwlR_HYtu3ob7uKSZ0FBP/view'\n",
    "id = link.split(\"/\")[-2]\n",
    "downloaded = drive.CreateFile({'id':id})\n",
    "downloaded.GetContentFile('aug_train.csv')\n",
    "df_train = pd.read_csv('aug_train.csv')\n",
    "df_train.shape"
   ],
   "metadata": {
    "id": "jbUFmEI6waSZ",
    "colab": {
     "base_uri": "https://localhost:8080/"
    },
    "executionInfo": {
     "status": "ok",
     "timestamp": 1663022566256,
     "user_tz": 180,
     "elapsed": 4678,
     "user": {
      "displayName": "LEANDRO ROMUALDO DA SILVA",
      "userId": "16939956719304469598"
     }
    },
    "outputId": "9831da9b-2ab7-4607-911d-157cce15df8c"
   },
   "execution_count": null,
   "outputs": []
  },
  {
   "cell_type": "code",
   "source": [
    "# Baixa os dados de teste\n",
    "link = 'https://drive.google.com/file/d/1FisazChSyPNGQf32tVseN2D3iLBTYMwJ/view?usp=sharing'\n",
    "id = link.split(\"/\")[-2]\n",
    "downloaded = drive.CreateFile({'id':id})\n",
    "downloaded.GetContentFile('aug_test.csv')\n",
    "df_test = pd.read_csv('aug_test.csv')\n",
    "df_test.shape"
   ],
   "metadata": {
    "id": "_iTP4tL2waU_",
    "colab": {
     "base_uri": "https://localhost:8080/"
    },
    "executionInfo": {
     "status": "ok",
     "timestamp": 1663022567599,
     "user_tz": 180,
     "elapsed": 1356,
     "user": {
      "displayName": "LEANDRO ROMUALDO DA SILVA",
      "userId": "16939956719304469598"
     }
    },
    "outputId": "02183b96-713c-4ba4-bea8-1f440d87e085"
   },
   "execution_count": null,
   "outputs": [
    {
     "output_type": "execute_result",
     "data": {
      "text/plain": [
       "(78273, 11)"
      ]
     },
     "metadata": {},
     "execution_count": 3
    }
   ]
  },
  {
   "cell_type": "code",
   "source": [
    "# Merge dos datasets \n",
    "df_train.sample(3)"
   ],
   "metadata": {
    "colab": {
     "base_uri": "https://localhost:8080/",
     "height": 207
    },
    "id": "JB7b4HB8CSGf",
    "executionInfo": {
     "status": "ok",
     "timestamp": 1663022570449,
     "user_tz": 180,
     "elapsed": 376,
     "user": {
      "displayName": "LEANDRO ROMUALDO DA SILVA",
      "userId": "16939956719304469598"
     }
    },
    "outputId": "6288a470-9f27-4d5f-ac65-6318570e8570"
   },
   "execution_count": null,
   "outputs": [
    {
     "output_type": "execute_result",
     "data": {
      "text/plain": [
       "            id Gender  Age  Driving_License  Region_Code  Previously_Insured  \\\n",
       "231602  194004   Male   67                1         28.0                   0   \n",
       "373978  375708   Male   21                1         33.0                   1   \n",
       "27992   276790   Male   47                1         28.0                   1   \n",
       "\n",
       "       Vehicle_Age Vehicle_Damage  Annual_Premium  Policy_Sales_Channel  \\\n",
       "231602    1-2 Year            Yes         48376.0                  26.0   \n",
       "373978    < 1 Year             No         29347.0                 152.0   \n",
       "27992     1-2 Year             No         24558.0                  26.0   \n",
       "\n",
       "        Vintage  Response  \n",
       "231602       76         0  \n",
       "373978      104         0  \n",
       "27992       259         0  "
      ],
      "text/html": [
       "\n",
       "  <div id=\"df-79167a3b-6e6f-4491-8c9b-83df51369007\">\n",
       "    <div class=\"colab-df-container\">\n",
       "      <div>\n",
       "<style scoped>\n",
       "    .dataframe tbody tr th:only-of-type {\n",
       "        vertical-align: middle;\n",
       "    }\n",
       "\n",
       "    .dataframe tbody tr th {\n",
       "        vertical-align: top;\n",
       "    }\n",
       "\n",
       "    .dataframe thead th {\n",
       "        text-align: right;\n",
       "    }\n",
       "</style>\n",
       "<table border=\"1\" class=\"dataframe\">\n",
       "  <thead>\n",
       "    <tr style=\"text-align: right;\">\n",
       "      <th></th>\n",
       "      <th>id</th>\n",
       "      <th>Gender</th>\n",
       "      <th>Age</th>\n",
       "      <th>Driving_License</th>\n",
       "      <th>Region_Code</th>\n",
       "      <th>Previously_Insured</th>\n",
       "      <th>Vehicle_Age</th>\n",
       "      <th>Vehicle_Damage</th>\n",
       "      <th>Annual_Premium</th>\n",
       "      <th>Policy_Sales_Channel</th>\n",
       "      <th>Vintage</th>\n",
       "      <th>Response</th>\n",
       "    </tr>\n",
       "  </thead>\n",
       "  <tbody>\n",
       "    <tr>\n",
       "      <th>231602</th>\n",
       "      <td>194004</td>\n",
       "      <td>Male</td>\n",
       "      <td>67</td>\n",
       "      <td>1</td>\n",
       "      <td>28.0</td>\n",
       "      <td>0</td>\n",
       "      <td>1-2 Year</td>\n",
       "      <td>Yes</td>\n",
       "      <td>48376.0</td>\n",
       "      <td>26.0</td>\n",
       "      <td>76</td>\n",
       "      <td>0</td>\n",
       "    </tr>\n",
       "    <tr>\n",
       "      <th>373978</th>\n",
       "      <td>375708</td>\n",
       "      <td>Male</td>\n",
       "      <td>21</td>\n",
       "      <td>1</td>\n",
       "      <td>33.0</td>\n",
       "      <td>1</td>\n",
       "      <td>&lt; 1 Year</td>\n",
       "      <td>No</td>\n",
       "      <td>29347.0</td>\n",
       "      <td>152.0</td>\n",
       "      <td>104</td>\n",
       "      <td>0</td>\n",
       "    </tr>\n",
       "    <tr>\n",
       "      <th>27992</th>\n",
       "      <td>276790</td>\n",
       "      <td>Male</td>\n",
       "      <td>47</td>\n",
       "      <td>1</td>\n",
       "      <td>28.0</td>\n",
       "      <td>1</td>\n",
       "      <td>1-2 Year</td>\n",
       "      <td>No</td>\n",
       "      <td>24558.0</td>\n",
       "      <td>26.0</td>\n",
       "      <td>259</td>\n",
       "      <td>0</td>\n",
       "    </tr>\n",
       "  </tbody>\n",
       "</table>\n",
       "</div>\n",
       "      <button class=\"colab-df-convert\" onclick=\"convertToInteractive('df-79167a3b-6e6f-4491-8c9b-83df51369007')\"\n",
       "              title=\"Convert this dataframe to an interactive table.\"\n",
       "              style=\"display:none;\">\n",
       "        \n",
       "  <svg xmlns=\"http://www.w3.org/2000/svg\" height=\"24px\"viewBox=\"0 0 24 24\"\n",
       "       width=\"24px\">\n",
       "    <path d=\"M0 0h24v24H0V0z\" fill=\"none\"/>\n",
       "    <path d=\"M18.56 5.44l.94 2.06.94-2.06 2.06-.94-2.06-.94-.94-2.06-.94 2.06-2.06.94zm-11 1L8.5 8.5l.94-2.06 2.06-.94-2.06-.94L8.5 2.5l-.94 2.06-2.06.94zm10 10l.94 2.06.94-2.06 2.06-.94-2.06-.94-.94-2.06-.94 2.06-2.06.94z\"/><path d=\"M17.41 7.96l-1.37-1.37c-.4-.4-.92-.59-1.43-.59-.52 0-1.04.2-1.43.59L10.3 9.45l-7.72 7.72c-.78.78-.78 2.05 0 2.83L4 21.41c.39.39.9.59 1.41.59.51 0 1.02-.2 1.41-.59l7.78-7.78 2.81-2.81c.8-.78.8-2.07 0-2.86zM5.41 20L4 18.59l7.72-7.72 1.47 1.35L5.41 20z\"/>\n",
       "  </svg>\n",
       "      </button>\n",
       "      \n",
       "  <style>\n",
       "    .colab-df-container {\n",
       "      display:flex;\n",
       "      flex-wrap:wrap;\n",
       "      gap: 12px;\n",
       "    }\n",
       "\n",
       "    .colab-df-convert {\n",
       "      background-color: #E8F0FE;\n",
       "      border: none;\n",
       "      border-radius: 50%;\n",
       "      cursor: pointer;\n",
       "      display: none;\n",
       "      fill: #1967D2;\n",
       "      height: 32px;\n",
       "      padding: 0 0 0 0;\n",
       "      width: 32px;\n",
       "    }\n",
       "\n",
       "    .colab-df-convert:hover {\n",
       "      background-color: #E2EBFA;\n",
       "      box-shadow: 0px 1px 2px rgba(60, 64, 67, 0.3), 0px 1px 3px 1px rgba(60, 64, 67, 0.15);\n",
       "      fill: #174EA6;\n",
       "    }\n",
       "\n",
       "    [theme=dark] .colab-df-convert {\n",
       "      background-color: #3B4455;\n",
       "      fill: #D2E3FC;\n",
       "    }\n",
       "\n",
       "    [theme=dark] .colab-df-convert:hover {\n",
       "      background-color: #434B5C;\n",
       "      box-shadow: 0px 1px 3px 1px rgba(0, 0, 0, 0.15);\n",
       "      filter: drop-shadow(0px 1px 2px rgba(0, 0, 0, 0.3));\n",
       "      fill: #FFFFFF;\n",
       "    }\n",
       "  </style>\n",
       "\n",
       "      <script>\n",
       "        const buttonEl =\n",
       "          document.querySelector('#df-79167a3b-6e6f-4491-8c9b-83df51369007 button.colab-df-convert');\n",
       "        buttonEl.style.display =\n",
       "          google.colab.kernel.accessAllowed ? 'block' : 'none';\n",
       "\n",
       "        async function convertToInteractive(key) {\n",
       "          const element = document.querySelector('#df-79167a3b-6e6f-4491-8c9b-83df51369007');\n",
       "          const dataTable =\n",
       "            await google.colab.kernel.invokeFunction('convertToInteractive',\n",
       "                                                     [key], {});\n",
       "          if (!dataTable) return;\n",
       "\n",
       "          const docLinkHtml = 'Like what you see? Visit the ' +\n",
       "            '<a target=\"_blank\" href=https://colab.research.google.com/notebooks/data_table.ipynb>data table notebook</a>'\n",
       "            + ' to learn more about interactive tables.';\n",
       "          element.innerHTML = '';\n",
       "          dataTable['output_type'] = 'display_data';\n",
       "          await google.colab.output.renderOutput(dataTable, element);\n",
       "          const docLink = document.createElement('div');\n",
       "          docLink.innerHTML = docLinkHtml;\n",
       "          element.appendChild(docLink);\n",
       "        }\n",
       "      </script>\n",
       "    </div>\n",
       "  </div>\n",
       "  "
      ]
     },
     "metadata": {},
     "execution_count": 4
    }
   ]
  },
  {
   "cell_type": "code",
   "source": [
    "df_test.sample(2)"
   ],
   "metadata": {
    "colab": {
     "base_uri": "https://localhost:8080/",
     "height": 176
    },
    "id": "qxX1QX6MCcEj",
    "executionInfo": {
     "status": "ok",
     "timestamp": 1663022572254,
     "user_tz": 180,
     "elapsed": 320,
     "user": {
      "displayName": "LEANDRO ROMUALDO DA SILVA",
      "userId": "16939956719304469598"
     }
    },
    "outputId": "d6b4c7c9-a4d2-4c82-9603-acef3467d045"
   },
   "execution_count": null,
   "outputs": [
    {
     "output_type": "execute_result",
     "data": {
      "text/plain": [
       "           id  Gender  Age  Driving_License  Region_Code  Previously_Insured  \\\n",
       "51955  462484    Male   47                1         28.0                   1   \n",
       "23464   35745  Female   39                1         28.0                   0   \n",
       "\n",
       "      Vehicle_Age Vehicle_Damage  Annual_Premium  Policy_Sales_Channel  \\\n",
       "51955    1-2 Year             No         31779.0                  26.0   \n",
       "23464    1-2 Year            Yes         29753.0                 124.0   \n",
       "\n",
       "       Vintage  \n",
       "51955      261  \n",
       "23464      140  "
      ],
      "text/html": [
       "\n",
       "  <div id=\"df-07acb34f-c1df-427e-84ce-37d95e297d1d\">\n",
       "    <div class=\"colab-df-container\">\n",
       "      <div>\n",
       "<style scoped>\n",
       "    .dataframe tbody tr th:only-of-type {\n",
       "        vertical-align: middle;\n",
       "    }\n",
       "\n",
       "    .dataframe tbody tr th {\n",
       "        vertical-align: top;\n",
       "    }\n",
       "\n",
       "    .dataframe thead th {\n",
       "        text-align: right;\n",
       "    }\n",
       "</style>\n",
       "<table border=\"1\" class=\"dataframe\">\n",
       "  <thead>\n",
       "    <tr style=\"text-align: right;\">\n",
       "      <th></th>\n",
       "      <th>id</th>\n",
       "      <th>Gender</th>\n",
       "      <th>Age</th>\n",
       "      <th>Driving_License</th>\n",
       "      <th>Region_Code</th>\n",
       "      <th>Previously_Insured</th>\n",
       "      <th>Vehicle_Age</th>\n",
       "      <th>Vehicle_Damage</th>\n",
       "      <th>Annual_Premium</th>\n",
       "      <th>Policy_Sales_Channel</th>\n",
       "      <th>Vintage</th>\n",
       "    </tr>\n",
       "  </thead>\n",
       "  <tbody>\n",
       "    <tr>\n",
       "      <th>51955</th>\n",
       "      <td>462484</td>\n",
       "      <td>Male</td>\n",
       "      <td>47</td>\n",
       "      <td>1</td>\n",
       "      <td>28.0</td>\n",
       "      <td>1</td>\n",
       "      <td>1-2 Year</td>\n",
       "      <td>No</td>\n",
       "      <td>31779.0</td>\n",
       "      <td>26.0</td>\n",
       "      <td>261</td>\n",
       "    </tr>\n",
       "    <tr>\n",
       "      <th>23464</th>\n",
       "      <td>35745</td>\n",
       "      <td>Female</td>\n",
       "      <td>39</td>\n",
       "      <td>1</td>\n",
       "      <td>28.0</td>\n",
       "      <td>0</td>\n",
       "      <td>1-2 Year</td>\n",
       "      <td>Yes</td>\n",
       "      <td>29753.0</td>\n",
       "      <td>124.0</td>\n",
       "      <td>140</td>\n",
       "    </tr>\n",
       "  </tbody>\n",
       "</table>\n",
       "</div>\n",
       "      <button class=\"colab-df-convert\" onclick=\"convertToInteractive('df-07acb34f-c1df-427e-84ce-37d95e297d1d')\"\n",
       "              title=\"Convert this dataframe to an interactive table.\"\n",
       "              style=\"display:none;\">\n",
       "        \n",
       "  <svg xmlns=\"http://www.w3.org/2000/svg\" height=\"24px\"viewBox=\"0 0 24 24\"\n",
       "       width=\"24px\">\n",
       "    <path d=\"M0 0h24v24H0V0z\" fill=\"none\"/>\n",
       "    <path d=\"M18.56 5.44l.94 2.06.94-2.06 2.06-.94-2.06-.94-.94-2.06-.94 2.06-2.06.94zm-11 1L8.5 8.5l.94-2.06 2.06-.94-2.06-.94L8.5 2.5l-.94 2.06-2.06.94zm10 10l.94 2.06.94-2.06 2.06-.94-2.06-.94-.94-2.06-.94 2.06-2.06.94z\"/><path d=\"M17.41 7.96l-1.37-1.37c-.4-.4-.92-.59-1.43-.59-.52 0-1.04.2-1.43.59L10.3 9.45l-7.72 7.72c-.78.78-.78 2.05 0 2.83L4 21.41c.39.39.9.59 1.41.59.51 0 1.02-.2 1.41-.59l7.78-7.78 2.81-2.81c.8-.78.8-2.07 0-2.86zM5.41 20L4 18.59l7.72-7.72 1.47 1.35L5.41 20z\"/>\n",
       "  </svg>\n",
       "      </button>\n",
       "      \n",
       "  <style>\n",
       "    .colab-df-container {\n",
       "      display:flex;\n",
       "      flex-wrap:wrap;\n",
       "      gap: 12px;\n",
       "    }\n",
       "\n",
       "    .colab-df-convert {\n",
       "      background-color: #E8F0FE;\n",
       "      border: none;\n",
       "      border-radius: 50%;\n",
       "      cursor: pointer;\n",
       "      display: none;\n",
       "      fill: #1967D2;\n",
       "      height: 32px;\n",
       "      padding: 0 0 0 0;\n",
       "      width: 32px;\n",
       "    }\n",
       "\n",
       "    .colab-df-convert:hover {\n",
       "      background-color: #E2EBFA;\n",
       "      box-shadow: 0px 1px 2px rgba(60, 64, 67, 0.3), 0px 1px 3px 1px rgba(60, 64, 67, 0.15);\n",
       "      fill: #174EA6;\n",
       "    }\n",
       "\n",
       "    [theme=dark] .colab-df-convert {\n",
       "      background-color: #3B4455;\n",
       "      fill: #D2E3FC;\n",
       "    }\n",
       "\n",
       "    [theme=dark] .colab-df-convert:hover {\n",
       "      background-color: #434B5C;\n",
       "      box-shadow: 0px 1px 3px 1px rgba(0, 0, 0, 0.15);\n",
       "      filter: drop-shadow(0px 1px 2px rgba(0, 0, 0, 0.3));\n",
       "      fill: #FFFFFF;\n",
       "    }\n",
       "  </style>\n",
       "\n",
       "      <script>\n",
       "        const buttonEl =\n",
       "          document.querySelector('#df-07acb34f-c1df-427e-84ce-37d95e297d1d button.colab-df-convert');\n",
       "        buttonEl.style.display =\n",
       "          google.colab.kernel.accessAllowed ? 'block' : 'none';\n",
       "\n",
       "        async function convertToInteractive(key) {\n",
       "          const element = document.querySelector('#df-07acb34f-c1df-427e-84ce-37d95e297d1d');\n",
       "          const dataTable =\n",
       "            await google.colab.kernel.invokeFunction('convertToInteractive',\n",
       "                                                     [key], {});\n",
       "          if (!dataTable) return;\n",
       "\n",
       "          const docLinkHtml = 'Like what you see? Visit the ' +\n",
       "            '<a target=\"_blank\" href=https://colab.research.google.com/notebooks/data_table.ipynb>data table notebook</a>'\n",
       "            + ' to learn more about interactive tables.';\n",
       "          element.innerHTML = '';\n",
       "          dataTable['output_type'] = 'display_data';\n",
       "          await google.colab.output.renderOutput(dataTable, element);\n",
       "          const docLink = document.createElement('div');\n",
       "          docLink.innerHTML = docLinkHtml;\n",
       "          element.appendChild(docLink);\n",
       "        }\n",
       "      </script>\n",
       "    </div>\n",
       "  </div>\n",
       "  "
      ]
     },
     "metadata": {},
     "execution_count": 5
    }
   ]
  },
  {
   "cell_type": "code",
   "source": [
    "df_test['Response'] = 2 # Criando coluna \"Response\" no dataset de teste para concatenar com treino\n",
    "frames = [df_train, df_test]  \n",
    "df_full = pd.concat(frames)\n",
    "df_full.sample(3)"
   ],
   "metadata": {
    "colab": {
     "base_uri": "https://localhost:8080/",
     "height": 207
    },
    "id": "JJ6XybTkCm8Q",
    "executionInfo": {
     "status": "ok",
     "timestamp": 1663022714730,
     "user_tz": 180,
     "elapsed": 451,
     "user": {
      "displayName": "LEANDRO ROMUALDO DA SILVA",
      "userId": "16939956719304469598"
     }
    },
    "outputId": "0c9124f9-a4ce-467f-9063-a4b3f3ad7dff"
   },
   "execution_count": null,
   "outputs": [
    {
     "output_type": "execute_result",
     "data": {
      "text/plain": [
       "            id  Gender  Age  Driving_License  Region_Code  Previously_Insured  \\\n",
       "34895    54085    Male   26                1         19.0                   1   \n",
       "171801   88199    Male   53                1         28.0                   1   \n",
       "321686  470881  Female   32                1          8.0                   1   \n",
       "\n",
       "       Vehicle_Age Vehicle_Damage  Annual_Premium  Policy_Sales_Channel  \\\n",
       "34895     < 1 Year             No         50316.0                 152.0   \n",
       "171801    1-2 Year             No         29990.0                  26.0   \n",
       "321686    1-2 Year             No         42205.0                   7.0   \n",
       "\n",
       "        Vintage  Response  \n",
       "34895       183         0  \n",
       "171801      273         0  \n",
       "321686      170         0  "
      ],
      "text/html": [
       "\n",
       "  <div id=\"df-ee428d70-5dcd-4d65-93d1-c3ed64b041a5\">\n",
       "    <div class=\"colab-df-container\">\n",
       "      <div>\n",
       "<style scoped>\n",
       "    .dataframe tbody tr th:only-of-type {\n",
       "        vertical-align: middle;\n",
       "    }\n",
       "\n",
       "    .dataframe tbody tr th {\n",
       "        vertical-align: top;\n",
       "    }\n",
       "\n",
       "    .dataframe thead th {\n",
       "        text-align: right;\n",
       "    }\n",
       "</style>\n",
       "<table border=\"1\" class=\"dataframe\">\n",
       "  <thead>\n",
       "    <tr style=\"text-align: right;\">\n",
       "      <th></th>\n",
       "      <th>id</th>\n",
       "      <th>Gender</th>\n",
       "      <th>Age</th>\n",
       "      <th>Driving_License</th>\n",
       "      <th>Region_Code</th>\n",
       "      <th>Previously_Insured</th>\n",
       "      <th>Vehicle_Age</th>\n",
       "      <th>Vehicle_Damage</th>\n",
       "      <th>Annual_Premium</th>\n",
       "      <th>Policy_Sales_Channel</th>\n",
       "      <th>Vintage</th>\n",
       "      <th>Response</th>\n",
       "    </tr>\n",
       "  </thead>\n",
       "  <tbody>\n",
       "    <tr>\n",
       "      <th>34895</th>\n",
       "      <td>54085</td>\n",
       "      <td>Male</td>\n",
       "      <td>26</td>\n",
       "      <td>1</td>\n",
       "      <td>19.0</td>\n",
       "      <td>1</td>\n",
       "      <td>&lt; 1 Year</td>\n",
       "      <td>No</td>\n",
       "      <td>50316.0</td>\n",
       "      <td>152.0</td>\n",
       "      <td>183</td>\n",
       "      <td>0</td>\n",
       "    </tr>\n",
       "    <tr>\n",
       "      <th>171801</th>\n",
       "      <td>88199</td>\n",
       "      <td>Male</td>\n",
       "      <td>53</td>\n",
       "      <td>1</td>\n",
       "      <td>28.0</td>\n",
       "      <td>1</td>\n",
       "      <td>1-2 Year</td>\n",
       "      <td>No</td>\n",
       "      <td>29990.0</td>\n",
       "      <td>26.0</td>\n",
       "      <td>273</td>\n",
       "      <td>0</td>\n",
       "    </tr>\n",
       "    <tr>\n",
       "      <th>321686</th>\n",
       "      <td>470881</td>\n",
       "      <td>Female</td>\n",
       "      <td>32</td>\n",
       "      <td>1</td>\n",
       "      <td>8.0</td>\n",
       "      <td>1</td>\n",
       "      <td>1-2 Year</td>\n",
       "      <td>No</td>\n",
       "      <td>42205.0</td>\n",
       "      <td>7.0</td>\n",
       "      <td>170</td>\n",
       "      <td>0</td>\n",
       "    </tr>\n",
       "  </tbody>\n",
       "</table>\n",
       "</div>\n",
       "      <button class=\"colab-df-convert\" onclick=\"convertToInteractive('df-ee428d70-5dcd-4d65-93d1-c3ed64b041a5')\"\n",
       "              title=\"Convert this dataframe to an interactive table.\"\n",
       "              style=\"display:none;\">\n",
       "        \n",
       "  <svg xmlns=\"http://www.w3.org/2000/svg\" height=\"24px\"viewBox=\"0 0 24 24\"\n",
       "       width=\"24px\">\n",
       "    <path d=\"M0 0h24v24H0V0z\" fill=\"none\"/>\n",
       "    <path d=\"M18.56 5.44l.94 2.06.94-2.06 2.06-.94-2.06-.94-.94-2.06-.94 2.06-2.06.94zm-11 1L8.5 8.5l.94-2.06 2.06-.94-2.06-.94L8.5 2.5l-.94 2.06-2.06.94zm10 10l.94 2.06.94-2.06 2.06-.94-2.06-.94-.94-2.06-.94 2.06-2.06.94z\"/><path d=\"M17.41 7.96l-1.37-1.37c-.4-.4-.92-.59-1.43-.59-.52 0-1.04.2-1.43.59L10.3 9.45l-7.72 7.72c-.78.78-.78 2.05 0 2.83L4 21.41c.39.39.9.59 1.41.59.51 0 1.02-.2 1.41-.59l7.78-7.78 2.81-2.81c.8-.78.8-2.07 0-2.86zM5.41 20L4 18.59l7.72-7.72 1.47 1.35L5.41 20z\"/>\n",
       "  </svg>\n",
       "      </button>\n",
       "      \n",
       "  <style>\n",
       "    .colab-df-container {\n",
       "      display:flex;\n",
       "      flex-wrap:wrap;\n",
       "      gap: 12px;\n",
       "    }\n",
       "\n",
       "    .colab-df-convert {\n",
       "      background-color: #E8F0FE;\n",
       "      border: none;\n",
       "      border-radius: 50%;\n",
       "      cursor: pointer;\n",
       "      display: none;\n",
       "      fill: #1967D2;\n",
       "      height: 32px;\n",
       "      padding: 0 0 0 0;\n",
       "      width: 32px;\n",
       "    }\n",
       "\n",
       "    .colab-df-convert:hover {\n",
       "      background-color: #E2EBFA;\n",
       "      box-shadow: 0px 1px 2px rgba(60, 64, 67, 0.3), 0px 1px 3px 1px rgba(60, 64, 67, 0.15);\n",
       "      fill: #174EA6;\n",
       "    }\n",
       "\n",
       "    [theme=dark] .colab-df-convert {\n",
       "      background-color: #3B4455;\n",
       "      fill: #D2E3FC;\n",
       "    }\n",
       "\n",
       "    [theme=dark] .colab-df-convert:hover {\n",
       "      background-color: #434B5C;\n",
       "      box-shadow: 0px 1px 3px 1px rgba(0, 0, 0, 0.15);\n",
       "      filter: drop-shadow(0px 1px 2px rgba(0, 0, 0, 0.3));\n",
       "      fill: #FFFFFF;\n",
       "    }\n",
       "  </style>\n",
       "\n",
       "      <script>\n",
       "        const buttonEl =\n",
       "          document.querySelector('#df-ee428d70-5dcd-4d65-93d1-c3ed64b041a5 button.colab-df-convert');\n",
       "        buttonEl.style.display =\n",
       "          google.colab.kernel.accessAllowed ? 'block' : 'none';\n",
       "\n",
       "        async function convertToInteractive(key) {\n",
       "          const element = document.querySelector('#df-ee428d70-5dcd-4d65-93d1-c3ed64b041a5');\n",
       "          const dataTable =\n",
       "            await google.colab.kernel.invokeFunction('convertToInteractive',\n",
       "                                                     [key], {});\n",
       "          if (!dataTable) return;\n",
       "\n",
       "          const docLinkHtml = 'Like what you see? Visit the ' +\n",
       "            '<a target=\"_blank\" href=https://colab.research.google.com/notebooks/data_table.ipynb>data table notebook</a>'\n",
       "            + ' to learn more about interactive tables.';\n",
       "          element.innerHTML = '';\n",
       "          dataTable['output_type'] = 'display_data';\n",
       "          await google.colab.output.renderOutput(dataTable, element);\n",
       "          const docLink = document.createElement('div');\n",
       "          docLink.innerHTML = docLinkHtml;\n",
       "          element.appendChild(docLink);\n",
       "        }\n",
       "      </script>\n",
       "    </div>\n",
       "  </div>\n",
       "  "
      ]
     },
     "metadata": {},
     "execution_count": 13
    }
   ]
  },
  {
   "cell_type": "code",
   "source": [
    "df_train['Response'].value_counts()"
   ],
   "metadata": {
    "colab": {
     "base_uri": "https://localhost:8080/"
    },
    "id": "eyjBaJlYDhBM",
    "executionInfo": {
     "status": "ok",
     "timestamp": 1663022587079,
     "user_tz": 180,
     "elapsed": 5,
     "user": {
      "displayName": "LEANDRO ROMUALDO DA SILVA",
      "userId": "16939956719304469598"
     }
    },
    "outputId": "a04d55ad-2319-4ce7-c096-7b66d773fdae"
   },
   "execution_count": null,
   "outputs": [
    {
     "output_type": "execute_result",
     "data": {
      "text/plain": [
       "0    319553\n",
       "1     62601\n",
       "Name: Response, dtype: int64"
      ]
     },
     "metadata": {},
     "execution_count": 7
    }
   ]
  },
  {
   "cell_type": "code",
   "source": [
    "# Executar a instalação, reiniciar ambiente de execução, comentar essa célula e executar tudo novamente\n",
    "!pip install https://github.com/pandas-profiling/pandas-profiling/archive/master.zip"
   ],
   "metadata": {
    "id": "vIjUL-P4waX1"
   },
   "execution_count": null,
   "outputs": []
  },
  {
   "cell_type": "code",
   "source": [
    "from pandas_profiling import ProfileReport\n",
    "\n",
    "profile = ProfileReport(df_full, title=\"Pandas Profiling Report\", explorative=True)"
   ],
   "metadata": {
    "id": "uW2aHOQfwjDg"
   },
   "execution_count": null,
   "outputs": []
  },
  {
   "cell_type": "code",
   "source": [
    "profile.to_widgets()"
   ],
   "metadata": {
    "id": "8lHnZ2clwjGW"
   },
   "execution_count": null,
   "outputs": []
  },
  {
   "cell_type": "markdown",
   "source": [
    "#### feature engineering"
   ],
   "metadata": {
    "id": "DbBQ3WIcQ-J9"
   }
  },
  {
   "cell_type": "code",
   "source": [
    "import pandas as pd\n",
    "import seaborn as sn\n",
    "from sklearn import preprocessing\n",
    "from sklearn.preprocessing import OneHotEncoder, MinMaxScaler\n",
    "from sklearn.feature_selection import SelectKBest, chi2\n",
    "from sklearn.model_selection import train_test_split\n",
    "import seaborn as sns\n",
    "import matplotlib.pyplot as plt\n",
    "from sklearn.model_selection import KFold \n",
    "from sklearn.model_selection import cross_val_score \n",
    "from sklearn.model_selection import cross_val_predict \n",
    "from sklearn.metrics import confusion_matrix\n",
    "from sklearn.metrics import (roc_curve,\n",
    "                             recall_score,\n",
    "                             roc_auc_score,\n",
    "                             accuracy_score,\n",
    "                             precision_score,\n",
    "                             f1_score)\n",
    "from sklearn.ensemble import (AdaBoostClassifier, \n",
    "                              GradientBoostingClassifier, \n",
    "                              ExtraTreesClassifier,\n",
    "                              RandomForestClassifier)\n",
    "from sklearn.linear_model import LogisticRegression\n",
    "from sklearn.svm import SVC, LinearSVC\n",
    "from sklearn.neighbors import KNeighborsClassifier\n",
    "from sklearn.model_selection import GridSearchCV, RandomizedSearchCV\n",
    "\n",
    "import warnings\n",
    "warnings.filterwarnings('ignore')"
   ],
   "metadata": {
    "id": "u8Hb2UgAQ5DJ"
   },
   "execution_count": null,
   "outputs": []
  },
  {
   "cell_type": "markdown",
   "source": [
    "##### Transformações de categorias para numeros sequenciais"
   ],
   "metadata": {
    "id": "IQama339R9um"
   }
  },
  {
   "cell_type": "code",
   "source": [
    "# Label encoder transforma variáveis categoricas em numeros sequenciais\n",
    "le = preprocessing.LabelEncoder() # Instancia objeto chamado LE para o Label Encoder\n",
    "df_full['Gender'] = le.fit_transform(df_full['Gender'])"
   ],
   "metadata": {
    "id": "zkicuT9jRFQh"
   },
   "execution_count": null,
   "outputs": []
  },
  {
   "cell_type": "code",
   "source": [
    "df_full['Vehicle_Damage'] = df_full['Vehicle_Damage'].astype('category') # transforma variável em categorica\n",
    "df_full['Vehicle_Damage'] = df_full['Vehicle_Damage'].cat.codes # gera numeros sequenciais para categorias"
   ],
   "metadata": {
    "id": "NKI59VPVRis3"
   },
   "execution_count": null,
   "outputs": []
  },
  {
   "cell_type": "markdown",
   "source": [
    "##### Get Dummies \n",
    " \n",
    " Transforma variável categorica em colunas binárias"
   ],
   "metadata": {
    "id": "N6o34j_9SDxT"
   }
  },
  {
   "cell_type": "code",
   "source": [
    "df_full = pd.get_dummies(df_full, columns=['Vehicle_Age', 'Driving_License'])"
   ],
   "metadata": {
    "id": "i8S_j1jQSLCQ"
   },
   "execution_count": null,
   "outputs": []
  },
  {
   "cell_type": "code",
   "source": [
    "df_full['Meses_segurado'] = round(df_full['Vintage']/30)"
   ],
   "metadata": {
    "id": "j6QhFgk4TS8J"
   },
   "execution_count": null,
   "outputs": []
  },
  {
   "cell_type": "markdown",
   "source": [
    "#### Divisão do dataset para treinamento"
   ],
   "metadata": {
    "id": "kTihBx2iT0Iu"
   }
  },
  {
   "cell_type": "code",
   "source": [
    "df_full.set_index('id')"
   ],
   "metadata": {
    "id": "t44wr600iwqa"
   },
   "execution_count": null,
   "outputs": []
  },
  {
   "cell_type": "code",
   "source": [
    "df_train = df_full.loc[df_full['Response'] != 2] # Tudo que é diferente de 2 volta para o dataset de treinamento\n",
    "df_test = df_full.loc[df_full['Response'] == 2] # Igual a 2 é o dataset de teste\n",
    "df_test.drop('Response', axis=1, inplace=True) # Apaga coluna Response do dataset de teste. axis=1(coluna), inplace=True persiste em memoria"
   ],
   "metadata": {
    "id": "esKwhyZg4I9P"
   },
   "execution_count": null,
   "outputs": []
  },
  {
   "cell_type": "code",
   "source": [
    "X = df_train.drop('Response', axis=1)\n",
    "y = df_train['Response']"
   ],
   "metadata": {
    "id": "rEswWAWm7gnD"
   },
   "execution_count": null,
   "outputs": []
  },
  {
   "cell_type": "code",
   "source": [
    "X_train, X_test, y_train, y_test = train_test_split(X, y, test_size=0.3, random_state=123)"
   ],
   "metadata": {
    "id": "hwnqAfK970Bo"
   },
   "execution_count": null,
   "outputs": []
  },
  {
   "cell_type": "markdown",
   "source": [
    "##### Random Forest com parametros aleatórios"
   ],
   "metadata": {
    "id": "cVBzWoEx8GB6"
   }
  },
  {
   "cell_type": "code",
   "source": [
    "# Random Forest com parametros aleatórios\n",
    "# https://scikit-learn.org/stable/modules/generated/sklearn.ensemble.RandomForestRegressor.html\n",
    "\n",
    "rf = RandomForestClassifier(n_estimators=3,       # Numero de arvores do algoritmo (padrão 100) \n",
    "                            max_depth = 2,        # Padrão None, numeros inteiros. profundidade máxima da arvore\n",
    "                            n_jobs=10,            # Numero de execuções paralelas\n",
    "                            min_samples_split=10, # Padrão 2, numeros inteiros numero de divisão de um nó\n",
    "                            min_samples_leaf=4,   # Padrão 1, numeros inteiros. Numero minimo necessário para estar em um nó folha\n",
    "                            max_features='sqrt')  # “sqrt”, “log2”, None, ou valor inteiro limitado ao numero de features"
   ],
   "metadata": {
    "id": "0lNbYQwz8AUL"
   },
   "execution_count": null,
   "outputs": []
  },
  {
   "cell_type": "code",
   "source": [
    "rf.fit(X_train, y_train) # Treinamento do modelo"
   ],
   "metadata": {
    "colab": {
     "base_uri": "https://localhost:8080/"
    },
    "id": "KtxP3Bnq8NKi",
    "executionInfo": {
     "status": "ok",
     "timestamp": 1663024653416,
     "user_tz": 180,
     "elapsed": 685,
     "user": {
      "displayName": "LEANDRO ROMUALDO DA SILVA",
      "userId": "16939956719304469598"
     }
    },
    "outputId": "7c4deeeb-15dc-4346-bf6e-2da3e51dd158"
   },
   "execution_count": null,
   "outputs": [
    {
     "output_type": "execute_result",
     "data": {
      "text/plain": [
       "RandomForestClassifier(max_depth=2, max_features='sqrt', min_samples_leaf=4,\n",
       "                       min_samples_split=10, n_estimators=3, n_jobs=10)"
      ]
     },
     "metadata": {},
     "execution_count": 29
    }
   ]
  },
  {
   "cell_type": "code",
   "source": [
    "y_pred = rf.predict(X_test) # predict no dataset de test"
   ],
   "metadata": {
    "id": "q4e3Dh_o8QIG"
   },
   "execution_count": null,
   "outputs": []
  },
  {
   "cell_type": "code",
   "source": [
    "def metrics(y_pred, y_test):\n",
    "  print('Acurácia {}'.format(accuracy_score(y_test, y_pred)))\n",
    "  print('Recall {}'.format(recall_score(y_test, y_pred)))\n",
    "  print('F1 Score {}'.format(f1_score(y_test, y_pred)))\n",
    "  print('Precision {}'.format(precision_score(y_test, y_pred)))"
   ],
   "metadata": {
    "id": "3JbxPeI6_q1G"
   },
   "execution_count": null,
   "outputs": []
  },
  {
   "cell_type": "code",
   "source": [
    "metrics(y_pred, y_test)"
   ],
   "metadata": {
    "colab": {
     "base_uri": "https://localhost:8080/"
    },
    "id": "Vf6q6cchAR4G",
    "executionInfo": {
     "status": "ok",
     "timestamp": 1663024843549,
     "user_tz": 180,
     "elapsed": 808,
     "user": {
      "displayName": "LEANDRO ROMUALDO DA SILVA",
      "userId": "16939956719304469598"
     }
    },
    "outputId": "fd9b6461-8f19-451d-db24-27b215d12b54"
   },
   "execution_count": null,
   "outputs": [
    {
     "output_type": "stream",
     "name": "stdout",
     "text": [
      "Acurácia 0.8344483501530786\n",
      "Recall 0.0\n",
      "F1 Score 0.0\n",
      "Precision 0.0\n"
     ]
    }
   ]
  },
  {
   "cell_type": "markdown",
   "source": [
    "## Tuning de Modelos\n",
    "\n",
    "##### Random Search"
   ],
   "metadata": {
    "id": "xEdauCZWAlz6"
   }
  },
  {
   "cell_type": "code",
   "source": [
    "n_estimator = [1, 50, 100, 150, 200, 250, 300, 400, 500]\n",
    "min_samples_split = [2, 4, 8, 16]\n",
    "min_samples_leaf = [1, 2, 4, 8]\n",
    "max_features = ['auto', 'sqrt', 'log2', None]\n",
    "max_depth = [2, 4, 6, 8, 10]\n",
    "\n",
    "# Dicionário com os parametros\n",
    "rf_params = {\n",
    "    'n_estimators':n_estimator,\n",
    "    'min_samples_split': min_samples_split,\n",
    "    'min_samples_leaf':min_samples_leaf,\n",
    "    'max_features':max_features,\n",
    "    'max_depth':max_depth\n",
    "}"
   ],
   "metadata": {
    "id": "O3wnXiJCCDGJ"
   },
   "execution_count": null,
   "outputs": []
  },
  {
   "cell_type": "code",
   "source": [
    "rf_tuned = RandomizedSearchCV(estimator=RandomForestClassifier(random_state=37), \n",
    "                              param_distributions=rf_params, # passagem dos parametros\n",
    "                              cv=5, # validação cruzada \n",
    "                              n_iter=5, # numero de interações\n",
    "                              scoring='precision', # metrica de avaliação \n",
    "                              n_jobs=-1, # uso de processadores \n",
    "                              verbose=0) # log"
   ],
   "metadata": {
    "id": "lh8OMVdOFx5u"
   },
   "execution_count": null,
   "outputs": []
  },
  {
   "cell_type": "code",
   "source": [
    "rf_tuned.fit(X_train, y_train)"
   ],
   "metadata": {
    "colab": {
     "base_uri": "https://localhost:8080/"
    },
    "id": "5863Oo2mGTPP",
    "executionInfo": {
     "status": "ok",
     "timestamp": 1663027167449,
     "user_tz": 180,
     "elapsed": 739061,
     "user": {
      "displayName": "LEANDRO ROMUALDO DA SILVA",
      "userId": "16939956719304469598"
     }
    },
    "outputId": "14ed8ae1-7e48-46b0-b062-7e62352a0e6d"
   },
   "execution_count": null,
   "outputs": [
    {
     "output_type": "execute_result",
     "data": {
      "text/plain": [
       "RandomizedSearchCV(cv=5, estimator=RandomForestClassifier(random_state=37),\n",
       "                   n_iter=5, n_jobs=-1,\n",
       "                   param_distributions={'max_depth': [2, 4, 6, 8, 10],\n",
       "                                        'max_features': ['auto', 'sqrt', 'log2',\n",
       "                                                         None],\n",
       "                                        'min_samples_leaf': [1, 2, 4, 8],\n",
       "                                        'min_samples_split': [2, 4, 8, 16],\n",
       "                                        'n_estimators': [1, 50, 100, 150, 200,\n",
       "                                                         250, 300, 400, 500]},\n",
       "                   scoring='precision')"
      ]
     },
     "metadata": {},
     "execution_count": 44
    }
   ]
  },
  {
   "cell_type": "code",
   "source": [
    "y_pred = rf_tuned.predict(X_test)"
   ],
   "metadata": {
    "id": "VgZgt75YGXZb"
   },
   "execution_count": null,
   "outputs": []
  },
  {
   "cell_type": "code",
   "source": [
    "metrics(y_pred, y_test)"
   ],
   "metadata": {
    "colab": {
     "base_uri": "https://localhost:8080/"
    },
    "id": "PRsDIMYwGdb0",
    "executionInfo": {
     "status": "ok",
     "timestamp": 1663027172512,
     "user_tz": 180,
     "elapsed": 16,
     "user": {
      "displayName": "LEANDRO ROMUALDO DA SILVA",
      "userId": "16939956719304469598"
     }
    },
    "outputId": "c85c3874-ef2e-4da5-e124-5ed016fad508"
   },
   "execution_count": null,
   "outputs": [
    {
     "output_type": "stream",
     "name": "stdout",
     "text": [
      "Acurácia 0.8972149293047355\n",
      "Recall 0.3791359325605901\n",
      "F1 Score 0.5498166259168704\n",
      "Precision 1.0\n"
     ]
    }
   ]
  },
  {
   "cell_type": "code",
   "source": [
    "print('Melhor número de árvores: {}'.format(rf_tuned.best_params_['n_estimators']))\n",
    "print('Melhor número número mínimo de amostras necessárias para dividir um nó interno: {}'.format(rf_tuned.best_params_['min_samples_split']))\n",
    "print('Melhor número mínimo de amostras necessárias para estar em um nó da folha: {}'.format(rf_tuned.best_params_['min_samples_leaf']))\n",
    "print('Melhor número de variáveis a serem considerados ao procurar a melhor divisão: {}'.format(rf_tuned.best_params_['max_features']))\n",
    "print('Melhor nível de profundidade máxima da arvore: {}'.format(rf_tuned.best_params_['max_depth']))"
   ],
   "metadata": {
    "colab": {
     "base_uri": "https://localhost:8080/"
    },
    "id": "Lyzc-IGOGhqL",
    "executionInfo": {
     "status": "ok",
     "timestamp": 1663027172512,
     "user_tz": 180,
     "elapsed": 10,
     "user": {
      "displayName": "LEANDRO ROMUALDO DA SILVA",
      "userId": "16939956719304469598"
     }
    },
    "outputId": "41fedd74-72be-412a-ab18-243be8104736"
   },
   "execution_count": null,
   "outputs": [
    {
     "output_type": "stream",
     "name": "stdout",
     "text": [
      "Melhor número de árvores: 400\n",
      "Melhor número número mínimo de amostras necessárias para dividir um nó interno: 8\n",
      "Melhor número mínimo de amostras necessárias para estar em um nó da folha: 4\n",
      "Melhor número de variáveis a serem considerados ao procurar a melhor divisão: log2\n",
      "Melhor nível de profundidade máxima da arvore: 10\n"
     ]
    }
   ]
  },
  {
   "cell_type": "code",
   "source": [
    "import joblib \n",
    "joblib.dump(rf_tuned, '/content/rf_tuned.pkl')\n",
    "joblib.dump(rf_tuned, '/content/rf_tuned.joblib')"
   ],
   "metadata": {
    "colab": {
     "base_uri": "https://localhost:8080/"
    },
    "id": "7REC1LEwG1GN",
    "executionInfo": {
     "status": "ok",
     "timestamp": 1663027173020,
     "user_tz": 180,
     "elapsed": 514,
     "user": {
      "displayName": "LEANDRO ROMUALDO DA SILVA",
      "userId": "16939956719304469598"
     }
    },
    "outputId": "d6bfd240-60ae-4e65-bc06-1997703adf39"
   },
   "execution_count": null,
   "outputs": [
    {
     "output_type": "execute_result",
     "data": {
      "text/plain": [
       "['/content/rf_tuned.joblib']"
      ]
     },
     "metadata": {},
     "execution_count": 48
    }
   ]
  }
 ]
}
