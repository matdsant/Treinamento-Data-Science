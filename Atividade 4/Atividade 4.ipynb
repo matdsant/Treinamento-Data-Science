{
 "cells": [
  {
   "cell_type": "markdown",
   "source": [],
   "metadata": {
    "collapsed": false
   }
  },
  {
   "cell_type": "code",
   "execution_count": 2,
   "metadata": {
    "collapsed": true,
    "ExecuteTime": {
     "end_time": "2023-07-12T12:53:57.012401800Z",
     "start_time": "2023-07-12T12:53:56.875116700Z"
    }
   },
   "outputs": [],
   "source": [
    "# Bibliotecas para baixar o dataset, graficos e leitura do dataset\n",
    "\n",
    "import pandas as pd\n",
    "import seaborn as sns\n",
    "import matplotlib.pyplot as plt\n",
    "import numpy as np\n",
    "\n",
    "pd.set_option('display.max_rows', 1000)\n",
    "pd.set_option('display.max_columns', 1000)"
   ]
  },
  {
   "cell_type": "code",
   "execution_count": 3,
   "outputs": [
    {
     "data": {
      "text/plain": "(382154, 12)"
     },
     "execution_count": 3,
     "metadata": {},
     "output_type": "execute_result"
    }
   ],
   "source": [
    "# Baixa os dados de treinamento\n",
    "file_path_train = 'C:/Treinamento-Data-Science/Atividade 4/aug_train.csv'\n",
    "df_train = pd.read_csv(file_path_train)\n",
    "df_train.shape"
   ],
   "metadata": {
    "collapsed": false,
    "ExecuteTime": {
     "end_time": "2023-07-12T12:53:57.190324100Z",
     "start_time": "2023-07-12T12:53:56.879403900Z"
    }
   }
  },
  {
   "cell_type": "code",
   "execution_count": 4,
   "outputs": [
    {
     "data": {
      "text/plain": "(78273, 11)"
     },
     "execution_count": 4,
     "metadata": {},
     "output_type": "execute_result"
    }
   ],
   "source": [
    "# Baixa os dados de teste\n",
    "file_path_test = 'C:/Treinamento-Data-Science/Atividade 4/aug_test.csv'\n",
    "df_test = pd.read_csv(file_path_test)\n",
    "df_test.shape"
   ],
   "metadata": {
    "collapsed": false,
    "ExecuteTime": {
     "end_time": "2023-07-12T12:53:57.273705400Z",
     "start_time": "2023-07-12T12:53:57.156322700Z"
    }
   }
  },
  {
   "cell_type": "code",
   "execution_count": 5,
   "outputs": [
    {
     "data": {
      "text/plain": "            id  Gender  Age  Driving_License  Region_Code  Previously_Insured  \\\n143810  317575  Female   20                1          8.0                   1   \n187818   85088  Female   27                1         26.0                   1   \n58444   169093  Female   64                1         28.0                   0   \n\n       Vehicle_Age Vehicle_Damage  Annual_Premium  Policy_Sales_Channel  \\\n143810    < 1 Year             No         32153.0                 160.0   \n187818    < 1 Year             No         39279.0                 152.0   \n58444    > 2 Years            Yes        336395.0                 122.0   \n\n        Vintage  Response  \n143810       41         0  \n187818      298         0  \n58444       220         0  ",
      "text/html": "<div>\n<style scoped>\n    .dataframe tbody tr th:only-of-type {\n        vertical-align: middle;\n    }\n\n    .dataframe tbody tr th {\n        vertical-align: top;\n    }\n\n    .dataframe thead th {\n        text-align: right;\n    }\n</style>\n<table border=\"1\" class=\"dataframe\">\n  <thead>\n    <tr style=\"text-align: right;\">\n      <th></th>\n      <th>id</th>\n      <th>Gender</th>\n      <th>Age</th>\n      <th>Driving_License</th>\n      <th>Region_Code</th>\n      <th>Previously_Insured</th>\n      <th>Vehicle_Age</th>\n      <th>Vehicle_Damage</th>\n      <th>Annual_Premium</th>\n      <th>Policy_Sales_Channel</th>\n      <th>Vintage</th>\n      <th>Response</th>\n    </tr>\n  </thead>\n  <tbody>\n    <tr>\n      <th>143810</th>\n      <td>317575</td>\n      <td>Female</td>\n      <td>20</td>\n      <td>1</td>\n      <td>8.0</td>\n      <td>1</td>\n      <td>&lt; 1 Year</td>\n      <td>No</td>\n      <td>32153.0</td>\n      <td>160.0</td>\n      <td>41</td>\n      <td>0</td>\n    </tr>\n    <tr>\n      <th>187818</th>\n      <td>85088</td>\n      <td>Female</td>\n      <td>27</td>\n      <td>1</td>\n      <td>26.0</td>\n      <td>1</td>\n      <td>&lt; 1 Year</td>\n      <td>No</td>\n      <td>39279.0</td>\n      <td>152.0</td>\n      <td>298</td>\n      <td>0</td>\n    </tr>\n    <tr>\n      <th>58444</th>\n      <td>169093</td>\n      <td>Female</td>\n      <td>64</td>\n      <td>1</td>\n      <td>28.0</td>\n      <td>0</td>\n      <td>&gt; 2 Years</td>\n      <td>Yes</td>\n      <td>336395.0</td>\n      <td>122.0</td>\n      <td>220</td>\n      <td>0</td>\n    </tr>\n  </tbody>\n</table>\n</div>"
     },
     "execution_count": 5,
     "metadata": {},
     "output_type": "execute_result"
    }
   ],
   "source": [
    "# Três primeiras linhas do dataset de Treino\n",
    "df_train.sample(3)"
   ],
   "metadata": {
    "collapsed": false,
    "ExecuteTime": {
     "end_time": "2023-07-12T12:53:57.274703900Z",
     "start_time": "2023-07-12T12:53:57.231516100Z"
    }
   }
  },
  {
   "cell_type": "code",
   "execution_count": 6,
   "outputs": [
    {
     "data": {
      "text/plain": "           id Gender  Age  Driving_License  Region_Code  Previously_Insured  \\\n69230  150442   Male   45                1         46.0                   0   \n55436   32417   Male   23                1         28.0                   1   \n1737   467047   Male   33                1         29.0                   1   \n\n      Vehicle_Age Vehicle_Damage  Annual_Premium  Policy_Sales_Channel  \\\n69230    1-2 Year            Yes         38740.0                 124.0   \n55436    < 1 Year            Yes         23982.0                 152.0   \n1737     < 1 Year             No          2630.0                 152.0   \n\n       Vintage  \n69230       79  \n55436      198  \n1737        54  ",
      "text/html": "<div>\n<style scoped>\n    .dataframe tbody tr th:only-of-type {\n        vertical-align: middle;\n    }\n\n    .dataframe tbody tr th {\n        vertical-align: top;\n    }\n\n    .dataframe thead th {\n        text-align: right;\n    }\n</style>\n<table border=\"1\" class=\"dataframe\">\n  <thead>\n    <tr style=\"text-align: right;\">\n      <th></th>\n      <th>id</th>\n      <th>Gender</th>\n      <th>Age</th>\n      <th>Driving_License</th>\n      <th>Region_Code</th>\n      <th>Previously_Insured</th>\n      <th>Vehicle_Age</th>\n      <th>Vehicle_Damage</th>\n      <th>Annual_Premium</th>\n      <th>Policy_Sales_Channel</th>\n      <th>Vintage</th>\n    </tr>\n  </thead>\n  <tbody>\n    <tr>\n      <th>69230</th>\n      <td>150442</td>\n      <td>Male</td>\n      <td>45</td>\n      <td>1</td>\n      <td>46.0</td>\n      <td>0</td>\n      <td>1-2 Year</td>\n      <td>Yes</td>\n      <td>38740.0</td>\n      <td>124.0</td>\n      <td>79</td>\n    </tr>\n    <tr>\n      <th>55436</th>\n      <td>32417</td>\n      <td>Male</td>\n      <td>23</td>\n      <td>1</td>\n      <td>28.0</td>\n      <td>1</td>\n      <td>&lt; 1 Year</td>\n      <td>Yes</td>\n      <td>23982.0</td>\n      <td>152.0</td>\n      <td>198</td>\n    </tr>\n    <tr>\n      <th>1737</th>\n      <td>467047</td>\n      <td>Male</td>\n      <td>33</td>\n      <td>1</td>\n      <td>29.0</td>\n      <td>1</td>\n      <td>&lt; 1 Year</td>\n      <td>No</td>\n      <td>2630.0</td>\n      <td>152.0</td>\n      <td>54</td>\n    </tr>\n  </tbody>\n</table>\n</div>"
     },
     "execution_count": 6,
     "metadata": {},
     "output_type": "execute_result"
    }
   ],
   "source": [
    "# Três primeiras linhas do dataset de Teste\n",
    "df_test.sample(3)"
   ],
   "metadata": {
    "collapsed": false,
    "ExecuteTime": {
     "end_time": "2023-07-12T12:53:57.275703800Z",
     "start_time": "2023-07-12T12:53:57.264705100Z"
    }
   }
  },
  {
   "cell_type": "code",
   "execution_count": 7,
   "outputs": [
    {
     "data": {
      "text/plain": "            id  Gender  Age  Driving_License  Region_Code  Previously_Insured  \\\n49772   291662  Female   40                1         28.0                   0   \n24509   168770  Female   28                1         43.0                   1   \n297646  239735    Male   34                1         46.0                   0   \n\n       Vehicle_Age Vehicle_Damage  Annual_Premium  Policy_Sales_Channel  \\\n49772     1-2 Year            Yes         28344.0                 124.0   \n24509     < 1 Year             No          2630.0                 152.0   \n297646    1-2 Year            Yes          2630.0                 124.0   \n\n        Vintage  Response  \n49772       159         2  \n24509       197         0  \n297646      284         1  ",
      "text/html": "<div>\n<style scoped>\n    .dataframe tbody tr th:only-of-type {\n        vertical-align: middle;\n    }\n\n    .dataframe tbody tr th {\n        vertical-align: top;\n    }\n\n    .dataframe thead th {\n        text-align: right;\n    }\n</style>\n<table border=\"1\" class=\"dataframe\">\n  <thead>\n    <tr style=\"text-align: right;\">\n      <th></th>\n      <th>id</th>\n      <th>Gender</th>\n      <th>Age</th>\n      <th>Driving_License</th>\n      <th>Region_Code</th>\n      <th>Previously_Insured</th>\n      <th>Vehicle_Age</th>\n      <th>Vehicle_Damage</th>\n      <th>Annual_Premium</th>\n      <th>Policy_Sales_Channel</th>\n      <th>Vintage</th>\n      <th>Response</th>\n    </tr>\n  </thead>\n  <tbody>\n    <tr>\n      <th>49772</th>\n      <td>291662</td>\n      <td>Female</td>\n      <td>40</td>\n      <td>1</td>\n      <td>28.0</td>\n      <td>0</td>\n      <td>1-2 Year</td>\n      <td>Yes</td>\n      <td>28344.0</td>\n      <td>124.0</td>\n      <td>159</td>\n      <td>2</td>\n    </tr>\n    <tr>\n      <th>24509</th>\n      <td>168770</td>\n      <td>Female</td>\n      <td>28</td>\n      <td>1</td>\n      <td>43.0</td>\n      <td>1</td>\n      <td>&lt; 1 Year</td>\n      <td>No</td>\n      <td>2630.0</td>\n      <td>152.0</td>\n      <td>197</td>\n      <td>0</td>\n    </tr>\n    <tr>\n      <th>297646</th>\n      <td>239735</td>\n      <td>Male</td>\n      <td>34</td>\n      <td>1</td>\n      <td>46.0</td>\n      <td>0</td>\n      <td>1-2 Year</td>\n      <td>Yes</td>\n      <td>2630.0</td>\n      <td>124.0</td>\n      <td>284</td>\n      <td>1</td>\n    </tr>\n  </tbody>\n</table>\n</div>"
     },
     "execution_count": 7,
     "metadata": {},
     "output_type": "execute_result"
    }
   ],
   "source": [
    "# Merge dos Datasets\n",
    "df_test['Response'] = 2 # Criando coluna \"Response\" no dataset de teste para concatenar com treino\n",
    "frames = [df_train, df_test]\n",
    "df_full = pd.concat(frames)\n",
    "df_full.sample(3)"
   ],
   "metadata": {
    "collapsed": false,
    "ExecuteTime": {
     "end_time": "2023-07-12T12:53:57.353758600Z",
     "start_time": "2023-07-12T12:53:57.264705100Z"
    }
   }
  },
  {
   "cell_type": "code",
   "execution_count": 8,
   "outputs": [
    {
     "data": {
      "text/plain": "Response\n0    319553\n2     78273\n1     62601\nName: count, dtype: int64"
     },
     "execution_count": 8,
     "metadata": {},
     "output_type": "execute_result"
    }
   ],
   "source": [
    "# Contagem dos valores\n",
    "df_full['Response'].value_counts()"
   ],
   "metadata": {
    "collapsed": false,
    "ExecuteTime": {
     "end_time": "2023-07-12T12:53:57.375759Z",
     "start_time": "2023-07-12T12:53:57.304324200Z"
    }
   }
  },
  {
   "cell_type": "code",
   "execution_count": 9,
   "outputs": [],
   "source": [
    "# Antes de Executar a Instalação, executar o DataSpell como ADM\n",
    "# Executar a célula com o PIP Install\n",
    "# Reiniciar o ambiente de execução (Se necessário)\n",
    "# Comentar essa célula e executar tudo novamente\n",
    "# !pip install https://github.com/pandas-profiling/pandas-profiling/archive/master.zip"
   ],
   "metadata": {
    "collapsed": false,
    "ExecuteTime": {
     "end_time": "2023-07-12T12:53:57.423759Z",
     "start_time": "2023-07-12T12:53:57.314846200Z"
    }
   }
  },
  {
   "cell_type": "code",
   "execution_count": 10,
   "outputs": [
    {
     "name": "stderr",
     "output_type": "stream",
     "text": [
      "C:\\Users\\mathe\\AppData\\Local\\Temp\\ipykernel_14992\\2506274947.py:1: DeprecationWarning: `import pandas_profiling` is going to be deprecated by April 1st. Please use `import ydata_profiling` instead.\n",
      "  from pandas_profiling import ProfileReport\n"
     ]
    }
   ],
   "source": [
    "from pandas_profiling import ProfileReport\n",
    "\n",
    "profile = ProfileReport(df_full, title=\"Pandas Profiling Report\", explorative=True)"
   ],
   "metadata": {
    "collapsed": false,
    "ExecuteTime": {
     "end_time": "2023-07-12T12:54:10.614464400Z",
     "start_time": "2023-07-12T12:53:57.322765100Z"
    }
   }
  },
  {
   "cell_type": "code",
   "execution_count": 11,
   "outputs": [
    {
     "data": {
      "text/plain": "Summarize dataset:   0%|          | 0/5 [00:00<?, ?it/s]",
      "application/vnd.jupyter.widget-view+json": {
       "version_major": 2,
       "version_minor": 0,
       "model_id": "e5b6779407da4d82b22dbb047347f65a"
      }
     },
     "metadata": {},
     "output_type": "display_data"
    },
    {
     "name": "stderr",
     "output_type": "stream",
     "text": [
      "C:\\Program Files\\Python311\\Lib\\site-packages\\ydata_profiling\\model\\correlations.py:66: UserWarning: There was an attempt to calculate the auto correlation, but this failed.\n",
      "To hide this warning, disable the calculation\n",
      "(using `df.profile_report(correlations={\"auto\": {\"calculate\": False}})`\n",
      "If this is problematic for your use case, please report this as an issue:\n",
      "https://github.com/ydataai/ydata-profiling/issues\n",
      "(include the error message: 'cannot reindex on an axis with duplicate labels')\n",
      "  warnings.warn(\n"
     ]
    },
    {
     "data": {
      "text/plain": "Generate report structure:   0%|          | 0/1 [00:00<?, ?it/s]",
      "application/vnd.jupyter.widget-view+json": {
       "version_major": 2,
       "version_minor": 0,
       "model_id": "fce830ab632d4c628c1fc2967d61951b"
      }
     },
     "metadata": {},
     "output_type": "display_data"
    },
    {
     "data": {
      "text/plain": "Render widgets:   0%|          | 0/1 [00:00<?, ?it/s]",
      "application/vnd.jupyter.widget-view+json": {
       "version_major": 2,
       "version_minor": 0,
       "model_id": "a44623738daf4739b9945389b4d34297"
      }
     },
     "metadata": {},
     "output_type": "display_data"
    },
    {
     "data": {
      "text/plain": "VBox(children=(Tab(children=(Tab(children=(GridBox(children=(VBox(children=(GridspecLayout(children=(HTML(valu…",
      "application/vnd.jupyter.widget-view+json": {
       "version_major": 2,
       "version_minor": 0,
       "model_id": "8b898f46243d43e3bb0adaa47733acc5"
      }
     },
     "metadata": {},
     "output_type": "display_data"
    }
   ],
   "source": [
    "profile.to_widgets()"
   ],
   "metadata": {
    "collapsed": false,
    "ExecuteTime": {
     "end_time": "2023-07-12T12:54:28.011505800Z",
     "start_time": "2023-07-12T12:54:10.612465900Z"
    }
   }
  },
  {
   "cell_type": "markdown",
   "source": [
    "#### Feature engineering"
   ],
   "metadata": {
    "collapsed": false
   }
  },
  {
   "cell_type": "code",
   "execution_count": 12,
   "outputs": [],
   "source": [
    "import pandas as pd\n",
    "import seaborn as sn\n",
    "from sklearn import preprocessing\n",
    "from sklearn.preprocessing import OneHotEncoder, MinMaxScaler\n",
    "from sklearn.feature_selection import SelectKBest, chi2\n",
    "from sklearn.model_selection import train_test_split\n",
    "import seaborn as sns\n",
    "import matplotlib.pyplot as plt\n",
    "from sklearn.model_selection import KFold\n",
    "from sklearn.model_selection import cross_val_score\n",
    "from sklearn.model_selection import cross_val_predict\n",
    "from sklearn.metrics import confusion_matrix\n",
    "from sklearn.metrics import (roc_curve,\n",
    "                             recall_score,\n",
    "                             roc_auc_score,\n",
    "                             accuracy_score,\n",
    "                             precision_score,\n",
    "                             f1_score)\n",
    "from sklearn.ensemble import (AdaBoostClassifier,\n",
    "                              GradientBoostingClassifier,\n",
    "                              ExtraTreesClassifier,\n",
    "                              RandomForestClassifier)\n",
    "from sklearn.linear_model import LogisticRegression\n",
    "from sklearn.svm import SVC, LinearSVC\n",
    "from sklearn.neighbors import KNeighborsClassifier\n",
    "from sklearn.model_selection import GridSearchCV, RandomizedSearchCV\n",
    "\n",
    "import warnings\n",
    "warnings.filterwarnings('ignore')"
   ],
   "metadata": {
    "collapsed": false,
    "ExecuteTime": {
     "end_time": "2023-07-12T12:54:39.755676Z",
     "start_time": "2023-07-12T12:54:29.070725900Z"
    }
   }
  },
  {
   "cell_type": "markdown",
   "source": [
    "##### Transformações de categorias para números sequenciais"
   ],
   "metadata": {
    "collapsed": false
   }
  },
  {
   "cell_type": "code",
   "execution_count": 13,
   "outputs": [],
   "source": [
    "# Label encoder transforma variáveis categoricas em números sequenciais\n",
    "le = preprocessing.LabelEncoder() # Instancia objeto chamado LE para o Label Encoder\n",
    "df_full['Gender'] = le.fit_transform(df_full['Gender'])"
   ],
   "metadata": {
    "collapsed": false,
    "ExecuteTime": {
     "end_time": "2023-07-12T12:54:39.844596900Z",
     "start_time": "2023-07-12T12:54:39.756678600Z"
    }
   }
  },
  {
   "cell_type": "code",
   "execution_count": 14,
   "outputs": [],
   "source": [
    "df_full['Vehicle_Damage'] = df_full['Vehicle_Damage'].astype('category') # transforma variável em categorica\n",
    "df_full['Vehicle_Damage'] = df_full['Vehicle_Damage'].cat.codes # gera numeros sequenciais para categorias"
   ],
   "metadata": {
    "collapsed": false,
    "ExecuteTime": {
     "end_time": "2023-07-12T12:54:39.870350500Z",
     "start_time": "2023-07-12T12:54:39.845595500Z"
    }
   }
  },
  {
   "cell_type": "markdown",
   "source": [
    "##### Get Dummies\n",
    "\n",
    " Transforma variável categorica em colunas binárias"
   ],
   "metadata": {
    "collapsed": false
   }
  },
  {
   "cell_type": "code",
   "execution_count": 15,
   "outputs": [],
   "source": [
    "df_full = pd.get_dummies(df_full, columns=['Vehicle_Age', 'Driving_License'])"
   ],
   "metadata": {
    "collapsed": false,
    "ExecuteTime": {
     "end_time": "2023-07-12T12:54:39.952314900Z",
     "start_time": "2023-07-12T12:54:39.910350400Z"
    }
   }
  },
  {
   "cell_type": "code",
   "execution_count": 16,
   "outputs": [],
   "source": [
    "df_full['Meses_segurado'] = round(df_full['Vintage']/30)"
   ],
   "metadata": {
    "collapsed": false,
    "ExecuteTime": {
     "end_time": "2023-07-12T12:54:39.959067200Z",
     "start_time": "2023-07-12T12:54:39.954318600Z"
    }
   }
  },
  {
   "cell_type": "markdown",
   "source": [
    "#### Divisão do dataset para treinamento"
   ],
   "metadata": {
    "collapsed": false
   }
  },
  {
   "cell_type": "code",
   "execution_count": 17,
   "outputs": [
    {
     "data": {
      "text/plain": "        Gender  Age  Region_Code  Previously_Insured  Vehicle_Damage  \\\nid                                                                     \n167647       1   22          7.0                   1               0   \n17163        1   42         28.0                   0               1   \n32023        0   66         33.0                   0               1   \n87447        0   22         33.0                   0               0   \n501933       1   28         46.0                   1               0   \n...        ...  ...          ...                 ...             ...   \n847          1   43         39.0                   0               1   \n417524       0   21         12.0                   1               0   \n188087       1   48         29.0                   1               0   \n215680       1   64          5.0                   1               0   \n138006       0   25         41.0                   1               0   \n\n        Annual_Premium  Policy_Sales_Channel  Vintage  Response  \\\nid                                                                \n167647          2630.0                 152.0       16         0   \n17163          43327.0                  26.0      135         0   \n32023          35841.0                 124.0      253         0   \n87447          27645.0                 152.0       69         0   \n501933         29023.0                 152.0      211         0   \n...                ...                   ...      ...       ...   \n847             2630.0                 124.0       26         2   \n417524         32937.0                 152.0      185         2   \n188087         35247.0                 124.0      101         2   \n215680         25705.0                  26.0       86         2   \n138006         27752.0                 152.0      235         2   \n\n        Vehicle_Age_1-2 Year  Vehicle_Age_< 1 Year  Vehicle_Age_> 2 Years  \\\nid                                                                          \n167647                 False                  True                  False   \n17163                   True                 False                  False   \n32023                   True                 False                  False   \n87447                  False                  True                  False   \n501933                 False                  True                  False   \n...                      ...                   ...                    ...   \n847                     True                 False                  False   \n417524                 False                  True                  False   \n188087                  True                 False                  False   \n215680                  True                 False                  False   \n138006                 False                  True                  False   \n\n        Driving_License_0  Driving_License_1  Meses_segurado  \nid                                                            \n167647              False               True             1.0  \n17163               False               True             4.0  \n32023               False               True             8.0  \n87447               False               True             2.0  \n501933              False               True             7.0  \n...                   ...                ...             ...  \n847                 False               True             1.0  \n417524              False               True             6.0  \n188087              False               True             3.0  \n215680              False               True             3.0  \n138006              False               True             8.0  \n\n[460427 rows x 15 columns]",
      "text/html": "<div>\n<style scoped>\n    .dataframe tbody tr th:only-of-type {\n        vertical-align: middle;\n    }\n\n    .dataframe tbody tr th {\n        vertical-align: top;\n    }\n\n    .dataframe thead th {\n        text-align: right;\n    }\n</style>\n<table border=\"1\" class=\"dataframe\">\n  <thead>\n    <tr style=\"text-align: right;\">\n      <th></th>\n      <th>Gender</th>\n      <th>Age</th>\n      <th>Region_Code</th>\n      <th>Previously_Insured</th>\n      <th>Vehicle_Damage</th>\n      <th>Annual_Premium</th>\n      <th>Policy_Sales_Channel</th>\n      <th>Vintage</th>\n      <th>Response</th>\n      <th>Vehicle_Age_1-2 Year</th>\n      <th>Vehicle_Age_&lt; 1 Year</th>\n      <th>Vehicle_Age_&gt; 2 Years</th>\n      <th>Driving_License_0</th>\n      <th>Driving_License_1</th>\n      <th>Meses_segurado</th>\n    </tr>\n    <tr>\n      <th>id</th>\n      <th></th>\n      <th></th>\n      <th></th>\n      <th></th>\n      <th></th>\n      <th></th>\n      <th></th>\n      <th></th>\n      <th></th>\n      <th></th>\n      <th></th>\n      <th></th>\n      <th></th>\n      <th></th>\n      <th></th>\n    </tr>\n  </thead>\n  <tbody>\n    <tr>\n      <th>167647</th>\n      <td>1</td>\n      <td>22</td>\n      <td>7.0</td>\n      <td>1</td>\n      <td>0</td>\n      <td>2630.0</td>\n      <td>152.0</td>\n      <td>16</td>\n      <td>0</td>\n      <td>False</td>\n      <td>True</td>\n      <td>False</td>\n      <td>False</td>\n      <td>True</td>\n      <td>1.0</td>\n    </tr>\n    <tr>\n      <th>17163</th>\n      <td>1</td>\n      <td>42</td>\n      <td>28.0</td>\n      <td>0</td>\n      <td>1</td>\n      <td>43327.0</td>\n      <td>26.0</td>\n      <td>135</td>\n      <td>0</td>\n      <td>True</td>\n      <td>False</td>\n      <td>False</td>\n      <td>False</td>\n      <td>True</td>\n      <td>4.0</td>\n    </tr>\n    <tr>\n      <th>32023</th>\n      <td>0</td>\n      <td>66</td>\n      <td>33.0</td>\n      <td>0</td>\n      <td>1</td>\n      <td>35841.0</td>\n      <td>124.0</td>\n      <td>253</td>\n      <td>0</td>\n      <td>True</td>\n      <td>False</td>\n      <td>False</td>\n      <td>False</td>\n      <td>True</td>\n      <td>8.0</td>\n    </tr>\n    <tr>\n      <th>87447</th>\n      <td>0</td>\n      <td>22</td>\n      <td>33.0</td>\n      <td>0</td>\n      <td>0</td>\n      <td>27645.0</td>\n      <td>152.0</td>\n      <td>69</td>\n      <td>0</td>\n      <td>False</td>\n      <td>True</td>\n      <td>False</td>\n      <td>False</td>\n      <td>True</td>\n      <td>2.0</td>\n    </tr>\n    <tr>\n      <th>501933</th>\n      <td>1</td>\n      <td>28</td>\n      <td>46.0</td>\n      <td>1</td>\n      <td>0</td>\n      <td>29023.0</td>\n      <td>152.0</td>\n      <td>211</td>\n      <td>0</td>\n      <td>False</td>\n      <td>True</td>\n      <td>False</td>\n      <td>False</td>\n      <td>True</td>\n      <td>7.0</td>\n    </tr>\n    <tr>\n      <th>...</th>\n      <td>...</td>\n      <td>...</td>\n      <td>...</td>\n      <td>...</td>\n      <td>...</td>\n      <td>...</td>\n      <td>...</td>\n      <td>...</td>\n      <td>...</td>\n      <td>...</td>\n      <td>...</td>\n      <td>...</td>\n      <td>...</td>\n      <td>...</td>\n      <td>...</td>\n    </tr>\n    <tr>\n      <th>847</th>\n      <td>1</td>\n      <td>43</td>\n      <td>39.0</td>\n      <td>0</td>\n      <td>1</td>\n      <td>2630.0</td>\n      <td>124.0</td>\n      <td>26</td>\n      <td>2</td>\n      <td>True</td>\n      <td>False</td>\n      <td>False</td>\n      <td>False</td>\n      <td>True</td>\n      <td>1.0</td>\n    </tr>\n    <tr>\n      <th>417524</th>\n      <td>0</td>\n      <td>21</td>\n      <td>12.0</td>\n      <td>1</td>\n      <td>0</td>\n      <td>32937.0</td>\n      <td>152.0</td>\n      <td>185</td>\n      <td>2</td>\n      <td>False</td>\n      <td>True</td>\n      <td>False</td>\n      <td>False</td>\n      <td>True</td>\n      <td>6.0</td>\n    </tr>\n    <tr>\n      <th>188087</th>\n      <td>1</td>\n      <td>48</td>\n      <td>29.0</td>\n      <td>1</td>\n      <td>0</td>\n      <td>35247.0</td>\n      <td>124.0</td>\n      <td>101</td>\n      <td>2</td>\n      <td>True</td>\n      <td>False</td>\n      <td>False</td>\n      <td>False</td>\n      <td>True</td>\n      <td>3.0</td>\n    </tr>\n    <tr>\n      <th>215680</th>\n      <td>1</td>\n      <td>64</td>\n      <td>5.0</td>\n      <td>1</td>\n      <td>0</td>\n      <td>25705.0</td>\n      <td>26.0</td>\n      <td>86</td>\n      <td>2</td>\n      <td>True</td>\n      <td>False</td>\n      <td>False</td>\n      <td>False</td>\n      <td>True</td>\n      <td>3.0</td>\n    </tr>\n    <tr>\n      <th>138006</th>\n      <td>0</td>\n      <td>25</td>\n      <td>41.0</td>\n      <td>1</td>\n      <td>0</td>\n      <td>27752.0</td>\n      <td>152.0</td>\n      <td>235</td>\n      <td>2</td>\n      <td>False</td>\n      <td>True</td>\n      <td>False</td>\n      <td>False</td>\n      <td>True</td>\n      <td>8.0</td>\n    </tr>\n  </tbody>\n</table>\n<p>460427 rows × 15 columns</p>\n</div>"
     },
     "execution_count": 17,
     "metadata": {},
     "output_type": "execute_result"
    }
   ],
   "source": [
    "df_full.set_index('id')"
   ],
   "metadata": {
    "collapsed": false,
    "ExecuteTime": {
     "end_time": "2023-07-12T12:54:40.013851Z",
     "start_time": "2023-07-12T12:54:39.961074Z"
    }
   }
  },
  {
   "cell_type": "code",
   "execution_count": 18,
   "outputs": [],
   "source": [
    "df_train = df_full.loc[df_full['Response'] != 2] # Tudo que é diferente de 2 volta para o dataset de treinamento\n",
    "df_test = df_full.loc[df_full['Response'] == 2] # Igual a 2 é o dataset de teste\n",
    "df_test.drop('Response', axis=1, inplace=True) # Apaga coluna Response do dataset de teste. axis=1(coluna), inplace=True persiste em memoria"
   ],
   "metadata": {
    "collapsed": false,
    "ExecuteTime": {
     "end_time": "2023-07-12T12:54:40.048425700Z",
     "start_time": "2023-07-12T12:54:40.007849900Z"
    }
   }
  },
  {
   "cell_type": "code",
   "execution_count": 19,
   "outputs": [],
   "source": [
    "X = df_train.drop('Response', axis=1)\n",
    "y = df_train['Response']"
   ],
   "metadata": {
    "collapsed": false,
    "ExecuteTime": {
     "end_time": "2023-07-12T12:54:40.113228700Z",
     "start_time": "2023-07-12T12:54:40.049426Z"
    }
   }
  },
  {
   "cell_type": "code",
   "execution_count": 20,
   "outputs": [],
   "source": [
    "X_train, X_test, y_train, y_test = train_test_split(X, y, test_size=0.3, random_state=123)"
   ],
   "metadata": {
    "collapsed": false,
    "ExecuteTime": {
     "end_time": "2023-07-12T12:54:40.259321600Z",
     "start_time": "2023-07-12T12:54:40.069229Z"
    }
   }
  },
  {
   "cell_type": "markdown",
   "source": [
    "##### Random Forest com parametros aleatórios"
   ],
   "metadata": {
    "collapsed": false
   }
  },
  {
   "cell_type": "code",
   "execution_count": 21,
   "outputs": [],
   "source": [
    "# Random Forest com parametros aleatórios\n",
    "# https://scikit-learn.org/stable/modules/generated/sklearn.ensemble.RandomForestRegressor.html\n",
    "\n",
    "rf = RandomForestClassifier(n_estimators=3,       # Número de árvores do algoritmo (padrão 100)\n",
    "                            max_depth = 2,        # Padrão None, numeros inteiros. Profundidade máxima da árvore\n",
    "                            n_jobs=10,            # Número de execuções paralelas\n",
    "                            min_samples_split=10, # Padrão 2, numeros inteiros numero de divisão de um nó\n",
    "                            min_samples_leaf=4,   # Padrão 1, numeros inteiros. Numero minimo necessário para estar num nó folha\n",
    "                            max_features='sqrt')  # “sqrt”, “log2”, None, ou valor inteiro limitado ao número de features"
   ],
   "metadata": {
    "collapsed": false,
    "ExecuteTime": {
     "end_time": "2023-07-12T12:54:40.333457400Z",
     "start_time": "2023-07-12T12:54:40.195742600Z"
    }
   }
  },
  {
   "cell_type": "code",
   "execution_count": 22,
   "outputs": [
    {
     "data": {
      "text/plain": "RandomForestClassifier(max_depth=2, min_samples_leaf=4, min_samples_split=10,\n                       n_estimators=3, n_jobs=10)",
      "text/html": "<style>#sk-container-id-1 {color: black;}#sk-container-id-1 pre{padding: 0;}#sk-container-id-1 div.sk-toggleable {background-color: white;}#sk-container-id-1 label.sk-toggleable__label {cursor: pointer;display: block;width: 100%;margin-bottom: 0;padding: 0.3em;box-sizing: border-box;text-align: center;}#sk-container-id-1 label.sk-toggleable__label-arrow:before {content: \"▸\";float: left;margin-right: 0.25em;color: #696969;}#sk-container-id-1 label.sk-toggleable__label-arrow:hover:before {color: black;}#sk-container-id-1 div.sk-estimator:hover label.sk-toggleable__label-arrow:before {color: black;}#sk-container-id-1 div.sk-toggleable__content {max-height: 0;max-width: 0;overflow: hidden;text-align: left;background-color: #f0f8ff;}#sk-container-id-1 div.sk-toggleable__content pre {margin: 0.2em;color: black;border-radius: 0.25em;background-color: #f0f8ff;}#sk-container-id-1 input.sk-toggleable__control:checked~div.sk-toggleable__content {max-height: 200px;max-width: 100%;overflow: auto;}#sk-container-id-1 input.sk-toggleable__control:checked~label.sk-toggleable__label-arrow:before {content: \"▾\";}#sk-container-id-1 div.sk-estimator input.sk-toggleable__control:checked~label.sk-toggleable__label {background-color: #d4ebff;}#sk-container-id-1 div.sk-label input.sk-toggleable__control:checked~label.sk-toggleable__label {background-color: #d4ebff;}#sk-container-id-1 input.sk-hidden--visually {border: 0;clip: rect(1px 1px 1px 1px);clip: rect(1px, 1px, 1px, 1px);height: 1px;margin: -1px;overflow: hidden;padding: 0;position: absolute;width: 1px;}#sk-container-id-1 div.sk-estimator {font-family: monospace;background-color: #f0f8ff;border: 1px dotted black;border-radius: 0.25em;box-sizing: border-box;margin-bottom: 0.5em;}#sk-container-id-1 div.sk-estimator:hover {background-color: #d4ebff;}#sk-container-id-1 div.sk-parallel-item::after {content: \"\";width: 100%;border-bottom: 1px solid gray;flex-grow: 1;}#sk-container-id-1 div.sk-label:hover label.sk-toggleable__label {background-color: #d4ebff;}#sk-container-id-1 div.sk-serial::before {content: \"\";position: absolute;border-left: 1px solid gray;box-sizing: border-box;top: 0;bottom: 0;left: 50%;z-index: 0;}#sk-container-id-1 div.sk-serial {display: flex;flex-direction: column;align-items: center;background-color: white;padding-right: 0.2em;padding-left: 0.2em;position: relative;}#sk-container-id-1 div.sk-item {position: relative;z-index: 1;}#sk-container-id-1 div.sk-parallel {display: flex;align-items: stretch;justify-content: center;background-color: white;position: relative;}#sk-container-id-1 div.sk-item::before, #sk-container-id-1 div.sk-parallel-item::before {content: \"\";position: absolute;border-left: 1px solid gray;box-sizing: border-box;top: 0;bottom: 0;left: 50%;z-index: -1;}#sk-container-id-1 div.sk-parallel-item {display: flex;flex-direction: column;z-index: 1;position: relative;background-color: white;}#sk-container-id-1 div.sk-parallel-item:first-child::after {align-self: flex-end;width: 50%;}#sk-container-id-1 div.sk-parallel-item:last-child::after {align-self: flex-start;width: 50%;}#sk-container-id-1 div.sk-parallel-item:only-child::after {width: 0;}#sk-container-id-1 div.sk-dashed-wrapped {border: 1px dashed gray;margin: 0 0.4em 0.5em 0.4em;box-sizing: border-box;padding-bottom: 0.4em;background-color: white;}#sk-container-id-1 div.sk-label label {font-family: monospace;font-weight: bold;display: inline-block;line-height: 1.2em;}#sk-container-id-1 div.sk-label-container {text-align: center;}#sk-container-id-1 div.sk-container {/* jupyter's `normalize.less` sets `[hidden] { display: none; }` but bootstrap.min.css set `[hidden] { display: none !important; }` so we also need the `!important` here to be able to override the default hidden behavior on the sphinx rendered scikit-learn.org. See: https://github.com/scikit-learn/scikit-learn/issues/21755 */display: inline-block !important;position: relative;}#sk-container-id-1 div.sk-text-repr-fallback {display: none;}</style><div id=\"sk-container-id-1\" class=\"sk-top-container\"><div class=\"sk-text-repr-fallback\"><pre>RandomForestClassifier(max_depth=2, min_samples_leaf=4, min_samples_split=10,\n                       n_estimators=3, n_jobs=10)</pre><b>In a Jupyter environment, please rerun this cell to show the HTML representation or trust the notebook. <br />On GitHub, the HTML representation is unable to render, please try loading this page with nbviewer.org.</b></div><div class=\"sk-container\" hidden><div class=\"sk-item\"><div class=\"sk-estimator sk-toggleable\"><input class=\"sk-toggleable__control sk-hidden--visually\" id=\"sk-estimator-id-1\" type=\"checkbox\" checked><label for=\"sk-estimator-id-1\" class=\"sk-toggleable__label sk-toggleable__label-arrow\">RandomForestClassifier</label><div class=\"sk-toggleable__content\"><pre>RandomForestClassifier(max_depth=2, min_samples_leaf=4, min_samples_split=10,\n                       n_estimators=3, n_jobs=10)</pre></div></div></div></div></div>"
     },
     "execution_count": 22,
     "metadata": {},
     "output_type": "execute_result"
    }
   ],
   "source": [
    "rf.fit(X_train, y_train) # Treinamento do modelo"
   ],
   "metadata": {
    "collapsed": false,
    "ExecuteTime": {
     "end_time": "2023-07-12T12:54:40.471972600Z",
     "start_time": "2023-07-12T12:54:40.200804200Z"
    }
   }
  },
  {
   "cell_type": "code",
   "execution_count": 23,
   "outputs": [],
   "source": [
    "y_pred = rf.predict(X_test) # predict no dataset de test"
   ],
   "metadata": {
    "collapsed": false,
    "ExecuteTime": {
     "end_time": "2023-07-12T12:54:40.512265500Z",
     "start_time": "2023-07-12T12:54:40.474968600Z"
    }
   }
  },
  {
   "cell_type": "code",
   "execution_count": 24,
   "outputs": [],
   "source": [
    "def metrics(y_pred, y_test):\n",
    "    print('Acurácia {}'.format(accuracy_score(y_test, y_pred)))\n",
    "    print('Recall {}'.format(recall_score(y_test, y_pred)))\n",
    "    print('F1 Score {}'.format(f1_score(y_test, y_pred)))\n",
    "    print('Precision {}'.format(precision_score(y_test, y_pred)))"
   ],
   "metadata": {
    "collapsed": false,
    "ExecuteTime": {
     "end_time": "2023-07-12T12:54:40.513266200Z",
     "start_time": "2023-07-12T12:54:40.509752400Z"
    }
   }
  },
  {
   "cell_type": "code",
   "execution_count": 25,
   "outputs": [
    {
     "name": "stdout",
     "output_type": "stream",
     "text": [
      "Acurácia 0.8344483501530786\n",
      "Recall 0.0\n",
      "F1 Score 0.0\n",
      "Precision 0.0\n"
     ]
    }
   ],
   "source": [
    "metrics(y_pred, y_test)"
   ],
   "metadata": {
    "collapsed": false,
    "ExecuteTime": {
     "end_time": "2023-07-12T12:54:40.608231500Z",
     "start_time": "2023-07-12T12:54:40.513266200Z"
    }
   }
  },
  {
   "cell_type": "markdown",
   "source": [
    "## Tuning de Modelos\n",
    "\n",
    "##### Random Search"
   ],
   "metadata": {
    "collapsed": false
   }
  },
  {
   "cell_type": "code",
   "execution_count": 26,
   "outputs": [],
   "source": [
    "n_estimator = [1, 50, 100, 150, 200, 250, 300, 400, 500]\n",
    "min_samples_split = [2, 4, 8, 16]\n",
    "min_samples_leaf = [1, 2, 4, 8]\n",
    "max_features = ['auto', 'sqrt', 'log2', None]\n",
    "max_depth = [2, 4, 6, 8, 10]\n",
    "\n",
    "# Dicionário com os parametros\n",
    "rf_params = {\n",
    "    'n_estimators':n_estimator,\n",
    "    'min_samples_split': min_samples_split,\n",
    "    'min_samples_leaf':min_samples_leaf,\n",
    "    'max_features':max_features,\n",
    "    'max_depth':max_depth\n",
    "}"
   ],
   "metadata": {
    "collapsed": false,
    "ExecuteTime": {
     "end_time": "2023-07-12T12:54:40.610238700Z",
     "start_time": "2023-07-12T12:54:40.608231500Z"
    }
   }
  },
  {
   "cell_type": "code",
   "execution_count": 27,
   "outputs": [],
   "source": [
    "rf_tuned = RandomizedSearchCV(estimator=RandomForestClassifier(random_state=37),\n",
    "                              param_distributions=rf_params, # passagem dos parametros\n",
    "                              cv=5, # validação cruzada\n",
    "                              n_iter=5, # numero de interações\n",
    "                              scoring='precision', # metrica de avaliação\n",
    "                              n_jobs=-1, # uso de processadores\n",
    "                              verbose=0) # log"
   ],
   "metadata": {
    "collapsed": false,
    "ExecuteTime": {
     "end_time": "2023-07-12T12:54:40.621543700Z",
     "start_time": "2023-07-12T12:54:40.612239300Z"
    }
   }
  },
  {
   "cell_type": "code",
   "execution_count": 28,
   "outputs": [
    {
     "data": {
      "text/plain": "RandomizedSearchCV(cv=5, estimator=RandomForestClassifier(random_state=37),\n                   n_iter=5, n_jobs=-1,\n                   param_distributions={'max_depth': [2, 4, 6, 8, 10],\n                                        'max_features': ['auto', 'sqrt', 'log2',\n                                                         None],\n                                        'min_samples_leaf': [1, 2, 4, 8],\n                                        'min_samples_split': [2, 4, 8, 16],\n                                        'n_estimators': [1, 50, 100, 150, 200,\n                                                         250, 300, 400, 500]},\n                   scoring='precision')",
      "text/html": "<style>#sk-container-id-2 {color: black;}#sk-container-id-2 pre{padding: 0;}#sk-container-id-2 div.sk-toggleable {background-color: white;}#sk-container-id-2 label.sk-toggleable__label {cursor: pointer;display: block;width: 100%;margin-bottom: 0;padding: 0.3em;box-sizing: border-box;text-align: center;}#sk-container-id-2 label.sk-toggleable__label-arrow:before {content: \"▸\";float: left;margin-right: 0.25em;color: #696969;}#sk-container-id-2 label.sk-toggleable__label-arrow:hover:before {color: black;}#sk-container-id-2 div.sk-estimator:hover label.sk-toggleable__label-arrow:before {color: black;}#sk-container-id-2 div.sk-toggleable__content {max-height: 0;max-width: 0;overflow: hidden;text-align: left;background-color: #f0f8ff;}#sk-container-id-2 div.sk-toggleable__content pre {margin: 0.2em;color: black;border-radius: 0.25em;background-color: #f0f8ff;}#sk-container-id-2 input.sk-toggleable__control:checked~div.sk-toggleable__content {max-height: 200px;max-width: 100%;overflow: auto;}#sk-container-id-2 input.sk-toggleable__control:checked~label.sk-toggleable__label-arrow:before {content: \"▾\";}#sk-container-id-2 div.sk-estimator input.sk-toggleable__control:checked~label.sk-toggleable__label {background-color: #d4ebff;}#sk-container-id-2 div.sk-label input.sk-toggleable__control:checked~label.sk-toggleable__label {background-color: #d4ebff;}#sk-container-id-2 input.sk-hidden--visually {border: 0;clip: rect(1px 1px 1px 1px);clip: rect(1px, 1px, 1px, 1px);height: 1px;margin: -1px;overflow: hidden;padding: 0;position: absolute;width: 1px;}#sk-container-id-2 div.sk-estimator {font-family: monospace;background-color: #f0f8ff;border: 1px dotted black;border-radius: 0.25em;box-sizing: border-box;margin-bottom: 0.5em;}#sk-container-id-2 div.sk-estimator:hover {background-color: #d4ebff;}#sk-container-id-2 div.sk-parallel-item::after {content: \"\";width: 100%;border-bottom: 1px solid gray;flex-grow: 1;}#sk-container-id-2 div.sk-label:hover label.sk-toggleable__label {background-color: #d4ebff;}#sk-container-id-2 div.sk-serial::before {content: \"\";position: absolute;border-left: 1px solid gray;box-sizing: border-box;top: 0;bottom: 0;left: 50%;z-index: 0;}#sk-container-id-2 div.sk-serial {display: flex;flex-direction: column;align-items: center;background-color: white;padding-right: 0.2em;padding-left: 0.2em;position: relative;}#sk-container-id-2 div.sk-item {position: relative;z-index: 1;}#sk-container-id-2 div.sk-parallel {display: flex;align-items: stretch;justify-content: center;background-color: white;position: relative;}#sk-container-id-2 div.sk-item::before, #sk-container-id-2 div.sk-parallel-item::before {content: \"\";position: absolute;border-left: 1px solid gray;box-sizing: border-box;top: 0;bottom: 0;left: 50%;z-index: -1;}#sk-container-id-2 div.sk-parallel-item {display: flex;flex-direction: column;z-index: 1;position: relative;background-color: white;}#sk-container-id-2 div.sk-parallel-item:first-child::after {align-self: flex-end;width: 50%;}#sk-container-id-2 div.sk-parallel-item:last-child::after {align-self: flex-start;width: 50%;}#sk-container-id-2 div.sk-parallel-item:only-child::after {width: 0;}#sk-container-id-2 div.sk-dashed-wrapped {border: 1px dashed gray;margin: 0 0.4em 0.5em 0.4em;box-sizing: border-box;padding-bottom: 0.4em;background-color: white;}#sk-container-id-2 div.sk-label label {font-family: monospace;font-weight: bold;display: inline-block;line-height: 1.2em;}#sk-container-id-2 div.sk-label-container {text-align: center;}#sk-container-id-2 div.sk-container {/* jupyter's `normalize.less` sets `[hidden] { display: none; }` but bootstrap.min.css set `[hidden] { display: none !important; }` so we also need the `!important` here to be able to override the default hidden behavior on the sphinx rendered scikit-learn.org. See: https://github.com/scikit-learn/scikit-learn/issues/21755 */display: inline-block !important;position: relative;}#sk-container-id-2 div.sk-text-repr-fallback {display: none;}</style><div id=\"sk-container-id-2\" class=\"sk-top-container\"><div class=\"sk-text-repr-fallback\"><pre>RandomizedSearchCV(cv=5, estimator=RandomForestClassifier(random_state=37),\n                   n_iter=5, n_jobs=-1,\n                   param_distributions={&#x27;max_depth&#x27;: [2, 4, 6, 8, 10],\n                                        &#x27;max_features&#x27;: [&#x27;auto&#x27;, &#x27;sqrt&#x27;, &#x27;log2&#x27;,\n                                                         None],\n                                        &#x27;min_samples_leaf&#x27;: [1, 2, 4, 8],\n                                        &#x27;min_samples_split&#x27;: [2, 4, 8, 16],\n                                        &#x27;n_estimators&#x27;: [1, 50, 100, 150, 200,\n                                                         250, 300, 400, 500]},\n                   scoring=&#x27;precision&#x27;)</pre><b>In a Jupyter environment, please rerun this cell to show the HTML representation or trust the notebook. <br />On GitHub, the HTML representation is unable to render, please try loading this page with nbviewer.org.</b></div><div class=\"sk-container\" hidden><div class=\"sk-item sk-dashed-wrapped\"><div class=\"sk-label-container\"><div class=\"sk-label sk-toggleable\"><input class=\"sk-toggleable__control sk-hidden--visually\" id=\"sk-estimator-id-2\" type=\"checkbox\" ><label for=\"sk-estimator-id-2\" class=\"sk-toggleable__label sk-toggleable__label-arrow\">RandomizedSearchCV</label><div class=\"sk-toggleable__content\"><pre>RandomizedSearchCV(cv=5, estimator=RandomForestClassifier(random_state=37),\n                   n_iter=5, n_jobs=-1,\n                   param_distributions={&#x27;max_depth&#x27;: [2, 4, 6, 8, 10],\n                                        &#x27;max_features&#x27;: [&#x27;auto&#x27;, &#x27;sqrt&#x27;, &#x27;log2&#x27;,\n                                                         None],\n                                        &#x27;min_samples_leaf&#x27;: [1, 2, 4, 8],\n                                        &#x27;min_samples_split&#x27;: [2, 4, 8, 16],\n                                        &#x27;n_estimators&#x27;: [1, 50, 100, 150, 200,\n                                                         250, 300, 400, 500]},\n                   scoring=&#x27;precision&#x27;)</pre></div></div></div><div class=\"sk-parallel\"><div class=\"sk-parallel-item\"><div class=\"sk-item\"><div class=\"sk-label-container\"><div class=\"sk-label sk-toggleable\"><input class=\"sk-toggleable__control sk-hidden--visually\" id=\"sk-estimator-id-3\" type=\"checkbox\" ><label for=\"sk-estimator-id-3\" class=\"sk-toggleable__label sk-toggleable__label-arrow\">estimator: RandomForestClassifier</label><div class=\"sk-toggleable__content\"><pre>RandomForestClassifier(random_state=37)</pre></div></div></div><div class=\"sk-serial\"><div class=\"sk-item\"><div class=\"sk-estimator sk-toggleable\"><input class=\"sk-toggleable__control sk-hidden--visually\" id=\"sk-estimator-id-4\" type=\"checkbox\" ><label for=\"sk-estimator-id-4\" class=\"sk-toggleable__label sk-toggleable__label-arrow\">RandomForestClassifier</label><div class=\"sk-toggleable__content\"><pre>RandomForestClassifier(random_state=37)</pre></div></div></div></div></div></div></div></div></div></div>"
     },
     "execution_count": 28,
     "metadata": {},
     "output_type": "execute_result"
    }
   ],
   "source": [
    "rf_tuned.fit(X_train, y_train)"
   ],
   "metadata": {
    "collapsed": false,
    "ExecuteTime": {
     "end_time": "2023-07-12T13:06:09.669293400Z",
     "start_time": "2023-07-12T12:54:40.621543700Z"
    }
   }
  },
  {
   "cell_type": "code",
   "execution_count": 29,
   "outputs": [],
   "source": [
    "y_pred = rf_tuned.predict(X_test)"
   ],
   "metadata": {
    "collapsed": false,
    "ExecuteTime": {
     "end_time": "2023-07-12T13:06:12.612441600Z",
     "start_time": "2023-07-12T13:06:09.670294700Z"
    }
   }
  },
  {
   "cell_type": "code",
   "execution_count": 30,
   "outputs": [
    {
     "name": "stdout",
     "output_type": "stream",
     "text": [
      "Acurácia 0.8972149293047355\n",
      "Recall 0.3791359325605901\n",
      "F1 Score 0.5498166259168704\n",
      "Precision 1.0\n"
     ]
    }
   ],
   "source": [
    "metrics(y_pred, y_test)"
   ],
   "metadata": {
    "collapsed": false,
    "ExecuteTime": {
     "end_time": "2023-07-12T13:06:12.704426500Z",
     "start_time": "2023-07-12T13:06:12.614442800Z"
    }
   }
  },
  {
   "cell_type": "code",
   "execution_count": 31,
   "outputs": [
    {
     "name": "stdout",
     "output_type": "stream",
     "text": [
      "Melhor número de árvores: 500\n",
      "Melhor número número mínimo de amostras necessárias para dividir um nó interno: 16\n",
      "Melhor número mínimo de amostras necessárias para estar em um nó da folha: 1\n",
      "Melhor número de variáveis a serem considerados ao procurar a melhor divisão: None\n",
      "Melhor nível de profundidade máxima da arvore: 6\n"
     ]
    }
   ],
   "source": [
    "print('Melhor número de árvores: {}'.format(rf_tuned.best_params_['n_estimators']))\n",
    "print('Melhor número número mínimo de amostras necessárias para dividir um nó interno: {}'.format(rf_tuned.best_params_['min_samples_split']))\n",
    "print('Melhor número mínimo de amostras necessárias para estar em um nó da folha: {}'.format(rf_tuned.best_params_['min_samples_leaf']))\n",
    "print('Melhor número de variáveis a serem considerados ao procurar a melhor divisão: {}'.format(rf_tuned.best_params_['max_features']))\n",
    "print('Melhor nível de profundidade máxima da arvore: {}'.format(rf_tuned.best_params_['max_depth']))"
   ],
   "metadata": {
    "collapsed": false,
    "ExecuteTime": {
     "end_time": "2023-07-12T13:06:12.705424Z",
     "start_time": "2023-07-12T13:06:12.702504200Z"
    }
   }
  },
  {
   "cell_type": "code",
   "execution_count": 34,
   "outputs": [
    {
     "data": {
      "text/plain": "['C:/Treinamento-Data-Science/Atividade 4/rf_tuned.joblib']"
     },
     "execution_count": 34,
     "metadata": {},
     "output_type": "execute_result"
    }
   ],
   "source": [
    "import joblib\n",
    "joblib.dump(rf_tuned, 'C:/Treinamento-Data-Science/Atividade 4/rf_tuned.pkl')\n",
    "joblib.dump(rf_tuned, 'C:/Treinamento-Data-Science/Atividade 4/rf_tuned.joblib')"
   ],
   "metadata": {
    "collapsed": false,
    "ExecuteTime": {
     "end_time": "2023-07-12T13:22:04.071730Z",
     "start_time": "2023-07-12T13:22:03.830119900Z"
    }
   }
  }
 ],
 "metadata": {
  "kernelspec": {
   "display_name": "Python 3",
   "language": "python",
   "name": "python3"
  },
  "language_info": {
   "codemirror_mode": {
    "name": "ipython",
    "version": 2
   },
   "file_extension": ".py",
   "mimetype": "text/x-python",
   "name": "python",
   "nbconvert_exporter": "python",
   "pygments_lexer": "ipython2",
   "version": "2.7.6"
  }
 },
 "nbformat": 4,
 "nbformat_minor": 0
}
