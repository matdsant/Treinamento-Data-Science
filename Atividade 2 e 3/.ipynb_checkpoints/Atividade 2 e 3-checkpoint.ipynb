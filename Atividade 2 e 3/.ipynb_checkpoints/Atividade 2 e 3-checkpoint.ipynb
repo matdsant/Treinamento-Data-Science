{
 "cells": [
  {
   "cell_type": "markdown",
   "metadata": {
    "id": "0l2ahaiF5N7q"
   },
   "source": [
    "\n",
    "***Modelos de Machine Learning & Selecionando o Modelo***\n",
    "\n",
    "Aprendizado supervisionado é onde temos uma label, um \"target\", um objetivo definido e temos este objetivo para o aprendizado do modelo.\n",
    "\n",
    "Com o objetivo definido, observamos os dados da variável \"target(y)\", se tiver uma variável categorica temos um caso de classificação, se tivermos uma variável com dados numericos continuos, temos um caso de regressão linear.\n",
    "\n",
    "Algoritmos de regressão: Regressão Linear, Random Forest Regressor, Gradient Boosting Regressor, XGBoost Regressor, entre outros, mas sempre com o final regressor.\n",
    "\n",
    "Algoritmos de classificação: Naive Bayes, Random Forest Classifier, Gradient Boosting Classsifier, XGBoost Classifier, entre outros mas sempre com o final Classifier.\n",
    "\n",
    "---------------------\n",
    "---------------------\n",
    "\n",
    "\n",
    "***O que realizar com este conjunto de dados?***\n",
    "\n",
    "Análise exploratória - Explore os dados em busca de comportamentos, padrões, dados que precisam ser tratados, excluidos, etc. Use gráficos para te ajudar nesta etapa.\n",
    "\n",
    "Feature Engineering - Trate os dados que precisam ser ajustados como alteração de texto para numérico, transformações de datas, ajuste de distribuição, etc.\n",
    "\n",
    "Separe os dados entre treino e teste com a fração de teste que desejar.\n",
    "\n",
    "Treine um ou mais modelos. Lembre-se que se for usar algum algoritmo como random forest, xgboost, etc use a opção regressor, por exemplo (randomforestregressor).\n",
    "\n",
    "Teste o seu modelo nos dados de teste e veja a performance do modelo através do R2."
   ]
  },
  {
   "cell_type": "markdown",
   "metadata": {},
   "source": [
    "As bibliotecas utilizadas no código fornecido são:\n",
    "\n",
    "Os: fornece uma maneira de interagir com o sistema operacional,\n",
    "permitindo a manipulação de caminhos de arquivos, pastas e outras funcionalidades relacionadas ao sistema.\n",
    "\n",
    "Pandas: é uma biblioteca de análise de dados que fornece estruturas de dados de alto desempenho e fáceis\n",
    "de usar, além de ferramentas de manipulação e análise de dados.\n",
    "\n",
    "Matplotlib.pyplot: é uma biblioteca para criação de gráficos e visualizações de dados em Python.\n",
    "\n",
    "PIL: é a biblioteca Python Imaging Library, que fornece suporte para abrir, manipular e salvar muitos formatos diferentes de imagens.\n",
    "\n",
    "Numpy: é uma biblioteca numérica em Python que fornece suporte para trabalhar com arrays e operações matemáticas eficientes.\n",
    "\n",
    "Gensim: é uma biblioteca de processamento de linguagem natural (PLN) que permite treinar,\n",
    "carregar e usar modelos de aprendizado de máquina para processamento de texto.\n",
    "\n",
    "Re: é um módulo Python que fornece operações de correspondência de padrões por meio de expressões regulares.\n",
    "\n",
    "Nltk: é a biblioteca Natural Language ‘Toolkit’, que fornece ferramentas para processamento de texto e PLN,\n",
    "como tokenização, segmentação de frases, ‘stop’ words, entre outros.\n",
    "\n",
    "Seaborn: é uma biblioteca de visualização de dados baseada no matplotlib que fornece uma ‘interface’ de alto nível\n",
    "para criação de gráficos estatísticos atraentes e informativos.\n",
    "\n",
    "statsmodels: é uma biblioteca estatística em Python que fornece classes e funções para estimar modelos estatísticos,\n",
    "realizar testes estatísticos e explorar dados estatísticos.\n",
    "\n",
    "Wordcloud: é uma biblioteca para criação de nuvens de palavras a partir de textos."
   ]
  },
  {
   "cell_type": "markdown",
   "metadata": {},
   "source": [
    "# Atividade 2"
   ]
  },
  {
   "cell_type": "code",
   "execution_count": null,
   "metadata": {
    "ExecuteTime": {
     "end_time": "2023-07-09T14:18:01.615051800Z",
     "start_time": "2023-07-09T14:18:00.692588800Z"
    },
    "colab": {
     "base_uri": "https://localhost:8080/"
    },
    "executionInfo": {
     "elapsed": 25226,
     "status": "ok",
     "timestamp": 1668368961324,
     "user": {
      "displayName": "MATHEUS DOS SANTOS OLIVEIRA",
      "userId": "09253095021711422754"
     },
     "user_tz": 180
    },
    "id": "Htgj-jnrp6Rr",
    "outputId": "2f64b7a9-a3e1-4745-8ab8-a9ba27af19f9"
   },
   "outputs": [],
   "source": [
    "import os\n",
    "import pandas as pd\n",
    "import matplotlib.pyplot as plt\n",
    "from PIL import Image\n",
    "import numpy as np\n",
    "import gensim\n",
    "import re\n",
    "import nltk\n",
    "from nltk.tokenize import word_tokenize, sent_tokenize\n",
    "nltk.download('punkt')\n",
    "nltk.download('stopwords')\n",
    "from nltk.tokenize import RegexpTokenizer\n",
    "from sklearn.feature_extraction.text import CountVectorizer, TfidfVectorizer\n",
    "from nltk.corpus import stopwords\n",
    "from pprint import pprint\n",
    "from wordcloud import WordCloud\n",
    "import logging\n",
    "import seaborn as sns\n",
    "import pandas as pd\n",
    "from sklearn.model_selection import train_test_split\n",
    "from sklearn.metrics import mean_absolute_error, mean_squared_error, r2_score, mean_squared_log_error\n",
    "import statsmodels.api as sm\n",
    "from xgboost import XGBRegressor\n",
    "\n",
    "pd.set_option('display.max_columns', None)\n",
    "pd.set_option('display.max_rows', None)"
   ]
  },
  {
   "cell_type": "code",
   "execution_count": 3,
   "metadata": {
    "ExecuteTime": {
     "end_time": "2023-07-09T14:19:20.133407200Z",
     "start_time": "2023-07-09T14:19:13.987132600Z"
    },
    "colab": {
     "base_uri": "https://localhost:8080/"
    },
    "executionInfo": {
     "elapsed": 1722,
     "status": "ok",
     "timestamp": 1668368972833,
     "user": {
      "displayName": "MATHEUS DOS SANTOS OLIVEIRA",
      "userId": "09253095021711422754"
     },
     "user_tz": 180
    },
    "id": "8nftioXpoUGC",
    "outputId": "2754cc64-eefc-4e77-a057-5119c5036f2c"
   },
   "outputs": [
    {
     "name": "stderr",
     "output_type": "stream",
     "text": [
      "C:\\Users\\mathe\\AppData\\Local\\Temp\\ipykernel_4532\\3086869833.py:2: DtypeWarning: Columns (22) have mixed types. Specify dtype option on import or set low_memory=False.\n",
      "  df = pd.read_csv(\"C:/Treinamento-Data-Science/Atividade 1/df_full.csv\")\n"
     ]
    },
    {
     "data": {
      "text/plain": [
       "(1206072, 23)"
      ]
     },
     "execution_count": 3,
     "metadata": {},
     "output_type": "execute_result"
    }
   ],
   "source": [
    "#Lê o arquivo único do 1° Exercício\n",
    "df = pd.read_csv(\"C:/Treinamento-Data-Science/Atividade 1/df_full.csv\")\n",
    "df.shape"
   ]
  },
  {
   "cell_type": "code",
   "execution_count": null,
   "metadata": {
    "colab": {
     "base_uri": "https://localhost:8080/",
     "height": 513
    },
    "executionInfo": {
     "elapsed": 252,
     "status": "ok",
     "timestamp": 1668368992226,
     "user": {
      "displayName": "MATHEUS DOS SANTOS OLIVEIRA",
      "userId": "09253095021711422754"
     },
     "user_tz": 180
    },
    "id": "YBrufoFLuK-u",
    "is_executing": true,
    "outputId": "116153a8-ff60-4cd2-f7e8-b601d1b598e9"
   },
   "outputs": [],
   "source": [
    "df.sample(5)"
   ]
  },
  {
   "cell_type": "code",
   "execution_count": 5,
   "metadata": {
    "colab": {
     "base_uri": "https://localhost:8080/"
    },
    "executionInfo": {
     "elapsed": 506,
     "status": "ok",
     "timestamp": 1668369031535,
     "user": {
      "displayName": "MATHEUS DOS SANTOS OLIVEIRA",
      "userId": "09253095021711422754"
     },
     "user_tz": 180
    },
    "id": "hjXeCZVcoUup",
    "outputId": "77927984-2716-41cd-c692-c462051832a6"
   },
   "outputs": [
    {
     "name": "stdout",
     "output_type": "stream",
     "text": [
      "Cobrança indevida/abusiva Antecipação de Financiamento Produto com vício Não entrega/demora na entrega do produto Vicio de qualidade (mal executado, inadequado, impróprio) Garantia (Abrangência, cobertura, etc.) Não entrega/demora na entrega do produto Cobrança indevida/abusiva Produto com vício Contrato/pedido/orçamento (rescisão, descumprimento, erro, etc.) Crédito Consignado Lançamento Não Reconhecido na Fatura Garantia (Abrangência, cobertura, etc.) Garantia - Descumprimento, prazo Não entrega/demora na entrega do produto Garantia (Abrangência, cobertura, etc.) Tarifa de Cartão de Crédito – Cobrança Indevida (anuidade, 2ª via, etc.) Contrato (não cumprimento, alteração, transferencia, irregularidade, rescisão, etc.) Rescisão/Substituição/Alteração de contrato de saúde Cobrança indevida. Crédito Consignado Cobrança indevida. Venda/Oferta/publicidade enganosa. Produto com vício Retirada de credito sem comunicação previa Produto com vício Vicio de qualidade (mal executado, inadequado, impróprio) Desistência do serviço (artigo 49 - descumprimento) Cobrança indevida/abusiva Garantia (Abrangência, cobertura, etc.) SAC - Resolução de demandas (ausência de resposta, excesso de prazo, não suspensão imediata da cobrança) Contrato - Rescisão/alteração unilateral Não pagamento de indenização Cobrança abusiva mediante constrangimento, ameaça. Cobrança indevida/abusiva Cobrança indevida/abusiva Lançamento Não Reconhecido na Fatura SAC - Cancelamento de serviço (retenção, demora, não envio do comprovante) SAC - Acesso ao serviço (onerosidade, problemas no menu, indisponibilidade, inacessibilidade aos deficientes) SAC - Acesso ao serviço (onerosidade, problemas no menu, indisponibilidade, inacessibilidade aos deficientes) Cobrança indevida/abusiva Garantia (Abrangência, cobertura, etc.) Não entrega/demora na entrega do produto Não pagamento de resgate (capitalização/ouro/compra) Cobrança indevida. Não entrega/demora na entrega do produto Serviço não fornecido (entrega/instalação/não cumprimento da oferta/contrato) Cobrança indevida/abusiva Cobrança indevida/abusiva Produto com vício Cobrança indevida. Garantia (Abrangência, cobertura, etc.) Produto com vício Outros problemas com contratos de saúde (Não cobertura, abrangência, reembolso) Contrato (não cumprimento, alteração, transferencia, irregularidade, rescisão, etc.) Cobrança indevida/abusiva Desistência de compra (cancelamento de compra) Cobrança indevida. Não entrega/demora na entrega do produto Não entrega/demora na entrega do produto Consumidor negativado indevidamente nos serviços de proteção ao credito Desistência de compra (cancelamento de compra) Dano material/pessoal decorrente do serviço Cobrança indevida. Produto com vício Cobrança indevida/abusiva Contrato - Rescisão/alteração unilateral Produto com vício Falha bancaria em transações eletrônicas (transferencias indevidas, saques indevidos) Não cumprimento do contrato/proposta Portabilidade numérica PID - Pedido de Indenização por Danos Morais Produto com vício Vicio de qualidade (mal executado, inadequado, impróprio) Cobrança indevida/abusiva Cobrança indevida/abusiva Cobrança abusiva mediante constrangimento, ameaça. Produto com vício Contrato - Rescisão/alteração unilateral Produto com vício Contrato/pedido/orçamento (rescisão, descumprimento, erro, etc.) Produto com vício Garantia (Abrangência, cobertura, etc.) Cobrança indevida/abusiva Desistência de compra (cancelamento de compra) Garantia (Abrangência, cobertura, etc.) Garantia (Abrangência, cobertura, etc.) SAC - Resolução de demandas (ausência de resposta, excesso de prazo, não suspensão imediata da cobrança) Garantia (Abrangência, cobertura, etc.) Não cumprimento do contrato/proposta Serviço em desacordo com norma/lei Cobrança indevida/abusiva Cobrança indevida/abusiva Produto com vício Cobrança indevida/abusiva Garantia (Abrangência, cobertura, etc.) Produto com vício Cobrança indevida. Documentos: não fornecimento (escolares, recibo, nota, fiscal, vaucher , etc.) Devolução de sinal, valores pagos (negocio não concretizado) Garantia (Abrangência, cobertura, etc.) Contrato (não cumprimento, alteração, transferencia, irregularidade, rescisão, etc.) Não cumprimento à oferta Contrato - Rescisão/alteração unilateral Produto com vício Produto com vício Produto com vício Produto com vício Não entrega/demora na entrega do produto Garantia (Abrangência, cobertura, etc.) Garantia (Abrangência, cobertura, etc.) Contrato - Clausula abusiva/em desacordo com a Legislação Produto com vício Não entrega/demora na entrega do produto Produto com vício Contrato - Clausula abusiva/em desacordo com a Legislação. Produto com vício Consumidor negativado indevidamente nos serviços de proteção ao credito Cobrança indevida/abusiva Falta de peça de reposição Produto com vício Cobrança indevida. Cobrança indevida. Garantia (Abrangência, cobertura, etc.) Garantia (Abrangência, cobertura, etc.) Cobrança indevida/abusiva Cobrança indevida/abusiva Garantia (Abrangência, cobertura, etc.) Venda enganosa Rescisão do contrato pela não entrega do imóvel Cobrança de valor quando o produto e devolvido (cobrança indevida) Crédito Consignado Garantia (Abrangência, cobertura, etc.) Cobrança indevida/abusiva Produto com vício Cobrança indevida/abusiva Contrato (não cumprimento, alteração, transferencia, irregularidade, rescisão, etc.) Serviço não fornecido (entrega/instalação/não cumprimento da oferta/contrato) Produto com vício Falta de peca de reposição Tarifas Bancárias – Cobrança não autorizada. Produto com vício Produto com vício Produto com vício Garantia (Abrangência, cobertura, etc.) Duvida sobre cobrança/valor/reajuste/contrato/orçamento. SAC - Resolução de demandas (ausência de resposta, excesso de prazo, não suspensão imediata da cobrança) Cobrança indevida/abusiva Cobrança indevida/abusiva Cobrança indevida/abusiva Cobrança indevida/abusiva Cobrança indevida. Garantia (Abrangência, cobertura, etc.) Não entrega da escritura SAC - Resolução de demandas (ausência de resposta, excesso de prazo, não suspensão imediata da cobrança) Produto com vício Produto com vício Cobrança indevida/abusiva Antecipação de Financiamento Não pagamento de resgate (capitalização/ouro/compra) Serviço não fornecido (entrega/instalação/não cumprimento da oferta/contrato) Documentos: não fornecimento (escolares, recibo, nota, fiscal, vaucher , etc.) Produto com vício Cobrança indevida/abusiva Cobrança indevida/abusiva Produto com vício Garantia (Abrangência, cobertura, etc.) Serviço não fornecido (entrega/instalação/não cumprimento da oferta/contrato) Venda/Oferta/publicidade enganosa. Produto com vício Serviço não fornecido (entrega/instalação/não cumprimento da oferta/contrato) Documentos: não fornecimento (escolares, recibo, nota, fiscal, vaucher , etc.) SAC - Resolução de demandas (ausência de resposta, excesso de prazo, não suspensão imediata da cobrança) SAC - Resolução de demandas (ausência de resposta, excesso de prazo, não suspensão imediata da cobrança) Calculo de prestação em atraso Cobrança indevida/abusiva Não entrega/demora na entrega do produto Desistência de compra (cancelamento de compra) Produto com vício Devolução de sinal, valores pagos (negocio não concretizado) Serviço não fornecido (entrega/instalação/não cumprimento da oferta/contrato) Serviço não fornecido (entrega/instalação/não cumprimento da oferta/contrato) Cobrança indevida/abusiva Falta de peca de reposição Produto com vício Cobrança indevida. Garantia (Abrangência, cobertura, etc.) Recusa injustificada em prestar serviço Produto com vício Demora na montagem/montagem incompleta/incorreta Garantia (Abrangência, cobertura, etc.) Cobrança indevida/abusiva Garantia (Abrangência, cobertura, etc.) Contrato - Rescisão/alteração unilateral Não entrega/demora na entrega do produto Produto com vício Garantia (Abrangência, cobertura, etc.) Produto com vício Produto com vício Serviço não fornecido (entrega/instalação/não cumprimento da oferta/contrato) Produto com vício Garantia (Abrangência, cobertura, etc.) Produto com vício Desistência de compra (cancelamento de compra) Falta de peca de reposição Publicidade abusiva Crédito Consignado Cobrança indevida/abusiva Produto com vício Garantia (Abrangência, cobertura, etc.) SAC - Resolução de demandas (ausência de resposta, excesso de prazo, não suspensão imediata da cobrança) Contrato - Rescisão/alteração unilateral Produto com vício SAC - Resolução de demandas (ausência de resposta, excesso de prazo, não suspensão imediata da cobrança) Produto com vício Garantia (Abrangência, cobertura, etc.) Serviço não fornecido (entrega/instalação/não cumprimento da oferta/contrato) Garantia (Abrangência, cobertura, etc.) Produto com vício Antecipação de Financiamento Cobrança indevida/abusiva Cobrança indevida/abusiva Produto com vício Contrato/pedido/orçamento (rescisão, descumprimento, erro, etc.) Cobrança indevida/abusiva Garantia (Abrangência, cobertura, etc.) Cobrança indevida/abusiva Publicidade enganosa Serviço não fornecido (entrega/instalação/não cumprimento da oferta/contrato) Produto com vício Venda/Oferta/publicidade enganosa Cobrança indevida/abusiva Garantia (Abrangência, cobertura, etc.) Recusa injustificada em prestar serviço Rescisão do contrato pela não entrega do imóvel Cobrança indevida. Garantia (Abrangência, cobertura, etc.) Produto com vício Dano material/pessoal decorrente do serviço Cobrança indevida/abusiva Não entrega de copia do contrato Cobrança indevida. Cobrança indevida/abusiva Serviço não fornecido (entrega/instalação/não cumprimento da oferta/contrato) Meia entrada para estudantes - recusa/falta de informação Cobrança indevida/abusiva Desistência de compra (cancelamento de compra) Cobrança indevida/abusiva Garantia (Abrangência, cobertura, etc.) Produto com vício Garantia (Abrangência, cobertura, etc.) Não cumprimento do contrato/proposta Não entrega/demora na entrega do produto Contrato - Rescisão/alteração unilateral Produto com vício Garantia (Abrangência, cobertura, etc.) Crédito Consignado Produto com vício Produto com vício Produto com vício Contrato - Rescisão/alteração unilateral Vicio de qualidade (mal executado, inadequado, impróprio) Cobrança indevida/abusiva Produto com vício Cobrança indevida/abusiva Cobrança indevida/abusiva Garantia (Abrangência, cobertura, etc.) Falta de peca de reposição Cobrança indevida/abusiva Produto com vício Garantia (Abrangência, cobertura, etc.) Garantia (Abrangência, cobertura, etc.) Vicio de qualidade (mal executado, inadequado, impróprio) Produto com vício Produto com vício Venda casada Não pagamento de indenização Produto com vício Produto com vício Contrato (não cumprimento, alteração, transferencia, irregularidade, rescisão, etc.) Cobrança indevida. Serviço não fornecido (entrega/instalação/não cumprimento da oferta/contrato) Cobrança indevida. Produto com vício Demora na montagem/montagem incompleta/incorreta Calculo de prestação/taxa de juros Produto com vício Cobrança indevida. Cobrança indevida. Produto entregue diferente do pedido Produto com vício Produto com vício Outros problemas com contratos de saúde (Não cobertura, abrangência, reembolso) Outros problemas com contratos de saúde (Não cobertura, abrangência, reembolso) Falta de peca de reposição Produto com vício Garantia (Abrangência, cobertura, etc.) Garantia (Abrangência, cobertura, etc.) Garantia (Abrangência, cobertura, etc.) Garantia (Abrangência, cobertura, etc.) Produto com vício Produto com vício Produto com vício Cobrança indevida/abusiva Contrato (não cumprimento, alteração, transferencia, irregularidade, rescisão, etc.) Cobrança indevida/abusiva Produto com vício Produto com vício Garantia (Abrangência, cobertura, etc.) Garantia (Abrangência, cobertura, etc.) Garantia - Descumprimento, prazo Garantia (Abrangência, cobertura, etc.) Fila em Banco Garantia - Descumprimento, prazo Produto com vício Cobrança indevida/abusiva Produto com vício Cobrança abusiva mediante constrangimento, ameaça. Serviço não fornecido (entrega/instalação/não cumprimento da oferta/contrato) Não entrega/demora na entrega do produto Contrato (não cumprimento, alteração, transferencia, irregularidade, rescisão, etc.) Cobrança indevida. Cobrança indevida. Serviço não fornecido (entrega/instalação/não cumprimento da oferta/contrato) Cobrança indevida. Demora na montagem/montagem incompleta/incorreta Garantia (Abrangência, cobertura, etc.) SAC - Resolução de demandas (ausência de resposta, excesso de prazo, não suspensão imediata da cobrança) Garantia (Abrangência, cobertura, etc.) Produto com vício Cobrança indevida/abusiva Garantia (Abrangência, cobertura, etc.) Produto com vício Cobrança indevida/abusiva Cobrança indevida/abusiva Produto com vício Não entrega/demora na entrega do produto Garantia (Abrangência, cobertura, etc.) SAC - Resolução de demandas (ausência de resposta, excesso de prazo, não suspensão imediata da cobrança) Produto com vício Cobrança indevida. SAC - Resolução de demandas (ausência de resposta, excesso de prazo, não suspensão imediata da cobrança) Cobrança indevida/abusiva Serviço não fornecido (entrega/instalação/não cumprimento da oferta/contrato) Contrato - Rescisão/alteração unilateral Cobrança indevida/abusiva Cobrança indevida. Não cumprimento do contrato/proposta Produto com vício Cobrança indevida. Produto com vício Produto com vício Produto entregue diferente do pedido Produto com vício Vicio de qualidade (mal executado, inadequado, impróprio) SAC - Cancelamento de serviço (retenção, demora, não envio do comprovante) Produto com vício Produto com vício Produto com vício Garantia (Abrangência, cobertura, etc.) Garantia (Abrangência, cobertura, etc.) Contrato (não cumprimento, alteração, transferencia, irregularidade, rescisão, etc.) Procedimento de cobrança violenta/difamatória Produto com vício Crédito Consignado Garantia (Abrangência, cobertura, etc.) Garantia (Abrangência, cobertura, etc.) Cobrança indevida/abusiva Contrato - Rescisão/alteração unilateral Produto com vício Cobrança indevida. Serviço não fornecido (entrega/instalação/não cumprimento da oferta/contrato) Produto com vício Cobrança indevida. Falta de peca de reposição Serviço não fornecido (entrega/instalação/não cumprimento da oferta/contrato) Serviço não fornecido (entrega/instalação/não cumprimento da oferta/contrato) Cobrança indevida/abusiva Contrato - Rescisão/alteração unilateral Crédito Consignado Produto com vício Acidente de Consumo (produto causou danos pessoais) Serviço não concluído /Fornecimento parcial Cobrança indevida/abusiva Calculo de prestação em atraso Recusa injustificada em prestar serviço Garantia (Abrangência, cobertura, etc.) Cobrança indevida/abusiva Desistência do serviço (artigo 49 - descumprimento) Garantia (Abrangência, cobertura, etc.) Serviço não concluído /Fornecimento parcial Não cumprimento do contrato/proposta Garantia (Abrangência, cobertura, etc.) Contrato - Rescisão/alteração unilateral Cobrança indevida. SAC - Cancelamento de serviço (retenção, demora, não envio do comprovante) Cobrança indevida/abusiva Garantia (Abrangência, cobertura, etc.) Produto com vício Garantia (Abrangência, cobertura, etc.) Produto com vício Garantia (Abrangência, cobertura, etc.) Produto com vício Recusa injustificada em prestar serviço Garantia (Abrangência, cobertura, etc.) Produto com vício Produto com vício Extravio/avaria de bagagem, carga, correspondência, mercadoria, mudança, etc. Cobrança indevida. Cobrança indevida/abusiva Não cumprimento à oferta Produto com vício Não entrega/demora na entrega do produto Falta de peca de reposição Contrato/pedido/orçamento (rescisão, descumprimento, erro, etc.) Garantia (Abrangência, cobertura, etc.) Devolução de sinal, valores pagos (negocio não concretizado) Cobrança indevida. Cobrança indevida/abusiva Garantia (Abrangência, cobertura, etc.) Falta de peca de reposição Discordância quanto as avarias Contrato - Rescisão/alteração unilateral Garantia (Abrangência, cobertura, etc.) Negativa de Cobertura Cobrança indevida. Não pagamento de resgate (capitalização/ouro/compra) Produto com vício Produto com vício Produto com vício Contrato - Rescisão/alteração unilateral Produto com vício Cobrança indevida. Não cumprimento à oferta Consumidor negativado indevidamente nos serviços de proteção ao credito Cobrança indevida/abusiva Recusa injustificada em prestar serviço Cobrança indevida/abusiva Produto com vício Falta de peca de reposição Cobrança indevida. Cobrança indevida/abusiva Não entrega/demora na entrega do produto Produto com vício Cobrança indevida/abusiva Produto com vício Produto com vício Cobrança indevida/abusiva Crédito Consignado Cobrança indevida/abusiva Duvidas sobre cobranças (taxas etc.) Não pagamento de indenização (seguros em geral) Produto entregue diferente do pedido Contrato/pedido/orçamento (rescisão, descumprimento, erro, etc.) Produto com vício Garantia (Abrangência, cobertura, etc.) SAC - Cancelamento de serviço (retenção, demora, não envio do comprovante) Cobrança indevida/abusiva Vicio de qualidade (mal executado, inadequado, impróprio) Cobrança indevida/abusiva Garantia (Abrangência, cobertura, etc.) Cobrança indevida/abusiva Venda/Oferta/publicidade enganosa. SAC - Acesso ao serviço (onerosidade, problemas no menu, indisponibilidade, inacessibilidade aos deficientes) Cobrança de valor quando o produto e devolvido (cobrança indevida) Cobrança indevida/abusiva Garantia - Descumprimento, prazo Cobrança indevida. Crédito Consignado Produto com vício Contrato (não cumprimento, alteração, transferencia, irregularidade, rescisão, etc.) Garantia (Abrangência, cobertura, etc.) Cobrança indevida/abusiva Produto com vício Cobrança indevida/abusiva Produto com vício Garantia (Abrangência, cobertura, etc.) Reajuste abusivo (preço, taxa, mensalidade, etc.) Contrato (não cumprimento, alteração, transferencia, irregularidade, rescisão, etc.) Produto com vício Garantia (Abrangência, cobertura, etc.) Cobrança indevida. Cobrança indevida/abusiva Contrato - Rescisão/alteração unilateral Cobrança indevida/abusiva Cobrança indevida/abusiva Cobrança indevida/abusiva Garantia - Descumprimento, prazo Desistência de compra (cancelamento de compra) Produto com vício Produto com vício Garantia (Abrangência, cobertura, etc.) Antecipação de Financiamento Produto com vício Produto com vício Produto com vício Recusa injustificada em prestar serviço Cobrança indevida/abusiva Serviço não fornecido (entrega/instalação/não cumprimento da oferta/contrato) Cobrança indevida/abusiva Produto com vício Não entrega de copia do contrato Cobrança indevida/abusiva Outros problemas com contratos de saúde (Não cobertura, abrangência, reembolso) Produto com vício Cobrança indevida. Publicidade enganosa Garantia (Abrangência, cobertura, etc.) Serviço em desacordo com norma/lei Contrato - Rescisão/alteração unilateral Produto com vício Não entrega/demora na entrega do produto Cobrança indevida. Garantia (Abrangência, cobertura, etc.) Calculo de prestação em atraso Não entrega/demora na entrega do produto Não entrega/demora na entrega do produto Cobrança de multa acima do permitido pela legislação (atraso no pag. de prestação/aluguel/condomínio) Garantia (Abrangência, cobertura, etc.) Não entrega/demora na entrega do produto Produto com vício Garantia (Abrangência, cobertura, etc.) Produto com vício Produto com vício Cobrança indevida. SAC - Resolução de demandas (ausência de resposta, excesso de prazo, não suspensão imediata da cobrança) Falha bancaria em transações eletrônicas (transferencias indevidas, saques indevidos) Cobrança indevida. Produto com vício Garantia (Abrangência, cobertura, etc.) Dano material/pessoal decorrente do serviço Garantia (Abrangência, cobertura, etc.) Cobrança indevida. Cobrança indevida/abusiva Vicio de qualidade (mal executado, inadequado, impróprio) Garantia (Abrangência, cobertura, etc.) Cobrança indevida. Cobrança indevida/abusiva Garantia - Descumprimento, prazo Crédito Consignado Garantia (Abrangência, cobertura, etc.) Cobrança indevida. SAC - Cancelamento de serviço (retenção, demora, não envio do comprovante) Cobrança indevida/abusiva Cobrança indevida/abusiva Calculo de prestação/taxa de juros Cobrança indevida/abusiva Garantia (Abrangência, cobertura, etc.) SAC - Resolução de demandas (ausência de resposta, excesso de prazo, não suspensão imediata da cobrança) Produto com vício Garantia (Abrangência, cobertura, etc.) Produto com vício Produto com vício Vicio de qualidade (mal executado, inadequado, impróprio) Valor de reajuste (mensalidade) Garantia (Abrangência, cobertura, etc.) Produto com vício Contrato (não cumprimento, alteração, transferencia, irregularidade, rescisão, etc.) Garantia (Abrangência, cobertura, etc.) Garantia (Abrangência, cobertura, etc.) Produto com vício Cobrança indevida/abusiva Produto entregue diferente do pedido Não entrega/demora na entrega do produto Garantia (Abrangência, cobertura, etc.) Garantia (Abrangência, cobertura, etc.) Produto entregue incompleto Contrato - Rescisão/alteração unilateral Cobrança indevida. Garantia (Abrangência, cobertura, etc.) Produto com vício Serviço não concluído /Fornecimento parcial Cobrança indevida. Cobrança indevida. Contrato - Rescisão/alteração unilateral Produto com vício Consumidor negativado indevidamente nos serviços de proteção ao credito Não entrega/demora na entrega do produto Garantia (Abrangência, cobertura, etc.) SAC - Cancelamento de serviço (retenção, demora, não envio do comprovante) Produto com vício Compra de veiculo (multa, transferência, alienação, não entrega de documentação) Não entrega do produto (titulo de capitalização, compra programada) Não cumprimento do contrato/proposta Contrato (não cumprimento, alteração, transferencia, irregularidade, rescisão, etc.) Cobrança indevida. Contrato/pedido/orçamento (rescisão, descumprimento, erro, etc.) Cobrança indevida/abusiva Consumidor negativado indevidamente nos serviços de proteção ao credito Cobrança indevida/abusiva Garantia (Abrangência, cobertura, etc.) Falta de peca de reposição Garantia (Abrangência, cobertura, etc.) Produto com vício Produto com vício Produto entregue diferente do pedido Demora na montagem/montagem incompleta/incorreta Produto com vício Garantia (Abrangência, cobertura, etc.) SAC - Resolução de demandas (ausência de resposta, excesso de prazo, não suspensão imediata da cobrança) Cobrança indevida/abusiva Contrato - Rescisão/alteração unilateral SAC - Cancelamento de serviço (retenção, demora, não envio do comprovante) Cobrança indevida. Cobrança indevida. Cobrança indevida. Consumidor negativado indevidamente nos serviços de proteção ao credito Cobrança indevida/abusiva SAC - Resolução de demandas (ausência de resposta, excesso de prazo, não suspensão imediata da cobrança) Cobrança indevida/abusiva Contrato - Rescisão/alteração unilateral Venda enganosa Produto com vício Cobrança indevida. Produto com vício Não entrega/demora na entrega do produto Cobrança de valor quando o produto e devolvido (cobrança indevida) Produto com vício Garantia (Abrangência, cobertura, etc.) Produto com vício Cobrança indevida/abusiva Produto com vício Produto entregue diferente do pedido Cobrança indevida/abusiva Cobrança indevida. Produto com vício Cobrança indevida/abusiva Demora na montagem/montagem incompleta/incorreta Cobrança indevida. Garantia (Abrangência, cobertura, etc.) Produto com vício Desistência do serviço (artigo 49 - descumprimento) Produto com vício Duvida sobre cobrança/valor/reajuste/contrato/orçamento. Produto com vício Não entrega/demora na entrega do produto Cobrança indevida/abusiva Recusa injustificada em prestar serviço Não entrega de quitação/retenção de documentos Defeito/Risco à saúde e segurança Antecipação de Financiamento Não pagamento de indenização (seguros em geral) Contrato (não cumprimento, alteração, transferencia, irregularidade, rescisão, etc.) Garantia (Abrangência, cobertura, etc.) Contrato (não cumprimento, alteração, transferencia, irregularidade, rescisão, etc.) Produto com vício Produto com vício Cobrança indevida. Produto com vício Produto com vício Cobrança indevida. Cobrança indevida/abusiva Produto com vício Produto com vício Garantia (Abrangência, cobertura, etc.) Não entrega/demora na entrega do produto Documentos: não fornecimento (escolares, recibo, nota, fiscal, vaucher , etc.) Garantia (Abrangência, cobertura, etc.) Produto com vício Transação Eletrônica Não Reconhecida Não entrega/demora na entrega do produto Não entrega/demora na entrega do produto Não cumprimento do contrato/proposta Consumidor negativado indevidamente nos serviços de proteção ao credito Garantia (Abrangência, cobertura, etc.) Contrato (não cumprimento, alteração, transferencia, irregularidade, rescisão, etc.) Produto com vício Produto com vício Produto com vício Produto com vício Cobrança indevida/abusiva Descumprimento de garantia pelo convênio medico (guia) Cobrança indevida/abusiva Cobrança indevida/abusiva Recusa injustificada em prestar serviço Produto com vício Cobrança indevida. Serviço não concluído /Fornecimento parcial Contrato (não cumprimento, alteração, transferencia, irregularidade, rescisão, etc.) Cobrança abusiva mediante constrangimento, ameaça. Tarifas Bancárias – Cobrança não autorizada. Garantia (Abrangência, cobertura, etc.) Garantia (Abrangência, cobertura, etc.) Vicio de qualidade (mal executado, inadequado, impróprio) Garantia (Abrangência, cobertura, etc.) Venda/Oferta/publicidade enganosa Produto com vício Produto com vício SAC - Resolução de demandas (ausência de resposta, excesso de prazo, não suspensão imediata da cobrança) Serviço não fornecido (entrega/instalação/não cumprimento da oferta/contrato) Garantia (Abrangência, cobertura, etc.) Garantia (Abrangência, cobertura, etc.) Cobrança indevida. Produto com vício Produto entregue diferente do pedido Serviço não fornecido (entrega/instalação/não cumprimento da oferta/contrato) Garantia (Abrangência, cobertura, etc.) Serviço não fornecido (entrega/instalação/não cumprimento da oferta/contrato) Serviço não fornecido (entrega/instalação/não cumprimento da oferta/contrato) Produto com vício Cobrança indevida/abusiva Cobrança indevida. Acidente de Consumo (produto causou danos pessoais) Garantia (Abrangência, cobertura, etc.) Cobrança indevida/abusiva SAC - Acesso ao serviço (onerosidade, problemas no menu, indisponibilidade, inacessibilidade aos deficientes) Produto com vício Duvida sobre cobrança/valor/reajuste/contrato/orçamento. Desistência de compra (cancelamento de compra) Cobrança indevida/abusiva Produto com vício Cobrança indevida/abusiva SAC - Qualidade do atendimento (atendente despreparado, problemas com a transferência da chamada, veiculação de mensagem publicitária) Contrato (não cumprimento, alteração, transferencia, irregularidade, rescisão, etc.) Não entrega/demora na entrega do produto Produto com vício Produto com vício Cobrança indevida. Serviço não concluído /Fornecimento parcial SAC - Resolução de demandas (ausência de resposta, excesso de prazo, não suspensão imediata da cobrança) Contrato (não cumprimento, alteração, transferencia, irregularidade, rescisão, etc.) Outros problemas com contratos de saúde (Não cobertura, abrangência, reembolso) Produto com vício Produto com vício Cobrança indevida/abusiva Cobrança indevida/abusiva Publicidade enganosa Cobrança indevida. Cobrança indevida/abusiva Não entrega de quitação/retenção de documentos Produto com vício Produto com vício Garantia (Abrangência, cobertura, etc.) Produto com vício Serviço não concluído /Fornecimento parcial Cobrança indevida/abusiva Produto com vício Garantia (Abrangência, cobertura, etc.) Antecipação de Financiamento Venda/Oferta/publicidade enganosa. Garantia (Abrangência, cobertura, etc.) Cobrança indevida/abusiva Cobrança indevida. Não cumprimento do contrato/proposta Cobrança indevida/abusiva Cobrança indevida. Cobrança indevida/abusiva Cobrança indevida/abusiva Não entrega/demora na entrega do produto Venda enganosa Produto com vício Danos pessoais ao consumidor Serviço não fornecido (entrega/instalação/não cumprimento da oferta/contrato) Cobrança indevida/abusiva Garantia (Abrangência, cobertura, etc.) Produto com vício Cobrança de taxa indevida (elaboração de contrato, aferição de idoneidade, etc.) Cobrança indevida/abusiva Garantia (Abrangência, cobertura, etc.) Contrato - Clausula abusiva/em desacordo com a Legislação. Produto com vício Não entrega/demora na entrega do produto SAC - Cancelamento de serviço (retenção, demora, não envio do comprovante) Não entrega de quitação/retenção de documentos Cobrança indevida/abusiva Contrato (não cumprimento, alteração, transferencia, irregularidade, rescisão, etc.) Produto com vício Não entrega/demora na entrega do produto Cobrança indevida. Produto com vício Garantia (Abrangência, cobertura, etc.) Não entrega/demora na entrega do produto Produto com vício Garantia (Abrangência, cobertura, etc.) Desbloqueio de aparelho Cobrança indevida/abusiva Vicio de qualidade (mal executado, inadequado, impróprio) Produto com vício Não entrega/demora na entrega do produto Produto com vício Garantia (Abrangência, cobertura, etc.) Produto com vício Garantia (Abrangência, cobertura, etc.) Contrato (não cumprimento, alteração, transferencia, irregularidade, rescisão, etc.) Produto com vício Cobrança indevida/abusiva Produto entregue diferente do pedido Cobrança indevida/abusiva Produto com vício Garantia (Abrangência, cobertura, etc.) Não entrega de copia do contrato Produto com vício Cobrança indevida. Duvida sobre cobrança/valor/reajuste/contrato/orçamento. Tarifas Bancárias – Cobrança não autorizada. Cobrança indevida/abusiva Cobrança indevida/abusiva Venda enganosa Produto com vício Cobrança indevida. Cobrança indevida/abusiva Cobrança indevida. Garantia (Abrangência, cobertura, etc.) Garantia (Abrangência, cobertura, etc.) Serviço não concluído /Fornecimento parcial Cobrança indevida. Cobrança indevida. Cobrança indevida/abusiva Reajuste de saldo de caixa/diferença de prestação Cobrança indevida/abusiva Vicio de qualidade (mal executado, inadequado, impróprio) Publicidade enganosa Cobrança de taxa indevida (elaboração de contrato, aferição de idoneidade, etc.) Cobrança indevida/abusiva Cobrança indevida. Venda enganosa Cobrança indevida/abusiva Não entrega/demora na entrega do produto Demora na montagem/montagem incompleta/incorreta Cobrança indevida/abusiva Garantia (Abrangência, cobertura, etc.) Valor de reajuste (mensalidade) Produto com vício Cobrança indevida/abusiva Não cumprimento do contrato/proposta Duvida sobre cobrança/valor/reajuste/contrato/orçamento. Garantia (Abrangência, cobertura, etc.) Cobrança indevida. Cobrança indevida/abusiva Contrato (não cumprimento, alteração, transferencia, irregularidade, rescisão, etc.) Não entrega/demora na entrega do produto Cobrança indevida/abusiva Cobrança indevida. Cobrança indevida. Produto com vício Garantia (Abrangência, cobertura, etc.) Produto com vício Serviço não concluído /Fornecimento parcial Problemas relativos a emissão/remessa de carnes/orçamentos Cobrança indevida/abusiva Cobrança indevida/abusiva Venda/Oferta/publicidade enganosa Recusa injustificada em prestar serviço SAC - Acesso ao serviço (onerosidade, problemas no menu, indisponibilidade, inacessibilidade aos deficientes) Não entrega/demora na entrega do produto Cobrança indevida. Contrato - Rescisão/alteração unilateral Cobrança indevida. Garantia (Abrangência, cobertura, etc.) Cobrança de valor quando o produto e devolvido (cobrança indevida) Cobrança indevida. Contrato - Rescisão/alteração unilateral Venda enganosa Cobrança indevida. Cobrança indevida/abusiva Cobrança indevida/abusiva Crédito Consignado Cobrança indevida/abusiva Serviço não concluído /Fornecimento parcial Cobrança de valor quando o produto e devolvido (cobrança indevida) Cobrança indevida/abusiva Garantia (Abrangência, cobertura, etc.) Cobrança indevida/abusiva Produto com vício Venda/Oferta/publicidade enganosa. Produto com vício Contrato (não cumprimento, alteração, transferencia, irregularidade, rescisão, etc.) Produto com vício Contrato/pedido/orçamento (rescisão, descumprimento, erro, etc.) Produto com vício Produto com vício Cobrança indevida. Garantia (Abrangência, cobertura, etc.) Falha bancaria em transações eletrônicas (transferencias indevidas, saques indevidos) Cobrança indevida. Cobrança indevida/abusiva Recusa injustificada em prestar serviço SAC - Resolução de demandas (ausência de resposta, excesso de prazo, não suspensão imediata da cobrança) Vicio de qualidade (mal executado, inadequado, impróprio) Contrato (não cumprimento, alteração, transferencia, irregularidade, rescisão, etc.) Serviço não fornecido (entrega/instalação/não cumprimento da oferta/contrato) Cobrança indevida/abusiva Garantia (Abrangência, cobertura, etc.) Cobrança indevida. SAC - Acesso ao serviço (onerosidade, problemas no menu, indisponibilidade, inacessibilidade aos deficientes) Desistência de compra (cancelamento de compra) Não entrega/demora na entrega do produto Recusa injustificada em prestar serviço Venda enganosa Serviço não fornecido (entrega/instalação/não cumprimento da oferta/contrato) Cobrança indevida/abusiva Produto com vício Produto com vício Venda enganosa Produto com vício Defeito/Risco à saúde e segurança Cobrança indevida. Cobrança indevida/abusiva Não entrega/demora na entrega do produto Calculo de prestação em atraso Cobrança indevida. Falta de peca de reposição Desistência de compra (cancelamento de compra) Antecipação de Financiamento Cobrança indevida/abusiva Serviço não fornecido (entrega/instalação/não cumprimento da oferta/contrato) Não pagamento de indenização Produto com vício Consumidor negativado indevidamente nos serviços de proteção ao credito Venda/Oferta/publicidade enganosa. Cobrança indevida. Garantia (Abrangência, cobertura, etc.) Recusa injustificada em prestar serviço Cobrança indevida/abusiva Produto com vício Produto com vício Contrato - Rescisão/alteração unilateral Garantia (Abrangência, cobertura, etc.) Produto com vício Lançamento Não Reconhecido na Fatura PID - Pedido de Indenização por Danos Morais Produto com vício Cobrança indevida/abusiva Cobrança indevida/abusiva Produto com vício Produto com vício Contrato - Rescisão/alteração unilateral Cobrança indevida/abusiva Desistência do serviço (artigo 49 - descumprimento) Publicidade abusiva Produto com vício Cobrança indevida/abusiva Recusa injustificada em prestar serviço Contrato - Rescisão/alteração unilateral Não entrega de quitação/retenção de documentos Crédito Consignado Cobrança indevida/abusiva Demora na montagem/montagem incompleta/incorreta Discordância quanto as avarias Produto com vício Cobrança indevida. Produto com vício Produto com vício Produto entregue diferente do pedido Serviço não fornecido (entrega/instalação/não cumprimento da oferta/contrato) Garantia (Abrangência, cobertura, etc.) Garantia (Abrangência, cobertura, etc.) Cobrança indevida/abusiva Defeito/Risco à saúde e segurança Garantia (Abrangência, cobertura, etc.) Serviço não fornecido (entrega/instalação/não cumprimento da oferta/contrato) Produto com vício Falta de peca de reposição Desistência do serviço (artigo 49 - descumprimento) Garantia (Abrangência, cobertura, etc.) Garantia (Abrangência, cobertura, etc.) Cobrança indevida. Produto com vício Cobrança indevida. Cobrança indevida/abusiva Cobrança indevida/abusiva Falta de peca de reposição Contrato/pedido/orçamento (rescisão, descumprimento, erro, etc.) Contrato/pedido/orçamento (rescisão, descumprimento, erro, etc.) Cobrança indevida/abusiva Desistência de compra (cancelamento de compra) Cobrança indevida/abusiva Cobrança indevida. Produto com vício Produto com vício Cobrança indevida/abusiva Cobrança indevida. Recusa injustificada em prestar serviço Garantia (Abrangência, cobertura, etc.) Garantia (Abrangência, cobertura, etc.) Falta de peca de reposição Não entrega/demora na entrega do produto Não execução de obras de infraestrutura e benfeitorias Consumidor negativado indevidamente nos serviços de proteção ao credito Garantia (Abrangência, cobertura, etc.) Garantia (Abrangência, cobertura, etc.) Não entrega de copia do contrato Antecipação de Financiamento Dano material/pessoal decorrente do serviço Rescisão/Substituição/Alteração de contrato de saúde Produto com vício Contrato (não cumprimento, alteração, transferencia, irregularidade, rescisão, etc.) Produto com vício Duvida sobre cobrança/valor/reajuste/contrato/orçamento. Cobrança indevida/abusiva Produto causou danos materiais Garantia (Abrangência, cobertura, etc.) Produto com vício Garantia (Abrangência, cobertura, etc.) Cobrança indevida/abusiva Cobrança indevida/abusiva Antecipação de Financiamento Serviço não fornecido (entrega/instalação/não cumprimento da oferta/contrato) Garantia (Abrangência, cobertura, etc.) Produto com vício\n"
     ]
    }
   ],
   "source": [
    "# Sample de Somente 1000 Linhas do Arquivo\n",
    "df_2 = df.sample(1000)\n",
    "df_2 = df_2.replace({np.nan:\"\"})\n",
    "\n",
    "# Início da Tokenização\n",
    "texto=[]\n",
    "for i in df_2['DescricaoProblema']:\n",
    "  texto.append(i)\n",
    "\n",
    "otexto = \" \".join(texto)\n",
    "print(otexto)"
   ]
  },
  {
   "cell_type": "code",
   "execution_count": 6,
   "metadata": {
    "colab": {
     "base_uri": "https://localhost:8080/",
     "height": 105
    },
    "executionInfo": {
     "elapsed": 382,
     "status": "ok",
     "timestamp": 1668369033223,
     "user": {
      "displayName": "MATHEUS DOS SANTOS OLIVEIRA",
      "userId": "09253095021711422754"
     },
     "user_tz": 180
    },
    "id": "1Pl18vA4hCOl",
    "outputId": "fecee5a4-37bf-4968-c922-83fcd6910712"
   },
   "outputs": [
    {
     "data": {
      "application/vnd.google.colaboratory.intrinsic+json": {
       "type": "string"
      },
      "text/plain": [
       "'Cobrança indevida/abusiva Antecipação de Financiamento Produto com vício Não entrega/demora na entrega do produto Vicio de qualidade (mal executado, inadequado, impróprio) Garantia (Abrangência, cobertura, etc.) Não entrega/demora na entrega do produto Cobrança indevida/abusiva Produto com vício Contrato/pedido/orçamento (rescisão, descumprimento, erro, etc.) Crédito Consignado Lançamento Não Reconhecido na Fatura Garantia (Abrangência, cobertura, etc.) Garantia - Descumprimento, prazo Não entrega/demora na entrega do produto Garantia (Abrangência, cobertura, etc.) Tarifa de Cartão de Crédito – Cobrança Indevida (anuidade, 2ª via, etc.) Contrato (não cumprimento, alteração, transferencia, irregularidade, rescisão, etc.) Rescisão/Substituição/Alteração de contrato de saúde Cobrança indevida. Crédito Consignado Cobrança indevida. Venda/Oferta/publicidade enganosa. Produto com vício Retirada de credito sem comunicação previa Produto com vício Vicio de qualidade (mal executado, inadequado, impróprio) Desistência do serviço (artigo 49 - descumprimento) Cobrança indevida/abusiva Garantia (Abrangência, cobertura, etc.) SAC - Resolução de demandas (ausência de resposta, excesso de prazo, não suspensão imediata da cobrança) Contrato - Rescisão/alteração unilateral Não pagamento de indenização Cobrança abusiva mediante constrangimento, ameaça. Cobrança indevida/abusiva Cobrança indevida/abusiva Lançamento Não Reconhecido na Fatura SAC - Cancelamento de serviço (retenção, demora, não envio do comprovante) SAC - Acesso ao serviço (onerosidade, problemas no menu, indisponibilidade, inacessibilidade aos deficientes) SAC - Acesso ao serviço (onerosidade, problemas no menu, indisponibilidade, inacessibilidade aos deficientes) Cobrança indevida/abusiva Garantia (Abrangência, cobertura, etc.) Não entrega/demora na entrega do produto Não pagamento de resgate (capitalização/ouro/compra) Cobrança indevida. Não entrega/demora na entrega do produto Serviço não fornecido (entrega/instalação/não cumprimento da oferta/contrato) Cobrança indevida/abusiva Cobrança indevida/abusiva Produto com vício Cobrança indevida. Garantia (Abrangência, cobertura, etc.) Produto com vício Outros problemas com contratos de saúde (Não cobertura, abrangência, reembolso) Contrato (não cumprimento, alteração, transferencia, irregularidade, rescisão, etc.) Cobrança indevida/abusiva Desistência de compra (cancelamento de compra) Cobrança indevida. Não entrega/demora na entrega do produto Não entrega/demora na entrega do produto Consumidor negativado indevidamente nos serviços de proteção ao credito Desistência de compra (cancelamento de compra) Dano material/pessoal decorrente do serviço Cobrança indevida. Produto com vício Cobrança indevida/abusiva Contrato - Rescisão/alteração unilateral Produto com vício Falha bancaria em transações eletrônicas (transferencias indevidas, saques indevidos) Não cumprimento do contrato/proposta Portabilidade numérica PID - Pedido de Indenização por Danos Morais Produto com vício Vicio de qualidade (mal executado, inadequado, impróprio) Cobrança indevida/abusiva Cobrança indevida/abusiva Cobrança abusiva mediante constrangimento, ameaça. Produto com vício Contrato - Rescisão/alteração unilateral Produto com vício Contrato/pedido/orçamento (rescisão, descumprimento, erro, etc.) Produto com vício Garantia (Abrangência, cobertura, etc.) Cobrança indevida/abusiva Desistência de compra (cancelamento de compra) Garantia (Abrangência, cobertura, etc.) Garantia (Abrangência, cobertura, etc.) SAC - Resolução de demandas (ausência de resposta, excesso de prazo, não suspensão imediata da cobrança) Garantia (Abrangência, cobertura, etc.) Não cumprimento do contrato/proposta Serviço em desacordo com norma/lei Cobrança indevida/abusiva Cobrança indevida/abusiva Produto com vício Cobrança indevida/abusiva Garantia (Abrangência, cobertura, etc.) Produto com vício Cobrança indevida. Documentos: não fornecimento (escolares, recibo, nota, fiscal, vaucher , etc.) Devolução de sinal, valores pagos (negocio não concretizado) Garantia (Abrangência, cobertura, etc.) Contrato (não cumprimento, alteração, transferencia, irregularidade, rescisão, etc.) Não cumprimento à oferta Contrato - Rescisão/alteração unilateral Produto com vício Produto com vício Produto com vício Produto com vício Não entrega/demora na entrega do produto Garantia (Abrangência, cobertura, etc.) Garantia (Abrangência, cobertura, etc.) Contrato - Clausula abusiva/em desacordo com a Legislação Produto com vício Não entrega/demora na entrega do produto Produto com vício Contrato - Clausula abusiva/em desacordo com a Legislação. Produto com vício Consumidor negativado indevidamente nos serviços de proteção ao credito Cobrança indevida/abusiva Falta de peça de reposição Produto com vício Cobrança indevida. Cobrança indevida. Garantia (Abrangência, cobertura, etc.) Garantia (Abrangência, cobertura, etc.) Cobrança indevida/abusiva Cobrança indevida/abusiva Garantia (Abrangência, cobertura, etc.) Venda enganosa Rescisão do contrato pela não entrega do imóvel Cobrança de valor quando o produto e devolvido (cobrança indevida) Crédito Consignado Garantia (Abrangência, cobertura, etc.) Cobrança indevida/abusiva Produto com vício Cobrança indevida/abusiva Contrato (não cumprimento, alteração, transferencia, irregularidade, rescisão, etc.) Serviço não fornecido (entrega/instalação/não cumprimento da oferta/contrato) Produto com vício Falta de peca de reposição Tarifas Bancárias – Cobrança não autorizada. Produto com vício Produto com vício Produto com vício Garantia (Abrangência, cobertura, etc.) Duvida sobre cobrança/valor/reajuste/contrato/orçamento. SAC - Resolução de demandas (ausência de resposta, excesso de prazo, não suspensão imediata da cobrança) Cobrança indevida/abusiva Cobrança indevida/abusiva Cobrança indevida/abusiva Cobrança indevida/abusiva Cobrança indevida. Garantia (Abrangência, cobertura, etc.) Não entrega da escritura SAC - Resolução de demandas (ausência de resposta, excesso de prazo, não suspensão imediata da cobrança) Produto com vício Produto com vício Cobrança indevida/abusiva Antecipação de Financiamento Não pagamento de resgate (capitalização/ouro/compra) Serviço não fornecido (entrega/instalação/não cumprimento da oferta/contrato) Documentos: não fornecimento (escolares, recibo, nota, fiscal, vaucher , etc.) Produto com vício Cobrança indevida/abusiva Cobrança indevida/abusiva Produto com vício Garantia (Abrangência, cobertura, etc.) Serviço não fornecido (entrega/instalação/não cumprimento da oferta/contrato) Venda/Oferta/publicidade enganosa. Produto com vício Serviço não fornecido (entrega/instalação/não cumprimento da oferta/contrato) Documentos: não fornecimento (escolares, recibo, nota, fiscal, vaucher , etc.) SAC - Resolução de demandas (ausência de resposta, excesso de prazo, não suspensão imediata da cobrança) SAC - Resolução de demandas (ausência de resposta, excesso de prazo, não suspensão imediata da cobrança) Calculo de prestação em atraso Cobrança indevida/abusiva Não entrega/demora na entrega do produto Desistência de compra (cancelamento de compra) Produto com vício Devolução de sinal, valores pagos (negocio não concretizado) Serviço não fornecido (entrega/instalação/não cumprimento da oferta/contrato) Serviço não fornecido (entrega/instalação/não cumprimento da oferta/contrato) Cobrança indevida/abusiva Falta de peca de reposição Produto com vício Cobrança indevida. Garantia (Abrangência, cobertura, etc.) Recusa injustificada em prestar serviço Produto com vício Demora na montagem/montagem incompleta/incorreta Garantia (Abrangência, cobertura, etc.) Cobrança indevida/abusiva Garantia (Abrangência, cobertura, etc.) Contrato - Rescisão/alteração unilateral Não entrega/demora na entrega do produto Produto com vício Garantia (Abrangência, cobertura, etc.) Produto com vício Produto com vício Serviço não fornecido (entrega/instalação/não cumprimento da oferta/contrato) Produto com vício Garantia (Abrangência, cobertura, etc.) Produto com vício Desistência de compra (cancelamento de compra) Falta de peca de reposição Publicidade abusiva Crédito Consignado Cobrança indevida/abusiva Produto com vício Garantia (Abrangência, cobertura, etc.) SAC - Resolução de demandas (ausência de resposta, excesso de prazo, não suspensão imediata da cobrança) Contrato - Rescisão/alteração unilateral Produto com vício SAC - Resolução de demandas (ausência de resposta, excesso de prazo, não suspensão imediata da cobrança) Produto com vício Garantia (Abrangência, cobertura, etc.) Serviço não fornecido (entrega/instalação/não cumprimento da oferta/contrato) Garantia (Abrangência, cobertura, etc.) Produto com vício Antecipação de Financiamento Cobrança indevida/abusiva Cobrança indevida/abusiva Produto com vício Contrato/pedido/orçamento (rescisão, descumprimento, erro, etc.) Cobrança indevida/abusiva Garantia (Abrangência, cobertura, etc.) Cobrança indevida/abusiva Publicidade enganosa Serviço não fornecido (entrega/instalação/não cumprimento da oferta/contrato) Produto com vício Venda/Oferta/publicidade enganosa Cobrança indevida/abusiva Garantia (Abrangência, cobertura, etc.) Recusa injustificada em prestar serviço Rescisão do contrato pela não entrega do imóvel Cobrança indevida. Garantia (Abrangência, cobertura, etc.) Produto com vício Dano material/pessoal decorrente do serviço Cobrança indevida/abusiva Não entrega de copia do contrato Cobrança indevida. Cobrança indevida/abusiva Serviço não fornecido (entrega/instalação/não cumprimento da oferta/contrato) Meia entrada para estudantes - recusa/falta de informação Cobrança indevida/abusiva Desistência de compra (cancelamento de compra) Cobrança indevida/abusiva Garantia (Abrangência, cobertura, etc.) Produto com vício Garantia (Abrangência, cobertura, etc.) Não cumprimento do contrato/proposta Não entrega/demora na entrega do produto Contrato - Rescisão/alteração unilateral Produto com vício Garantia (Abrangência, cobertura, etc.) Crédito Consignado Produto com vício Produto com vício Produto com vício Contrato - Rescisão/alteração unilateral Vicio de qualidade (mal executado, inadequado, impróprio) Cobrança indevida/abusiva Produto com vício Cobrança indevida/abusiva Cobrança indevida/abusiva Garantia (Abrangência, cobertura, etc.) Falta de peca de reposição Cobrança indevida/abusiva Produto com vício Garantia (Abrangência, cobertura, etc.) Garantia (Abrangência, cobertura, etc.) Vicio de qualidade (mal executado, inadequado, impróprio) Produto com vício Produto com vício Venda casada Não pagamento de indenização Produto com vício Produto com vício Contrato (não cumprimento, alteração, transferencia, irregularidade, rescisão, etc.) Cobrança indevida. Serviço não fornecido (entrega/instalação/não cumprimento da oferta/contrato) Cobrança indevida. Produto com vício Demora na montagem/montagem incompleta/incorreta Calculo de prestação/taxa de juros Produto com vício Cobrança indevida. Cobrança indevida. Produto entregue diferente do pedido Produto com vício Produto com vício Outros problemas com contratos de saúde (Não cobertura, abrangência, reembolso) Outros problemas com contratos de saúde (Não cobertura, abrangência, reembolso) Falta de peca de reposição Produto com vício Garantia (Abrangência, cobertura, etc.) Garantia (Abrangência, cobertura, etc.) Garantia (Abrangência, cobertura, etc.) Garantia (Abrangência, cobertura, etc.) Produto com vício Produto com vício Produto com vício Cobrança indevida/abusiva Contrato (não cumprimento, alteração, transferencia, irregularidade, rescisão, etc.) Cobrança indevida/abusiva Produto com vício Produto com vício Garantia (Abrangência, cobertura, etc.) Garantia (Abrangência, cobertura, etc.) Garantia - Descumprimento, prazo Garantia (Abrangência, cobertura, etc.) Fila em Banco Garantia - Descumprimento, prazo Produto com vício Cobrança indevida/abusiva Produto com vício Cobrança abusiva mediante constrangimento, ameaça. Serviço não fornecido (entrega/instalação/não cumprimento da oferta/contrato) Não entrega/demora na entrega do produto Contrato (não cumprimento, alteração, transferencia, irregularidade, rescisão, etc.) Cobrança indevida. Cobrança indevida. Serviço não fornecido (entrega/instalação/não cumprimento da oferta/contrato) Cobrança indevida. Demora na montagem/montagem incompleta/incorreta Garantia (Abrangência, cobertura, etc.) SAC - Resolução de demandas (ausência de resposta, excesso de prazo, não suspensão imediata da cobrança) Garantia (Abrangência, cobertura, etc.) Produto com vício Cobrança indevida/abusiva Garantia (Abrangência, cobertura, etc.) Produto com vício Cobrança indevida/abusiva Cobrança indevida/abusiva Produto com vício Não entrega/demora na entrega do produto Garantia (Abrangência, cobertura, etc.) SAC - Resolução de demandas (ausência de resposta, excesso de prazo, não suspensão imediata da cobrança) Produto com vício Cobrança indevida. SAC - Resolução de demandas (ausência de resposta, excesso de prazo, não suspensão imediata da cobrança) Cobrança indevida/abusiva Serviço não fornecido (entrega/instalação/não cumprimento da oferta/contrato) Contrato - Rescisão/alteração unilateral Cobrança indevida/abusiva Cobrança indevida. Não cumprimento do contrato/proposta Produto com vício Cobrança indevida. Produto com vício Produto com vício Produto entregue diferente do pedido Produto com vício Vicio de qualidade (mal executado, inadequado, impróprio) SAC - Cancelamento de serviço (retenção, demora, não envio do comprovante) Produto com vício Produto com vício Produto com vício Garantia (Abrangência, cobertura, etc.) Garantia (Abrangência, cobertura, etc.) Contrato (não cumprimento, alteração, transferencia, irregularidade, rescisão, etc.) Procedimento de cobrança violenta/difamatória Produto com vício Crédito Consignado Garantia (Abrangência, cobertura, etc.) Garantia (Abrangência, cobertura, etc.) Cobrança indevida/abusiva Contrato - Rescisão/alteração unilateral Produto com vício Cobrança indevida. Serviço não fornecido (entrega/instalação/não cumprimento da oferta/contrato) Produto com vício Cobrança indevida. Falta de peca de reposição Serviço não fornecido (entrega/instalação/não cumprimento da oferta/contrato) Serviço não fornecido (entrega/instalação/não cumprimento da oferta/contrato) Cobrança indevida/abusiva Contrato - Rescisão/alteração unilateral Crédito Consignado Produto com vício Acidente de Consumo (produto causou danos pessoais) Serviço não concluído /Fornecimento parcial Cobrança indevida/abusiva Calculo de prestação em atraso Recusa injustificada em prestar serviço Garantia (Abrangência, cobertura, etc.) Cobrança indevida/abusiva Desistência do serviço (artigo 49 - descumprimento) Garantia (Abrangência, cobertura, etc.) Serviço não concluído /Fornecimento parcial Não cumprimento do contrato/proposta Garantia (Abrangência, cobertura, etc.) Contrato - Rescisão/alteração unilateral Cobrança indevida. SAC - Cancelamento de serviço (retenção, demora, não envio do comprovante) Cobrança indevida/abusiva Garantia (Abrangência, cobertura, etc.) Produto com vício Garantia (Abrangência, cobertura, etc.) Produto com vício Garantia (Abrangência, cobertura, etc.) Produto com vício Recusa injustificada em prestar serviço Garantia (Abrangência, cobertura, etc.) Produto com vício Produto com vício Extravio/avaria de bagagem, carga, correspondência, mercadoria, mudança, etc. Cobrança indevida. Cobrança indevida/abusiva Não cumprimento à oferta Produto com vício Não entrega/demora na entrega do produto Falta de peca de reposição Contrato/pedido/orçamento (rescisão, descumprimento, erro, etc.) Garantia (Abrangência, cobertura, etc.) Devolução de sinal, valores pagos (negocio não concretizado) Cobrança indevida. Cobrança indevida/abusiva Garantia (Abrangência, cobertura, etc.) Falta de peca de reposição Discordância quanto as avarias Contrato - Rescisão/alteração unilateral Garantia (Abrangência, cobertura, etc.) Negativa de Cobertura Cobrança indevida. Não pagamento de resgate (capitalização/ouro/compra) Produto com vício Produto com vício Produto com vício Contrato - Rescisão/alteração unilateral Produto com vício Cobrança indevida. Não cumprimento à oferta Consumidor negativado indevidamente nos serviços de proteção ao credito Cobrança indevida/abusiva Recusa injustificada em prestar serviço Cobrança indevida/abusiva Produto com vício Falta de peca de reposição Cobrança indevida. Cobrança indevida/abusiva Não entrega/demora na entrega do produto Produto com vício Cobrança indevida/abusiva Produto com vício Produto com vício Cobrança indevida/abusiva Crédito Consignado Cobrança indevida/abusiva Duvidas sobre cobranças (taxas etc.) Não pagamento de indenização (seguros em geral) Produto entregue diferente do pedido Contrato/pedido/orçamento (rescisão, descumprimento, erro, etc.) Produto com vício Garantia (Abrangência, cobertura, etc.) SAC - Cancelamento de serviço (retenção, demora, não envio do comprovante) Cobrança indevida/abusiva Vicio de qualidade (mal executado, inadequado, impróprio) Cobrança indevida/abusiva Garantia (Abrangência, cobertura, etc.) Cobrança indevida/abusiva Venda/Oferta/publicidade enganosa. SAC - Acesso ao serviço (onerosidade, problemas no menu, indisponibilidade, inacessibilidade aos deficientes) Cobrança de valor quando o produto e devolvido (cobrança indevida) Cobrança indevida/abusiva Garantia - Descumprimento, prazo Cobrança indevida. Crédito Consignado Produto com vício Contrato (não cumprimento, alteração, transferencia, irregularidade, rescisão, etc.) Garantia (Abrangência, cobertura, etc.) Cobrança indevida/abusiva Produto com vício Cobrança indevida/abusiva Produto com vício Garantia (Abrangência, cobertura, etc.) Reajuste abusivo (preço, taxa, mensalidade, etc.) Contrato (não cumprimento, alteração, transferencia, irregularidade, rescisão, etc.) Produto com vício Garantia (Abrangência, cobertura, etc.) Cobrança indevida. Cobrança indevida/abusiva Contrato - Rescisão/alteração unilateral Cobrança indevida/abusiva Cobrança indevida/abusiva Cobrança indevida/abusiva Garantia - Descumprimento, prazo Desistência de compra (cancelamento de compra) Produto com vício Produto com vício Garantia (Abrangência, cobertura, etc.) Antecipação de Financiamento Produto com vício Produto com vício Produto com vício Recusa injustificada em prestar serviço Cobrança indevida/abusiva Serviço não fornecido (entrega/instalação/não cumprimento da oferta/contrato) Cobrança indevida/abusiva Produto com vício Não entrega de copia do contrato Cobrança indevida/abusiva Outros problemas com contratos de saúde (Não cobertura, abrangência, reembolso) Produto com vício Cobrança indevida. Publicidade enganosa Garantia (Abrangência, cobertura, etc.) Serviço em desacordo com norma/lei Contrato - Rescisão/alteração unilateral Produto com vício Não entrega/demora na entrega do produto Cobrança indevida. Garantia (Abrangência, cobertura, etc.) Calculo de prestação em atraso Não entrega/demora na entrega do produto Não entrega/demora na entrega do produto Cobrança de multa acima do permitido pela legislação (atraso no pag. de prestação/aluguel/condomínio) Garantia (Abrangência, cobertura, etc.) Não entrega/demora na entrega do produto Produto com vício Garantia (Abrangência, cobertura, etc.) Produto com vício Produto com vício Cobrança indevida. SAC - Resolução de demandas (ausência de resposta, excesso de prazo, não suspensão imediata da cobrança) Falha bancaria em transações eletrônicas (transferencias indevidas, saques indevidos) Cobrança indevida. Produto com vício Garantia (Abrangência, cobertura, etc.) Dano material/pessoal decorrente do serviço Garantia (Abrangência, cobertura, etc.) Cobrança indevida. Cobrança indevida/abusiva Vicio de qualidade (mal executado, inadequado, impróprio) Garantia (Abrangência, cobertura, etc.) Cobrança indevida. Cobrança indevida/abusiva Garantia - Descumprimento, prazo Crédito Consignado Garantia (Abrangência, cobertura, etc.) Cobrança indevida. SAC - Cancelamento de serviço (retenção, demora, não envio do comprovante) Cobrança indevida/abusiva Cobrança indevida/abusiva Calculo de prestação/taxa de juros Cobrança indevida/abusiva Garantia (Abrangência, cobertura, etc.) SAC - Resolução de demandas (ausência de resposta, excesso de prazo, não suspensão imediata da cobrança) Produto com vício Garantia (Abrangência, cobertura, etc.) Produto com vício Produto com vício Vicio de qualidade (mal executado, inadequado, impróprio) Valor de reajuste (mensalidade) Garantia (Abrangência, cobertura, etc.) Produto com vício Contrato (não cumprimento, alteração, transferencia, irregularidade, rescisão, etc.) Garantia (Abrangência, cobertura, etc.) Garantia (Abrangência, cobertura, etc.) Produto com vício Cobrança indevida/abusiva Produto entregue diferente do pedido Não entrega/demora na entrega do produto Garantia (Abrangência, cobertura, etc.) Garantia (Abrangência, cobertura, etc.) Produto entregue incompleto Contrato - Rescisão/alteração unilateral Cobrança indevida. Garantia (Abrangência, cobertura, etc.) Produto com vício Serviço não concluído /Fornecimento parcial Cobrança indevida. Cobrança indevida. Contrato - Rescisão/alteração unilateral Produto com vício Consumidor negativado indevidamente nos serviços de proteção ao credito Não entrega/demora na entrega do produto Garantia (Abrangência, cobertura, etc.) SAC - Cancelamento de serviço (retenção, demora, não envio do comprovante) Produto com vício Compra de veiculo (multa, transferência, alienação, não entrega de documentação) Não entrega do produto (titulo de capitalização, compra programada) Não cumprimento do contrato/proposta Contrato (não cumprimento, alteração, transferencia, irregularidade, rescisão, etc.) Cobrança indevida. Contrato/pedido/orçamento (rescisão, descumprimento, erro, etc.) Cobrança indevida/abusiva Consumidor negativado indevidamente nos serviços de proteção ao credito Cobrança indevida/abusiva Garantia (Abrangência, cobertura, etc.) Falta de peca de reposição Garantia (Abrangência, cobertura, etc.) Produto com vício Produto com vício Produto entregue diferente do pedido Demora na montagem/montagem incompleta/incorreta Produto com vício Garantia (Abrangência, cobertura, etc.) SAC - Resolução de demandas (ausência de resposta, excesso de prazo, não suspensão imediata da cobrança) Cobrança indevida/abusiva Contrato - Rescisão/alteração unilateral SAC - Cancelamento de serviço (retenção, demora, não envio do comprovante) Cobrança indevida. Cobrança indevida. Cobrança indevida. Consumidor negativado indevidamente nos serviços de proteção ao credito Cobrança indevida/abusiva SAC - Resolução de demandas (ausência de resposta, excesso de prazo, não suspensão imediata da cobrança) Cobrança indevida/abusiva Contrato - Rescisão/alteração unilateral Venda enganosa Produto com vício Cobrança indevida. Produto com vício Não entrega/demora na entrega do produto Cobrança de valor quando o produto e devolvido (cobrança indevida) Produto com vício Garantia (Abrangência, cobertura, etc.) Produto com vício Cobrança indevida/abusiva Produto com vício Produto entregue diferente do pedido Cobrança indevida/abusiva Cobrança indevida. Produto com vício Cobrança indevida/abusiva Demora na montagem/montagem incompleta/incorreta Cobrança indevida. Garantia (Abrangência, cobertura, etc.) Produto com vício Desistência do serviço (artigo 49 - descumprimento) Produto com vício Duvida sobre cobrança/valor/reajuste/contrato/orçamento. Produto com vício Não entrega/demora na entrega do produto Cobrança indevida/abusiva Recusa injustificada em prestar serviço Não entrega de quitação/retenção de documentos Defeito/Risco à saúde e segurança Antecipação de Financiamento Não pagamento de indenização (seguros em geral) Contrato (não cumprimento, alteração, transferencia, irregularidade, rescisão, etc.) Garantia (Abrangência, cobertura, etc.) Contrato (não cumprimento, alteração, transferencia, irregularidade, rescisão, etc.) Produto com vício Produto com vício Cobrança indevida. Produto com vício Produto com vício Cobrança indevida. Cobrança indevida/abusiva Produto com vício Produto com vício Garantia (Abrangência, cobertura, etc.) Não entrega/demora na entrega do produto Documentos: não fornecimento (escolares, recibo, nota, fiscal, vaucher , etc.) Garantia (Abrangência, cobertura, etc.) Produto com vício Transação Eletrônica Não Reconhecida Não entrega/demora na entrega do produto Não entrega/demora na entrega do produto Não cumprimento do contrato/proposta Consumidor negativado indevidamente nos serviços de proteção ao credito Garantia (Abrangência, cobertura, etc.) Contrato (não cumprimento, alteração, transferencia, irregularidade, rescisão, etc.) Produto com vício Produto com vício Produto com vício Produto com vício Cobrança indevida/abusiva Descumprimento de garantia pelo convênio medico (guia) Cobrança indevida/abusiva Cobrança indevida/abusiva Recusa injustificada em prestar serviço Produto com vício Cobrança indevida. Serviço não concluído /Fornecimento parcial Contrato (não cumprimento, alteração, transferencia, irregularidade, rescisão, etc.) Cobrança abusiva mediante constrangimento, ameaça. Tarifas Bancárias – Cobrança não autorizada. Garantia (Abrangência, cobertura, etc.) Garantia (Abrangência, cobertura, etc.) Vicio de qualidade (mal executado, inadequado, impróprio) Garantia (Abrangência, cobertura, etc.) Venda/Oferta/publicidade enganosa Produto com vício Produto com vício SAC - Resolução de demandas (ausência de resposta, excesso de prazo, não suspensão imediata da cobrança) Serviço não fornecido (entrega/instalação/não cumprimento da oferta/contrato) Garantia (Abrangência, cobertura, etc.) Garantia (Abrangência, cobertura, etc.) Cobrança indevida. Produto com vício Produto entregue diferente do pedido Serviço não fornecido (entrega/instalação/não cumprimento da oferta/contrato) Garantia (Abrangência, cobertura, etc.) Serviço não fornecido (entrega/instalação/não cumprimento da oferta/contrato) Serviço não fornecido (entrega/instalação/não cumprimento da oferta/contrato) Produto com vício Cobrança indevida/abusiva Cobrança indevida. Acidente de Consumo (produto causou danos pessoais) Garantia (Abrangência, cobertura, etc.) Cobrança indevida/abusiva SAC - Acesso ao serviço (onerosidade, problemas no menu, indisponibilidade, inacessibilidade aos deficientes) Produto com vício Duvida sobre cobrança/valor/reajuste/contrato/orçamento. Desistência de compra (cancelamento de compra) Cobrança indevida/abusiva Produto com vício Cobrança indevida/abusiva SAC - Qualidade do atendimento (atendente despreparado, problemas com a transferência da chamada, veiculação de mensagem publicitária) Contrato (não cumprimento, alteração, transferencia, irregularidade, rescisão, etc.) Não entrega/demora na entrega do produto Produto com vício Produto com vício Cobrança indevida. Serviço não concluído /Fornecimento parcial SAC - Resolução de demandas (ausência de resposta, excesso de prazo, não suspensão imediata da cobrança) Contrato (não cumprimento, alteração, transferencia, irregularidade, rescisão, etc.) Outros problemas com contratos de saúde (Não cobertura, abrangência, reembolso) Produto com vício Produto com vício Cobrança indevida/abusiva Cobrança indevida/abusiva Publicidade enganosa Cobrança indevida. Cobrança indevida/abusiva Não entrega de quitação/retenção de documentos Produto com vício Produto com vício Garantia (Abrangência, cobertura, etc.) Produto com vício Serviço não concluído /Fornecimento parcial Cobrança indevida/abusiva Produto com vício Garantia (Abrangência, cobertura, etc.) Antecipação de Financiamento Venda/Oferta/publicidade enganosa. Garantia (Abrangência, cobertura, etc.) Cobrança indevida/abusiva Cobrança indevida. Não cumprimento do contrato/proposta Cobrança indevida/abusiva Cobrança indevida. Cobrança indevida/abusiva Cobrança indevida/abusiva Não entrega/demora na entrega do produto Venda enganosa Produto com vício Danos pessoais ao consumidor Serviço não fornecido (entrega/instalação/não cumprimento da oferta/contrato) Cobrança indevida/abusiva Garantia (Abrangência, cobertura, etc.) Produto com vício Cobrança de taxa indevida (elaboração de contrato, aferição de idoneidade, etc.) Cobrança indevida/abusiva Garantia (Abrangência, cobertura, etc.) Contrato - Clausula abusiva/em desacordo com a Legislação. Produto com vício Não entrega/demora na entrega do produto SAC - Cancelamento de serviço (retenção, demora, não envio do comprovante) Não entrega de quitação/retenção de documentos Cobrança indevida/abusiva Contrato (não cumprimento, alteração, transferencia, irregularidade, rescisão, etc.) Produto com vício Não entrega/demora na entrega do produto Cobrança indevida. Produto com vício Garantia (Abrangência, cobertura, etc.) Não entrega/demora na entrega do produto Produto com vício Garantia (Abrangência, cobertura, etc.) Desbloqueio de aparelho Cobrança indevida/abusiva Vicio de qualidade (mal executado, inadequado, impróprio) Produto com vício Não entrega/demora na entrega do produto Produto com vício Garantia (Abrangência, cobertura, etc.) Produto com vício Garantia (Abrangência, cobertura, etc.) Contrato (não cumprimento, alteração, transferencia, irregularidade, rescisão, etc.) Produto com vício Cobrança indevida/abusiva Produto entregue diferente do pedido Cobrança indevida/abusiva Produto com vício Garantia (Abrangência, cobertura, etc.) Não entrega de copia do contrato Produto com vício Cobrança indevida. Duvida sobre cobrança/valor/reajuste/contrato/orçamento. Tarifas Bancárias – Cobrança não autorizada. Cobrança indevida/abusiva Cobrança indevida/abusiva Venda enganosa Produto com vício Cobrança indevida. Cobrança indevida/abusiva Cobrança indevida. Garantia (Abrangência, cobertura, etc.) Garantia (Abrangência, cobertura, etc.) Serviço não concluído /Fornecimento parcial Cobrança indevida. Cobrança indevida. Cobrança indevida/abusiva Reajuste de saldo de caixa/diferença de prestação Cobrança indevida/abusiva Vicio de qualidade (mal executado, inadequado, impróprio) Publicidade enganosa Cobrança de taxa indevida (elaboração de contrato, aferição de idoneidade, etc.) Cobrança indevida/abusiva Cobrança indevida. Venda enganosa Cobrança indevida/abusiva Não entrega/demora na entrega do produto Demora na montagem/montagem incompleta/incorreta Cobrança indevida/abusiva Garantia (Abrangência, cobertura, etc.) Valor de reajuste (mensalidade) Produto com vício Cobrança indevida/abusiva Não cumprimento do contrato/proposta Duvida sobre cobrança/valor/reajuste/contrato/orçamento. Garantia (Abrangência, cobertura, etc.) Cobrança indevida. Cobrança indevida/abusiva Contrato (não cumprimento, alteração, transferencia, irregularidade, rescisão, etc.) Não entrega/demora na entrega do produto Cobrança indevida/abusiva Cobrança indevida. Cobrança indevida. Produto com vício Garantia (Abrangência, cobertura, etc.) Produto com vício Serviço não concluído /Fornecimento parcial Problemas relativos a emissão/remessa de carnes/orçamentos Cobrança indevida/abusiva Cobrança indevida/abusiva Venda/Oferta/publicidade enganosa Recusa injustificada em prestar serviço SAC - Acesso ao serviço (onerosidade, problemas no menu, indisponibilidade, inacessibilidade aos deficientes) Não entrega/demora na entrega do produto Cobrança indevida. Contrato - Rescisão/alteração unilateral Cobrança indevida. Garantia (Abrangência, cobertura, etc.) Cobrança de valor quando o produto e devolvido (cobrança indevida) Cobrança indevida. Contrato - Rescisão/alteração unilateral Venda enganosa Cobrança indevida. Cobrança indevida/abusiva Cobrança indevida/abusiva Crédito Consignado Cobrança indevida/abusiva Serviço não concluído /Fornecimento parcial Cobrança de valor quando o produto e devolvido (cobrança indevida) Cobrança indevida/abusiva Garantia (Abrangência, cobertura, etc.) Cobrança indevida/abusiva Produto com vício Venda/Oferta/publicidade enganosa. Produto com vício Contrato (não cumprimento, alteração, transferencia, irregularidade, rescisão, etc.) Produto com vício Contrato/pedido/orçamento (rescisão, descumprimento, erro, etc.) Produto com vício Produto com vício Cobrança indevida. Garantia (Abrangência, cobertura, etc.) Falha bancaria em transações eletrônicas (transferencias indevidas, saques indevidos) Cobrança indevida. Cobrança indevida/abusiva Recusa injustificada em prestar serviço SAC - Resolução de demandas (ausência de resposta, excesso de prazo, não suspensão imediata da cobrança) Vicio de qualidade (mal executado, inadequado, impróprio) Contrato (não cumprimento, alteração, transferencia, irregularidade, rescisão, etc.) Serviço não fornecido (entrega/instalação/não cumprimento da oferta/contrato) Cobrança indevida/abusiva Garantia (Abrangência, cobertura, etc.) Cobrança indevida. SAC - Acesso ao serviço (onerosidade, problemas no menu, indisponibilidade, inacessibilidade aos deficientes) Desistência de compra (cancelamento de compra) Não entrega/demora na entrega do produto Recusa injustificada em prestar serviço Venda enganosa Serviço não fornecido (entrega/instalação/não cumprimento da oferta/contrato) Cobrança indevida/abusiva Produto com vício Produto com vício Venda enganosa Produto com vício Defeito/Risco à saúde e segurança Cobrança indevida. Cobrança indevida/abusiva Não entrega/demora na entrega do produto Calculo de prestação em atraso Cobrança indevida. Falta de peca de reposição Desistência de compra (cancelamento de compra) Antecipação de Financiamento Cobrança indevida/abusiva Serviço não fornecido (entrega/instalação/não cumprimento da oferta/contrato) Não pagamento de indenização Produto com vício Consumidor negativado indevidamente nos serviços de proteção ao credito Venda/Oferta/publicidade enganosa. Cobrança indevida. Garantia (Abrangência, cobertura, etc.) Recusa injustificada em prestar serviço Cobrança indevida/abusiva Produto com vício Produto com vício Contrato - Rescisão/alteração unilateral Garantia (Abrangência, cobertura, etc.) Produto com vício Lançamento Não Reconhecido na Fatura PID - Pedido de Indenização por Danos Morais Produto com vício Cobrança indevida/abusiva Cobrança indevida/abusiva Produto com vício Produto com vício Contrato - Rescisão/alteração unilateral Cobrança indevida/abusiva Desistência do serviço (artigo 49 - descumprimento) Publicidade abusiva Produto com vício Cobrança indevida/abusiva Recusa injustificada em prestar serviço Contrato - Rescisão/alteração unilateral Não entrega de quitação/retenção de documentos Crédito Consignado Cobrança indevida/abusiva Demora na montagem/montagem incompleta/incorreta Discordância quanto as avarias Produto com vício Cobrança indevida. Produto com vício Produto com vício Produto entregue diferente do pedido Serviço não fornecido (entrega/instalação/não cumprimento da oferta/contrato) Garantia (Abrangência, cobertura, etc.) Garantia (Abrangência, cobertura, etc.) Cobrança indevida/abusiva Defeito/Risco à saúde e segurança Garantia (Abrangência, cobertura, etc.) Serviço não fornecido (entrega/instalação/não cumprimento da oferta/contrato) Produto com vício Falta de peca de reposição Desistência do serviço (artigo 49 - descumprimento) Garantia (Abrangência, cobertura, etc.) Garantia (Abrangência, cobertura, etc.) Cobrança indevida. Produto com vício Cobrança indevida. Cobrança indevida/abusiva Cobrança indevida/abusiva Falta de peca de reposição Contrato/pedido/orçamento (rescisão, descumprimento, erro, etc.) Contrato/pedido/orçamento (rescisão, descumprimento, erro, etc.) Cobrança indevida/abusiva Desistência de compra (cancelamento de compra) Cobrança indevida/abusiva Cobrança indevida. Produto com vício Produto com vício Cobrança indevida/abusiva Cobrança indevida. Recusa injustificada em prestar serviço Garantia (Abrangência, cobertura, etc.) Garantia (Abrangência, cobertura, etc.) Falta de peca de reposição Não entrega/demora na entrega do produto Não execução de obras de infraestrutura e benfeitorias Consumidor negativado indevidamente nos serviços de proteção ao credito Garantia (Abrangência, cobertura, etc.) Garantia (Abrangência, cobertura, etc.) Não entrega de copia do contrato Antecipação de Financiamento Dano material/pessoal decorrente do serviço Rescisão/Substituição/Alteração de contrato de saúde Produto com vício Contrato (não cumprimento, alteração, transferencia, irregularidade, rescisão, etc.) Produto com vício Duvida sobre cobrança/valor/reajuste/contrato/orçamento. Cobrança indevida/abusiva Produto causou danos materiais Garantia (Abrangência, cobertura, etc.) Produto com vício Garantia (Abrangência, cobertura, etc.) Cobrança indevida/abusiva Cobrança indevida/abusiva Antecipação de Financiamento Serviço não fornecido (entrega/instalação/não cumprimento da oferta/contrato) Garantia (Abrangência, cobertura, etc.) Produto com vício'"
      ]
     },
     "execution_count": 6,
     "metadata": {},
     "output_type": "execute_result"
    }
   ],
   "source": [
    "# Variável com as informações da Coluna \"DescricaoProblema\" do Dataset\n",
    "otexto"
   ]
  },
  {
   "cell_type": "code",
   "execution_count": 7,
   "metadata": {
    "colab": {
     "base_uri": "https://localhost:8080/"
    },
    "executionInfo": {
     "elapsed": 3,
     "status": "ok",
     "timestamp": 1668369034356,
     "user": {
      "displayName": "MATHEUS DOS SANTOS OLIVEIRA",
      "userId": "09253095021711422754"
     },
     "user_tz": 180
    },
    "id": "pa0C2Nxhyod0",
    "outputId": "5ea75427-5fbc-4f1c-e0a5-477793b8d008"
   },
   "outputs": [
    {
     "name": "stdout",
     "output_type": "stream",
     "text": [
      "['Cobrança', 'indevida', 'abusiva', 'Antecipação', 'de', 'Financiamento', 'Produto', 'com', 'vício', 'Não', 'entrega', 'demora', 'na', 'entrega', 'do', 'produto', 'Vicio', 'de', 'qualidade', 'mal', 'executado', 'inadequado', 'impróprio', 'Garantia', 'Abrangência', 'cobertura', 'etc', 'Não', 'entrega', 'demora', 'na', 'entrega', 'do', 'produto', 'Cobrança', 'indevida', 'abusiva', 'Produto', 'com', 'vício', 'Contrato', 'pedido', 'orçamento', 'rescisão', 'descumprimento', 'erro', 'etc', 'Crédito', 'Consignado', 'Lançamento', 'Não', 'Reconhecido', 'na', 'Fatura', 'Garantia', 'Abrangência', 'cobertura', 'etc', 'Garantia', 'Descumprimento', 'prazo', 'Não', 'entrega', 'demora', 'na', 'entrega', 'do', 'produto', 'Garantia', 'Abrangência', 'cobertura', 'etc', 'Tarifa', 'de', 'Cartão', 'de', 'Crédito', 'Cobrança', 'Indevida', 'anuidade', 'via', 'etc', 'Contrato', 'não', 'cumprimento', 'alteração', 'transferencia', 'irregularidade', 'rescisão', 'etc', 'Rescisão', 'Substituição', 'Alteração', 'de', 'contrato', 'de', 'saúde', 'Cobrança', 'indevida', 'Crédito', 'Consignado', 'Cobrança', 'indevida', 'Venda', 'Oferta', 'publicidade', 'enganosa', 'Produto', 'com', 'vício', 'Retirada', 'de', 'credito', 'sem', 'comunicação', 'previa', 'Produto', 'com', 'vício', 'Vicio', 'de', 'qualidade', 'mal', 'executado', 'inadequado', 'impróprio', 'Desistência', 'do', 'serviço', 'artigo', 'descumprimento', 'Cobrança', 'indevida', 'abusiva', 'Garantia', 'Abrangência', 'cobertura', 'etc', 'SAC', 'Resolução', 'de', 'demandas', 'ausência', 'de', 'resposta', 'excesso', 'de', 'prazo', 'não', 'suspensão', 'imediata', 'da', 'cobrança', 'Contrato', 'Rescisão', 'alteração', 'unilateral', 'Não', 'pagamento', 'de', 'indenização', 'Cobrança', 'abusiva', 'mediante', 'constrangimento', 'ameaça', 'Cobrança', 'indevida', 'abusiva', 'Cobrança', 'indevida', 'abusiva', 'Lançamento', 'Não', 'Reconhecido', 'na', 'Fatura', 'SAC', 'Cancelamento', 'de', 'serviço', 'retenção', 'demora', 'não', 'envio', 'do', 'comprovante', 'SAC', 'Acesso', 'ao', 'serviço', 'onerosidade', 'problemas', 'no', 'menu', 'indisponibilidade', 'inacessibilidade', 'aos', 'deficientes', 'SAC', 'Acesso', 'ao', 'serviço', 'onerosidade', 'problemas', 'no', 'menu', 'indisponibilidade', 'inacessibilidade', 'aos', 'deficientes', 'Cobrança', 'indevida', 'abusiva', 'Garantia', 'Abrangência', 'cobertura', 'etc', 'Não', 'entrega', 'demora', 'na', 'entrega', 'do', 'produto', 'Não', 'pagamento', 'de', 'resgate', 'capitalização', 'ouro', 'compra', 'Cobrança', 'indevida', 'Não', 'entrega', 'demora', 'na', 'entrega', 'do', 'produto', 'Serviço', 'não', 'fornecido', 'entrega', 'instalação', 'não', 'cumprimento', 'da', 'oferta', 'contrato', 'Cobrança', 'indevida', 'abusiva', 'Cobrança', 'indevida', 'abusiva', 'Produto', 'com', 'vício', 'Cobrança', 'indevida', 'Garantia', 'Abrangência', 'cobertura', 'etc', 'Produto', 'com', 'vício', 'Outros', 'problemas', 'com', 'contratos', 'de', 'saúde', 'Não', 'cobertura', 'abrangência', 'reembolso', 'Contrato', 'não', 'cumprimento', 'alteração', 'transferencia', 'irregularidade', 'rescisão', 'etc', 'Cobrança', 'indevida', 'abusiva', 'Desistência', 'de', 'compra', 'cancelamento', 'de', 'compra', 'Cobrança', 'indevida', 'Não', 'entrega', 'demora', 'na', 'entrega', 'do', 'produto', 'Não', 'entrega', 'demora', 'na', 'entrega', 'do', 'produto', 'Consumidor', 'negativado', 'indevidamente', 'nos', 'serviços', 'de', 'proteção', 'ao', 'credito', 'Desistência', 'de', 'compra', 'cancelamento', 'de', 'compra', 'Dano', 'material', 'pessoal', 'decorrente', 'do', 'serviço', 'Cobrança', 'indevida', 'Produto', 'com', 'vício', 'Cobrança', 'indevida', 'abusiva', 'Contrato', 'Rescisão', 'alteração', 'unilateral', 'Produto', 'com', 'vício', 'Falha', 'bancaria', 'em', 'transações', 'eletrônicas', 'transferencias', 'indevidas', 'saques', 'indevidos', 'Não', 'cumprimento', 'do', 'contrato', 'proposta', 'Portabilidade', 'numérica', 'PID', 'Pedido', 'de', 'Indenização', 'por', 'Danos', 'Morais', 'Produto', 'com', 'vício', 'Vicio', 'de', 'qualidade', 'mal', 'executado', 'inadequado', 'impróprio', 'Cobrança', 'indevida', 'abusiva', 'Cobrança', 'indevida', 'abusiva', 'Cobrança', 'abusiva', 'mediante', 'constrangimento', 'ameaça', 'Produto', 'com', 'vício', 'Contrato', 'Rescisão', 'alteração', 'unilateral', 'Produto', 'com', 'vício', 'Contrato', 'pedido', 'orçamento', 'rescisão', 'descumprimento', 'erro', 'etc', 'Produto', 'com', 'vício', 'Garantia', 'Abrangência', 'cobertura', 'etc', 'Cobrança', 'indevida', 'abusiva', 'Desistência', 'de', 'compra', 'cancelamento', 'de', 'compra', 'Garantia', 'Abrangência', 'cobertura', 'etc', 'Garantia', 'Abrangência', 'cobertura', 'etc', 'SAC', 'Resolução', 'de', 'demandas', 'ausência', 'de', 'resposta', 'excesso', 'de', 'prazo', 'não', 'suspensão', 'imediata', 'da', 'cobrança', 'Garantia', 'Abrangência', 'cobertura', 'etc', 'Não', 'cumprimento', 'do', 'contrato', 'proposta', 'Serviço', 'em', 'desacordo', 'com', 'norma', 'lei', 'Cobrança', 'indevida', 'abusiva', 'Cobrança', 'indevida', 'abusiva', 'Produto', 'com', 'vício', 'Cobrança', 'indevida', 'abusiva', 'Garantia', 'Abrangência', 'cobertura', 'etc', 'Produto', 'com', 'vício', 'Cobrança', 'indevida', 'Documentos', 'não', 'fornecimento', 'escolares', 'recibo', 'nota', 'fiscal', 'vaucher', 'etc', 'Devolução', 'de', 'sinal', 'valores', 'pagos', 'negocio', 'não', 'concretizado', 'Garantia', 'Abrangência', 'cobertura', 'etc', 'Contrato', 'não', 'cumprimento', 'alteração', 'transferencia', 'irregularidade', 'rescisão', 'etc', 'Não', 'cumprimento', 'oferta', 'Contrato', 'Rescisão', 'alteração', 'unilateral', 'Produto', 'com', 'vício', 'Produto', 'com', 'vício', 'Produto', 'com', 'vício', 'Produto', 'com', 'vício', 'Não', 'entrega', 'demora', 'na', 'entrega', 'do', 'produto', 'Garantia', 'Abrangência', 'cobertura', 'etc', 'Garantia', 'Abrangência', 'cobertura', 'etc', 'Contrato', 'Clausula', 'abusiva', 'em', 'desacordo', 'com', 'a', 'Legislação', 'Produto', 'com', 'vício', 'Não', 'entrega', 'demora', 'na', 'entrega', 'do', 'produto', 'Produto', 'com', 'vício', 'Contrato', 'Clausula', 'abusiva', 'em', 'desacordo', 'com', 'a', 'Legislação', 'Produto', 'com', 'vício', 'Consumidor', 'negativado', 'indevidamente', 'nos', 'serviços', 'de', 'proteção', 'ao', 'credito', 'Cobrança', 'indevida', 'abusiva', 'Falta', 'de', 'peça', 'de', 'reposição', 'Produto', 'com', 'vício', 'Cobrança', 'indevida', 'Cobrança', 'indevida', 'Garantia', 'Abrangência', 'cobertura', 'etc', 'Garantia', 'Abrangência', 'cobertura', 'etc', 'Cobrança', 'indevida', 'abusiva', 'Cobrança', 'indevida', 'abusiva', 'Garantia', 'Abrangência', 'cobertura', 'etc', 'Venda', 'enganosa', 'Rescisão', 'do', 'contrato', 'pela', 'não', 'entrega', 'do', 'imóvel', 'Cobrança', 'de', 'valor', 'quando', 'o', 'produto', 'e', 'devolvido', 'cobrança', 'indevida', 'Crédito', 'Consignado', 'Garantia', 'Abrangência', 'cobertura', 'etc', 'Cobrança', 'indevida', 'abusiva', 'Produto', 'com', 'vício', 'Cobrança', 'indevida', 'abusiva', 'Contrato', 'não', 'cumprimento', 'alteração', 'transferencia', 'irregularidade', 'rescisão', 'etc', 'Serviço', 'não', 'fornecido', 'entrega', 'instalação', 'não', 'cumprimento', 'da', 'oferta', 'contrato', 'Produto', 'com', 'vício', 'Falta', 'de', 'peca', 'de', 'reposição', 'Tarifas', 'Bancárias', 'Cobrança', 'não', 'autorizada', 'Produto', 'com', 'vício', 'Produto', 'com', 'vício', 'Produto', 'com', 'vício', 'Garantia', 'Abrangência', 'cobertura', 'etc', 'Duvida', 'sobre', 'cobrança', 'valor', 'reajuste', 'contrato', 'orçamento', 'SAC', 'Resolução', 'de', 'demandas', 'ausência', 'de', 'resposta', 'excesso', 'de', 'prazo', 'não', 'suspensão', 'imediata', 'da', 'cobrança', 'Cobrança', 'indevida', 'abusiva', 'Cobrança', 'indevida', 'abusiva', 'Cobrança', 'indevida', 'abusiva', 'Cobrança', 'indevida', 'abusiva', 'Cobrança', 'indevida', 'Garantia', 'Abrangência', 'cobertura', 'etc', 'Não', 'entrega', 'da', 'escritura', 'SAC', 'Resolução', 'de', 'demandas', 'ausência', 'de', 'resposta', 'excesso', 'de', 'prazo', 'não', 'suspensão', 'imediata', 'da', 'cobrança', 'Produto', 'com', 'vício', 'Produto', 'com', 'vício', 'Cobrança', 'indevida', 'abusiva', 'Antecipação', 'de', 'Financiamento', 'Não', 'pagamento', 'de', 'resgate', 'capitalização', 'ouro', 'compra', 'Serviço', 'não', 'fornecido', 'entrega', 'instalação', 'não', 'cumprimento', 'da', 'oferta', 'contrato', 'Documentos', 'não', 'fornecimento', 'escolares', 'recibo', 'nota', 'fiscal', 'vaucher', 'etc', 'Produto', 'com', 'vício', 'Cobrança', 'indevida', 'abusiva', 'Cobrança', 'indevida', 'abusiva', 'Produto', 'com', 'vício', 'Garantia', 'Abrangência', 'cobertura', 'etc', 'Serviço', 'não', 'fornecido', 'entrega', 'instalação', 'não', 'cumprimento', 'da', 'oferta', 'contrato', 'Venda', 'Oferta', 'publicidade', 'enganosa', 'Produto', 'com', 'vício', 'Serviço', 'não', 'fornecido', 'entrega', 'instalação', 'não', 'cumprimento', 'da', 'oferta', 'contrato', 'Documentos', 'não', 'fornecimento', 'escolares', 'recibo', 'nota', 'fiscal', 'vaucher', 'etc', 'SAC', 'Resolução', 'de', 'demandas', 'ausência', 'de', 'resposta', 'excesso', 'de', 'prazo', 'não', 'suspensão', 'imediata', 'da', 'cobrança', 'SAC', 'Resolução', 'de', 'demandas', 'ausência', 'de', 'resposta', 'excesso', 'de', 'prazo', 'não', 'suspensão', 'imediata', 'da', 'cobrança', 'Calculo', 'de', 'prestação', 'em', 'atraso', 'Cobrança', 'indevida', 'abusiva', 'Não', 'entrega', 'demora', 'na', 'entrega', 'do', 'produto', 'Desistência', 'de', 'compra', 'cancelamento', 'de', 'compra', 'Produto', 'com', 'vício', 'Devolução', 'de', 'sinal', 'valores', 'pagos', 'negocio', 'não', 'concretizado', 'Serviço', 'não', 'fornecido', 'entrega', 'instalação', 'não', 'cumprimento', 'da', 'oferta', 'contrato', 'Serviço', 'não', 'fornecido', 'entrega', 'instalação', 'não', 'cumprimento', 'da', 'oferta', 'contrato', 'Cobrança', 'indevida', 'abusiva', 'Falta', 'de', 'peca', 'de', 'reposição', 'Produto', 'com', 'vício', 'Cobrança', 'indevida', 'Garantia', 'Abrangência', 'cobertura', 'etc', 'Recusa', 'injustificada', 'em', 'prestar', 'serviço', 'Produto', 'com', 'vício', 'Demora', 'na', 'montagem', 'montagem', 'incompleta', 'incorreta', 'Garantia', 'Abrangência', 'cobertura', 'etc', 'Cobrança', 'indevida', 'abusiva', 'Garantia', 'Abrangência', 'cobertura', 'etc', 'Contrato', 'Rescisão', 'alteração', 'unilateral', 'Não', 'entrega', 'demora', 'na', 'entrega', 'do', 'produto', 'Produto', 'com', 'vício', 'Garantia', 'Abrangência', 'cobertura', 'etc', 'Produto', 'com', 'vício', 'Produto', 'com', 'vício', 'Serviço', 'não', 'fornecido', 'entrega', 'instalação', 'não', 'cumprimento', 'da', 'oferta', 'contrato', 'Produto', 'com', 'vício', 'Garantia', 'Abrangência', 'cobertura', 'etc', 'Produto', 'com', 'vício', 'Desistência', 'de', 'compra', 'cancelamento', 'de', 'compra', 'Falta', 'de', 'peca', 'de', 'reposição', 'Publicidade', 'abusiva', 'Crédito', 'Consignado', 'Cobrança', 'indevida', 'abusiva', 'Produto', 'com', 'vício', 'Garantia', 'Abrangência', 'cobertura', 'etc', 'SAC', 'Resolução', 'de', 'demandas', 'ausência', 'de', 'resposta', 'excesso', 'de', 'prazo', 'não', 'suspensão', 'imediata', 'da', 'cobrança', 'Contrato', 'Rescisão', 'alteração', 'unilateral', 'Produto', 'com', 'vício', 'SAC', 'Resolução', 'de', 'demandas', 'ausência', 'de', 'resposta', 'excesso', 'de', 'prazo', 'não', 'suspensão', 'imediata', 'da', 'cobrança', 'Produto', 'com', 'vício', 'Garantia', 'Abrangência', 'cobertura', 'etc', 'Serviço', 'não', 'fornecido', 'entrega', 'instalação', 'não', 'cumprimento', 'da', 'oferta', 'contrato', 'Garantia', 'Abrangência', 'cobertura', 'etc', 'Produto', 'com', 'vício', 'Antecipação', 'de', 'Financiamento', 'Cobrança', 'indevida', 'abusiva', 'Cobrança', 'indevida', 'abusiva', 'Produto', 'com', 'vício', 'Contrato', 'pedido', 'orçamento', 'rescisão', 'descumprimento', 'erro', 'etc', 'Cobrança', 'indevida', 'abusiva', 'Garantia', 'Abrangência', 'cobertura', 'etc', 'Cobrança', 'indevida', 'abusiva', 'Publicidade', 'enganosa', 'Serviço', 'não', 'fornecido', 'entrega', 'instalação', 'não', 'cumprimento', 'da', 'oferta', 'contrato', 'Produto', 'com', 'vício', 'Venda', 'Oferta', 'publicidade', 'enganosa', 'Cobrança', 'indevida', 'abusiva', 'Garantia', 'Abrangência', 'cobertura', 'etc', 'Recusa', 'injustificada', 'em', 'prestar', 'serviço', 'Rescisão', 'do', 'contrato', 'pela', 'não', 'entrega', 'do', 'imóvel', 'Cobrança', 'indevida', 'Garantia', 'Abrangência', 'cobertura', 'etc', 'Produto', 'com', 'vício', 'Dano', 'material', 'pessoal', 'decorrente', 'do', 'serviço', 'Cobrança', 'indevida', 'abusiva', 'Não', 'entrega', 'de', 'copia', 'do', 'contrato', 'Cobrança', 'indevida', 'Cobrança', 'indevida', 'abusiva', 'Serviço', 'não', 'fornecido', 'entrega', 'instalação', 'não', 'cumprimento', 'da', 'oferta', 'contrato', 'Meia', 'entrada', 'para', 'estudantes', 'recusa', 'falta', 'de', 'informação', 'Cobrança', 'indevida', 'abusiva', 'Desistência', 'de', 'compra', 'cancelamento', 'de', 'compra', 'Cobrança', 'indevida', 'abusiva', 'Garantia', 'Abrangência', 'cobertura', 'etc', 'Produto', 'com', 'vício', 'Garantia', 'Abrangência', 'cobertura', 'etc', 'Não', 'cumprimento', 'do', 'contrato', 'proposta', 'Não', 'entrega', 'demora', 'na', 'entrega', 'do', 'produto', 'Contrato', 'Rescisão', 'alteração', 'unilateral', 'Produto', 'com', 'vício', 'Garantia', 'Abrangência', 'cobertura', 'etc', 'Crédito', 'Consignado', 'Produto', 'com', 'vício', 'Produto', 'com', 'vício', 'Produto', 'com', 'vício', 'Contrato', 'Rescisão', 'alteração', 'unilateral', 'Vicio', 'de', 'qualidade', 'mal', 'executado', 'inadequado', 'impróprio', 'Cobrança', 'indevida', 'abusiva', 'Produto', 'com', 'vício', 'Cobrança', 'indevida', 'abusiva', 'Cobrança', 'indevida', 'abusiva', 'Garantia', 'Abrangência', 'cobertura', 'etc', 'Falta', 'de', 'peca', 'de', 'reposição', 'Cobrança', 'indevida', 'abusiva', 'Produto', 'com', 'vício', 'Garantia', 'Abrangência', 'cobertura', 'etc', 'Garantia', 'Abrangência', 'cobertura', 'etc', 'Vicio', 'de', 'qualidade', 'mal', 'executado', 'inadequado', 'impróprio', 'Produto', 'com', 'vício', 'Produto', 'com', 'vício', 'Venda', 'casada', 'Não', 'pagamento', 'de', 'indenização', 'Produto', 'com', 'vício', 'Produto', 'com', 'vício', 'Contrato', 'não', 'cumprimento', 'alteração', 'transferencia', 'irregularidade', 'rescisão', 'etc', 'Cobrança', 'indevida', 'Serviço', 'não', 'fornecido', 'entrega', 'instalação', 'não', 'cumprimento', 'da', 'oferta', 'contrato', 'Cobrança', 'indevida', 'Produto', 'com', 'vício', 'Demora', 'na', 'montagem', 'montagem', 'incompleta', 'incorreta', 'Calculo', 'de', 'prestação', 'taxa', 'de', 'juros', 'Produto', 'com', 'vício', 'Cobrança', 'indevida', 'Cobrança', 'indevida', 'Produto', 'entregue', 'diferente', 'do', 'pedido', 'Produto', 'com', 'vício', 'Produto', 'com', 'vício', 'Outros', 'problemas', 'com', 'contratos', 'de', 'saúde', 'Não', 'cobertura', 'abrangência', 'reembolso', 'Outros', 'problemas', 'com', 'contratos', 'de', 'saúde', 'Não', 'cobertura', 'abrangência', 'reembolso', 'Falta', 'de', 'peca', 'de', 'reposição', 'Produto', 'com', 'vício', 'Garantia', 'Abrangência', 'cobertura', 'etc', 'Garantia', 'Abrangência', 'cobertura', 'etc', 'Garantia', 'Abrangência', 'cobertura', 'etc', 'Garantia', 'Abrangência', 'cobertura', 'etc', 'Produto', 'com', 'vício', 'Produto', 'com', 'vício', 'Produto', 'com', 'vício', 'Cobrança', 'indevida', 'abusiva', 'Contrato', 'não', 'cumprimento', 'alteração', 'transferencia', 'irregularidade', 'rescisão', 'etc', 'Cobrança', 'indevida', 'abusiva', 'Produto', 'com', 'vício', 'Produto', 'com', 'vício', 'Garantia', 'Abrangência', 'cobertura', 'etc', 'Garantia', 'Abrangência', 'cobertura', 'etc', 'Garantia', 'Descumprimento', 'prazo', 'Garantia', 'Abrangência', 'cobertura', 'etc', 'Fila', 'em', 'Banco', 'Garantia', 'Descumprimento', 'prazo', 'Produto', 'com', 'vício', 'Cobrança', 'indevida', 'abusiva', 'Produto', 'com', 'vício', 'Cobrança', 'abusiva', 'mediante', 'constrangimento', 'ameaça', 'Serviço', 'não', 'fornecido', 'entrega', 'instalação', 'não', 'cumprimento', 'da', 'oferta', 'contrato', 'Não', 'entrega', 'demora', 'na', 'entrega', 'do', 'produto', 'Contrato', 'não', 'cumprimento', 'alteração', 'transferencia', 'irregularidade', 'rescisão', 'etc', 'Cobrança', 'indevida', 'Cobrança', 'indevida', 'Serviço', 'não', 'fornecido', 'entrega', 'instalação', 'não', 'cumprimento', 'da', 'oferta', 'contrato', 'Cobrança', 'indevida', 'Demora', 'na', 'montagem', 'montagem', 'incompleta', 'incorreta', 'Garantia', 'Abrangência', 'cobertura', 'etc', 'SAC', 'Resolução', 'de', 'demandas', 'ausência', 'de', 'resposta', 'excesso', 'de', 'prazo', 'não', 'suspensão', 'imediata', 'da', 'cobrança', 'Garantia', 'Abrangência', 'cobertura', 'etc', 'Produto', 'com', 'vício', 'Cobrança', 'indevida', 'abusiva', 'Garantia', 'Abrangência', 'cobertura', 'etc', 'Produto', 'com', 'vício', 'Cobrança', 'indevida', 'abusiva', 'Cobrança', 'indevida', 'abusiva', 'Produto', 'com', 'vício', 'Não', 'entrega', 'demora', 'na', 'entrega', 'do', 'produto', 'Garantia', 'Abrangência', 'cobertura', 'etc', 'SAC', 'Resolução', 'de', 'demandas', 'ausência', 'de', 'resposta', 'excesso', 'de', 'prazo', 'não', 'suspensão', 'imediata', 'da', 'cobrança', 'Produto', 'com', 'vício', 'Cobrança', 'indevida', 'SAC', 'Resolução', 'de', 'demandas', 'ausência', 'de', 'resposta', 'excesso', 'de', 'prazo', 'não', 'suspensão', 'imediata', 'da', 'cobrança', 'Cobrança', 'indevida', 'abusiva', 'Serviço', 'não', 'fornecido', 'entrega', 'instalação', 'não', 'cumprimento', 'da', 'oferta', 'contrato', 'Contrato', 'Rescisão', 'alteração', 'unilateral', 'Cobrança', 'indevida', 'abusiva', 'Cobrança', 'indevida', 'Não', 'cumprimento', 'do', 'contrato', 'proposta', 'Produto', 'com', 'vício', 'Cobrança', 'indevida', 'Produto', 'com', 'vício', 'Produto', 'com', 'vício', 'Produto', 'entregue', 'diferente', 'do', 'pedido', 'Produto', 'com', 'vício', 'Vicio', 'de', 'qualidade', 'mal', 'executado', 'inadequado', 'impróprio', 'SAC', 'Cancelamento', 'de', 'serviço', 'retenção', 'demora', 'não', 'envio', 'do', 'comprovante', 'Produto', 'com', 'vício', 'Produto', 'com', 'vício', 'Produto', 'com', 'vício', 'Garantia', 'Abrangência', 'cobertura', 'etc', 'Garantia', 'Abrangência', 'cobertura', 'etc', 'Contrato', 'não', 'cumprimento', 'alteração', 'transferencia', 'irregularidade', 'rescisão', 'etc', 'Procedimento', 'de', 'cobrança', 'violenta', 'difamatória', 'Produto', 'com', 'vício', 'Crédito', 'Consignado', 'Garantia', 'Abrangência', 'cobertura', 'etc', 'Garantia', 'Abrangência', 'cobertura', 'etc', 'Cobrança', 'indevida', 'abusiva', 'Contrato', 'Rescisão', 'alteração', 'unilateral', 'Produto', 'com', 'vício', 'Cobrança', 'indevida', 'Serviço', 'não', 'fornecido', 'entrega', 'instalação', 'não', 'cumprimento', 'da', 'oferta', 'contrato', 'Produto', 'com', 'vício', 'Cobrança', 'indevida', 'Falta', 'de', 'peca', 'de', 'reposição', 'Serviço', 'não', 'fornecido', 'entrega', 'instalação', 'não', 'cumprimento', 'da', 'oferta', 'contrato', 'Serviço', 'não', 'fornecido', 'entrega', 'instalação', 'não', 'cumprimento', 'da', 'oferta', 'contrato', 'Cobrança', 'indevida', 'abusiva', 'Contrato', 'Rescisão', 'alteração', 'unilateral', 'Crédito', 'Consignado', 'Produto', 'com', 'vício', 'Acidente', 'de', 'Consumo', 'produto', 'causou', 'danos', 'pessoais', 'Serviço', 'não', 'concluído', 'Fornecimento', 'parcial', 'Cobrança', 'indevida', 'abusiva', 'Calculo', 'de', 'prestação', 'em', 'atraso', 'Recusa', 'injustificada', 'em', 'prestar', 'serviço', 'Garantia', 'Abrangência', 'cobertura', 'etc', 'Cobrança', 'indevida', 'abusiva', 'Desistência', 'do', 'serviço', 'artigo', 'descumprimento', 'Garantia', 'Abrangência', 'cobertura', 'etc', 'Serviço', 'não', 'concluído', 'Fornecimento', 'parcial', 'Não', 'cumprimento', 'do', 'contrato', 'proposta', 'Garantia', 'Abrangência', 'cobertura', 'etc', 'Contrato', 'Rescisão', 'alteração', 'unilateral', 'Cobrança', 'indevida', 'SAC', 'Cancelamento', 'de', 'serviço', 'retenção', 'demora', 'não', 'envio', 'do', 'comprovante', 'Cobrança', 'indevida', 'abusiva', 'Garantia', 'Abrangência', 'cobertura', 'etc', 'Produto', 'com', 'vício', 'Garantia', 'Abrangência', 'cobertura', 'etc', 'Produto', 'com', 'vício', 'Garantia', 'Abrangência', 'cobertura', 'etc', 'Produto', 'com', 'vício', 'Recusa', 'injustificada', 'em', 'prestar', 'serviço', 'Garantia', 'Abrangência', 'cobertura', 'etc', 'Produto', 'com', 'vício', 'Produto', 'com', 'vício', 'Extravio', 'avaria', 'de', 'bagagem', 'carga', 'correspondência', 'mercadoria', 'mudança', 'etc', 'Cobrança', 'indevida', 'Cobrança', 'indevida', 'abusiva', 'Não', 'cumprimento', 'oferta', 'Produto', 'com', 'vício', 'Não', 'entrega', 'demora', 'na', 'entrega', 'do', 'produto', 'Falta', 'de', 'peca', 'de', 'reposição', 'Contrato', 'pedido', 'orçamento', 'rescisão', 'descumprimento', 'erro', 'etc', 'Garantia', 'Abrangência', 'cobertura', 'etc', 'Devolução', 'de', 'sinal', 'valores', 'pagos', 'negocio', 'não', 'concretizado', 'Cobrança', 'indevida', 'Cobrança', 'indevida', 'abusiva', 'Garantia', 'Abrangência', 'cobertura', 'etc', 'Falta', 'de', 'peca', 'de', 'reposição', 'Discordância', 'quanto', 'as', 'avarias', 'Contrato', 'Rescisão', 'alteração', 'unilateral', 'Garantia', 'Abrangência', 'cobertura', 'etc', 'Negativa', 'de', 'Cobertura', 'Cobrança', 'indevida', 'Não', 'pagamento', 'de', 'resgate', 'capitalização', 'ouro', 'compra', 'Produto', 'com', 'vício', 'Produto', 'com', 'vício', 'Produto', 'com', 'vício', 'Contrato', 'Rescisão', 'alteração', 'unilateral', 'Produto', 'com', 'vício', 'Cobrança', 'indevida', 'Não', 'cumprimento', 'oferta', 'Consumidor', 'negativado', 'indevidamente', 'nos', 'serviços', 'de', 'proteção', 'ao', 'credito', 'Cobrança', 'indevida', 'abusiva', 'Recusa', 'injustificada', 'em', 'prestar', 'serviço', 'Cobrança', 'indevida', 'abusiva', 'Produto', 'com', 'vício', 'Falta', 'de', 'peca', 'de', 'reposição', 'Cobrança', 'indevida', 'Cobrança', 'indevida', 'abusiva', 'Não', 'entrega', 'demora', 'na', 'entrega', 'do', 'produto', 'Produto', 'com', 'vício', 'Cobrança', 'indevida', 'abusiva', 'Produto', 'com', 'vício', 'Produto', 'com', 'vício', 'Cobrança', 'indevida', 'abusiva', 'Crédito', 'Consignado', 'Cobrança', 'indevida', 'abusiva', 'Duvidas', 'sobre', 'cobranças', 'taxas', 'etc', 'Não', 'pagamento', 'de', 'indenização', 'seguros', 'em', 'geral', 'Produto', 'entregue', 'diferente', 'do', 'pedido', 'Contrato', 'pedido', 'orçamento', 'rescisão', 'descumprimento', 'erro', 'etc', 'Produto', 'com', 'vício', 'Garantia', 'Abrangência', 'cobertura', 'etc', 'SAC', 'Cancelamento', 'de', 'serviço', 'retenção', 'demora', 'não', 'envio', 'do', 'comprovante', 'Cobrança', 'indevida', 'abusiva', 'Vicio', 'de', 'qualidade', 'mal', 'executado', 'inadequado', 'impróprio', 'Cobrança', 'indevida', 'abusiva', 'Garantia', 'Abrangência', 'cobertura', 'etc', 'Cobrança', 'indevida', 'abusiva', 'Venda', 'Oferta', 'publicidade', 'enganosa', 'SAC', 'Acesso', 'ao', 'serviço', 'onerosidade', 'problemas', 'no', 'menu', 'indisponibilidade', 'inacessibilidade', 'aos', 'deficientes', 'Cobrança', 'de', 'valor', 'quando', 'o', 'produto', 'e', 'devolvido', 'cobrança', 'indevida', 'Cobrança', 'indevida', 'abusiva', 'Garantia', 'Descumprimento', 'prazo', 'Cobrança', 'indevida', 'Crédito', 'Consignado', 'Produto', 'com', 'vício', 'Contrato', 'não', 'cumprimento', 'alteração', 'transferencia', 'irregularidade', 'rescisão', 'etc', 'Garantia', 'Abrangência', 'cobertura', 'etc', 'Cobrança', 'indevida', 'abusiva', 'Produto', 'com', 'vício', 'Cobrança', 'indevida', 'abusiva', 'Produto', 'com', 'vício', 'Garantia', 'Abrangência', 'cobertura', 'etc', 'Reajuste', 'abusivo', 'preço', 'taxa', 'mensalidade', 'etc', 'Contrato', 'não', 'cumprimento', 'alteração', 'transferencia', 'irregularidade', 'rescisão', 'etc', 'Produto', 'com', 'vício', 'Garantia', 'Abrangência', 'cobertura', 'etc', 'Cobrança', 'indevida', 'Cobrança', 'indevida', 'abusiva', 'Contrato', 'Rescisão', 'alteração', 'unilateral', 'Cobrança', 'indevida', 'abusiva', 'Cobrança', 'indevida', 'abusiva', 'Cobrança', 'indevida', 'abusiva', 'Garantia', 'Descumprimento', 'prazo', 'Desistência', 'de', 'compra', 'cancelamento', 'de', 'compra', 'Produto', 'com', 'vício', 'Produto', 'com', 'vício', 'Garantia', 'Abrangência', 'cobertura', 'etc', 'Antecipação', 'de', 'Financiamento', 'Produto', 'com', 'vício', 'Produto', 'com', 'vício', 'Produto', 'com', 'vício', 'Recusa', 'injustificada', 'em', 'prestar', 'serviço', 'Cobrança', 'indevida', 'abusiva', 'Serviço', 'não', 'fornecido', 'entrega', 'instalação', 'não', 'cumprimento', 'da', 'oferta', 'contrato', 'Cobrança', 'indevida', 'abusiva', 'Produto', 'com', 'vício', 'Não', 'entrega', 'de', 'copia', 'do', 'contrato', 'Cobrança', 'indevida', 'abusiva', 'Outros', 'problemas', 'com', 'contratos', 'de', 'saúde', 'Não', 'cobertura', 'abrangência', 'reembolso', 'Produto', 'com', 'vício', 'Cobrança', 'indevida', 'Publicidade', 'enganosa', 'Garantia', 'Abrangência', 'cobertura', 'etc', 'Serviço', 'em', 'desacordo', 'com', 'norma', 'lei', 'Contrato', 'Rescisão', 'alteração', 'unilateral', 'Produto', 'com', 'vício', 'Não', 'entrega', 'demora', 'na', 'entrega', 'do', 'produto', 'Cobrança', 'indevida', 'Garantia', 'Abrangência', 'cobertura', 'etc', 'Calculo', 'de', 'prestação', 'em', 'atraso', 'Não', 'entrega', 'demora', 'na', 'entrega', 'do', 'produto', 'Não', 'entrega', 'demora', 'na', 'entrega', 'do', 'produto', 'Cobrança', 'de', 'multa', 'acima', 'do', 'permitido', 'pela', 'legislação', 'atraso', 'no', 'pag', 'de', 'prestação', 'aluguel', 'condomínio', 'Garantia', 'Abrangência', 'cobertura', 'etc', 'Não', 'entrega', 'demora', 'na', 'entrega', 'do', 'produto', 'Produto', 'com', 'vício', 'Garantia', 'Abrangência', 'cobertura', 'etc', 'Produto', 'com', 'vício', 'Produto', 'com', 'vício', 'Cobrança', 'indevida', 'SAC', 'Resolução', 'de', 'demandas', 'ausência', 'de', 'resposta', 'excesso', 'de', 'prazo', 'não', 'suspensão', 'imediata', 'da', 'cobrança', 'Falha', 'bancaria', 'em', 'transações', 'eletrônicas', 'transferencias', 'indevidas', 'saques', 'indevidos', 'Cobrança', 'indevida', 'Produto', 'com', 'vício', 'Garantia', 'Abrangência', 'cobertura', 'etc', 'Dano', 'material', 'pessoal', 'decorrente', 'do', 'serviço', 'Garantia', 'Abrangência', 'cobertura', 'etc', 'Cobrança', 'indevida', 'Cobrança', 'indevida', 'abusiva', 'Vicio', 'de', 'qualidade', 'mal', 'executado', 'inadequado', 'impróprio', 'Garantia', 'Abrangência', 'cobertura', 'etc', 'Cobrança', 'indevida', 'Cobrança', 'indevida', 'abusiva', 'Garantia', 'Descumprimento', 'prazo', 'Crédito', 'Consignado', 'Garantia', 'Abrangência', 'cobertura', 'etc', 'Cobrança', 'indevida', 'SAC', 'Cancelamento', 'de', 'serviço', 'retenção', 'demora', 'não', 'envio', 'do', 'comprovante', 'Cobrança', 'indevida', 'abusiva', 'Cobrança', 'indevida', 'abusiva', 'Calculo', 'de', 'prestação', 'taxa', 'de', 'juros', 'Cobrança', 'indevida', 'abusiva', 'Garantia', 'Abrangência', 'cobertura', 'etc', 'SAC', 'Resolução', 'de', 'demandas', 'ausência', 'de', 'resposta', 'excesso', 'de', 'prazo', 'não', 'suspensão', 'imediata', 'da', 'cobrança', 'Produto', 'com', 'vício', 'Garantia', 'Abrangência', 'cobertura', 'etc', 'Produto', 'com', 'vício', 'Produto', 'com', 'vício', 'Vicio', 'de', 'qualidade', 'mal', 'executado', 'inadequado', 'impróprio', 'Valor', 'de', 'reajuste', 'mensalidade', 'Garantia', 'Abrangência', 'cobertura', 'etc', 'Produto', 'com', 'vício', 'Contrato', 'não', 'cumprimento', 'alteração', 'transferencia', 'irregularidade', 'rescisão', 'etc', 'Garantia', 'Abrangência', 'cobertura', 'etc', 'Garantia', 'Abrangência', 'cobertura', 'etc', 'Produto', 'com', 'vício', 'Cobrança', 'indevida', 'abusiva', 'Produto', 'entregue', 'diferente', 'do', 'pedido', 'Não', 'entrega', 'demora', 'na', 'entrega', 'do', 'produto', 'Garantia', 'Abrangência', 'cobertura', 'etc', 'Garantia', 'Abrangência', 'cobertura', 'etc', 'Produto', 'entregue', 'incompleto', 'Contrato', 'Rescisão', 'alteração', 'unilateral', 'Cobrança', 'indevida', 'Garantia', 'Abrangência', 'cobertura', 'etc', 'Produto', 'com', 'vício', 'Serviço', 'não', 'concluído', 'Fornecimento', 'parcial', 'Cobrança', 'indevida', 'Cobrança', 'indevida', 'Contrato', 'Rescisão', 'alteração', 'unilateral', 'Produto', 'com', 'vício', 'Consumidor', 'negativado', 'indevidamente', 'nos', 'serviços', 'de', 'proteção', 'ao', 'credito', 'Não', 'entrega', 'demora', 'na', 'entrega', 'do', 'produto', 'Garantia', 'Abrangência', 'cobertura', 'etc', 'SAC', 'Cancelamento', 'de', 'serviço', 'retenção', 'demora', 'não', 'envio', 'do', 'comprovante', 'Produto', 'com', 'vício', 'Compra', 'de', 'veiculo', 'multa', 'transferência', 'alienação', 'não', 'entrega', 'de', 'documentação', 'Não', 'entrega', 'do', 'produto', 'titulo', 'de', 'capitalização', 'compra', 'programada', 'Não', 'cumprimento', 'do', 'contrato', 'proposta', 'Contrato', 'não', 'cumprimento', 'alteração', 'transferencia', 'irregularidade', 'rescisão', 'etc', 'Cobrança', 'indevida', 'Contrato', 'pedido', 'orçamento', 'rescisão', 'descumprimento', 'erro', 'etc', 'Cobrança', 'indevida', 'abusiva', 'Consumidor', 'negativado', 'indevidamente', 'nos', 'serviços', 'de', 'proteção', 'ao', 'credito', 'Cobrança', 'indevida', 'abusiva', 'Garantia', 'Abrangência', 'cobertura', 'etc', 'Falta', 'de', 'peca', 'de', 'reposição', 'Garantia', 'Abrangência', 'cobertura', 'etc', 'Produto', 'com', 'vício', 'Produto', 'com', 'vício', 'Produto', 'entregue', 'diferente', 'do', 'pedido', 'Demora', 'na', 'montagem', 'montagem', 'incompleta', 'incorreta', 'Produto', 'com', 'vício', 'Garantia', 'Abrangência', 'cobertura', 'etc', 'SAC', 'Resolução', 'de', 'demandas', 'ausência', 'de', 'resposta', 'excesso', 'de', 'prazo', 'não', 'suspensão', 'imediata', 'da', 'cobrança', 'Cobrança', 'indevida', 'abusiva', 'Contrato', 'Rescisão', 'alteração', 'unilateral', 'SAC', 'Cancelamento', 'de', 'serviço', 'retenção', 'demora', 'não', 'envio', 'do', 'comprovante', 'Cobrança', 'indevida', 'Cobrança', 'indevida', 'Cobrança', 'indevida', 'Consumidor', 'negativado', 'indevidamente', 'nos', 'serviços', 'de', 'proteção', 'ao', 'credito', 'Cobrança', 'indevida', 'abusiva', 'SAC', 'Resolução', 'de', 'demandas', 'ausência', 'de', 'resposta', 'excesso', 'de', 'prazo', 'não', 'suspensão', 'imediata', 'da', 'cobrança', 'Cobrança', 'indevida', 'abusiva', 'Contrato', 'Rescisão', 'alteração', 'unilateral', 'Venda', 'enganosa', 'Produto', 'com', 'vício', 'Cobrança', 'indevida', 'Produto', 'com', 'vício', 'Não', 'entrega', 'demora', 'na', 'entrega', 'do', 'produto', 'Cobrança', 'de', 'valor', 'quando', 'o', 'produto', 'e', 'devolvido', 'cobrança', 'indevida', 'Produto', 'com', 'vício', 'Garantia', 'Abrangência', 'cobertura', 'etc', 'Produto', 'com', 'vício', 'Cobrança', 'indevida', 'abusiva', 'Produto', 'com', 'vício', 'Produto', 'entregue', 'diferente', 'do', 'pedido', 'Cobrança', 'indevida', 'abusiva', 'Cobrança', 'indevida', 'Produto', 'com', 'vício', 'Cobrança', 'indevida', 'abusiva', 'Demora', 'na', 'montagem', 'montagem', 'incompleta', 'incorreta', 'Cobrança', 'indevida', 'Garantia', 'Abrangência', 'cobertura', 'etc', 'Produto', 'com', 'vício', 'Desistência', 'do', 'serviço', 'artigo', 'descumprimento', 'Produto', 'com', 'vício', 'Duvida', 'sobre', 'cobrança', 'valor', 'reajuste', 'contrato', 'orçamento', 'Produto', 'com', 'vício', 'Não', 'entrega', 'demora', 'na', 'entrega', 'do', 'produto', 'Cobrança', 'indevida', 'abusiva', 'Recusa', 'injustificada', 'em', 'prestar', 'serviço', 'Não', 'entrega', 'de', 'quitação', 'retenção', 'de', 'documentos', 'Defeito', 'Risco', 'saúde', 'e', 'segurança', 'Antecipação', 'de', 'Financiamento', 'Não', 'pagamento', 'de', 'indenização', 'seguros', 'em', 'geral', 'Contrato', 'não', 'cumprimento', 'alteração', 'transferencia', 'irregularidade', 'rescisão', 'etc', 'Garantia', 'Abrangência', 'cobertura', 'etc', 'Contrato', 'não', 'cumprimento', 'alteração', 'transferencia', 'irregularidade', 'rescisão', 'etc', 'Produto', 'com', 'vício', 'Produto', 'com', 'vício', 'Cobrança', 'indevida', 'Produto', 'com', 'vício', 'Produto', 'com', 'vício', 'Cobrança', 'indevida', 'Cobrança', 'indevida', 'abusiva', 'Produto', 'com', 'vício', 'Produto', 'com', 'vício', 'Garantia', 'Abrangência', 'cobertura', 'etc', 'Não', 'entrega', 'demora', 'na', 'entrega', 'do', 'produto', 'Documentos', 'não', 'fornecimento', 'escolares', 'recibo', 'nota', 'fiscal', 'vaucher', 'etc', 'Garantia', 'Abrangência', 'cobertura', 'etc', 'Produto', 'com', 'vício', 'Transação', 'Eletrônica', 'Não', 'Reconhecida', 'Não', 'entrega', 'demora', 'na', 'entrega', 'do', 'produto', 'Não', 'entrega', 'demora', 'na', 'entrega', 'do', 'produto', 'Não', 'cumprimento', 'do', 'contrato', 'proposta', 'Consumidor', 'negativado', 'indevidamente', 'nos', 'serviços', 'de', 'proteção', 'ao', 'credito', 'Garantia', 'Abrangência', 'cobertura', 'etc', 'Contrato', 'não', 'cumprimento', 'alteração', 'transferencia', 'irregularidade', 'rescisão', 'etc', 'Produto', 'com', 'vício', 'Produto', 'com', 'vício', 'Produto', 'com', 'vício', 'Produto', 'com', 'vício', 'Cobrança', 'indevida', 'abusiva', 'Descumprimento', 'de', 'garantia', 'pelo', 'convênio', 'medico', 'guia', 'Cobrança', 'indevida', 'abusiva', 'Cobrança', 'indevida', 'abusiva', 'Recusa', 'injustificada', 'em', 'prestar', 'serviço', 'Produto', 'com', 'vício', 'Cobrança', 'indevida', 'Serviço', 'não', 'concluído', 'Fornecimento', 'parcial', 'Contrato', 'não', 'cumprimento', 'alteração', 'transferencia', 'irregularidade', 'rescisão', 'etc', 'Cobrança', 'abusiva', 'mediante', 'constrangimento', 'ameaça', 'Tarifas', 'Bancárias', 'Cobrança', 'não', 'autorizada', 'Garantia', 'Abrangência', 'cobertura', 'etc', 'Garantia', 'Abrangência', 'cobertura', 'etc', 'Vicio', 'de', 'qualidade', 'mal', 'executado', 'inadequado', 'impróprio', 'Garantia', 'Abrangência', 'cobertura', 'etc', 'Venda', 'Oferta', 'publicidade', 'enganosa', 'Produto', 'com', 'vício', 'Produto', 'com', 'vício', 'SAC', 'Resolução', 'de', 'demandas', 'ausência', 'de', 'resposta', 'excesso', 'de', 'prazo', 'não', 'suspensão', 'imediata', 'da', 'cobrança', 'Serviço', 'não', 'fornecido', 'entrega', 'instalação', 'não', 'cumprimento', 'da', 'oferta', 'contrato', 'Garantia', 'Abrangência', 'cobertura', 'etc', 'Garantia', 'Abrangência', 'cobertura', 'etc', 'Cobrança', 'indevida', 'Produto', 'com', 'vício', 'Produto', 'entregue', 'diferente', 'do', 'pedido', 'Serviço', 'não', 'fornecido', 'entrega', 'instalação', 'não', 'cumprimento', 'da', 'oferta', 'contrato', 'Garantia', 'Abrangência', 'cobertura', 'etc', 'Serviço', 'não', 'fornecido', 'entrega', 'instalação', 'não', 'cumprimento', 'da', 'oferta', 'contrato', 'Serviço', 'não', 'fornecido', 'entrega', 'instalação', 'não', 'cumprimento', 'da', 'oferta', 'contrato', 'Produto', 'com', 'vício', 'Cobrança', 'indevida', 'abusiva', 'Cobrança', 'indevida', 'Acidente', 'de', 'Consumo', 'produto', 'causou', 'danos', 'pessoais', 'Garantia', 'Abrangência', 'cobertura', 'etc', 'Cobrança', 'indevida', 'abusiva', 'SAC', 'Acesso', 'ao', 'serviço', 'onerosidade', 'problemas', 'no', 'menu', 'indisponibilidade', 'inacessibilidade', 'aos', 'deficientes', 'Produto', 'com', 'vício', 'Duvida', 'sobre', 'cobrança', 'valor', 'reajuste', 'contrato', 'orçamento', 'Desistência', 'de', 'compra', 'cancelamento', 'de', 'compra', 'Cobrança', 'indevida', 'abusiva', 'Produto', 'com', 'vício', 'Cobrança', 'indevida', 'abusiva', 'SAC', 'Qualidade', 'do', 'atendimento', 'atendente', 'despreparado', 'problemas', 'com', 'a', 'transferência', 'da', 'chamada', 'veiculação', 'de', 'mensagem', 'publicitária', 'Contrato', 'não', 'cumprimento', 'alteração', 'transferencia', 'irregularidade', 'rescisão', 'etc', 'Não', 'entrega', 'demora', 'na', 'entrega', 'do', 'produto', 'Produto', 'com', 'vício', 'Produto', 'com', 'vício', 'Cobrança', 'indevida', 'Serviço', 'não', 'concluído', 'Fornecimento', 'parcial', 'SAC', 'Resolução', 'de', 'demandas', 'ausência', 'de', 'resposta', 'excesso', 'de', 'prazo', 'não', 'suspensão', 'imediata', 'da', 'cobrança', 'Contrato', 'não', 'cumprimento', 'alteração', 'transferencia', 'irregularidade', 'rescisão', 'etc', 'Outros', 'problemas', 'com', 'contratos', 'de', 'saúde', 'Não', 'cobertura', 'abrangência', 'reembolso', 'Produto', 'com', 'vício', 'Produto', 'com', 'vício', 'Cobrança', 'indevida', 'abusiva', 'Cobrança', 'indevida', 'abusiva', 'Publicidade', 'enganosa', 'Cobrança', 'indevida', 'Cobrança', 'indevida', 'abusiva', 'Não', 'entrega', 'de', 'quitação', 'retenção', 'de', 'documentos', 'Produto', 'com', 'vício', 'Produto', 'com', 'vício', 'Garantia', 'Abrangência', 'cobertura', 'etc', 'Produto', 'com', 'vício', 'Serviço', 'não', 'concluído', 'Fornecimento', 'parcial', 'Cobrança', 'indevida', 'abusiva', 'Produto', 'com', 'vício', 'Garantia', 'Abrangência', 'cobertura', 'etc', 'Antecipação', 'de', 'Financiamento', 'Venda', 'Oferta', 'publicidade', 'enganosa', 'Garantia', 'Abrangência', 'cobertura', 'etc', 'Cobrança', 'indevida', 'abusiva', 'Cobrança', 'indevida', 'Não', 'cumprimento', 'do', 'contrato', 'proposta', 'Cobrança', 'indevida', 'abusiva', 'Cobrança', 'indevida', 'Cobrança', 'indevida', 'abusiva', 'Cobrança', 'indevida', 'abusiva', 'Não', 'entrega', 'demora', 'na', 'entrega', 'do', 'produto', 'Venda', 'enganosa', 'Produto', 'com', 'vício', 'Danos', 'pessoais', 'ao', 'consumidor', 'Serviço', 'não', 'fornecido', 'entrega', 'instalação', 'não', 'cumprimento', 'da', 'oferta', 'contrato', 'Cobrança', 'indevida', 'abusiva', 'Garantia', 'Abrangência', 'cobertura', 'etc', 'Produto', 'com', 'vício', 'Cobrança', 'de', 'taxa', 'indevida', 'elaboração', 'de', 'contrato', 'aferição', 'de', 'idoneidade', 'etc', 'Cobrança', 'indevida', 'abusiva', 'Garantia', 'Abrangência', 'cobertura', 'etc', 'Contrato', 'Clausula', 'abusiva', 'em', 'desacordo', 'com', 'a', 'Legislação', 'Produto', 'com', 'vício', 'Não', 'entrega', 'demora', 'na', 'entrega', 'do', 'produto', 'SAC', 'Cancelamento', 'de', 'serviço', 'retenção', 'demora', 'não', 'envio', 'do', 'comprovante', 'Não', 'entrega', 'de', 'quitação', 'retenção', 'de', 'documentos', 'Cobrança', 'indevida', 'abusiva', 'Contrato', 'não', 'cumprimento', 'alteração', 'transferencia', 'irregularidade', 'rescisão', 'etc', 'Produto', 'com', 'vício', 'Não', 'entrega', 'demora', 'na', 'entrega', 'do', 'produto', 'Cobrança', 'indevida', 'Produto', 'com', 'vício', 'Garantia', 'Abrangência', 'cobertura', 'etc', 'Não', 'entrega', 'demora', 'na', 'entrega', 'do', 'produto', 'Produto', 'com', 'vício', 'Garantia', 'Abrangência', 'cobertura', 'etc', 'Desbloqueio', 'de', 'aparelho', 'Cobrança', 'indevida', 'abusiva', 'Vicio', 'de', 'qualidade', 'mal', 'executado', 'inadequado', 'impróprio', 'Produto', 'com', 'vício', 'Não', 'entrega', 'demora', 'na', 'entrega', 'do', 'produto', 'Produto', 'com', 'vício', 'Garantia', 'Abrangência', 'cobertura', 'etc', 'Produto', 'com', 'vício', 'Garantia', 'Abrangência', 'cobertura', 'etc', 'Contrato', 'não', 'cumprimento', 'alteração', 'transferencia', 'irregularidade', 'rescisão', 'etc', 'Produto', 'com', 'vício', 'Cobrança', 'indevida', 'abusiva', 'Produto', 'entregue', 'diferente', 'do', 'pedido', 'Cobrança', 'indevida', 'abusiva', 'Produto', 'com', 'vício', 'Garantia', 'Abrangência', 'cobertura', 'etc', 'Não', 'entrega', 'de', 'copia', 'do', 'contrato', 'Produto', 'com', 'vício', 'Cobrança', 'indevida', 'Duvida', 'sobre', 'cobrança', 'valor', 'reajuste', 'contrato', 'orçamento', 'Tarifas', 'Bancárias', 'Cobrança', 'não', 'autorizada', 'Cobrança', 'indevida', 'abusiva', 'Cobrança', 'indevida', 'abusiva', 'Venda', 'enganosa', 'Produto', 'com', 'vício', 'Cobrança', 'indevida', 'Cobrança', 'indevida', 'abusiva', 'Cobrança', 'indevida', 'Garantia', 'Abrangência', 'cobertura', 'etc', 'Garantia', 'Abrangência', 'cobertura', 'etc', 'Serviço', 'não', 'concluído', 'Fornecimento', 'parcial', 'Cobrança', 'indevida', 'Cobrança', 'indevida', 'Cobrança', 'indevida', 'abusiva', 'Reajuste', 'de', 'saldo', 'de', 'caixa', 'diferença', 'de', 'prestação', 'Cobrança', 'indevida', 'abusiva', 'Vicio', 'de', 'qualidade', 'mal', 'executado', 'inadequado', 'impróprio', 'Publicidade', 'enganosa', 'Cobrança', 'de', 'taxa', 'indevida', 'elaboração', 'de', 'contrato', 'aferição', 'de', 'idoneidade', 'etc', 'Cobrança', 'indevida', 'abusiva', 'Cobrança', 'indevida', 'Venda', 'enganosa', 'Cobrança', 'indevida', 'abusiva', 'Não', 'entrega', 'demora', 'na', 'entrega', 'do', 'produto', 'Demora', 'na', 'montagem', 'montagem', 'incompleta', 'incorreta', 'Cobrança', 'indevida', 'abusiva', 'Garantia', 'Abrangência', 'cobertura', 'etc', 'Valor', 'de', 'reajuste', 'mensalidade', 'Produto', 'com', 'vício', 'Cobrança', 'indevida', 'abusiva', 'Não', 'cumprimento', 'do', 'contrato', 'proposta', 'Duvida', 'sobre', 'cobrança', 'valor', 'reajuste', 'contrato', 'orçamento', 'Garantia', 'Abrangência', 'cobertura', 'etc', 'Cobrança', 'indevida', 'Cobrança', 'indevida', 'abusiva', 'Contrato', 'não', 'cumprimento', 'alteração', 'transferencia', 'irregularidade', 'rescisão', 'etc', 'Não', 'entrega', 'demora', 'na', 'entrega', 'do', 'produto', 'Cobrança', 'indevida', 'abusiva', 'Cobrança', 'indevida', 'Cobrança', 'indevida', 'Produto', 'com', 'vício', 'Garantia', 'Abrangência', 'cobertura', 'etc', 'Produto', 'com', 'vício', 'Serviço', 'não', 'concluído', 'Fornecimento', 'parcial', 'Problemas', 'relativos', 'a', 'emissão', 'remessa', 'de', 'carnes', 'orçamentos', 'Cobrança', 'indevida', 'abusiva', 'Cobrança', 'indevida', 'abusiva', 'Venda', 'Oferta', 'publicidade', 'enganosa', 'Recusa', 'injustificada', 'em', 'prestar', 'serviço', 'SAC', 'Acesso', 'ao', 'serviço', 'onerosidade', 'problemas', 'no', 'menu', 'indisponibilidade', 'inacessibilidade', 'aos', 'deficientes', 'Não', 'entrega', 'demora', 'na', 'entrega', 'do', 'produto', 'Cobrança', 'indevida', 'Contrato', 'Rescisão', 'alteração', 'unilateral', 'Cobrança', 'indevida', 'Garantia', 'Abrangência', 'cobertura', 'etc', 'Cobrança', 'de', 'valor', 'quando', 'o', 'produto', 'e', 'devolvido', 'cobrança', 'indevida', 'Cobrança', 'indevida', 'Contrato', 'Rescisão', 'alteração', 'unilateral', 'Venda', 'enganosa', 'Cobrança', 'indevida', 'Cobrança', 'indevida', 'abusiva', 'Cobrança', 'indevida', 'abusiva', 'Crédito', 'Consignado', 'Cobrança', 'indevida', 'abusiva', 'Serviço', 'não', 'concluído', 'Fornecimento', 'parcial', 'Cobrança', 'de', 'valor', 'quando', 'o', 'produto', 'e', 'devolvido', 'cobrança', 'indevida', 'Cobrança', 'indevida', 'abusiva', 'Garantia', 'Abrangência', 'cobertura', 'etc', 'Cobrança', 'indevida', 'abusiva', 'Produto', 'com', 'vício', 'Venda', 'Oferta', 'publicidade', 'enganosa', 'Produto', 'com', 'vício', 'Contrato', 'não', 'cumprimento', 'alteração', 'transferencia', 'irregularidade', 'rescisão', 'etc', 'Produto', 'com', 'vício', 'Contrato', 'pedido', 'orçamento', 'rescisão', 'descumprimento', 'erro', 'etc', 'Produto', 'com', 'vício', 'Produto', 'com', 'vício', 'Cobrança', 'indevida', 'Garantia', 'Abrangência', 'cobertura', 'etc', 'Falha', 'bancaria', 'em', 'transações', 'eletrônicas', 'transferencias', 'indevidas', 'saques', 'indevidos', 'Cobrança', 'indevida', 'Cobrança', 'indevida', 'abusiva', 'Recusa', 'injustificada', 'em', 'prestar', 'serviço', 'SAC', 'Resolução', 'de', 'demandas', 'ausência', 'de', 'resposta', 'excesso', 'de', 'prazo', 'não', 'suspensão', 'imediata', 'da', 'cobrança', 'Vicio', 'de', 'qualidade', 'mal', 'executado', 'inadequado', 'impróprio', 'Contrato', 'não', 'cumprimento', 'alteração', 'transferencia', 'irregularidade', 'rescisão', 'etc', 'Serviço', 'não', 'fornecido', 'entrega', 'instalação', 'não', 'cumprimento', 'da', 'oferta', 'contrato', 'Cobrança', 'indevida', 'abusiva', 'Garantia', 'Abrangência', 'cobertura', 'etc', 'Cobrança', 'indevida', 'SAC', 'Acesso', 'ao', 'serviço', 'onerosidade', 'problemas', 'no', 'menu', 'indisponibilidade', 'inacessibilidade', 'aos', 'deficientes', 'Desistência', 'de', 'compra', 'cancelamento', 'de', 'compra', 'Não', 'entrega', 'demora', 'na', 'entrega', 'do', 'produto', 'Recusa', 'injustificada', 'em', 'prestar', 'serviço', 'Venda', 'enganosa', 'Serviço', 'não', 'fornecido', 'entrega', 'instalação', 'não', 'cumprimento', 'da', 'oferta', 'contrato', 'Cobrança', 'indevida', 'abusiva', 'Produto', 'com', 'vício', 'Produto', 'com', 'vício', 'Venda', 'enganosa', 'Produto', 'com', 'vício', 'Defeito', 'Risco', 'saúde', 'e', 'segurança', 'Cobrança', 'indevida', 'Cobrança', 'indevida', 'abusiva', 'Não', 'entrega', 'demora', 'na', 'entrega', 'do', 'produto', 'Calculo', 'de', 'prestação', 'em', 'atraso', 'Cobrança', 'indevida', 'Falta', 'de', 'peca', 'de', 'reposição', 'Desistência', 'de', 'compra', 'cancelamento', 'de', 'compra', 'Antecipação', 'de', 'Financiamento', 'Cobrança', 'indevida', 'abusiva', 'Serviço', 'não', 'fornecido', 'entrega', 'instalação', 'não', 'cumprimento', 'da', 'oferta', 'contrato', 'Não', 'pagamento', 'de', 'indenização', 'Produto', 'com', 'vício', 'Consumidor', 'negativado', 'indevidamente', 'nos', 'serviços', 'de', 'proteção', 'ao', 'credito', 'Venda', 'Oferta', 'publicidade', 'enganosa', 'Cobrança', 'indevida', 'Garantia', 'Abrangência', 'cobertura', 'etc', 'Recusa', 'injustificada', 'em', 'prestar', 'serviço', 'Cobrança', 'indevida', 'abusiva', 'Produto', 'com', 'vício', 'Produto', 'com', 'vício', 'Contrato', 'Rescisão', 'alteração', 'unilateral', 'Garantia', 'Abrangência', 'cobertura', 'etc', 'Produto', 'com', 'vício', 'Lançamento', 'Não', 'Reconhecido', 'na', 'Fatura', 'PID', 'Pedido', 'de', 'Indenização', 'por', 'Danos', 'Morais', 'Produto', 'com', 'vício', 'Cobrança', 'indevida', 'abusiva', 'Cobrança', 'indevida', 'abusiva', 'Produto', 'com', 'vício', 'Produto', 'com', 'vício', 'Contrato', 'Rescisão', 'alteração', 'unilateral', 'Cobrança', 'indevida', 'abusiva', 'Desistência', 'do', 'serviço', 'artigo', 'descumprimento', 'Publicidade', 'abusiva', 'Produto', 'com', 'vício', 'Cobrança', 'indevida', 'abusiva', 'Recusa', 'injustificada', 'em', 'prestar', 'serviço', 'Contrato', 'Rescisão', 'alteração', 'unilateral', 'Não', 'entrega', 'de', 'quitação', 'retenção', 'de', 'documentos', 'Crédito', 'Consignado', 'Cobrança', 'indevida', 'abusiva', 'Demora', 'na', 'montagem', 'montagem', 'incompleta', 'incorreta', 'Discordância', 'quanto', 'as', 'avarias', 'Produto', 'com', 'vício', 'Cobrança', 'indevida', 'Produto', 'com', 'vício', 'Produto', 'com', 'vício', 'Produto', 'entregue', 'diferente', 'do', 'pedido', 'Serviço', 'não', 'fornecido', 'entrega', 'instalação', 'não', 'cumprimento', 'da', 'oferta', 'contrato', 'Garantia', 'Abrangência', 'cobertura', 'etc', 'Garantia', 'Abrangência', 'cobertura', 'etc', 'Cobrança', 'indevida', 'abusiva', 'Defeito', 'Risco', 'saúde', 'e', 'segurança', 'Garantia', 'Abrangência', 'cobertura', 'etc', 'Serviço', 'não', 'fornecido', 'entrega', 'instalação', 'não', 'cumprimento', 'da', 'oferta', 'contrato', 'Produto', 'com', 'vício', 'Falta', 'de', 'peca', 'de', 'reposição', 'Desistência', 'do', 'serviço', 'artigo', 'descumprimento', 'Garantia', 'Abrangência', 'cobertura', 'etc', 'Garantia', 'Abrangência', 'cobertura', 'etc', 'Cobrança', 'indevida', 'Produto', 'com', 'vício', 'Cobrança', 'indevida', 'Cobrança', 'indevida', 'abusiva', 'Cobrança', 'indevida', 'abusiva', 'Falta', 'de', 'peca', 'de', 'reposição', 'Contrato', 'pedido', 'orçamento', 'rescisão', 'descumprimento', 'erro', 'etc', 'Contrato', 'pedido', 'orçamento', 'rescisão', 'descumprimento', 'erro', 'etc', 'Cobrança', 'indevida', 'abusiva', 'Desistência', 'de', 'compra', 'cancelamento', 'de', 'compra', 'Cobrança', 'indevida', 'abusiva', 'Cobrança', 'indevida', 'Produto', 'com', 'vício', 'Produto', 'com', 'vício', 'Cobrança', 'indevida', 'abusiva', 'Cobrança', 'indevida', 'Recusa', 'injustificada', 'em', 'prestar', 'serviço', 'Garantia', 'Abrangência', 'cobertura', 'etc', 'Garantia', 'Abrangência', 'cobertura', 'etc', 'Falta', 'de', 'peca', 'de', 'reposição', 'Não', 'entrega', 'demora', 'na', 'entrega', 'do', 'produto', 'Não', 'execução', 'de', 'obras', 'de', 'infraestrutura', 'e', 'benfeitorias', 'Consumidor', 'negativado', 'indevidamente', 'nos', 'serviços', 'de', 'proteção', 'ao', 'credito', 'Garantia', 'Abrangência', 'cobertura', 'etc', 'Garantia', 'Abrangência', 'cobertura', 'etc', 'Não', 'entrega', 'de', 'copia', 'do', 'contrato', 'Antecipação', 'de', 'Financiamento', 'Dano', 'material', 'pessoal', 'decorrente', 'do', 'serviço', 'Rescisão', 'Substituição', 'Alteração', 'de', 'contrato', 'de', 'saúde', 'Produto', 'com', 'vício', 'Contrato', 'não', 'cumprimento', 'alteração', 'transferencia', 'irregularidade', 'rescisão', 'etc', 'Produto', 'com', 'vício', 'Duvida', 'sobre', 'cobrança', 'valor', 'reajuste', 'contrato', 'orçamento', 'Cobrança', 'indevida', 'abusiva', 'Produto', 'causou', 'danos', 'materiais', 'Garantia', 'Abrangência', 'cobertura', 'etc', 'Produto', 'com', 'vício', 'Garantia', 'Abrangência', 'cobertura', 'etc', 'Cobrança', 'indevida', 'abusiva', 'Cobrança', 'indevida', 'abusiva', 'Antecipação', 'de', 'Financiamento', 'Serviço', 'não', 'fornecido', 'entrega', 'instalação', 'não', 'cumprimento', 'da', 'oferta', 'contrato', 'Garantia', 'Abrangência', 'cobertura', 'etc', 'Produto', 'com', 'vício']\n"
     ]
    }
   ],
   "source": [
    "# Limpa a pontuação e números\n",
    "tokenizer = RegexpTokenizer(r'[A-z]\\w*')\n",
    "\n",
    "# Limpando a Variável\n",
    "tokens = tokenizer.tokenize(otexto)\n",
    "\n",
    "# Resultado\n",
    "print(tokens)"
   ]
  },
  {
   "cell_type": "code",
   "execution_count": 8,
   "metadata": {
    "colab": {
     "base_uri": "https://localhost:8080/",
     "height": 350
    },
    "executionInfo": {
     "elapsed": 4,
     "status": "ok",
     "timestamp": 1668369035953,
     "user": {
      "displayName": "MATHEUS DOS SANTOS OLIVEIRA",
      "userId": "09253095021711422754"
     },
     "user_tz": 180
    },
    "id": "AnmZnIzUkMHp",
    "outputId": "eab69b69-0dcf-410b-de61-ddc203d14419"
   },
   "outputs": [
    {
     "name": "stderr",
     "output_type": "stream",
     "text": [
      "/usr/local/lib/python3.7/dist-packages/seaborn/distributions.py:2619: FutureWarning: `distplot` is a deprecated function and will be removed in a future version. Please adapt your code to use either `displot` (a figure-level function with similar flexibility) or `histplot` (an axes-level function for histograms).\n",
      "  warnings.warn(msg, FutureWarning)\n"
     ]
    },
    {
     "data": {
      "image/png": "[encoded data removed]",
      "text/plain": [
       "<Figure size 432x288 with 1 Axes>"
      ]
     },
     "metadata": {
      "needs_background": "light"
     },
     "output_type": "display_data"
    }
   ],
   "source": [
    "# Gráfico para verificar a frequência de Reclamações\n",
    "sns.distplot(df_2['AnoCalendario'])\n",
    "plt.title('Distribuição de Reclamações por Ano')\n",
    "plt.show()"
   ]
  },
  {
   "cell_type": "code",
   "execution_count": 9,
   "metadata": {
    "colab": {
     "base_uri": "https://localhost:8080/",
     "height": 565
    },
    "executionInfo": {
     "elapsed": 3,
     "status": "ok",
     "timestamp": 1668369037185,
     "user": {
      "displayName": "MATHEUS DOS SANTOS OLIVEIRA",
      "userId": "09253095021711422754"
     },
     "user_tz": 180
    },
    "id": "ETzKh77FxWDS",
    "outputId": "59516ff7-1402-41e4-c4a8-4729b61bc255"
   },
   "outputs": [
    {
     "data": {
      "text/html": [
       "\n",
       "  <div id=\"df-537590f4-3d32-4f2c-8379-c20e12c31bc0\">\n",
       "    <div class=\"colab-df-container\">\n",
       "      <div>\n",
       "<style scoped>\n",
       "    .dataframe tbody tr th:only-of-type {\n",
       "        vertical-align: middle;\n",
       "    }\n",
       "\n",
       "    .dataframe tbody tr th {\n",
       "        vertical-align: top;\n",
       "    }\n",
       "\n",
       "    .dataframe thead th {\n",
       "        text-align: right;\n",
       "    }\n",
       "</style>\n",
       "<table border=\"1\" class=\"dataframe\">\n",
       "  <thead>\n",
       "    <tr style=\"text-align: right;\">\n",
       "      <th></th>\n",
       "      <th>Unnamed: 0</th>\n",
       "      <th>AnoCalendario</th>\n",
       "      <th>DataArquivamento</th>\n",
       "      <th>DataAbertura</th>\n",
       "      <th>CodigoRegiao</th>\n",
       "      <th>Regiao</th>\n",
       "      <th>UF</th>\n",
       "      <th>strRazaoSocial</th>\n",
       "      <th>strNomeFantasia</th>\n",
       "      <th>Tipo</th>\n",
       "      <th>NumeroCNPJ</th>\n",
       "      <th>RadicalCNPJ</th>\n",
       "      <th>RazaoSocialRFB</th>\n",
       "      <th>NomeFantasiaRFB</th>\n",
       "      <th>CNAEPrincipal</th>\n",
       "      <th>DescCNAEPrincipal</th>\n",
       "      <th>Atendida</th>\n",
       "      <th>CodigoAssunto</th>\n",
       "      <th>DescricaoAssunto</th>\n",
       "      <th>CodigoProblema</th>\n",
       "      <th>DescricaoProblema</th>\n",
       "      <th>SexoConsumidor</th>\n",
       "      <th>FaixaEtariaConsumidor</th>\n",
       "      <th>CEPConsumidor</th>\n",
       "    </tr>\n",
       "  </thead>\n",
       "  <tbody>\n",
       "    <tr>\n",
       "      <th>107679</th>\n",
       "      <td>10348</td>\n",
       "      <td>2015</td>\n",
       "      <td>2015-03-17 10:27:12</td>\n",
       "      <td>2014-10-15 09:07:16</td>\n",
       "      <td>4.0</td>\n",
       "      <td>Sul</td>\n",
       "      <td>SC</td>\n",
       "      <td>HIPERCARD BANCO MULTIPLO S.A.</td>\n",
       "      <td>HIPERCARD</td>\n",
       "      <td>1.0</td>\n",
       "      <td>3012230000169.0</td>\n",
       "      <td>3012230.0</td>\n",
       "      <td>HIPERCARD BANCO MULTIPLO S.A.</td>\n",
       "      <td></td>\n",
       "      <td>6422100.0</td>\n",
       "      <td>BANCOS MÚLTIPLOS, COM CARTEIRA COMERCIAL</td>\n",
       "      <td>N</td>\n",
       "      <td>54.0</td>\n",
       "      <td>Cartão de Crédito</td>\n",
       "      <td>28.0</td>\n",
       "      <td>Cobrança indevida.</td>\n",
       "      <td>M</td>\n",
       "      <td>entre 41 a 50 anos</td>\n",
       "      <td>88025330.0</td>\n",
       "    </tr>\n",
       "    <tr>\n",
       "      <th>67115</th>\n",
       "      <td>2390</td>\n",
       "      <td>2014</td>\n",
       "      <td>2014-02-26 11:23:20</td>\n",
       "      <td>2012-12-13 13:18:40</td>\n",
       "      <td>2.0</td>\n",
       "      <td>Nordeste</td>\n",
       "      <td>BA</td>\n",
       "      <td>TIM CELULAR S/A</td>\n",
       "      <td>TIM CELULAR</td>\n",
       "      <td>1.0</td>\n",
       "      <td>4206050000180.0</td>\n",
       "      <td>4206050.0</td>\n",
       "      <td>TIM CELULAR S.A.</td>\n",
       "      <td></td>\n",
       "      <td>6120501.0</td>\n",
       "      <td>TELEFONIA MÓVEL CELULAR</td>\n",
       "      <td>N</td>\n",
       "      <td>187.0</td>\n",
       "      <td>Telefonia Celular</td>\n",
       "      <td>124.0</td>\n",
       "      <td>Serviço não fornecido (entrega/instalação/não ...</td>\n",
       "      <td>M</td>\n",
       "      <td>entre 41 a 50 anos</td>\n",
       "      <td>41520970.0</td>\n",
       "    </tr>\n",
       "    <tr>\n",
       "      <th>76044</th>\n",
       "      <td>11319</td>\n",
       "      <td>2014</td>\n",
       "      <td>2014-02-13 11:32:04</td>\n",
       "      <td>2012-12-05 13:22:31</td>\n",
       "      <td>2.0</td>\n",
       "      <td>Nordeste</td>\n",
       "      <td>BA</td>\n",
       "      <td>RN COMERCIO VAREJISTA S.A</td>\n",
       "      <td>RICARDO ELETRO</td>\n",
       "      <td>1.0</td>\n",
       "      <td>13481309021947.0</td>\n",
       "      <td>13481309.0</td>\n",
       "      <td>RN COMERCIO VAREJISTA S.A</td>\n",
       "      <td></td>\n",
       "      <td>4753900.0</td>\n",
       "      <td>COMÉRCIO VAREJISTA ESPECIALIZADO DE ELETRODOMÉ...</td>\n",
       "      <td>N</td>\n",
       "      <td>102.0</td>\n",
       "      <td>Microcomputador / Produtos de Informática</td>\n",
       "      <td>111.0</td>\n",
       "      <td>Venda enganosa</td>\n",
       "      <td>F</td>\n",
       "      <td>entre 41 a 50 anos</td>\n",
       "      <td>40391292.0</td>\n",
       "    </tr>\n",
       "    <tr>\n",
       "      <th>6602</th>\n",
       "      <td>6602</td>\n",
       "      <td>2012</td>\n",
       "      <td>2012-05-31 11:38:06</td>\n",
       "      <td>2011-09-29 08:26:16</td>\n",
       "      <td>2.0</td>\n",
       "      <td>Nordeste</td>\n",
       "      <td>CE</td>\n",
       "      <td>VOLKSVAGEN DO BRASIL INDÚSTRIA DE VEÍCULOS AUT.</td>\n",
       "      <td></td>\n",
       "      <td>1.0</td>\n",
       "      <td>59104422010708.0</td>\n",
       "      <td>59104422.0</td>\n",
       "      <td>VOLKSWAGEN DO BRASIL INDUSTRIA DE VEICULOS AUT...</td>\n",
       "      <td>VOLKSWAGEN</td>\n",
       "      <td>2910701.0</td>\n",
       "      <td>FABRICAÇÃO DE AUTOMÓVEIS, CAMIONETAS E UTILITÁ...</td>\n",
       "      <td>N</td>\n",
       "      <td>131.0</td>\n",
       "      <td>Carro Usado</td>\n",
       "      <td>102.0</td>\n",
       "      <td>Garantia (Abrangência, cobertura, etc.)</td>\n",
       "      <td>M</td>\n",
       "      <td>entre 51 a 60 anos</td>\n",
       "      <td>60741590</td>\n",
       "    </tr>\n",
       "    <tr>\n",
       "      <th>81968</th>\n",
       "      <td>17243</td>\n",
       "      <td>2014</td>\n",
       "      <td>2014-04-11 16:16:54</td>\n",
       "      <td>2013-10-14 15:14:25</td>\n",
       "      <td>3.0</td>\n",
       "      <td>Sudeste</td>\n",
       "      <td>ES</td>\n",
       "      <td>SKY BRASIL SERVICOS LTDA</td>\n",
       "      <td>SKY</td>\n",
       "      <td>1.0</td>\n",
       "      <td>72820822000120.0</td>\n",
       "      <td>72820822.0</td>\n",
       "      <td>SKY BRASIL SERVICOS LTDA</td>\n",
       "      <td>SKY</td>\n",
       "      <td>6143400.0</td>\n",
       "      <td>OPERADORAS DE TELEVISÃO POR ASSINATURA POR SAT...</td>\n",
       "      <td>N</td>\n",
       "      <td>259.0</td>\n",
       "      <td>TV Por Assinatura ( Cabo, Satélite, Etc. )</td>\n",
       "      <td>194.0</td>\n",
       "      <td>Cobrança indevida/abusiva</td>\n",
       "      <td>M</td>\n",
       "      <td>entre 41 a 50 anos</td>\n",
       "      <td>29155150.0</td>\n",
       "    </tr>\n",
       "  </tbody>\n",
       "</table>\n",
       "</div>\n",
       "      <button class=\"colab-df-convert\" onclick=\"convertToInteractive('df-537590f4-3d32-4f2c-8379-c20e12c31bc0')\"\n",
       "              title=\"Convert this dataframe to an interactive table.\"\n",
       "              style=\"display:none;\">\n",
       "        \n",
       "  <svg xmlns=\"http://www.w3.org/2000/svg\" height=\"24px\"viewBox=\"0 0 24 24\"\n",
       "       width=\"24px\">\n",
       "    <path d=\"M0 0h24v24H0V0z\" fill=\"none\"/>\n",
       "    <path d=\"M18.56 5.44l.94 2.06.94-2.06 2.06-.94-2.06-.94-.94-2.06-.94 2.06-2.06.94zm-11 1L8.5 8.5l.94-2.06 2.06-.94-2.06-.94L8.5 2.5l-.94 2.06-2.06.94zm10 10l.94 2.06.94-2.06 2.06-.94-2.06-.94-.94-2.06-.94 2.06-2.06.94z\"/><path d=\"M17.41 7.96l-1.37-1.37c-.4-.4-.92-.59-1.43-.59-.52 0-1.04.2-1.43.59L10.3 9.45l-7.72 7.72c-.78.78-.78 2.05 0 2.83L4 21.41c.39.39.9.59 1.41.59.51 0 1.02-.2 1.41-.59l7.78-7.78 2.81-2.81c.8-.78.8-2.07 0-2.86zM5.41 20L4 18.59l7.72-7.72 1.47 1.35L5.41 20z\"/>\n",
       "  </svg>\n",
       "      </button>\n",
       "      \n",
       "  <style>\n",
       "    .colab-df-container {\n",
       "      display:flex;\n",
       "      flex-wrap:wrap;\n",
       "      gap: 12px;\n",
       "    }\n",
       "\n",
       "    .colab-df-convert {\n",
       "      background-color: #E8F0FE;\n",
       "      border: none;\n",
       "      border-radius: 50%;\n",
       "      cursor: pointer;\n",
       "      display: none;\n",
       "      fill: #1967D2;\n",
       "      height: 32px;\n",
       "      padding: 0 0 0 0;\n",
       "      width: 32px;\n",
       "    }\n",
       "\n",
       "    .colab-df-convert:hover {\n",
       "      background-color: #E2EBFA;\n",
       "      box-shadow: 0px 1px 2px rgba(60, 64, 67, 0.3), 0px 1px 3px 1px rgba(60, 64, 67, 0.15);\n",
       "      fill: #174EA6;\n",
       "    }\n",
       "\n",
       "    [theme=dark] .colab-df-convert {\n",
       "      background-color: #3B4455;\n",
       "      fill: #D2E3FC;\n",
       "    }\n",
       "\n",
       "    [theme=dark] .colab-df-convert:hover {\n",
       "      background-color: #434B5C;\n",
       "      box-shadow: 0px 1px 3px 1px rgba(0, 0, 0, 0.15);\n",
       "      filter: drop-shadow(0px 1px 2px rgba(0, 0, 0, 0.3));\n",
       "      fill: #FFFFFF;\n",
       "    }\n",
       "  </style>\n",
       "\n",
       "      <script>\n",
       "        const buttonEl =\n",
       "          document.querySelector('#df-537590f4-3d32-4f2c-8379-c20e12c31bc0 button.colab-df-convert');\n",
       "        buttonEl.style.display =\n",
       "          google.colab.kernel.accessAllowed ? 'block' : 'none';\n",
       "\n",
       "        async function convertToInteractive(key) {\n",
       "          const element = document.querySelector('#df-537590f4-3d32-4f2c-8379-c20e12c31bc0');\n",
       "          const dataTable =\n",
       "            await google.colab.kernel.invokeFunction('convertToInteractive',\n",
       "                                                     [key], {});\n",
       "          if (!dataTable) return;\n",
       "\n",
       "          const docLinkHtml = 'Like what you see? Visit the ' +\n",
       "            '<a target=\"_blank\" href=https://colab.research.google.com/notebooks/data_table.ipynb>data table notebook</a>'\n",
       "            + ' to learn more about interactive tables.';\n",
       "          element.innerHTML = '';\n",
       "          dataTable['output_type'] = 'display_data';\n",
       "          await google.colab.output.renderOutput(dataTable, element);\n",
       "          const docLink = document.createElement('div');\n",
       "          docLink.innerHTML = docLinkHtml;\n",
       "          element.appendChild(docLink);\n",
       "        }\n",
       "      </script>\n",
       "    </div>\n",
       "  </div>\n",
       "  "
      ],
      "text/plain": [
       "        Unnamed: 0  AnoCalendario    DataArquivamento        DataAbertura  \\\n",
       "107679       10348           2015 2015-03-17 10:27:12 2014-10-15 09:07:16   \n",
       "67115         2390           2014 2014-02-26 11:23:20 2012-12-13 13:18:40   \n",
       "76044        11319           2014 2014-02-13 11:32:04 2012-12-05 13:22:31   \n",
       "6602          6602           2012 2012-05-31 11:38:06 2011-09-29 08:26:16   \n",
       "81968        17243           2014 2014-04-11 16:16:54 2013-10-14 15:14:25   \n",
       "\n",
       "       CodigoRegiao    Regiao  UF  \\\n",
       "107679          4.0       Sul  SC   \n",
       "67115           2.0  Nordeste  BA   \n",
       "76044           2.0  Nordeste  BA   \n",
       "6602            2.0  Nordeste  CE   \n",
       "81968           3.0   Sudeste  ES   \n",
       "\n",
       "                                         strRazaoSocial strNomeFantasia Tipo  \\\n",
       "107679                    HIPERCARD BANCO MULTIPLO S.A.       HIPERCARD  1.0   \n",
       "67115                                   TIM CELULAR S/A     TIM CELULAR  1.0   \n",
       "76044                         RN COMERCIO VAREJISTA S.A  RICARDO ELETRO  1.0   \n",
       "6602    VOLKSVAGEN DO BRASIL INDÚSTRIA DE VEÍCULOS AUT.                  1.0   \n",
       "81968                          SKY BRASIL SERVICOS LTDA             SKY  1.0   \n",
       "\n",
       "              NumeroCNPJ RadicalCNPJ  \\\n",
       "107679   3012230000169.0   3012230.0   \n",
       "67115    4206050000180.0   4206050.0   \n",
       "76044   13481309021947.0  13481309.0   \n",
       "6602    59104422010708.0  59104422.0   \n",
       "81968   72820822000120.0  72820822.0   \n",
       "\n",
       "                                           RazaoSocialRFB NomeFantasiaRFB  \\\n",
       "107679                      HIPERCARD BANCO MULTIPLO S.A.                   \n",
       "67115                                    TIM CELULAR S.A.                   \n",
       "76044                           RN COMERCIO VAREJISTA S.A                   \n",
       "6602    VOLKSWAGEN DO BRASIL INDUSTRIA DE VEICULOS AUT...      VOLKSWAGEN   \n",
       "81968                            SKY BRASIL SERVICOS LTDA             SKY   \n",
       "\n",
       "       CNAEPrincipal                                  DescCNAEPrincipal  \\\n",
       "107679     6422100.0           BANCOS MÚLTIPLOS, COM CARTEIRA COMERCIAL   \n",
       "67115      6120501.0                            TELEFONIA MÓVEL CELULAR   \n",
       "76044      4753900.0  COMÉRCIO VAREJISTA ESPECIALIZADO DE ELETRODOMÉ...   \n",
       "6602       2910701.0  FABRICAÇÃO DE AUTOMÓVEIS, CAMIONETAS E UTILITÁ...   \n",
       "81968      6143400.0  OPERADORAS DE TELEVISÃO POR ASSINATURA POR SAT...   \n",
       "\n",
       "       Atendida CodigoAssunto                            DescricaoAssunto  \\\n",
       "107679        N          54.0                           Cartão de Crédito   \n",
       "67115         N         187.0                           Telefonia Celular   \n",
       "76044         N         102.0   Microcomputador / Produtos de Informática   \n",
       "6602          N         131.0                                 Carro Usado   \n",
       "81968         N         259.0  TV Por Assinatura ( Cabo, Satélite, Etc. )   \n",
       "\n",
       "       CodigoProblema                                  DescricaoProblema  \\\n",
       "107679           28.0                                 Cobrança indevida.   \n",
       "67115           124.0  Serviço não fornecido (entrega/instalação/não ...   \n",
       "76044           111.0                                     Venda enganosa   \n",
       "6602            102.0            Garantia (Abrangência, cobertura, etc.)   \n",
       "81968           194.0                          Cobrança indevida/abusiva   \n",
       "\n",
       "       SexoConsumidor FaixaEtariaConsumidor CEPConsumidor  \n",
       "107679              M    entre 41 a 50 anos    88025330.0  \n",
       "67115               M    entre 41 a 50 anos    41520970.0  \n",
       "76044               F    entre 41 a 50 anos    40391292.0  \n",
       "6602                M    entre 51 a 60 anos      60741590  \n",
       "81968               M    entre 41 a 50 anos    29155150.0  "
      ]
     },
     "execution_count": 9,
     "metadata": {},
     "output_type": "execute_result"
    }
   ],
   "source": [
    "# Ajustando 0 \"datatype\" das colunas \"DataAbertura\" e \"DataArquivamento\"\n",
    "df_2['DataAbertura'] = pd.to_datetime(df_2['DataAbertura'])\n",
    "df_2['DataArquivamento'] = pd.to_datetime(df_2['DataArquivamento'])\n",
    "df_2.sample(5)"
   ]
  },
  {
   "cell_type": "code",
   "execution_count": 10,
   "metadata": {
    "colab": {
     "base_uri": "https://localhost:8080/",
     "height": 531
    },
    "executionInfo": {
     "elapsed": 301,
     "status": "ok",
     "timestamp": 1668369048563,
     "user": {
      "displayName": "MATHEUS DOS SANTOS OLIVEIRA",
      "userId": "09253095021711422754"
     },
     "user_tz": 180
    },
    "id": "XdlFphEo-coo",
    "outputId": "df90ea4e-fc3c-4ec7-c6a3-f71223eba85e"
   },
   "outputs": [
    {
     "data": {
      "text/html": [
       "\n",
       "  <div id=\"df-93758a4e-0a5e-4d68-a84c-16ba73458f9e\">\n",
       "    <div class=\"colab-df-container\">\n",
       "      <div>\n",
       "<style scoped>\n",
       "    .dataframe tbody tr th:only-of-type {\n",
       "        vertical-align: middle;\n",
       "    }\n",
       "\n",
       "    .dataframe tbody tr th {\n",
       "        vertical-align: top;\n",
       "    }\n",
       "\n",
       "    .dataframe thead th {\n",
       "        text-align: right;\n",
       "    }\n",
       "</style>\n",
       "<table border=\"1\" class=\"dataframe\">\n",
       "  <thead>\n",
       "    <tr style=\"text-align: right;\">\n",
       "      <th></th>\n",
       "      <th>Unnamed: 0</th>\n",
       "      <th>AnoCalendario</th>\n",
       "      <th>DataArquivamento</th>\n",
       "      <th>DataAbertura</th>\n",
       "      <th>CodigoRegiao</th>\n",
       "      <th>Regiao</th>\n",
       "      <th>UF</th>\n",
       "      <th>strRazaoSocial</th>\n",
       "      <th>strNomeFantasia</th>\n",
       "      <th>Tipo</th>\n",
       "      <th>NumeroCNPJ</th>\n",
       "      <th>RadicalCNPJ</th>\n",
       "      <th>RazaoSocialRFB</th>\n",
       "      <th>NomeFantasiaRFB</th>\n",
       "      <th>CNAEPrincipal</th>\n",
       "      <th>DescCNAEPrincipal</th>\n",
       "      <th>Atendida</th>\n",
       "      <th>CodigoAssunto</th>\n",
       "      <th>DescricaoAssunto</th>\n",
       "      <th>CodigoProblema</th>\n",
       "      <th>DescricaoProblema</th>\n",
       "      <th>SexoConsumidor</th>\n",
       "      <th>FaixaEtariaConsumidor</th>\n",
       "      <th>CEPConsumidor</th>\n",
       "      <th>DiaAbertura</th>\n",
       "      <th>DiaArquivamento</th>\n",
       "    </tr>\n",
       "  </thead>\n",
       "  <tbody>\n",
       "    <tr>\n",
       "      <th>12539</th>\n",
       "      <td>12539</td>\n",
       "      <td>2012</td>\n",
       "      <td>2012-02-09 08:20:26</td>\n",
       "      <td>2011-06-13 10:24:50</td>\n",
       "      <td>5.0</td>\n",
       "      <td>Centro-oeste</td>\n",
       "      <td>GO</td>\n",
       "      <td>POSITIVO INFORMATICA S/A</td>\n",
       "      <td>POSITIVO INFORMATICA</td>\n",
       "      <td>1.0</td>\n",
       "      <td>81243735000229.0</td>\n",
       "      <td>81243735.0</td>\n",
       "      <td>POSITIVO INFORMATICA S/A</td>\n",
       "      <td></td>\n",
       "      <td>2621300.0</td>\n",
       "      <td>FABRICAÇÃO DE EQUIPAMENTOS DE INFORMÁTICA</td>\n",
       "      <td>S</td>\n",
       "      <td>102.0</td>\n",
       "      <td>Microcomputador / Produtos de Informática</td>\n",
       "      <td>102.0</td>\n",
       "      <td>Garantia (Abrangência, cobertura, etc.)</td>\n",
       "      <td>F</td>\n",
       "      <td>entre 61 a 70 anos</td>\n",
       "      <td>75064060</td>\n",
       "      <td>Monday</td>\n",
       "      <td>Thursday</td>\n",
       "    </tr>\n",
       "    <tr>\n",
       "      <th>20897</th>\n",
       "      <td>20897</td>\n",
       "      <td>2012</td>\n",
       "      <td>2012-10-31 15:51:57</td>\n",
       "      <td>2012-09-06 15:44:46</td>\n",
       "      <td>3.0</td>\n",
       "      <td>Sudeste</td>\n",
       "      <td>ES</td>\n",
       "      <td>CONTAGEM INDUSTRIA E COMERCIO DE ESPUMAS E COL...</td>\n",
       "      <td>COLCHOES ORTOBOM</td>\n",
       "      <td>1.0</td>\n",
       "      <td>2748305000101.0</td>\n",
       "      <td>2748305.0</td>\n",
       "      <td>CONTAGEM INDUSTRIA E COMERCIO DE ESPUMAS E COL...</td>\n",
       "      <td></td>\n",
       "      <td>3104700.0</td>\n",
       "      <td>FABRICAÇÃO DE COLCHÕES</td>\n",
       "      <td>N</td>\n",
       "      <td>100.0</td>\n",
       "      <td>Colchão</td>\n",
       "      <td>102.0</td>\n",
       "      <td>Garantia (Abrangência, cobertura, etc.)</td>\n",
       "      <td>F</td>\n",
       "      <td>entre 31 a 40 anos</td>\n",
       "      <td></td>\n",
       "      <td>Thursday</td>\n",
       "      <td>Wednesday</td>\n",
       "    </tr>\n",
       "    <tr>\n",
       "      <th>124604</th>\n",
       "      <td>27273</td>\n",
       "      <td>2015</td>\n",
       "      <td>2015-01-27 16:25:01</td>\n",
       "      <td>2014-12-01 16:50:12</td>\n",
       "      <td>2.0</td>\n",
       "      <td>Nordeste</td>\n",
       "      <td>PE</td>\n",
       "      <td>F S VASCONCELOS &amp; CIA LTDA</td>\n",
       "      <td>MAGAZINELUIZA</td>\n",
       "      <td>1.0</td>\n",
       "      <td></td>\n",
       "      <td></td>\n",
       "      <td></td>\n",
       "      <td></td>\n",
       "      <td></td>\n",
       "      <td></td>\n",
       "      <td>S</td>\n",
       "      <td>55.0</td>\n",
       "      <td>Cartão de Loja</td>\n",
       "      <td>28.0</td>\n",
       "      <td>Cobrança indevida.</td>\n",
       "      <td>M</td>\n",
       "      <td>entre 21 a 30 anos</td>\n",
       "      <td>54700000.0</td>\n",
       "      <td>Monday</td>\n",
       "      <td>Tuesday</td>\n",
       "    </tr>\n",
       "    <tr>\n",
       "      <th>50900</th>\n",
       "      <td>18739</td>\n",
       "      <td>2013</td>\n",
       "      <td>2013-02-13 16:57:02</td>\n",
       "      <td>2012-09-20 09:31:20</td>\n",
       "      <td>4.0</td>\n",
       "      <td>Sul</td>\n",
       "      <td>PR</td>\n",
       "      <td>CARREFOUR CARTÕES - (ATUAL BANCO CSF S/A) - AOP</td>\n",
       "      <td>GRUPO CARREFOUR</td>\n",
       "      <td>1.0</td>\n",
       "      <td>8357240000150.0</td>\n",
       "      <td>8357240.0</td>\n",
       "      <td>BANCO CSF S/A</td>\n",
       "      <td></td>\n",
       "      <td>6431000.0</td>\n",
       "      <td>BANCOS MÚLTIPLOS, SEM CARTEIRA COMERCIAL</td>\n",
       "      <td>S</td>\n",
       "      <td>54.0</td>\n",
       "      <td>Cartão de Crédito</td>\n",
       "      <td>28.0</td>\n",
       "      <td>Cobrança indevida.</td>\n",
       "      <td>M</td>\n",
       "      <td>entre 31 a 40 anos</td>\n",
       "      <td>83228210</td>\n",
       "      <td>Thursday</td>\n",
       "      <td>Wednesday</td>\n",
       "    </tr>\n",
       "    <tr>\n",
       "      <th>93233</th>\n",
       "      <td>28508</td>\n",
       "      <td>2014</td>\n",
       "      <td>2014-09-17 11:38:12</td>\n",
       "      <td>2014-08-05 15:44:35</td>\n",
       "      <td>3.0</td>\n",
       "      <td>Sudeste</td>\n",
       "      <td>MG</td>\n",
       "      <td>SAMSUNG ELETRÔNICA DA AMAZÔNIA LTDA</td>\n",
       "      <td>SAMSUNG DA AMAZÔNIA</td>\n",
       "      <td>1.0</td>\n",
       "      <td>280273000137.0</td>\n",
       "      <td>280273.0</td>\n",
       "      <td>SAMSUNG ELETRONICA DA AMAZONIA LTDA</td>\n",
       "      <td>SAMSUNG DA AMAZONIA</td>\n",
       "      <td>2640000.0</td>\n",
       "      <td>FABRICAÇÃO DE APARELHOS DE RECEPÇÃO, REPRODUÇÃ...</td>\n",
       "      <td>S</td>\n",
       "      <td>101.0</td>\n",
       "      <td>Telefone ( Convencional, Celular, Interfone, E...</td>\n",
       "      <td>105.0</td>\n",
       "      <td>Produto com vício</td>\n",
       "      <td>M</td>\n",
       "      <td>entre 21 a 30 anos</td>\n",
       "      <td>31050680.0</td>\n",
       "      <td>Tuesday</td>\n",
       "      <td>Wednesday</td>\n",
       "    </tr>\n",
       "  </tbody>\n",
       "</table>\n",
       "</div>\n",
       "      <button class=\"colab-df-convert\" onclick=\"convertToInteractive('df-93758a4e-0a5e-4d68-a84c-16ba73458f9e')\"\n",
       "              title=\"Convert this dataframe to an interactive table.\"\n",
       "              style=\"display:none;\">\n",
       "        \n",
       "  <svg xmlns=\"http://www.w3.org/2000/svg\" height=\"24px\"viewBox=\"0 0 24 24\"\n",
       "       width=\"24px\">\n",
       "    <path d=\"M0 0h24v24H0V0z\" fill=\"none\"/>\n",
       "    <path d=\"M18.56 5.44l.94 2.06.94-2.06 2.06-.94-2.06-.94-.94-2.06-.94 2.06-2.06.94zm-11 1L8.5 8.5l.94-2.06 2.06-.94-2.06-.94L8.5 2.5l-.94 2.06-2.06.94zm10 10l.94 2.06.94-2.06 2.06-.94-2.06-.94-.94-2.06-.94 2.06-2.06.94z\"/><path d=\"M17.41 7.96l-1.37-1.37c-.4-.4-.92-.59-1.43-.59-.52 0-1.04.2-1.43.59L10.3 9.45l-7.72 7.72c-.78.78-.78 2.05 0 2.83L4 21.41c.39.39.9.59 1.41.59.51 0 1.02-.2 1.41-.59l7.78-7.78 2.81-2.81c.8-.78.8-2.07 0-2.86zM5.41 20L4 18.59l7.72-7.72 1.47 1.35L5.41 20z\"/>\n",
       "  </svg>\n",
       "      </button>\n",
       "      \n",
       "  <style>\n",
       "    .colab-df-container {\n",
       "      display:flex;\n",
       "      flex-wrap:wrap;\n",
       "      gap: 12px;\n",
       "    }\n",
       "\n",
       "    .colab-df-convert {\n",
       "      background-color: #E8F0FE;\n",
       "      border: none;\n",
       "      border-radius: 50%;\n",
       "      cursor: pointer;\n",
       "      display: none;\n",
       "      fill: #1967D2;\n",
       "      height: 32px;\n",
       "      padding: 0 0 0 0;\n",
       "      width: 32px;\n",
       "    }\n",
       "\n",
       "    .colab-df-convert:hover {\n",
       "      background-color: #E2EBFA;\n",
       "      box-shadow: 0px 1px 2px rgba(60, 64, 67, 0.3), 0px 1px 3px 1px rgba(60, 64, 67, 0.15);\n",
       "      fill: #174EA6;\n",
       "    }\n",
       "\n",
       "    [theme=dark] .colab-df-convert {\n",
       "      background-color: #3B4455;\n",
       "      fill: #D2E3FC;\n",
       "    }\n",
       "\n",
       "    [theme=dark] .colab-df-convert:hover {\n",
       "      background-color: #434B5C;\n",
       "      box-shadow: 0px 1px 3px 1px rgba(0, 0, 0, 0.15);\n",
       "      filter: drop-shadow(0px 1px 2px rgba(0, 0, 0, 0.3));\n",
       "      fill: #FFFFFF;\n",
       "    }\n",
       "  </style>\n",
       "\n",
       "      <script>\n",
       "        const buttonEl =\n",
       "          document.querySelector('#df-93758a4e-0a5e-4d68-a84c-16ba73458f9e button.colab-df-convert');\n",
       "        buttonEl.style.display =\n",
       "          google.colab.kernel.accessAllowed ? 'block' : 'none';\n",
       "\n",
       "        async function convertToInteractive(key) {\n",
       "          const element = document.querySelector('#df-93758a4e-0a5e-4d68-a84c-16ba73458f9e');\n",
       "          const dataTable =\n",
       "            await google.colab.kernel.invokeFunction('convertToInteractive',\n",
       "                                                     [key], {});\n",
       "          if (!dataTable) return;\n",
       "\n",
       "          const docLinkHtml = 'Like what you see? Visit the ' +\n",
       "            '<a target=\"_blank\" href=https://colab.research.google.com/notebooks/data_table.ipynb>data table notebook</a>'\n",
       "            + ' to learn more about interactive tables.';\n",
       "          element.innerHTML = '';\n",
       "          dataTable['output_type'] = 'display_data';\n",
       "          await google.colab.output.renderOutput(dataTable, element);\n",
       "          const docLink = document.createElement('div');\n",
       "          docLink.innerHTML = docLinkHtml;\n",
       "          element.appendChild(docLink);\n",
       "        }\n",
       "      </script>\n",
       "    </div>\n",
       "  </div>\n",
       "  "
      ],
      "text/plain": [
       "        Unnamed: 0  AnoCalendario    DataArquivamento        DataAbertura  \\\n",
       "12539        12539           2012 2012-02-09 08:20:26 2011-06-13 10:24:50   \n",
       "20897        20897           2012 2012-10-31 15:51:57 2012-09-06 15:44:46   \n",
       "124604       27273           2015 2015-01-27 16:25:01 2014-12-01 16:50:12   \n",
       "50900        18739           2013 2013-02-13 16:57:02 2012-09-20 09:31:20   \n",
       "93233        28508           2014 2014-09-17 11:38:12 2014-08-05 15:44:35   \n",
       "\n",
       "       CodigoRegiao        Regiao  UF  \\\n",
       "12539           5.0  Centro-oeste  GO   \n",
       "20897           3.0       Sudeste  ES   \n",
       "124604          2.0      Nordeste  PE   \n",
       "50900           4.0           Sul  PR   \n",
       "93233           3.0       Sudeste  MG   \n",
       "\n",
       "                                           strRazaoSocial  \\\n",
       "12539                            POSITIVO INFORMATICA S/A   \n",
       "20897   CONTAGEM INDUSTRIA E COMERCIO DE ESPUMAS E COL...   \n",
       "124604                         F S VASCONCELOS & CIA LTDA   \n",
       "50900     CARREFOUR CARTÕES - (ATUAL BANCO CSF S/A) - AOP   \n",
       "93233                 SAMSUNG ELETRÔNICA DA AMAZÔNIA LTDA   \n",
       "\n",
       "             strNomeFantasia Tipo        NumeroCNPJ RadicalCNPJ  \\\n",
       "12539   POSITIVO INFORMATICA  1.0  81243735000229.0  81243735.0   \n",
       "20897       COLCHOES ORTOBOM  1.0   2748305000101.0   2748305.0   \n",
       "124604         MAGAZINELUIZA  1.0                                 \n",
       "50900        GRUPO CARREFOUR  1.0   8357240000150.0   8357240.0   \n",
       "93233    SAMSUNG DA AMAZÔNIA  1.0    280273000137.0    280273.0   \n",
       "\n",
       "                                           RazaoSocialRFB  \\\n",
       "12539                            POSITIVO INFORMATICA S/A   \n",
       "20897   CONTAGEM INDUSTRIA E COMERCIO DE ESPUMAS E COL...   \n",
       "124604                                                      \n",
       "50900                                       BANCO CSF S/A   \n",
       "93233                 SAMSUNG ELETRONICA DA AMAZONIA LTDA   \n",
       "\n",
       "            NomeFantasiaRFB CNAEPrincipal  \\\n",
       "12539                           2621300.0   \n",
       "20897                           3104700.0   \n",
       "124604                                      \n",
       "50900                           6431000.0   \n",
       "93233   SAMSUNG DA AMAZONIA     2640000.0   \n",
       "\n",
       "                                        DescCNAEPrincipal Atendida  \\\n",
       "12539           FABRICAÇÃO DE EQUIPAMENTOS DE INFORMÁTICA        S   \n",
       "20897                              FABRICAÇÃO DE COLCHÕES        N   \n",
       "124604                                                           S   \n",
       "50900            BANCOS MÚLTIPLOS, SEM CARTEIRA COMERCIAL        S   \n",
       "93233   FABRICAÇÃO DE APARELHOS DE RECEPÇÃO, REPRODUÇÃ...        S   \n",
       "\n",
       "       CodigoAssunto                                   DescricaoAssunto  \\\n",
       "12539          102.0          Microcomputador / Produtos de Informática   \n",
       "20897          100.0                                            Colchão   \n",
       "124604          55.0                                     Cartão de Loja   \n",
       "50900           54.0                                  Cartão de Crédito   \n",
       "93233          101.0  Telefone ( Convencional, Celular, Interfone, E...   \n",
       "\n",
       "       CodigoProblema                        DescricaoProblema SexoConsumidor  \\\n",
       "12539           102.0  Garantia (Abrangência, cobertura, etc.)              F   \n",
       "20897           102.0  Garantia (Abrangência, cobertura, etc.)              F   \n",
       "124604           28.0                       Cobrança indevida.              M   \n",
       "50900            28.0                       Cobrança indevida.              M   \n",
       "93233           105.0                        Produto com vício              M   \n",
       "\n",
       "       FaixaEtariaConsumidor CEPConsumidor DiaAbertura DiaArquivamento  \n",
       "12539     entre 61 a 70 anos      75064060      Monday        Thursday  \n",
       "20897     entre 31 a 40 anos                  Thursday       Wednesday  \n",
       "124604    entre 21 a 30 anos    54700000.0      Monday         Tuesday  \n",
       "50900     entre 31 a 40 anos      83228210    Thursday       Wednesday  \n",
       "93233     entre 21 a 30 anos    31050680.0     Tuesday       Wednesday  "
      ]
     },
     "execution_count": 10,
     "metadata": {},
     "output_type": "execute_result"
    }
   ],
   "source": [
    "# Criando Coluna de DiaAbertura e DiaArquivamento\n",
    "df_2['DiaAbertura'] = df_2['DataAbertura'].dt.day_name()\n",
    "df_2['DiaArquivamento'] = df_2['DataArquivamento'].dt.day_name()\n",
    "df_2.sample(5)"
   ]
  },
  {
   "cell_type": "code",
   "execution_count": 11,
   "metadata": {
    "colab": {
     "base_uri": "https://localhost:8080/",
     "height": 281
    },
    "executionInfo": {
     "elapsed": 266,
     "status": "ok",
     "timestamp": 1668369110804,
     "user": {
      "displayName": "MATHEUS DOS SANTOS OLIVEIRA",
      "userId": "09253095021711422754"
     },
     "user_tz": 180
    },
    "id": "eCQhIPla70S3",
    "outputId": "03db511d-76c1-4da4-e8af-0e0da78ffb0d"
   },
   "outputs": [
    {
     "data": {
      "image/png": "[encoded data removed]",
      "text/plain": [
       "<Figure size 432x288 with 1 Axes>"
      ]
     },
     "metadata": {
      "needs_background": "light"
     },
     "output_type": "display_data"
    }
   ],
   "source": [
    "# A quantidade de Reclamações abertas por ano\n",
    "plt.hist(df_2['DataAbertura'], bins=7)\n",
    "plt.title('Distribuição por Ano de Abertura')\n",
    "plt.show()"
   ]
  },
  {
   "cell_type": "code",
   "execution_count": 12,
   "metadata": {
    "colab": {
     "base_uri": "https://localhost:8080/",
     "height": 281
    },
    "executionInfo": {
     "elapsed": 273,
     "status": "ok",
     "timestamp": 1668369111885,
     "user": {
      "displayName": "MATHEUS DOS SANTOS OLIVEIRA",
      "userId": "09253095021711422754"
     },
     "user_tz": 180
    },
    "id": "FEcIluBv7-A0",
    "outputId": "360ec960-09b6-4e3a-ec5c-3ace35751c4d"
   },
   "outputs": [
    {
     "data": {
      "image/png": "[encoded data removed]",
      "text/plain": [
       "<Figure size 432x288 with 1 Axes>"
      ]
     },
     "metadata": {
      "needs_background": "light"
     },
     "output_type": "display_data"
    }
   ],
   "source": [
    "# A quantidade de Reclamações Arquivadas / Solucionadas por ano\n",
    "plt.hist(df_2['DataArquivamento'], bins=7)\n",
    "plt.title('Distribuição por Ano de Arquivamento e Resolução')\n",
    "plt.show()"
   ]
  },
  {
   "cell_type": "code",
   "execution_count": 13,
   "metadata": {
    "colab": {
     "base_uri": "https://localhost:8080/",
     "height": 281
    },
    "executionInfo": {
     "elapsed": 249,
     "status": "ok",
     "timestamp": 1668369113625,
     "user": {
      "displayName": "MATHEUS DOS SANTOS OLIVEIRA",
      "userId": "09253095021711422754"
     },
     "user_tz": 180
    },
    "id": "cjaiKxtZ_um0",
    "outputId": "ab4fc9c3-8804-461e-9c2a-1d270c33b99d"
   },
   "outputs": [
    {
     "data": {
      "image/png": "[encoded data removed]",
      "text/plain": [
       "<Figure size 432x288 with 1 Axes>"
      ]
     },
     "metadata": {
      "needs_background": "light"
     },
     "output_type": "display_data"
    }
   ],
   "source": [
    "# A Quantidade de reclamações por dia da semana\n",
    "plt.hist(df_2['DiaAbertura'], bins=7)\n",
    "plt.title('Distribuição de Abertura por dias da semana')\n",
    "plt.show()"
   ]
  },
  {
   "cell_type": "code",
   "execution_count": 14,
   "metadata": {
    "colab": {
     "base_uri": "https://localhost:8080/",
     "height": 281
    },
    "executionInfo": {
     "elapsed": 270,
     "status": "ok",
     "timestamp": 1668369116192,
     "user": {
      "displayName": "MATHEUS DOS SANTOS OLIVEIRA",
      "userId": "09253095021711422754"
     },
     "user_tz": 180
    },
    "id": "LgTVlUa0_7WF",
    "outputId": "ffba1046-c0ba-4d5a-95c8-3ea69c06a6ee"
   },
   "outputs": [
    {
     "data": {
      "image/png": "[encoded data removed]",
      "text/plain": [
       "<Figure size 432x288 with 1 Axes>"
      ]
     },
     "metadata": {
      "needs_background": "light"
     },
     "output_type": "display_data"
    }
   ],
   "source": [
    "# A quantidade de Arquivamento / Resoluções por dia da semana\n",
    "plt.hist(df_2['DiaArquivamento'], bins=7)\n",
    "plt.title('Distribuição de Arquivamento por dias da semana')\n",
    "plt.show()"
   ]
  },
  {
   "cell_type": "code",
   "execution_count": 15,
   "metadata": {
    "executionInfo": {
     "elapsed": 268,
     "status": "ok",
     "timestamp": 1668369137789,
     "user": {
      "displayName": "MATHEUS DOS SANTOS OLIVEIRA",
      "userId": "09253095021711422754"
     },
     "user_tz": 180
    },
    "id": "I7oYczaCDbVD"
   },
   "outputs": [],
   "source": [
    "#Cria as colunas Minuto, Hora, Dia, Semana, Mês e Ano no DataSet\n",
    "\n",
    "df_2['MinutoAbertura'] = df_2['DataAbertura'].dt.minute\n",
    "df_2['HoraAbertura'] = df_2['DataAbertura'].dt.hour\n",
    "df_2['DiaAbertura'] = df_2['DataAbertura'].dt.day\n",
    "df_2['SemanaAbertura'] = df_2['DataAbertura'].dt.weekday\n",
    "df_2['MesAbertura'] = df_2['DataAbertura'].dt.month\n",
    "df_2['AnoAbertura'] = df_2['DataAbertura'].dt.year"
   ]
  },
  {
   "cell_type": "code",
   "execution_count": 16,
   "metadata": {
    "colab": {
     "base_uri": "https://localhost:8080/",
     "height": 513
    },
    "executionInfo": {
     "elapsed": 361,
     "status": "ok",
     "timestamp": 1668369160838,
     "user": {
      "displayName": "MATHEUS DOS SANTOS OLIVEIRA",
      "userId": "09253095021711422754"
     },
     "user_tz": 180
    },
    "id": "F4ZMx3Q1jNMI",
    "outputId": "6d554b16-59d5-402d-9ef0-c2d0d5766993"
   },
   "outputs": [
    {
     "data": {
      "text/html": [
       "\n",
       "  <div id=\"df-4090bb3d-aff5-4055-b0a8-3b7984dbf5b8\">\n",
       "    <div class=\"colab-df-container\">\n",
       "      <div>\n",
       "<style scoped>\n",
       "    .dataframe tbody tr th:only-of-type {\n",
       "        vertical-align: middle;\n",
       "    }\n",
       "\n",
       "    .dataframe tbody tr th {\n",
       "        vertical-align: top;\n",
       "    }\n",
       "\n",
       "    .dataframe thead th {\n",
       "        text-align: right;\n",
       "    }\n",
       "</style>\n",
       "<table border=\"1\" class=\"dataframe\">\n",
       "  <thead>\n",
       "    <tr style=\"text-align: right;\">\n",
       "      <th></th>\n",
       "      <th>Unnamed: 0</th>\n",
       "      <th>AnoCalendario</th>\n",
       "      <th>DataArquivamento</th>\n",
       "      <th>DataAbertura</th>\n",
       "      <th>CodigoRegiao</th>\n",
       "      <th>Regiao</th>\n",
       "      <th>UF</th>\n",
       "      <th>strRazaoSocial</th>\n",
       "      <th>strNomeFantasia</th>\n",
       "      <th>Tipo</th>\n",
       "      <th>NumeroCNPJ</th>\n",
       "      <th>RadicalCNPJ</th>\n",
       "      <th>RazaoSocialRFB</th>\n",
       "      <th>NomeFantasiaRFB</th>\n",
       "      <th>CNAEPrincipal</th>\n",
       "      <th>DescCNAEPrincipal</th>\n",
       "      <th>Atendida</th>\n",
       "      <th>CodigoAssunto</th>\n",
       "      <th>DescricaoAssunto</th>\n",
       "      <th>CodigoProblema</th>\n",
       "      <th>DescricaoProblema</th>\n",
       "      <th>SexoConsumidor</th>\n",
       "      <th>FaixaEtariaConsumidor</th>\n",
       "      <th>CEPConsumidor</th>\n",
       "      <th>DiaAbertura</th>\n",
       "      <th>DiaArquivamento</th>\n",
       "      <th>MinutoAbertura</th>\n",
       "      <th>HoraAbertura</th>\n",
       "      <th>SemanaAbertura</th>\n",
       "      <th>MesAbertura</th>\n",
       "      <th>AnoAbertura</th>\n",
       "    </tr>\n",
       "  </thead>\n",
       "  <tbody>\n",
       "    <tr>\n",
       "      <th>44511</th>\n",
       "      <td>12350</td>\n",
       "      <td>2013</td>\n",
       "      <td>2013-06-20 15:11:45</td>\n",
       "      <td>2013-05-20 15:28:25</td>\n",
       "      <td>3.0</td>\n",
       "      <td>Sudeste</td>\n",
       "      <td>MG</td>\n",
       "      <td>MARCOS SOUZA LEAL 31617368857</td>\n",
       "      <td>MARCOS SOUZA LEAL 31617368857</td>\n",
       "      <td>1.0</td>\n",
       "      <td>13310749000187.0</td>\n",
       "      <td>13310749.0</td>\n",
       "      <td>MARCOS SOUZA LEAL 31617368857</td>\n",
       "      <td>MS LUX</td>\n",
       "      <td>4789004.0</td>\n",
       "      <td>COMÉRCIO VAREJISTA DE ANIMAIS VIVOS E DE ARTIG...</td>\n",
       "      <td>S</td>\n",
       "      <td>107.0</td>\n",
       "      <td>Artigo e Instrumento Musical ( Cordas, Violão,...</td>\n",
       "      <td>112.0</td>\n",
       "      <td>Demora na montagem/montagem incompleta/incorreta</td>\n",
       "      <td>M</td>\n",
       "      <td>entre 21 a 30 anos</td>\n",
       "      <td>35904079</td>\n",
       "      <td>20</td>\n",
       "      <td>Thursday</td>\n",
       "      <td>28</td>\n",
       "      <td>15</td>\n",
       "      <td>0</td>\n",
       "      <td>5</td>\n",
       "      <td>2013</td>\n",
       "    </tr>\n",
       "    <tr>\n",
       "      <th>100718</th>\n",
       "      <td>3387</td>\n",
       "      <td>2015</td>\n",
       "      <td>2015-11-16 13:23:03</td>\n",
       "      <td>2015-09-09 16:02:50</td>\n",
       "      <td>3.0</td>\n",
       "      <td>Sudeste</td>\n",
       "      <td>SP</td>\n",
       "      <td>BANCO CACIQUE S.A.</td>\n",
       "      <td></td>\n",
       "      <td>1.0</td>\n",
       "      <td>33349358000183.0</td>\n",
       "      <td>33349358.0</td>\n",
       "      <td>BANCO CACIQUE S/A.</td>\n",
       "      <td>CACIQUE</td>\n",
       "      <td>6422100.0</td>\n",
       "      <td>BANCOS MÚLTIPLOS, COM CARTEIRA COMERCIAL</td>\n",
       "      <td>N</td>\n",
       "      <td>63.0</td>\n",
       "      <td>Financeira</td>\n",
       "      <td>27.0</td>\n",
       "      <td>Contrato (não cumprimento, alteração, transfer...</td>\n",
       "      <td>F</td>\n",
       "      <td>entre 21 a 30 anos</td>\n",
       "      <td>14407063.0</td>\n",
       "      <td>9</td>\n",
       "      <td>Monday</td>\n",
       "      <td>2</td>\n",
       "      <td>16</td>\n",
       "      <td>2</td>\n",
       "      <td>9</td>\n",
       "      <td>2015</td>\n",
       "    </tr>\n",
       "    <tr>\n",
       "      <th>55582</th>\n",
       "      <td>23421</td>\n",
       "      <td>2013</td>\n",
       "      <td>2013-09-27 09:45:44</td>\n",
       "      <td>2013-07-11 08:46:20</td>\n",
       "      <td>1.0</td>\n",
       "      <td>Norte</td>\n",
       "      <td>PA</td>\n",
       "      <td>CENTRAIS ELÉTRICAS DO PARÁ S/A</td>\n",
       "      <td>CELPA</td>\n",
       "      <td>1.0</td>\n",
       "      <td>4895728000180.0</td>\n",
       "      <td>4895728.0</td>\n",
       "      <td>CENTRAIS ELETRICAS DO PARA S.A. - CELPA</td>\n",
       "      <td></td>\n",
       "      <td>3514000.0</td>\n",
       "      <td>DISTRIBUIÇÃO DE ENERGIA ELÉTRICA</td>\n",
       "      <td>S</td>\n",
       "      <td>185.0</td>\n",
       "      <td>Energia Elétrica</td>\n",
       "      <td>134.0</td>\n",
       "      <td>Cobrança indevida/abusiva</td>\n",
       "      <td>M</td>\n",
       "      <td>mais de 70 anos</td>\n",
       "      <td>68500000</td>\n",
       "      <td>11</td>\n",
       "      <td>Friday</td>\n",
       "      <td>46</td>\n",
       "      <td>8</td>\n",
       "      <td>3</td>\n",
       "      <td>7</td>\n",
       "      <td>2013</td>\n",
       "    </tr>\n",
       "    <tr>\n",
       "      <th>106843</th>\n",
       "      <td>9512</td>\n",
       "      <td>2015</td>\n",
       "      <td>2015-11-19 11:57:38</td>\n",
       "      <td>2015-10-19 15:59:30</td>\n",
       "      <td>2.0</td>\n",
       "      <td>Nordeste</td>\n",
       "      <td>AL</td>\n",
       "      <td>LOJAS AMERICANAS S.A.</td>\n",
       "      <td>LOJAS AMERICANAS</td>\n",
       "      <td>1.0</td>\n",
       "      <td>33014556006127.0</td>\n",
       "      <td>33014556.0</td>\n",
       "      <td>LOJAS AMERICANAS S.A.</td>\n",
       "      <td>LOJA 50</td>\n",
       "      <td>4711302.0</td>\n",
       "      <td>COMÉRCIO VAREJISTA DE MERCADORIAS EM GERAL, CO...</td>\n",
       "      <td>N</td>\n",
       "      <td>96.0</td>\n",
       "      <td>Televisão / Vídeo Cassete / Filmadora / Video-...</td>\n",
       "      <td>105.0</td>\n",
       "      <td>Produto com vício</td>\n",
       "      <td>F</td>\n",
       "      <td>entre 31 a 40 anos</td>\n",
       "      <td>57014240.0</td>\n",
       "      <td>19</td>\n",
       "      <td>Thursday</td>\n",
       "      <td>59</td>\n",
       "      <td>15</td>\n",
       "      <td>0</td>\n",
       "      <td>10</td>\n",
       "      <td>2015</td>\n",
       "    </tr>\n",
       "    <tr>\n",
       "      <th>50992</th>\n",
       "      <td>18831</td>\n",
       "      <td>2013</td>\n",
       "      <td>2013-02-14 09:36:59</td>\n",
       "      <td>2012-01-06 10:37:01</td>\n",
       "      <td>2.0</td>\n",
       "      <td>Nordeste</td>\n",
       "      <td>PE</td>\n",
       "      <td>BANCO FINASA BMC S/A</td>\n",
       "      <td></td>\n",
       "      <td>1.0</td>\n",
       "      <td></td>\n",
       "      <td></td>\n",
       "      <td></td>\n",
       "      <td></td>\n",
       "      <td></td>\n",
       "      <td></td>\n",
       "      <td>S</td>\n",
       "      <td>63.0</td>\n",
       "      <td>Financeira</td>\n",
       "      <td>28.0</td>\n",
       "      <td>Cobrança indevida.</td>\n",
       "      <td>M</td>\n",
       "      <td>mais de 70 anos</td>\n",
       "      <td>56280000</td>\n",
       "      <td>6</td>\n",
       "      <td>Thursday</td>\n",
       "      <td>37</td>\n",
       "      <td>10</td>\n",
       "      <td>4</td>\n",
       "      <td>1</td>\n",
       "      <td>2012</td>\n",
       "    </tr>\n",
       "  </tbody>\n",
       "</table>\n",
       "</div>\n",
       "      <button class=\"colab-df-convert\" onclick=\"convertToInteractive('df-4090bb3d-aff5-4055-b0a8-3b7984dbf5b8')\"\n",
       "              title=\"Convert this dataframe to an interactive table.\"\n",
       "              style=\"display:none;\">\n",
       "        \n",
       "  <svg xmlns=\"http://www.w3.org/2000/svg\" height=\"24px\"viewBox=\"0 0 24 24\"\n",
       "       width=\"24px\">\n",
       "    <path d=\"M0 0h24v24H0V0z\" fill=\"none\"/>\n",
       "    <path d=\"M18.56 5.44l.94 2.06.94-2.06 2.06-.94-2.06-.94-.94-2.06-.94 2.06-2.06.94zm-11 1L8.5 8.5l.94-2.06 2.06-.94-2.06-.94L8.5 2.5l-.94 2.06-2.06.94zm10 10l.94 2.06.94-2.06 2.06-.94-2.06-.94-.94-2.06-.94 2.06-2.06.94z\"/><path d=\"M17.41 7.96l-1.37-1.37c-.4-.4-.92-.59-1.43-.59-.52 0-1.04.2-1.43.59L10.3 9.45l-7.72 7.72c-.78.78-.78 2.05 0 2.83L4 21.41c.39.39.9.59 1.41.59.51 0 1.02-.2 1.41-.59l7.78-7.78 2.81-2.81c.8-.78.8-2.07 0-2.86zM5.41 20L4 18.59l7.72-7.72 1.47 1.35L5.41 20z\"/>\n",
       "  </svg>\n",
       "      </button>\n",
       "      \n",
       "  <style>\n",
       "    .colab-df-container {\n",
       "      display:flex;\n",
       "      flex-wrap:wrap;\n",
       "      gap: 12px;\n",
       "    }\n",
       "\n",
       "    .colab-df-convert {\n",
       "      background-color: #E8F0FE;\n",
       "      border: none;\n",
       "      border-radius: 50%;\n",
       "      cursor: pointer;\n",
       "      display: none;\n",
       "      fill: #1967D2;\n",
       "      height: 32px;\n",
       "      padding: 0 0 0 0;\n",
       "      width: 32px;\n",
       "    }\n",
       "\n",
       "    .colab-df-convert:hover {\n",
       "      background-color: #E2EBFA;\n",
       "      box-shadow: 0px 1px 2px rgba(60, 64, 67, 0.3), 0px 1px 3px 1px rgba(60, 64, 67, 0.15);\n",
       "      fill: #174EA6;\n",
       "    }\n",
       "\n",
       "    [theme=dark] .colab-df-convert {\n",
       "      background-color: #3B4455;\n",
       "      fill: #D2E3FC;\n",
       "    }\n",
       "\n",
       "    [theme=dark] .colab-df-convert:hover {\n",
       "      background-color: #434B5C;\n",
       "      box-shadow: 0px 1px 3px 1px rgba(0, 0, 0, 0.15);\n",
       "      filter: drop-shadow(0px 1px 2px rgba(0, 0, 0, 0.3));\n",
       "      fill: #FFFFFF;\n",
       "    }\n",
       "  </style>\n",
       "\n",
       "      <script>\n",
       "        const buttonEl =\n",
       "          document.querySelector('#df-4090bb3d-aff5-4055-b0a8-3b7984dbf5b8 button.colab-df-convert');\n",
       "        buttonEl.style.display =\n",
       "          google.colab.kernel.accessAllowed ? 'block' : 'none';\n",
       "\n",
       "        async function convertToInteractive(key) {\n",
       "          const element = document.querySelector('#df-4090bb3d-aff5-4055-b0a8-3b7984dbf5b8');\n",
       "          const dataTable =\n",
       "            await google.colab.kernel.invokeFunction('convertToInteractive',\n",
       "                                                     [key], {});\n",
       "          if (!dataTable) return;\n",
       "\n",
       "          const docLinkHtml = 'Like what you see? Visit the ' +\n",
       "            '<a target=\"_blank\" href=https://colab.research.google.com/notebooks/data_table.ipynb>data table notebook</a>'\n",
       "            + ' to learn more about interactive tables.';\n",
       "          element.innerHTML = '';\n",
       "          dataTable['output_type'] = 'display_data';\n",
       "          await google.colab.output.renderOutput(dataTable, element);\n",
       "          const docLink = document.createElement('div');\n",
       "          docLink.innerHTML = docLinkHtml;\n",
       "          element.appendChild(docLink);\n",
       "        }\n",
       "      </script>\n",
       "    </div>\n",
       "  </div>\n",
       "  "
      ],
      "text/plain": [
       "        Unnamed: 0  AnoCalendario    DataArquivamento        DataAbertura  \\\n",
       "44511        12350           2013 2013-06-20 15:11:45 2013-05-20 15:28:25   \n",
       "100718        3387           2015 2015-11-16 13:23:03 2015-09-09 16:02:50   \n",
       "55582        23421           2013 2013-09-27 09:45:44 2013-07-11 08:46:20   \n",
       "106843        9512           2015 2015-11-19 11:57:38 2015-10-19 15:59:30   \n",
       "50992        18831           2013 2013-02-14 09:36:59 2012-01-06 10:37:01   \n",
       "\n",
       "       CodigoRegiao    Regiao  UF                  strRazaoSocial  \\\n",
       "44511           3.0   Sudeste  MG   MARCOS SOUZA LEAL 31617368857   \n",
       "100718          3.0   Sudeste  SP              BANCO CACIQUE S.A.   \n",
       "55582           1.0     Norte  PA  CENTRAIS ELÉTRICAS DO PARÁ S/A   \n",
       "106843          2.0  Nordeste  AL           LOJAS AMERICANAS S.A.   \n",
       "50992           2.0  Nordeste  PE            BANCO FINASA BMC S/A   \n",
       "\n",
       "                      strNomeFantasia Tipo        NumeroCNPJ RadicalCNPJ  \\\n",
       "44511   MARCOS SOUZA LEAL 31617368857  1.0  13310749000187.0  13310749.0   \n",
       "100718                                 1.0  33349358000183.0  33349358.0   \n",
       "55582                           CELPA  1.0   4895728000180.0   4895728.0   \n",
       "106843               LOJAS AMERICANAS  1.0  33014556006127.0  33014556.0   \n",
       "50992                                  1.0                                 \n",
       "\n",
       "                                 RazaoSocialRFB NomeFantasiaRFB CNAEPrincipal  \\\n",
       "44511             MARCOS SOUZA LEAL 31617368857          MS LUX     4789004.0   \n",
       "100718                       BANCO CACIQUE S/A.         CACIQUE     6422100.0   \n",
       "55582   CENTRAIS ELETRICAS DO PARA S.A. - CELPA                     3514000.0   \n",
       "106843                    LOJAS AMERICANAS S.A.         LOJA 50     4711302.0   \n",
       "50992                                                                           \n",
       "\n",
       "                                        DescCNAEPrincipal Atendida  \\\n",
       "44511   COMÉRCIO VAREJISTA DE ANIMAIS VIVOS E DE ARTIG...        S   \n",
       "100718           BANCOS MÚLTIPLOS, COM CARTEIRA COMERCIAL        N   \n",
       "55582                    DISTRIBUIÇÃO DE ENERGIA ELÉTRICA        S   \n",
       "106843  COMÉRCIO VAREJISTA DE MERCADORIAS EM GERAL, CO...        N   \n",
       "50992                                                            S   \n",
       "\n",
       "       CodigoAssunto                                   DescricaoAssunto  \\\n",
       "44511          107.0  Artigo e Instrumento Musical ( Cordas, Violão,...   \n",
       "100718          63.0                                         Financeira   \n",
       "55582          185.0                                   Energia Elétrica   \n",
       "106843          96.0  Televisão / Vídeo Cassete / Filmadora / Video-...   \n",
       "50992           63.0                                         Financeira   \n",
       "\n",
       "       CodigoProblema                                  DescricaoProblema  \\\n",
       "44511           112.0   Demora na montagem/montagem incompleta/incorreta   \n",
       "100718           27.0  Contrato (não cumprimento, alteração, transfer...   \n",
       "55582           134.0                          Cobrança indevida/abusiva   \n",
       "106843          105.0                                  Produto com vício   \n",
       "50992            28.0                                 Cobrança indevida.   \n",
       "\n",
       "       SexoConsumidor FaixaEtariaConsumidor CEPConsumidor  DiaAbertura  \\\n",
       "44511               M    entre 21 a 30 anos      35904079           20   \n",
       "100718              F    entre 21 a 30 anos    14407063.0            9   \n",
       "55582               M       mais de 70 anos      68500000           11   \n",
       "106843              F    entre 31 a 40 anos    57014240.0           19   \n",
       "50992               M       mais de 70 anos      56280000            6   \n",
       "\n",
       "       DiaArquivamento  MinutoAbertura  HoraAbertura  SemanaAbertura  \\\n",
       "44511         Thursday              28            15               0   \n",
       "100718          Monday               2            16               2   \n",
       "55582           Friday              46             8               3   \n",
       "106843        Thursday              59            15               0   \n",
       "50992         Thursday              37            10               4   \n",
       "\n",
       "        MesAbertura  AnoAbertura  \n",
       "44511             5         2013  \n",
       "100718            9         2015  \n",
       "55582             7         2013  \n",
       "106843           10         2015  \n",
       "50992             1         2012  "
      ]
     },
     "execution_count": 16,
     "metadata": {},
     "output_type": "execute_result"
    }
   ],
   "source": [
    "df_2.sample(5)"
   ]
  },
  {
   "cell_type": "code",
   "execution_count": 17,
   "metadata": {
    "colab": {
     "base_uri": "https://localhost:8080/"
    },
    "executionInfo": {
     "elapsed": 236,
     "status": "ok",
     "timestamp": 1668369170793,
     "user": {
      "displayName": "MATHEUS DOS SANTOS OLIVEIRA",
      "userId": "09253095021711422754"
     },
     "user_tz": 180
    },
    "id": "rkiKUx-HMLs7",
    "outputId": "245f404a-e69e-40d8-f11c-66050856dbeb"
   },
   "outputs": [
    {
     "name": "stdout",
     "output_type": "stream",
     "text": [
      "<class 'pandas.core.frame.DataFrame'>\n",
      "Int64Index: 1000 entries, 62561 to 53178\n",
      "Data columns (total 31 columns):\n",
      " #   Column                 Non-Null Count  Dtype         \n",
      "---  ------                 --------------  -----         \n",
      " 0   Unnamed: 0             1000 non-null   int64         \n",
      " 1   AnoCalendario          1000 non-null   int64         \n",
      " 2   DataArquivamento       1000 non-null   datetime64[ns]\n",
      " 3   DataAbertura           1000 non-null   datetime64[ns]\n",
      " 4   CodigoRegiao           1000 non-null   object        \n",
      " 5   Regiao                 1000 non-null   object        \n",
      " 6   UF                     1000 non-null   object        \n",
      " 7   strRazaoSocial         1000 non-null   object        \n",
      " 8   strNomeFantasia        1000 non-null   object        \n",
      " 9   Tipo                   1000 non-null   object        \n",
      " 10  NumeroCNPJ             1000 non-null   object        \n",
      " 11  RadicalCNPJ            1000 non-null   object        \n",
      " 12  RazaoSocialRFB         1000 non-null   object        \n",
      " 13  NomeFantasiaRFB        1000 non-null   object        \n",
      " 14  CNAEPrincipal          1000 non-null   object        \n",
      " 15  DescCNAEPrincipal      1000 non-null   object        \n",
      " 16  Atendida               1000 non-null   object        \n",
      " 17  CodigoAssunto          1000 non-null   object        \n",
      " 18  DescricaoAssunto       1000 non-null   object        \n",
      " 19  CodigoProblema         1000 non-null   object        \n",
      " 20  DescricaoProblema      1000 non-null   object        \n",
      " 21  SexoConsumidor         1000 non-null   object        \n",
      " 22  FaixaEtariaConsumidor  1000 non-null   object        \n",
      " 23  CEPConsumidor          1000 non-null   object        \n",
      " 24  DiaAbertura            1000 non-null   int64         \n",
      " 25  DiaArquivamento        1000 non-null   object        \n",
      " 26  MinutoAbertura         1000 non-null   int64         \n",
      " 27  HoraAbertura           1000 non-null   int64         \n",
      " 28  SemanaAbertura         1000 non-null   int64         \n",
      " 29  MesAbertura            1000 non-null   int64         \n",
      " 30  AnoAbertura            1000 non-null   int64         \n",
      "dtypes: datetime64[ns](2), int64(8), object(21)\n",
      "memory usage: 250.0+ KB\n"
     ]
    }
   ],
   "source": [
    "# Verificando os DTypes do DataSet\n",
    "df_2.info()"
   ]
  },
  {
   "cell_type": "code",
   "execution_count": 18,
   "metadata": {
    "executionInfo": {
     "elapsed": 240,
     "status": "ok",
     "timestamp": 1668369183866,
     "user": {
      "displayName": "MATHEUS DOS SANTOS OLIVEIRA",
      "userId": "09253095021711422754"
     },
     "user_tz": 180
    },
    "id": "Px17RGHNIhb6"
   },
   "outputs": [],
   "source": [
    "# Calcula a diferença de tempo entre a DataArquivamento - DataAbertura\n",
    "# Para saber quanto tempo a reclamação demorou para ser atendida\n",
    "df_2 = df_2.sample(100)\n",
    "df_2['datediff'] = df_2['DataArquivamento'] - df_2['DataAbertura']"
   ]
  },
  {
   "cell_type": "code",
   "execution_count": 19,
   "metadata": {
    "colab": {
     "base_uri": "https://localhost:8080/",
     "height": 478
    },
    "executionInfo": {
     "elapsed": 387,
     "status": "ok",
     "timestamp": 1668369194096,
     "user": {
      "displayName": "MATHEUS DOS SANTOS OLIVEIRA",
      "userId": "09253095021711422754"
     },
     "user_tz": 180
    },
    "id": "01NNrODXjZUD",
    "outputId": "ad7de3a0-853d-4760-fb13-4b6a8bdbd026"
   },
   "outputs": [
    {
     "data": {
      "text/html": [
       "\n",
       "  <div id=\"df-f359fc79-6cad-40ba-a95c-b4ad509ef96d\">\n",
       "    <div class=\"colab-df-container\">\n",
       "      <div>\n",
       "<style scoped>\n",
       "    .dataframe tbody tr th:only-of-type {\n",
       "        vertical-align: middle;\n",
       "    }\n",
       "\n",
       "    .dataframe tbody tr th {\n",
       "        vertical-align: top;\n",
       "    }\n",
       "\n",
       "    .dataframe thead th {\n",
       "        text-align: right;\n",
       "    }\n",
       "</style>\n",
       "<table border=\"1\" class=\"dataframe\">\n",
       "  <thead>\n",
       "    <tr style=\"text-align: right;\">\n",
       "      <th></th>\n",
       "      <th>Unnamed: 0</th>\n",
       "      <th>AnoCalendario</th>\n",
       "      <th>DataArquivamento</th>\n",
       "      <th>DataAbertura</th>\n",
       "      <th>CodigoRegiao</th>\n",
       "      <th>Regiao</th>\n",
       "      <th>UF</th>\n",
       "      <th>strRazaoSocial</th>\n",
       "      <th>strNomeFantasia</th>\n",
       "      <th>Tipo</th>\n",
       "      <th>NumeroCNPJ</th>\n",
       "      <th>RadicalCNPJ</th>\n",
       "      <th>RazaoSocialRFB</th>\n",
       "      <th>NomeFantasiaRFB</th>\n",
       "      <th>CNAEPrincipal</th>\n",
       "      <th>DescCNAEPrincipal</th>\n",
       "      <th>Atendida</th>\n",
       "      <th>CodigoAssunto</th>\n",
       "      <th>DescricaoAssunto</th>\n",
       "      <th>CodigoProblema</th>\n",
       "      <th>DescricaoProblema</th>\n",
       "      <th>SexoConsumidor</th>\n",
       "      <th>FaixaEtariaConsumidor</th>\n",
       "      <th>CEPConsumidor</th>\n",
       "      <th>DiaAbertura</th>\n",
       "      <th>DiaArquivamento</th>\n",
       "      <th>MinutoAbertura</th>\n",
       "      <th>HoraAbertura</th>\n",
       "      <th>SemanaAbertura</th>\n",
       "      <th>MesAbertura</th>\n",
       "      <th>AnoAbertura</th>\n",
       "      <th>datediff</th>\n",
       "    </tr>\n",
       "  </thead>\n",
       "  <tbody>\n",
       "    <tr>\n",
       "      <th>91099</th>\n",
       "      <td>26374</td>\n",
       "      <td>2014</td>\n",
       "      <td>2014-09-02 14:49:58</td>\n",
       "      <td>2014-03-13 10:48:59</td>\n",
       "      <td>3.0</td>\n",
       "      <td>Sudeste</td>\n",
       "      <td>ES</td>\n",
       "      <td>BANCO BMG SA</td>\n",
       "      <td>BMG</td>\n",
       "      <td>1.0</td>\n",
       "      <td>61186680000174.0</td>\n",
       "      <td>61186680.0</td>\n",
       "      <td>BANCO BMG SA</td>\n",
       "      <td></td>\n",
       "      <td>6422100.0</td>\n",
       "      <td>BANCOS MÚLTIPLOS, COM CARTEIRA COMERCIAL</td>\n",
       "      <td>N</td>\n",
       "      <td>53.0</td>\n",
       "      <td>Banco comercial</td>\n",
       "      <td>28.0</td>\n",
       "      <td>Cobrança indevida.</td>\n",
       "      <td>M</td>\n",
       "      <td>mais de 70 anos</td>\n",
       "      <td>29187000.0</td>\n",
       "      <td>13</td>\n",
       "      <td>Tuesday</td>\n",
       "      <td>48</td>\n",
       "      <td>10</td>\n",
       "      <td>3</td>\n",
       "      <td>3</td>\n",
       "      <td>2014</td>\n",
       "      <td>173 days 04:00:59</td>\n",
       "    </tr>\n",
       "    <tr>\n",
       "      <th>150573</th>\n",
       "      <td>23011</td>\n",
       "      <td>2016</td>\n",
       "      <td>2016-02-16 17:06:27</td>\n",
       "      <td>2016-01-12 15:51:05</td>\n",
       "      <td>2.0</td>\n",
       "      <td>Nordeste</td>\n",
       "      <td>RN</td>\n",
       "      <td>PAGUE FÁCIL</td>\n",
       "      <td>PAGUE FÁCIL</td>\n",
       "      <td>1.0</td>\n",
       "      <td>20717739000126.0</td>\n",
       "      <td>20717739.0</td>\n",
       "      <td></td>\n",
       "      <td></td>\n",
       "      <td></td>\n",
       "      <td></td>\n",
       "      <td>S</td>\n",
       "      <td>63.0</td>\n",
       "      <td>Financeira</td>\n",
       "      <td>28.0</td>\n",
       "      <td>Cobrança indevida/abusiva</td>\n",
       "      <td>M</td>\n",
       "      <td>entre 31 a 40 anos</td>\n",
       "      <td>59140000.0</td>\n",
       "      <td>12</td>\n",
       "      <td>Tuesday</td>\n",
       "      <td>51</td>\n",
       "      <td>15</td>\n",
       "      <td>1</td>\n",
       "      <td>1</td>\n",
       "      <td>2016</td>\n",
       "      <td>35 days 01:15:22</td>\n",
       "    </tr>\n",
       "    <tr>\n",
       "      <th>32120</th>\n",
       "      <td>32120</td>\n",
       "      <td>2012</td>\n",
       "      <td>2012-04-30 19:24:23</td>\n",
       "      <td>2011-12-13 10:37:33</td>\n",
       "      <td>2.0</td>\n",
       "      <td>Nordeste</td>\n",
       "      <td>AL</td>\n",
       "      <td>BANCO BRADESCO SA</td>\n",
       "      <td>BRADESCO AG SAO MIGUEL DOS CAMPOS - 1650</td>\n",
       "      <td>1.0</td>\n",
       "      <td>60746948188910.0</td>\n",
       "      <td>60746948.0</td>\n",
       "      <td>BANCO BRADESCO SA</td>\n",
       "      <td>BRADESCO AG SAO MIGUEL DOS CAMPOS</td>\n",
       "      <td>6422100.0</td>\n",
       "      <td>BANCOS MÚLTIPLOS, COM CARTEIRA COMERCIAL</td>\n",
       "      <td>S</td>\n",
       "      <td>63.0</td>\n",
       "      <td>Financeira</td>\n",
       "      <td>28.0</td>\n",
       "      <td>Cobrança indevida.</td>\n",
       "      <td>F</td>\n",
       "      <td>entre 21 a 30 anos</td>\n",
       "      <td>57240000</td>\n",
       "      <td>13</td>\n",
       "      <td>Monday</td>\n",
       "      <td>37</td>\n",
       "      <td>10</td>\n",
       "      <td>1</td>\n",
       "      <td>12</td>\n",
       "      <td>2011</td>\n",
       "      <td>139 days 08:46:50</td>\n",
       "    </tr>\n",
       "    <tr>\n",
       "      <th>80118</th>\n",
       "      <td>15393</td>\n",
       "      <td>2014</td>\n",
       "      <td>2014-09-18 15:58:56</td>\n",
       "      <td>2014-07-15 10:33:54</td>\n",
       "      <td>2.0</td>\n",
       "      <td>Nordeste</td>\n",
       "      <td>CE</td>\n",
       "      <td>FORTBRASIL ADMINISTRADORA DE CARTOES DE CREDIT...</td>\n",
       "      <td>FORTBRASIL</td>\n",
       "      <td>1.0</td>\n",
       "      <td>2732968000138.0</td>\n",
       "      <td>2732968.0</td>\n",
       "      <td>FORTBRASIL ADMINISTRADORA DE CARTOES DE CREDIT...</td>\n",
       "      <td></td>\n",
       "      <td>6613400.0</td>\n",
       "      <td>ADMINISTRAÇÃO DE CARTÕES DE CRÉDITO</td>\n",
       "      <td>S</td>\n",
       "      <td>54.0</td>\n",
       "      <td>Cartão de Crédito</td>\n",
       "      <td>28.0</td>\n",
       "      <td>Cobrança indevida.</td>\n",
       "      <td>F</td>\n",
       "      <td>entre 51 a 60 anos</td>\n",
       "      <td>60330351.0</td>\n",
       "      <td>15</td>\n",
       "      <td>Thursday</td>\n",
       "      <td>33</td>\n",
       "      <td>10</td>\n",
       "      <td>1</td>\n",
       "      <td>7</td>\n",
       "      <td>2014</td>\n",
       "      <td>65 days 05:25:02</td>\n",
       "    </tr>\n",
       "    <tr>\n",
       "      <th>133732</th>\n",
       "      <td>6170</td>\n",
       "      <td>2016</td>\n",
       "      <td>2016-01-26 18:35:59</td>\n",
       "      <td>2015-10-06 14:30:33</td>\n",
       "      <td>3.0</td>\n",
       "      <td>Sudeste</td>\n",
       "      <td>RJ</td>\n",
       "      <td>MUNDIAL EDITORA</td>\n",
       "      <td></td>\n",
       "      <td>1.0</td>\n",
       "      <td></td>\n",
       "      <td></td>\n",
       "      <td></td>\n",
       "      <td></td>\n",
       "      <td></td>\n",
       "      <td></td>\n",
       "      <td>N</td>\n",
       "      <td>236.0</td>\n",
       "      <td>Cursos Livres Outros</td>\n",
       "      <td>197.0</td>\n",
       "      <td>Venda/Oferta/publicidade enganosa</td>\n",
       "      <td>F</td>\n",
       "      <td>Nao Informada</td>\n",
       "      <td>20211020.0</td>\n",
       "      <td>6</td>\n",
       "      <td>Tuesday</td>\n",
       "      <td>30</td>\n",
       "      <td>14</td>\n",
       "      <td>1</td>\n",
       "      <td>10</td>\n",
       "      <td>2015</td>\n",
       "      <td>112 days 04:05:26</td>\n",
       "    </tr>\n",
       "  </tbody>\n",
       "</table>\n",
       "</div>\n",
       "      <button class=\"colab-df-convert\" onclick=\"convertToInteractive('df-f359fc79-6cad-40ba-a95c-b4ad509ef96d')\"\n",
       "              title=\"Convert this dataframe to an interactive table.\"\n",
       "              style=\"display:none;\">\n",
       "        \n",
       "  <svg xmlns=\"http://www.w3.org/2000/svg\" height=\"24px\"viewBox=\"0 0 24 24\"\n",
       "       width=\"24px\">\n",
       "    <path d=\"M0 0h24v24H0V0z\" fill=\"none\"/>\n",
       "    <path d=\"M18.56 5.44l.94 2.06.94-2.06 2.06-.94-2.06-.94-.94-2.06-.94 2.06-2.06.94zm-11 1L8.5 8.5l.94-2.06 2.06-.94-2.06-.94L8.5 2.5l-.94 2.06-2.06.94zm10 10l.94 2.06.94-2.06 2.06-.94-2.06-.94-.94-2.06-.94 2.06-2.06.94z\"/><path d=\"M17.41 7.96l-1.37-1.37c-.4-.4-.92-.59-1.43-.59-.52 0-1.04.2-1.43.59L10.3 9.45l-7.72 7.72c-.78.78-.78 2.05 0 2.83L4 21.41c.39.39.9.59 1.41.59.51 0 1.02-.2 1.41-.59l7.78-7.78 2.81-2.81c.8-.78.8-2.07 0-2.86zM5.41 20L4 18.59l7.72-7.72 1.47 1.35L5.41 20z\"/>\n",
       "  </svg>\n",
       "      </button>\n",
       "      \n",
       "  <style>\n",
       "    .colab-df-container {\n",
       "      display:flex;\n",
       "      flex-wrap:wrap;\n",
       "      gap: 12px;\n",
       "    }\n",
       "\n",
       "    .colab-df-convert {\n",
       "      background-color: #E8F0FE;\n",
       "      border: none;\n",
       "      border-radius: 50%;\n",
       "      cursor: pointer;\n",
       "      display: none;\n",
       "      fill: #1967D2;\n",
       "      height: 32px;\n",
       "      padding: 0 0 0 0;\n",
       "      width: 32px;\n",
       "    }\n",
       "\n",
       "    .colab-df-convert:hover {\n",
       "      background-color: #E2EBFA;\n",
       "      box-shadow: 0px 1px 2px rgba(60, 64, 67, 0.3), 0px 1px 3px 1px rgba(60, 64, 67, 0.15);\n",
       "      fill: #174EA6;\n",
       "    }\n",
       "\n",
       "    [theme=dark] .colab-df-convert {\n",
       "      background-color: #3B4455;\n",
       "      fill: #D2E3FC;\n",
       "    }\n",
       "\n",
       "    [theme=dark] .colab-df-convert:hover {\n",
       "      background-color: #434B5C;\n",
       "      box-shadow: 0px 1px 3px 1px rgba(0, 0, 0, 0.15);\n",
       "      filter: drop-shadow(0px 1px 2px rgba(0, 0, 0, 0.3));\n",
       "      fill: #FFFFFF;\n",
       "    }\n",
       "  </style>\n",
       "\n",
       "      <script>\n",
       "        const buttonEl =\n",
       "          document.querySelector('#df-f359fc79-6cad-40ba-a95c-b4ad509ef96d button.colab-df-convert');\n",
       "        buttonEl.style.display =\n",
       "          google.colab.kernel.accessAllowed ? 'block' : 'none';\n",
       "\n",
       "        async function convertToInteractive(key) {\n",
       "          const element = document.querySelector('#df-f359fc79-6cad-40ba-a95c-b4ad509ef96d');\n",
       "          const dataTable =\n",
       "            await google.colab.kernel.invokeFunction('convertToInteractive',\n",
       "                                                     [key], {});\n",
       "          if (!dataTable) return;\n",
       "\n",
       "          const docLinkHtml = 'Like what you see? Visit the ' +\n",
       "            '<a target=\"_blank\" href=https://colab.research.google.com/notebooks/data_table.ipynb>data table notebook</a>'\n",
       "            + ' to learn more about interactive tables.';\n",
       "          element.innerHTML = '';\n",
       "          dataTable['output_type'] = 'display_data';\n",
       "          await google.colab.output.renderOutput(dataTable, element);\n",
       "          const docLink = document.createElement('div');\n",
       "          docLink.innerHTML = docLinkHtml;\n",
       "          element.appendChild(docLink);\n",
       "        }\n",
       "      </script>\n",
       "    </div>\n",
       "  </div>\n",
       "  "
      ],
      "text/plain": [
       "        Unnamed: 0  AnoCalendario    DataArquivamento        DataAbertura  \\\n",
       "91099        26374           2014 2014-09-02 14:49:58 2014-03-13 10:48:59   \n",
       "150573       23011           2016 2016-02-16 17:06:27 2016-01-12 15:51:05   \n",
       "32120        32120           2012 2012-04-30 19:24:23 2011-12-13 10:37:33   \n",
       "80118        15393           2014 2014-09-18 15:58:56 2014-07-15 10:33:54   \n",
       "133732        6170           2016 2016-01-26 18:35:59 2015-10-06 14:30:33   \n",
       "\n",
       "       CodigoRegiao    Regiao  UF  \\\n",
       "91099           3.0   Sudeste  ES   \n",
       "150573          2.0  Nordeste  RN   \n",
       "32120           2.0  Nordeste  AL   \n",
       "80118           2.0  Nordeste  CE   \n",
       "133732          3.0   Sudeste  RJ   \n",
       "\n",
       "                                           strRazaoSocial  \\\n",
       "91099                                        BANCO BMG SA   \n",
       "150573                                        PAGUE FÁCIL   \n",
       "32120                                   BANCO BRADESCO SA   \n",
       "80118   FORTBRASIL ADMINISTRADORA DE CARTOES DE CREDIT...   \n",
       "133732                                    MUNDIAL EDITORA   \n",
       "\n",
       "                                 strNomeFantasia Tipo        NumeroCNPJ  \\\n",
       "91099                                        BMG  1.0  61186680000174.0   \n",
       "150573                               PAGUE FÁCIL  1.0  20717739000126.0   \n",
       "32120   BRADESCO AG SAO MIGUEL DOS CAMPOS - 1650  1.0  60746948188910.0   \n",
       "80118                                 FORTBRASIL  1.0   2732968000138.0   \n",
       "133732                                            1.0                     \n",
       "\n",
       "       RadicalCNPJ                                     RazaoSocialRFB  \\\n",
       "91099   61186680.0                                       BANCO BMG SA   \n",
       "150573  20717739.0                                                      \n",
       "32120   60746948.0                                  BANCO BRADESCO SA   \n",
       "80118    2732968.0  FORTBRASIL ADMINISTRADORA DE CARTOES DE CREDIT...   \n",
       "133732                                                                  \n",
       "\n",
       "                          NomeFantasiaRFB CNAEPrincipal  \\\n",
       "91099                                         6422100.0   \n",
       "150573                                                    \n",
       "32120   BRADESCO AG SAO MIGUEL DOS CAMPOS     6422100.0   \n",
       "80118                                         6613400.0   \n",
       "133732                                                    \n",
       "\n",
       "                               DescCNAEPrincipal Atendida CodigoAssunto  \\\n",
       "91099   BANCOS MÚLTIPLOS, COM CARTEIRA COMERCIAL        N          53.0   \n",
       "150573                                                  S          63.0   \n",
       "32120   BANCOS MÚLTIPLOS, COM CARTEIRA COMERCIAL        S          63.0   \n",
       "80118        ADMINISTRAÇÃO DE CARTÕES DE CRÉDITO        S          54.0   \n",
       "133732                                                  N         236.0   \n",
       "\n",
       "            DescricaoAssunto CodigoProblema  \\\n",
       "91099        Banco comercial           28.0   \n",
       "150573            Financeira           28.0   \n",
       "32120             Financeira           28.0   \n",
       "80118      Cartão de Crédito           28.0   \n",
       "133732  Cursos Livres Outros          197.0   \n",
       "\n",
       "                        DescricaoProblema SexoConsumidor  \\\n",
       "91099                  Cobrança indevida.              M   \n",
       "150573          Cobrança indevida/abusiva              M   \n",
       "32120                  Cobrança indevida.              F   \n",
       "80118                  Cobrança indevida.              F   \n",
       "133732  Venda/Oferta/publicidade enganosa              F   \n",
       "\n",
       "       FaixaEtariaConsumidor CEPConsumidor  DiaAbertura DiaArquivamento  \\\n",
       "91099        mais de 70 anos    29187000.0           13         Tuesday   \n",
       "150573    entre 31 a 40 anos    59140000.0           12         Tuesday   \n",
       "32120     entre 21 a 30 anos      57240000           13          Monday   \n",
       "80118     entre 51 a 60 anos    60330351.0           15        Thursday   \n",
       "133732         Nao Informada    20211020.0            6         Tuesday   \n",
       "\n",
       "        MinutoAbertura  HoraAbertura  SemanaAbertura  MesAbertura  \\\n",
       "91099               48            10               3            3   \n",
       "150573              51            15               1            1   \n",
       "32120               37            10               1           12   \n",
       "80118               33            10               1            7   \n",
       "133732              30            14               1           10   \n",
       "\n",
       "        AnoAbertura          datediff  \n",
       "91099          2014 173 days 04:00:59  \n",
       "150573         2016  35 days 01:15:22  \n",
       "32120          2011 139 days 08:46:50  \n",
       "80118          2014  65 days 05:25:02  \n",
       "133732         2015 112 days 04:05:26  "
      ]
     },
     "execution_count": 19,
     "metadata": {},
     "output_type": "execute_result"
    }
   ],
   "source": [
    "df_2.sample(5)"
   ]
  },
  {
   "cell_type": "code",
   "execution_count": null,
   "metadata": {
    "id": "FxCKcmKrPMov"
   },
   "outputs": [],
   "source": [
    "# Deu certo com \"W - Weeks\", mas tentei mudar para \"M - Months\" e gerou erro\n",
    "import numpy as np\n",
    "df_2['datediff'] = df_2['datediff']/np.timedelta64(1, 'M') # D para dias, W para semanas e M para mês\n",
    "df_2['datediff']"
   ]
  },
  {
   "cell_type": "code",
   "execution_count": 21,
   "metadata": {
    "colab": {
     "base_uri": "https://localhost:8080/",
     "height": 531
    },
    "executionInfo": {
     "elapsed": 262,
     "status": "ok",
     "timestamp": 1668369252729,
     "user": {
      "displayName": "MATHEUS DOS SANTOS OLIVEIRA",
      "userId": "09253095021711422754"
     },
     "user_tz": 180
    },
    "id": "LZqa6CNAjmAF",
    "outputId": "b4b1c0d9-691b-4b1c-b5cf-29139ea3e06b"
   },
   "outputs": [
    {
     "data": {
      "text/html": [
       "\n",
       "  <div id=\"df-54df3521-4645-44df-8426-2a2e747e4cc8\">\n",
       "    <div class=\"colab-df-container\">\n",
       "      <div>\n",
       "<style scoped>\n",
       "    .dataframe tbody tr th:only-of-type {\n",
       "        vertical-align: middle;\n",
       "    }\n",
       "\n",
       "    .dataframe tbody tr th {\n",
       "        vertical-align: top;\n",
       "    }\n",
       "\n",
       "    .dataframe thead th {\n",
       "        text-align: right;\n",
       "    }\n",
       "</style>\n",
       "<table border=\"1\" class=\"dataframe\">\n",
       "  <thead>\n",
       "    <tr style=\"text-align: right;\">\n",
       "      <th></th>\n",
       "      <th>Unnamed: 0</th>\n",
       "      <th>AnoCalendario</th>\n",
       "      <th>DataArquivamento</th>\n",
       "      <th>DataAbertura</th>\n",
       "      <th>CodigoRegiao</th>\n",
       "      <th>Regiao</th>\n",
       "      <th>UF</th>\n",
       "      <th>strRazaoSocial</th>\n",
       "      <th>strNomeFantasia</th>\n",
       "      <th>Tipo</th>\n",
       "      <th>NumeroCNPJ</th>\n",
       "      <th>RadicalCNPJ</th>\n",
       "      <th>RazaoSocialRFB</th>\n",
       "      <th>NomeFantasiaRFB</th>\n",
       "      <th>CNAEPrincipal</th>\n",
       "      <th>DescCNAEPrincipal</th>\n",
       "      <th>Atendida</th>\n",
       "      <th>CodigoAssunto</th>\n",
       "      <th>DescricaoAssunto</th>\n",
       "      <th>CodigoProblema</th>\n",
       "      <th>DescricaoProblema</th>\n",
       "      <th>SexoConsumidor</th>\n",
       "      <th>FaixaEtariaConsumidor</th>\n",
       "      <th>CEPConsumidor</th>\n",
       "      <th>DiaAbertura</th>\n",
       "      <th>DiaArquivamento</th>\n",
       "      <th>MinutoAbertura</th>\n",
       "      <th>HoraAbertura</th>\n",
       "      <th>SemanaAbertura</th>\n",
       "      <th>MesAbertura</th>\n",
       "      <th>AnoAbertura</th>\n",
       "      <th>datediff</th>\n",
       "    </tr>\n",
       "  </thead>\n",
       "  <tbody>\n",
       "    <tr>\n",
       "      <th>23188</th>\n",
       "      <td>23188</td>\n",
       "      <td>2012</td>\n",
       "      <td>2012-05-30 16:14:02</td>\n",
       "      <td>2012-03-21 11:01:36</td>\n",
       "      <td>2.0</td>\n",
       "      <td>Nordeste</td>\n",
       "      <td>MA</td>\n",
       "      <td>FRANERE COMERCIO CONSTRUCOES E IMOBILIARIA LTDA</td>\n",
       "      <td>FRANERE</td>\n",
       "      <td>1.0</td>\n",
       "      <td>6066229000105.0</td>\n",
       "      <td>6066229.0</td>\n",
       "      <td>FRANERE COMERCIO CONSTRUCOES E IMOBILIARIA LTDA</td>\n",
       "      <td>FRANERE</td>\n",
       "      <td>4120400.0</td>\n",
       "      <td>CONSTRUÇÃO DE EDIFÍCIOS</td>\n",
       "      <td>N</td>\n",
       "      <td>82.0</td>\n",
       "      <td>Incorporação ( Construtoras e Incorporadoras )</td>\n",
       "      <td>100.0</td>\n",
       "      <td>Não cumprimento do contrato/proposta</td>\n",
       "      <td>F</td>\n",
       "      <td>entre 51 a 60 anos</td>\n",
       "      <td>06568500</td>\n",
       "      <td>21</td>\n",
       "      <td>Wednesday</td>\n",
       "      <td>1</td>\n",
       "      <td>11</td>\n",
       "      <td>2</td>\n",
       "      <td>3</td>\n",
       "      <td>2012</td>\n",
       "      <td>2.306970</td>\n",
       "    </tr>\n",
       "    <tr>\n",
       "      <th>103737</th>\n",
       "      <td>6406</td>\n",
       "      <td>2015</td>\n",
       "      <td>2015-10-27 16:35:20</td>\n",
       "      <td>2015-09-18 08:49:37</td>\n",
       "      <td>2.0</td>\n",
       "      <td>Nordeste</td>\n",
       "      <td>RN</td>\n",
       "      <td>MULTILASER INDUSTRIAL LTDA</td>\n",
       "      <td></td>\n",
       "      <td>1.0</td>\n",
       "      <td></td>\n",
       "      <td></td>\n",
       "      <td></td>\n",
       "      <td></td>\n",
       "      <td></td>\n",
       "      <td></td>\n",
       "      <td>S</td>\n",
       "      <td>102.0</td>\n",
       "      <td>Microcomputador / Produtos de Informática</td>\n",
       "      <td>105.0</td>\n",
       "      <td>Produto com vício</td>\n",
       "      <td>M</td>\n",
       "      <td>entre 51 a 60 anos</td>\n",
       "      <td>59628120.0</td>\n",
       "      <td>18</td>\n",
       "      <td>Tuesday</td>\n",
       "      <td>49</td>\n",
       "      <td>8</td>\n",
       "      <td>4</td>\n",
       "      <td>9</td>\n",
       "      <td>2015</td>\n",
       "      <td>1.291966</td>\n",
       "    </tr>\n",
       "    <tr>\n",
       "      <th>72344</th>\n",
       "      <td>7619</td>\n",
       "      <td>2014</td>\n",
       "      <td>2014-07-14 16:42:43</td>\n",
       "      <td>2014-05-13 11:26:56</td>\n",
       "      <td>2.0</td>\n",
       "      <td>Nordeste</td>\n",
       "      <td>CE</td>\n",
       "      <td>OI MÓVEL S.A.</td>\n",
       "      <td>(MÓVEL E TV)</td>\n",
       "      <td>1.0</td>\n",
       "      <td>5423963000111.0</td>\n",
       "      <td>5423963.0</td>\n",
       "      <td>OI MOVEL S.A.</td>\n",
       "      <td>OI</td>\n",
       "      <td>6120501.0</td>\n",
       "      <td>TELEFONIA MÓVEL CELULAR</td>\n",
       "      <td>S</td>\n",
       "      <td>186.0</td>\n",
       "      <td>Telefonia Fixa ( Plano de Expansão / Compra e ...</td>\n",
       "      <td>125.0</td>\n",
       "      <td>Serviço não concluído /Fornecimento parcial</td>\n",
       "      <td>F</td>\n",
       "      <td>entre 21 a 30 anos</td>\n",
       "      <td>60765173.0</td>\n",
       "      <td>13</td>\n",
       "      <td>Monday</td>\n",
       "      <td>26</td>\n",
       "      <td>11</td>\n",
       "      <td>1</td>\n",
       "      <td>5</td>\n",
       "      <td>2014</td>\n",
       "      <td>2.044208</td>\n",
       "    </tr>\n",
       "    <tr>\n",
       "      <th>130368</th>\n",
       "      <td>2806</td>\n",
       "      <td>2016</td>\n",
       "      <td>2016-12-27 11:34:13</td>\n",
       "      <td>2015-07-07 11:49:41</td>\n",
       "      <td>2.0</td>\n",
       "      <td>Nordeste</td>\n",
       "      <td>MA</td>\n",
       "      <td>SKY BRASIL SERVICOS LTDA</td>\n",
       "      <td>SKY</td>\n",
       "      <td>1.0</td>\n",
       "      <td>72820822000120.0</td>\n",
       "      <td>72820822.0</td>\n",
       "      <td>SKY BRASIL SERVICOS LTDA</td>\n",
       "      <td>SKY</td>\n",
       "      <td>6143400.0</td>\n",
       "      <td>OPERADORAS DE TELEVISÃO POR ASSINATURA POR SAT...</td>\n",
       "      <td>S</td>\n",
       "      <td>259.0</td>\n",
       "      <td>TV Por Assinatura ( Cabo, Satélite, Etc. )</td>\n",
       "      <td>188.0</td>\n",
       "      <td>Recusa injustificada em prestar serviço</td>\n",
       "      <td>F</td>\n",
       "      <td>entre 21 a 30 anos</td>\n",
       "      <td></td>\n",
       "      <td>7</td>\n",
       "      <td>Tuesday</td>\n",
       "      <td>49</td>\n",
       "      <td>11</td>\n",
       "      <td>1</td>\n",
       "      <td>7</td>\n",
       "      <td>2015</td>\n",
       "      <td>17.708430</td>\n",
       "    </tr>\n",
       "    <tr>\n",
       "      <th>124604</th>\n",
       "      <td>27273</td>\n",
       "      <td>2015</td>\n",
       "      <td>2015-01-27 16:25:01</td>\n",
       "      <td>2014-12-01 16:50:12</td>\n",
       "      <td>2.0</td>\n",
       "      <td>Nordeste</td>\n",
       "      <td>PE</td>\n",
       "      <td>F S VASCONCELOS &amp; CIA LTDA</td>\n",
       "      <td>MAGAZINELUIZA</td>\n",
       "      <td>1.0</td>\n",
       "      <td></td>\n",
       "      <td></td>\n",
       "      <td></td>\n",
       "      <td></td>\n",
       "      <td></td>\n",
       "      <td></td>\n",
       "      <td>S</td>\n",
       "      <td>55.0</td>\n",
       "      <td>Cartão de Loja</td>\n",
       "      <td>28.0</td>\n",
       "      <td>Cobrança indevida.</td>\n",
       "      <td>M</td>\n",
       "      <td>entre 21 a 30 anos</td>\n",
       "      <td>54700000.0</td>\n",
       "      <td>1</td>\n",
       "      <td>Tuesday</td>\n",
       "      <td>50</td>\n",
       "      <td>16</td>\n",
       "      <td>0</td>\n",
       "      <td>12</td>\n",
       "      <td>2014</td>\n",
       "      <td>1.872154</td>\n",
       "    </tr>\n",
       "  </tbody>\n",
       "</table>\n",
       "</div>\n",
       "      <button class=\"colab-df-convert\" onclick=\"convertToInteractive('df-54df3521-4645-44df-8426-2a2e747e4cc8')\"\n",
       "              title=\"Convert this dataframe to an interactive table.\"\n",
       "              style=\"display:none;\">\n",
       "        \n",
       "  <svg xmlns=\"http://www.w3.org/2000/svg\" height=\"24px\"viewBox=\"0 0 24 24\"\n",
       "       width=\"24px\">\n",
       "    <path d=\"M0 0h24v24H0V0z\" fill=\"none\"/>\n",
       "    <path d=\"M18.56 5.44l.94 2.06.94-2.06 2.06-.94-2.06-.94-.94-2.06-.94 2.06-2.06.94zm-11 1L8.5 8.5l.94-2.06 2.06-.94-2.06-.94L8.5 2.5l-.94 2.06-2.06.94zm10 10l.94 2.06.94-2.06 2.06-.94-2.06-.94-.94-2.06-.94 2.06-2.06.94z\"/><path d=\"M17.41 7.96l-1.37-1.37c-.4-.4-.92-.59-1.43-.59-.52 0-1.04.2-1.43.59L10.3 9.45l-7.72 7.72c-.78.78-.78 2.05 0 2.83L4 21.41c.39.39.9.59 1.41.59.51 0 1.02-.2 1.41-.59l7.78-7.78 2.81-2.81c.8-.78.8-2.07 0-2.86zM5.41 20L4 18.59l7.72-7.72 1.47 1.35L5.41 20z\"/>\n",
       "  </svg>\n",
       "      </button>\n",
       "      \n",
       "  <style>\n",
       "    .colab-df-container {\n",
       "      display:flex;\n",
       "      flex-wrap:wrap;\n",
       "      gap: 12px;\n",
       "    }\n",
       "\n",
       "    .colab-df-convert {\n",
       "      background-color: #E8F0FE;\n",
       "      border: none;\n",
       "      border-radius: 50%;\n",
       "      cursor: pointer;\n",
       "      display: none;\n",
       "      fill: #1967D2;\n",
       "      height: 32px;\n",
       "      padding: 0 0 0 0;\n",
       "      width: 32px;\n",
       "    }\n",
       "\n",
       "    .colab-df-convert:hover {\n",
       "      background-color: #E2EBFA;\n",
       "      box-shadow: 0px 1px 2px rgba(60, 64, 67, 0.3), 0px 1px 3px 1px rgba(60, 64, 67, 0.15);\n",
       "      fill: #174EA6;\n",
       "    }\n",
       "\n",
       "    [theme=dark] .colab-df-convert {\n",
       "      background-color: #3B4455;\n",
       "      fill: #D2E3FC;\n",
       "    }\n",
       "\n",
       "    [theme=dark] .colab-df-convert:hover {\n",
       "      background-color: #434B5C;\n",
       "      box-shadow: 0px 1px 3px 1px rgba(0, 0, 0, 0.15);\n",
       "      filter: drop-shadow(0px 1px 2px rgba(0, 0, 0, 0.3));\n",
       "      fill: #FFFFFF;\n",
       "    }\n",
       "  </style>\n",
       "\n",
       "      <script>\n",
       "        const buttonEl =\n",
       "          document.querySelector('#df-54df3521-4645-44df-8426-2a2e747e4cc8 button.colab-df-convert');\n",
       "        buttonEl.style.display =\n",
       "          google.colab.kernel.accessAllowed ? 'block' : 'none';\n",
       "\n",
       "        async function convertToInteractive(key) {\n",
       "          const element = document.querySelector('#df-54df3521-4645-44df-8426-2a2e747e4cc8');\n",
       "          const dataTable =\n",
       "            await google.colab.kernel.invokeFunction('convertToInteractive',\n",
       "                                                     [key], {});\n",
       "          if (!dataTable) return;\n",
       "\n",
       "          const docLinkHtml = 'Like what you see? Visit the ' +\n",
       "            '<a target=\"_blank\" href=https://colab.research.google.com/notebooks/data_table.ipynb>data table notebook</a>'\n",
       "            + ' to learn more about interactive tables.';\n",
       "          element.innerHTML = '';\n",
       "          dataTable['output_type'] = 'display_data';\n",
       "          await google.colab.output.renderOutput(dataTable, element);\n",
       "          const docLink = document.createElement('div');\n",
       "          docLink.innerHTML = docLinkHtml;\n",
       "          element.appendChild(docLink);\n",
       "        }\n",
       "      </script>\n",
       "    </div>\n",
       "  </div>\n",
       "  "
      ],
      "text/plain": [
       "        Unnamed: 0  AnoCalendario    DataArquivamento        DataAbertura  \\\n",
       "23188        23188           2012 2012-05-30 16:14:02 2012-03-21 11:01:36   \n",
       "103737        6406           2015 2015-10-27 16:35:20 2015-09-18 08:49:37   \n",
       "72344         7619           2014 2014-07-14 16:42:43 2014-05-13 11:26:56   \n",
       "130368        2806           2016 2016-12-27 11:34:13 2015-07-07 11:49:41   \n",
       "124604       27273           2015 2015-01-27 16:25:01 2014-12-01 16:50:12   \n",
       "\n",
       "       CodigoRegiao    Regiao  UF  \\\n",
       "23188           2.0  Nordeste  MA   \n",
       "103737          2.0  Nordeste  RN   \n",
       "72344           2.0  Nordeste  CE   \n",
       "130368          2.0  Nordeste  MA   \n",
       "124604          2.0  Nordeste  PE   \n",
       "\n",
       "                                         strRazaoSocial strNomeFantasia Tipo  \\\n",
       "23188   FRANERE COMERCIO CONSTRUCOES E IMOBILIARIA LTDA         FRANERE  1.0   \n",
       "103737                       MULTILASER INDUSTRIAL LTDA                  1.0   \n",
       "72344                                     OI MÓVEL S.A.    (MÓVEL E TV)  1.0   \n",
       "130368                         SKY BRASIL SERVICOS LTDA             SKY  1.0   \n",
       "124604                       F S VASCONCELOS & CIA LTDA   MAGAZINELUIZA  1.0   \n",
       "\n",
       "              NumeroCNPJ RadicalCNPJ  \\\n",
       "23188    6066229000105.0   6066229.0   \n",
       "103737                                 \n",
       "72344    5423963000111.0   5423963.0   \n",
       "130368  72820822000120.0  72820822.0   \n",
       "124604                                 \n",
       "\n",
       "                                         RazaoSocialRFB NomeFantasiaRFB  \\\n",
       "23188   FRANERE COMERCIO CONSTRUCOES E IMOBILIARIA LTDA         FRANERE   \n",
       "103737                                                                    \n",
       "72344                                     OI MOVEL S.A.              OI   \n",
       "130368                         SKY BRASIL SERVICOS LTDA             SKY   \n",
       "124604                                                                    \n",
       "\n",
       "       CNAEPrincipal                                  DescCNAEPrincipal  \\\n",
       "23188      4120400.0                            CONSTRUÇÃO DE EDIFÍCIOS   \n",
       "103737                                                                    \n",
       "72344      6120501.0                            TELEFONIA MÓVEL CELULAR   \n",
       "130368     6143400.0  OPERADORAS DE TELEVISÃO POR ASSINATURA POR SAT...   \n",
       "124604                                                                    \n",
       "\n",
       "       Atendida CodigoAssunto  \\\n",
       "23188         N          82.0   \n",
       "103737        S         102.0   \n",
       "72344         S         186.0   \n",
       "130368        S         259.0   \n",
       "124604        S          55.0   \n",
       "\n",
       "                                         DescricaoAssunto CodigoProblema  \\\n",
       "23188      Incorporação ( Construtoras e Incorporadoras )          100.0   \n",
       "103737          Microcomputador / Produtos de Informática          105.0   \n",
       "72344   Telefonia Fixa ( Plano de Expansão / Compra e ...          125.0   \n",
       "130368         TV Por Assinatura ( Cabo, Satélite, Etc. )          188.0   \n",
       "124604                                     Cartão de Loja           28.0   \n",
       "\n",
       "                                  DescricaoProblema SexoConsumidor  \\\n",
       "23188          Não cumprimento do contrato/proposta              F   \n",
       "103737                            Produto com vício              M   \n",
       "72344   Serviço não concluído /Fornecimento parcial              F   \n",
       "130368      Recusa injustificada em prestar serviço              F   \n",
       "124604                           Cobrança indevida.              M   \n",
       "\n",
       "       FaixaEtariaConsumidor CEPConsumidor  DiaAbertura DiaArquivamento  \\\n",
       "23188     entre 51 a 60 anos      06568500           21       Wednesday   \n",
       "103737    entre 51 a 60 anos    59628120.0           18         Tuesday   \n",
       "72344     entre 21 a 30 anos    60765173.0           13          Monday   \n",
       "130368    entre 21 a 30 anos                          7         Tuesday   \n",
       "124604    entre 21 a 30 anos    54700000.0            1         Tuesday   \n",
       "\n",
       "        MinutoAbertura  HoraAbertura  SemanaAbertura  MesAbertura  \\\n",
       "23188                1            11               2            3   \n",
       "103737              49             8               4            9   \n",
       "72344               26            11               1            5   \n",
       "130368              49            11               1            7   \n",
       "124604              50            16               0           12   \n",
       "\n",
       "        AnoAbertura   datediff  \n",
       "23188          2012   2.306970  \n",
       "103737         2015   1.291966  \n",
       "72344          2014   2.044208  \n",
       "130368         2015  17.708430  \n",
       "124604         2014   1.872154  "
      ]
     },
     "execution_count": 21,
     "metadata": {},
     "output_type": "execute_result"
    }
   ],
   "source": [
    "df_2.sample(5)"
   ]
  },
  {
   "cell_type": "markdown",
   "metadata": {
    "id": "6zOPU4YikGZi"
   },
   "source": [
    "# Atividade 3"
   ]
  },
  {
   "cell_type": "code",
   "execution_count": null,
   "metadata": {
    "id": "HvbZ6joj_8HH"
   },
   "outputs": [],
   "source": [
    "# Transformação para o horário em que foi aberta a reclamação e ver qual periodo do dia \n",
    "df_2['PeriodoDia'] = df_2.HoraAbertura.apply(lambda y: (y % 24 + 4)//4).replace({\n",
    "    1:'Madrugada',\n",
    "    2:'Cedo da Manhã',\n",
    "    3:'Manhã',\n",
    "    4:'Tarde',\n",
    "    5:'Inicio da Noite',\n",
    "    6:'Tarde da Noite'\n",
    "})"
   ]
  },
  {
   "cell_type": "code",
   "execution_count": null,
   "metadata": {
    "colab": {
     "base_uri": "https://localhost:8080/"
    },
    "executionInfo": {
     "elapsed": 324,
     "status": "ok",
     "timestamp": 1667141501748,
     "user": {
      "displayName": "MATHEUS DOS SANTOS OLIVEIRA",
      "userId": "09253095021711422754"
     },
     "user_tz": 180
    },
    "id": "WZEz0tzruEaf",
    "outputId": "2bbf6ae3-972f-4b80-95fc-76b59c532205"
   },
   "outputs": [
    {
     "data": {
      "text/plain": [
       "Index(['Unnamed: 0', 'AnoCalendario', 'DataArquivamento', 'DataAbertura',\n",
       "       'CodigoRegiao', 'Regiao', 'UF', 'strRazaoSocial', 'strNomeFantasia',\n",
       "       'Tipo', 'NumeroCNPJ', 'RadicalCNPJ', 'RazaoSocialRFB',\n",
       "       'NomeFantasiaRFB', 'CNAEPrincipal', 'DescCNAEPrincipal', 'Atendida',\n",
       "       'CodigoAssunto', 'DescricaoAssunto', 'CodigoProblema',\n",
       "       'DescricaoProblema', 'SexoConsumidor', 'FaixaEtariaConsumidor',\n",
       "       'CEPConsumidor', 'DiaAbertura', 'DiaArquivamento', 'MinutoAbertura',\n",
       "       'HoraAbertura', 'SemanaAbertura', 'MesAbertura', 'AnoAbertura',\n",
       "       'datediff', 'PeriodoDia'],\n",
       "      dtype='object')"
      ]
     },
     "execution_count": 20,
     "metadata": {},
     "output_type": "execute_result"
    }
   ],
   "source": [
    "# Antes do DROP\n",
    "df_2.columns"
   ]
  },
  {
   "cell_type": "code",
   "execution_count": null,
   "metadata": {
    "id": "BgW6KVwst8kU"
   },
   "outputs": [],
   "source": [
    "# O argumento AXIS especifica se as linhas(0) ou colunas (1) devem ser descartadas\n",
    "# O argumento INPLACE especifica a remoção das colunas sem reatribuir o dataframe (persiste em memória a alteração)\n",
    "cols = ['Unnamed: 0', 'CodigoRegiao', 'Regiao', 'strRazaoSocial', 'strNomeFantasia',\n",
    "       'Tipo', 'NumeroCNPJ', 'RadicalCNPJ', 'RazaoSocialRFB', 'NomeFantasiaRFB', 'CNAEPrincipal', 'DescCNAEPrincipal', 'Atendida',\n",
    "       'CodigoAssunto', 'DescricaoAssunto', 'CodigoProblema', 'DescricaoProblema', 'SexoConsumidor', 'FaixaEtariaConsumidor',\n",
    "       'CEPConsumidor', 'UF', 'DataAbertura']\n",
    "df.drop(cols, axis=1, inplace=True)"
   ]
  },
  {
   "cell_type": "code",
   "execution_count": null,
   "metadata": {
    "id": "NJv1RBWMvtqd"
   },
   "outputs": [],
   "source": [
    "# Drop das Colunas que não utilizaremos\n",
    "df_2.drop('Unnamed: 0', axis=1, inplace=True)\n",
    "df_2.drop('CodigoRegiao', axis=1, inplace=True)\n",
    "df_2.drop('Regiao', axis=1, inplace=True)\n",
    "df_2.drop('strRazaoSocial', axis=1, inplace=True)\n",
    "df_2.drop('strNomeFantasia', axis=1, inplace=True)\n",
    "df_2.drop('Tipo', axis=1, inplace=True)\n",
    "df_2.drop('NumeroCNPJ', axis=1, inplace=True)\n",
    "df_2.drop('RadicalCNPJ', axis=1, inplace=True)\n",
    "df_2.drop('RazaoSocialRFB', axis=1, inplace=True)\n",
    "df_2.drop('NomeFantasiaRFB', axis=1, inplace=True)\n",
    "df_2.drop('CNAEPrincipal', axis=1, inplace=True)\n",
    "df_2.drop('DescCNAEPrincipal', axis=1, inplace=True)\n",
    "df_2.drop('Atendida', axis=1, inplace=True)\n",
    "df_2.drop('CodigoAssunto', axis=1, inplace=True)\n",
    "df_2.drop('DescricaoAssunto', axis=1, inplace=True)\n",
    "df_2.drop('CodigoProblema', axis=1, inplace=True)\n",
    "df_2.drop('DescricaoProblema', axis=1, inplace=True)\n",
    "df_2.drop('SexoConsumidor', axis=1, inplace=True)\n",
    "df_2.drop('FaixaEtariaConsumidor', axis=1, inplace=True)\n",
    "df_2.drop('CEPConsumidor', axis=1, inplace=True)\n",
    "df_2.drop('UF', axis=1, inplace=True)\n",
    "df_2.drop('DiaArquivamento', axis=1, inplace=True)\n",
    "df_2.drop('DataAbertura', axis=1, inplace=True)\n",
    "df_2.drop('DataArquivamento', axis=1, inplace=True)\n",
    "df_2.drop('PeriodoDia', axis=1, inplace=True)"
   ]
  },
  {
   "cell_type": "code",
   "execution_count": null,
   "metadata": {
    "colab": {
     "base_uri": "https://localhost:8080/"
    },
    "executionInfo": {
     "elapsed": 3,
     "status": "ok",
     "timestamp": 1667141689705,
     "user": {
      "displayName": "MATHEUS DOS SANTOS OLIVEIRA",
      "userId": "09253095021711422754"
     },
     "user_tz": 180
    },
    "id": "eXACn-TpMNar",
    "outputId": "032d2ee2-b1ec-4e86-8163-ff456208de69"
   },
   "outputs": [
    {
     "data": {
      "text/plain": [
       "Index(['AnoCalendario', 'DiaAbertura', 'MinutoAbertura', 'HoraAbertura',\n",
       "       'SemanaAbertura', 'MesAbertura', 'AnoAbertura', 'datediff'],\n",
       "      dtype='object')"
      ]
     },
     "execution_count": 25,
     "metadata": {},
     "output_type": "execute_result"
    }
   ],
   "source": [
    "# Depois do DROP\n",
    "df_2.columns"
   ]
  },
  {
   "cell_type": "code",
   "execution_count": null,
   "metadata": {
    "colab": {
     "base_uri": "https://localhost:8080/",
     "height": 143
    },
    "executionInfo": {
     "elapsed": 4,
     "status": "ok",
     "timestamp": 1667141691260,
     "user": {
      "displayName": "MATHEUS DOS SANTOS OLIVEIRA",
      "userId": "09253095021711422754"
     },
     "user_tz": 180
    },
    "id": "oHwKXx6dxn4X",
    "outputId": "c7bfb93e-2183-4814-e7df-8ed8dbd33a71"
   },
   "outputs": [
    {
     "data": {
      "text/html": [
       "\n",
       "  <div id=\"df-199d4b65-79f0-4715-a508-1424c8468a9c\">\n",
       "    <div class=\"colab-df-container\">\n",
       "      <div>\n",
       "<style scoped>\n",
       "    .dataframe tbody tr th:only-of-type {\n",
       "        vertical-align: middle;\n",
       "    }\n",
       "\n",
       "    .dataframe tbody tr th {\n",
       "        vertical-align: top;\n",
       "    }\n",
       "\n",
       "    .dataframe thead th {\n",
       "        text-align: right;\n",
       "    }\n",
       "</style>\n",
       "<table border=\"1\" class=\"dataframe\">\n",
       "  <thead>\n",
       "    <tr style=\"text-align: right;\">\n",
       "      <th></th>\n",
       "      <th>AnoCalendario</th>\n",
       "      <th>DiaAbertura</th>\n",
       "      <th>MinutoAbertura</th>\n",
       "      <th>HoraAbertura</th>\n",
       "      <th>SemanaAbertura</th>\n",
       "      <th>MesAbertura</th>\n",
       "      <th>AnoAbertura</th>\n",
       "      <th>datediff</th>\n",
       "    </tr>\n",
       "  </thead>\n",
       "  <tbody>\n",
       "    <tr>\n",
       "      <th>88770</th>\n",
       "      <td>2014</td>\n",
       "      <td>17</td>\n",
       "      <td>56</td>\n",
       "      <td>15</td>\n",
       "      <td>1</td>\n",
       "      <td>12</td>\n",
       "      <td>2013</td>\n",
       "      <td>1.837149</td>\n",
       "    </tr>\n",
       "    <tr>\n",
       "      <th>127456</th>\n",
       "      <td>2015</td>\n",
       "      <td>6</td>\n",
       "      <td>7</td>\n",
       "      <td>11</td>\n",
       "      <td>3</td>\n",
       "      <td>11</td>\n",
       "      <td>2014</td>\n",
       "      <td>2.297958</td>\n",
       "    </tr>\n",
       "    <tr>\n",
       "      <th>61991</th>\n",
       "      <td>2013</td>\n",
       "      <td>9</td>\n",
       "      <td>49</td>\n",
       "      <td>14</td>\n",
       "      <td>1</td>\n",
       "      <td>4</td>\n",
       "      <td>2013</td>\n",
       "      <td>5.348434</td>\n",
       "    </tr>\n",
       "  </tbody>\n",
       "</table>\n",
       "</div>\n",
       "      <button class=\"colab-df-convert\" onclick=\"convertToInteractive('df-199d4b65-79f0-4715-a508-1424c8468a9c')\"\n",
       "              title=\"Convert this dataframe to an interactive table.\"\n",
       "              style=\"display:none;\">\n",
       "        \n",
       "  <svg xmlns=\"http://www.w3.org/2000/svg\" height=\"24px\"viewBox=\"0 0 24 24\"\n",
       "       width=\"24px\">\n",
       "    <path d=\"M0 0h24v24H0V0z\" fill=\"none\"/>\n",
       "    <path d=\"M18.56 5.44l.94 2.06.94-2.06 2.06-.94-2.06-.94-.94-2.06-.94 2.06-2.06.94zm-11 1L8.5 8.5l.94-2.06 2.06-.94-2.06-.94L8.5 2.5l-.94 2.06-2.06.94zm10 10l.94 2.06.94-2.06 2.06-.94-2.06-.94-.94-2.06-.94 2.06-2.06.94z\"/><path d=\"M17.41 7.96l-1.37-1.37c-.4-.4-.92-.59-1.43-.59-.52 0-1.04.2-1.43.59L10.3 9.45l-7.72 7.72c-.78.78-.78 2.05 0 2.83L4 21.41c.39.39.9.59 1.41.59.51 0 1.02-.2 1.41-.59l7.78-7.78 2.81-2.81c.8-.78.8-2.07 0-2.86zM5.41 20L4 18.59l7.72-7.72 1.47 1.35L5.41 20z\"/>\n",
       "  </svg>\n",
       "      </button>\n",
       "      \n",
       "  <style>\n",
       "    .colab-df-container {\n",
       "      display:flex;\n",
       "      flex-wrap:wrap;\n",
       "      gap: 12px;\n",
       "    }\n",
       "\n",
       "    .colab-df-convert {\n",
       "      background-color: #E8F0FE;\n",
       "      border: none;\n",
       "      border-radius: 50%;\n",
       "      cursor: pointer;\n",
       "      display: none;\n",
       "      fill: #1967D2;\n",
       "      height: 32px;\n",
       "      padding: 0 0 0 0;\n",
       "      width: 32px;\n",
       "    }\n",
       "\n",
       "    .colab-df-convert:hover {\n",
       "      background-color: #E2EBFA;\n",
       "      box-shadow: 0px 1px 2px rgba(60, 64, 67, 0.3), 0px 1px 3px 1px rgba(60, 64, 67, 0.15);\n",
       "      fill: #174EA6;\n",
       "    }\n",
       "\n",
       "    [theme=dark] .colab-df-convert {\n",
       "      background-color: #3B4455;\n",
       "      fill: #D2E3FC;\n",
       "    }\n",
       "\n",
       "    [theme=dark] .colab-df-convert:hover {\n",
       "      background-color: #434B5C;\n",
       "      box-shadow: 0px 1px 3px 1px rgba(0, 0, 0, 0.15);\n",
       "      filter: drop-shadow(0px 1px 2px rgba(0, 0, 0, 0.3));\n",
       "      fill: #FFFFFF;\n",
       "    }\n",
       "  </style>\n",
       "\n",
       "      <script>\n",
       "        const buttonEl =\n",
       "          document.querySelector('#df-199d4b65-79f0-4715-a508-1424c8468a9c button.colab-df-convert');\n",
       "        buttonEl.style.display =\n",
       "          google.colab.kernel.accessAllowed ? 'block' : 'none';\n",
       "\n",
       "        async function convertToInteractive(key) {\n",
       "          const element = document.querySelector('#df-199d4b65-79f0-4715-a508-1424c8468a9c');\n",
       "          const dataTable =\n",
       "            await google.colab.kernel.invokeFunction('convertToInteractive',\n",
       "                                                     [key], {});\n",
       "          if (!dataTable) return;\n",
       "\n",
       "          const docLinkHtml = 'Like what you see? Visit the ' +\n",
       "            '<a target=\"_blank\" href=https://colab.research.google.com/notebooks/data_table.ipynb>data table notebook</a>'\n",
       "            + ' to learn more about interactive tables.';\n",
       "          element.innerHTML = '';\n",
       "          dataTable['output_type'] = 'display_data';\n",
       "          await google.colab.output.renderOutput(dataTable, element);\n",
       "          const docLink = document.createElement('div');\n",
       "          docLink.innerHTML = docLinkHtml;\n",
       "          element.appendChild(docLink);\n",
       "        }\n",
       "      </script>\n",
       "    </div>\n",
       "  </div>\n",
       "  "
      ],
      "text/plain": [
       "        AnoCalendario  DiaAbertura  MinutoAbertura  HoraAbertura  \\\n",
       "88770            2014           17              56            15   \n",
       "127456           2015            6               7            11   \n",
       "61991            2013            9              49            14   \n",
       "\n",
       "        SemanaAbertura  MesAbertura  AnoAbertura  datediff  \n",
       "88770                1           12         2013  1.837149  \n",
       "127456               3           11         2014  2.297958  \n",
       "61991                1            4         2013  5.348434  "
      ]
     },
     "execution_count": 26,
     "metadata": {},
     "output_type": "execute_result"
    }
   ],
   "source": [
    "# Verificando o DataSet novamente\n",
    "df_2.sample(3)"
   ]
  },
  {
   "cell_type": "code",
   "execution_count": null,
   "metadata": {
    "colab": {
     "base_uri": "https://localhost:8080/"
    },
    "executionInfo": {
     "elapsed": 365,
     "status": "ok",
     "timestamp": 1667141693796,
     "user": {
      "displayName": "MATHEUS DOS SANTOS OLIVEIRA",
      "userId": "09253095021711422754"
     },
     "user_tz": 180
    },
    "id": "Gt_jA8OI2Onm",
    "outputId": "88482349-3898-400c-c6c2-e6ab06e03444"
   },
   "outputs": [
    {
     "name": "stdout",
     "output_type": "stream",
     "text": [
      "<class 'pandas.core.frame.DataFrame'>\n",
      "Int64Index: 100 entries, 98815 to 25406\n",
      "Data columns (total 8 columns):\n",
      " #   Column          Non-Null Count  Dtype  \n",
      "---  ------          --------------  -----  \n",
      " 0   AnoCalendario   100 non-null    int64  \n",
      " 1   DiaAbertura     100 non-null    int64  \n",
      " 2   MinutoAbertura  100 non-null    int64  \n",
      " 3   HoraAbertura    100 non-null    int64  \n",
      " 4   SemanaAbertura  100 non-null    int64  \n",
      " 5   MesAbertura     100 non-null    int64  \n",
      " 6   AnoAbertura     100 non-null    int64  \n",
      " 7   datediff        100 non-null    float64\n",
      "dtypes: float64(1), int64(7)\n",
      "memory usage: 7.0 KB\n"
     ]
    }
   ],
   "source": [
    "df_2.info()"
   ]
  },
  {
   "cell_type": "code",
   "execution_count": null,
   "metadata": {
    "id": "-28nviDQQwgR"
   },
   "outputs": [],
   "source": [
    "# Separação entre variáveis independentes e dependente\n",
    "y = df_2['datediff']\n",
    "X = df_2.drop('datediff', axis=1)"
   ]
  },
  {
   "cell_type": "code",
   "execution_count": null,
   "metadata": {
    "id": "h2x6xepc2bnw"
   },
   "outputs": [],
   "source": [
    " # Separa entre treino e “test” com 30% de teste\n",
    "X_train, X_test, y_train, y_test = train_test_split(X, y, test_size=0.3, random_state=54545)"
   ]
  },
  {
   "cell_type": "code",
   "execution_count": null,
   "metadata": {
    "id": "mdFnqVdeRGQB"
   },
   "outputs": [],
   "source": [
    "# Modelo com XGBoost Regressor \n",
    "from xgboost import XGBRegressor # -> Importa o algoritmo do XGBoost"
   ]
  },
  {
   "cell_type": "code",
   "execution_count": null,
   "metadata": {
    "id": "vfLuMsrcRMu8"
   },
   "outputs": [],
   "source": [
    "# Instancia o XGBRegressor com Parametros Padrão\n",
    "xgb_model = XGBRegressor() "
   ]
  },
  {
   "cell_type": "code",
   "execution_count": null,
   "metadata": {
    "id": "fe_zjcMnTqVU"
   },
   "outputs": [],
   "source": [
    "df_2.sample(3)"
   ]
  },
  {
   "cell_type": "code",
   "execution_count": null,
   "metadata": {
    "colab": {
     "base_uri": "https://localhost:8080/"
    },
    "executionInfo": {
     "elapsed": 876,
     "status": "ok",
     "timestamp": 1667141710949,
     "user": {
      "displayName": "MATHEUS DOS SANTOS OLIVEIRA",
      "userId": "09253095021711422754"
     },
     "user_tz": 180
    },
    "id": "hVWo6ETURRuO",
    "outputId": "e855d76f-be64-47a9-db8d-6e0203864b8e"
   },
   "outputs": [
    {
     "name": "stdout",
     "output_type": "stream",
     "text": [
      "[14:55:12] WARNING: /workspace/src/objective/regression_obj.cu:152: reg:linear is now deprecated in favor of reg:squarederror.\n"
     ]
    },
    {
     "data": {
      "text/plain": [
       "XGBRegressor()"
      ]
     },
     "execution_count": 32,
     "metadata": {},
     "output_type": "execute_result"
    }
   ],
   "source": [
    "# Treinamento do modelo\n",
    "xgb_model.fit(X_train, y_train)"
   ]
  },
  {
   "cell_type": "code",
   "execution_count": null,
   "metadata": {
    "id": "O9u_CL0LRWxV"
   },
   "outputs": [],
   "source": [
    "# Realiza a predição em dados desconhecidos\n",
    "y_pred = xgb_model.predict(X_test)"
   ]
  },
  {
   "cell_type": "code",
   "execution_count": null,
   "metadata": {
    "colab": {
     "base_uri": "https://localhost:8080/"
    },
    "executionInfo": {
     "elapsed": 320,
     "status": "ok",
     "timestamp": 1667141716943,
     "user": {
      "displayName": "MATHEUS DOS SANTOS OLIVEIRA",
      "userId": "09253095021711422754"
     },
     "user_tz": 180
    },
    "id": "MIoJnOjjRaEP",
    "outputId": "10bceaae-0905-4629-a5ba-da251ca5b30a"
   },
   "outputs": [
    {
     "data": {
      "text/plain": [
       "0.8424130982720031"
      ]
     },
     "execution_count": 34,
     "metadata": {},
     "output_type": "execute_result"
    }
   ],
   "source": [
    "# Compara o valor real(y_test) e o valor predito(y_pred) e gera o R² que geralmente varia de 0 a 100 \n",
    "r2_score(y_test, y_pred)"
   ]
  },
  {
   "cell_type": "code",
   "execution_count": null,
   "metadata": {
    "id": "-HbBfVBKRddB"
   },
   "outputs": [],
   "source": [
    "# Modelo com Random Forest Regressor\n",
    "from sklearn.ensemble import RandomForestRegressor"
   ]
  },
  {
   "cell_type": "code",
   "execution_count": null,
   "metadata": {
    "id": "Wc09Dk_tRfb7"
   },
   "outputs": [],
   "source": [
    "# Instancia o random forest regressor com parametros padrão\n",
    "rf_model = RandomForestRegressor()"
   ]
  },
  {
   "cell_type": "code",
   "execution_count": null,
   "metadata": {
    "colab": {
     "base_uri": "https://localhost:8080/"
    },
    "executionInfo": {
     "elapsed": 3,
     "status": "ok",
     "timestamp": 1667141722091,
     "user": {
      "displayName": "MATHEUS DOS SANTOS OLIVEIRA",
      "userId": "09253095021711422754"
     },
     "user_tz": 180
    },
    "id": "J4VMQ2LZRij7",
    "outputId": "440e6dac-3761-4eee-8a9d-9a590be71f03"
   },
   "outputs": [
    {
     "data": {
      "text/plain": [
       "RandomForestRegressor()"
      ]
     },
     "execution_count": 37,
     "metadata": {},
     "output_type": "execute_result"
    }
   ],
   "source": [
    "# Treinamento do modelo\n",
    "rf_model.fit(X_train, y_train) "
   ]
  },
  {
   "cell_type": "code",
   "execution_count": null,
   "metadata": {
    "id": "cMC8fB14R4jW"
   },
   "outputs": [],
   "source": [
    "y_pred = rf_model.predict(X_test)"
   ]
  },
  {
   "cell_type": "code",
   "execution_count": null,
   "metadata": {
    "colab": {
     "base_uri": "https://localhost:8080/"
    },
    "executionInfo": {
     "elapsed": 2,
     "status": "ok",
     "timestamp": 1667141725499,
     "user": {
      "displayName": "MATHEUS DOS SANTOS OLIVEIRA",
      "userId": "09253095021711422754"
     },
     "user_tz": 180
    },
    "id": "F91djJYcR6Vo",
    "outputId": "775c41d4-9350-49ad-c900-5d38f8a38d4e"
   },
   "outputs": [
    {
     "data": {
      "text/plain": [
       "0.6175803131265771"
      ]
     },
     "execution_count": 39,
     "metadata": {},
     "output_type": "execute_result"
    }
   ],
   "source": [
    "r2_score(y_test, y_pred)"
   ]
  },
  {
   "cell_type": "code",
   "execution_count": null,
   "metadata": {
    "id": "vJOcgumoR7pB"
   },
   "outputs": [],
   "source": [
    "# Tuning de parametros\n",
    "n_estimators = [100, 150, 200, 250, 350, 400]\n",
    "min_samples_split = [2, 6, 10]\n",
    "min_samples_leaf = [2, 4, 6, 8]\n",
    "max_features = ['auto', 'sqrt', 'log2', None]\n",
    "\n",
    "parametros = {\n",
    "    'n_estimators':n_estimators,\n",
    "    'min_samples_split':min_samples_split,\n",
    "    'min_samples_leaf':min_samples_leaf,\n",
    "    'max_features':max_features\n",
    "}"
   ]
  },
  {
   "cell_type": "code",
   "execution_count": null,
   "metadata": {
    "id": "aeetjtFwaaOa"
   },
   "outputs": [],
   "source": [
    "from sklearn.datasets import load_iris\n",
    "from sklearn.linear_model import LogisticRegression\n",
    "from sklearn.model_selection import RandomizedSearchCV\n",
    "from scipy.stats import uniform"
   ]
  },
  {
   "cell_type": "code",
   "execution_count": null,
   "metadata": {
    "id": "sAwEkwTpamX-"
   },
   "outputs": [],
   "source": [
    "from sklearn.datasets import make_regression\n",
    "from sklearn.ensemble import GradientBoostingRegressor\n",
    "from sklearn.model_selection import train_test_split"
   ]
  },
  {
   "cell_type": "code",
   "execution_count": null,
   "metadata": {
    "colab": {
     "base_uri": "https://localhost:8080/"
    },
    "executionInfo": {
     "elapsed": 6174,
     "status": "ok",
     "timestamp": 1667142167587,
     "user": {
      "displayName": "MATHEUS DOS SANTOS OLIVEIRA",
      "userId": "09253095021711422754"
     },
     "user_tz": 180
    },
    "id": "N0chFInQR9ya",
    "outputId": "92f43759-01ad-4def-d5e1-702f7f89d43c"
   },
   "outputs": [
    {
     "name": "stdout",
     "output_type": "stream",
     "text": [
      "Fitting 5 folds for each of 15 candidates, totalling 75 fits\n"
     ]
    },
    {
     "data": {
      "text/plain": [
       "RandomizedSearchCV(cv=5, estimator=GradientBoostingRegressor(random_state=37),\n",
       "                   n_iter=15, n_jobs=-1,\n",
       "                   param_distributions={'max_features': ['auto', 'sqrt', 'log2',\n",
       "                                                         None],\n",
       "                                        'min_samples_leaf': [2, 4, 6, 8],\n",
       "                                        'min_samples_split': [2, 6, 10],\n",
       "                                        'n_estimators': [100, 150, 200, 250,\n",
       "                                                         350, 400]},\n",
       "                   verbose=1)"
      ]
     },
     "execution_count": 45,
     "metadata": {},
     "output_type": "execute_result"
    }
   ],
   "source": [
    "gb_tuned = RandomizedSearchCV(estimator=GradientBoostingRegressor(random_state=37), \n",
    "                              param_distributions=parametros, \n",
    "                              cv=5, # Validação cruzada com 5 folds\n",
    "                              n_iter=15,  # Interações\n",
    "                              n_jobs=-1, # usa todos os processadores\n",
    "                              verbose=1) # Exibe saida? \n",
    "gb_tuned.fit(X_train, y_train)"
   ]
  },
  {
   "cell_type": "code",
   "execution_count": null,
   "metadata": {
    "id": "wBBXhfmOR_b7"
   },
   "outputs": [],
   "source": [
    "# Realiza a predição em dados desconhecidos\n",
    "y_pred = gb_tuned.predict(X_test)"
   ]
  },
  {
   "cell_type": "code",
   "execution_count": null,
   "metadata": {
    "colab": {
     "base_uri": "https://localhost:8080/"
    },
    "executionInfo": {
     "elapsed": 331,
     "status": "ok",
     "timestamp": 1667142174094,
     "user": {
      "displayName": "MATHEUS DOS SANTOS OLIVEIRA",
      "userId": "09253095021711422754"
     },
     "user_tz": 180
    },
    "id": "yVIKY3VdSBfH",
    "outputId": "b5ec7c6e-07a5-4a75-d79c-2e8c6ff11edb"
   },
   "outputs": [
    {
     "data": {
      "text/plain": [
       "0.43168886870567114"
      ]
     },
     "execution_count": 47,
     "metadata": {},
     "output_type": "execute_result"
    }
   ],
   "source": [
    "# Compara o valor real(y_test) e o valor predito(y_pred) e gera o R² que geralmente varia de 0 a 100\n",
    "r2_score(y_test, y_pred)"
   ]
  },
  {
   "cell_type": "code",
   "execution_count": null,
   "metadata": {
    "id": "abMpDt6bSDMl"
   },
   "outputs": [],
   "source": [
    "# Salva o modelo para uso posterior\n",
    "import pickle \n",
    "\n",
    "pickle.dump(gb_tuned, open('gb_tuned.pkl', 'wb'))"
   ]
  }
 ],
 "metadata": {
  "colab": {
   "collapsed_sections": [
    "4EFc6KkEkB2o"
   ],
   "provenance": []
  },
  "kernelspec": {
   "display_name": "Python 3 (ipykernel)",
   "language": "python",
   "name": "python3"
  },
  "language_info": {
   "name": "python"
  }
 },
 "nbformat": 4,
 "nbformat_minor": 1
}
